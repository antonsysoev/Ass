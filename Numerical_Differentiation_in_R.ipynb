{
  "nbformat": 4,
  "nbformat_minor": 0,
  "metadata": {
    "colab": {
      "provenance": [],
      "authorship_tag": "ABX9TyM6j7PPb9T5PZhFLHavjojU",
      "include_colab_link": true
    },
    "kernelspec": {
      "name": "ir",
      "display_name": "R"
    },
    "language_info": {
      "name": "R"
    }
  },
  "cells": [
    {
      "cell_type": "markdown",
      "metadata": {
        "id": "view-in-github",
        "colab_type": "text"
      },
      "source": [
        "<a href=\"https://colab.research.google.com/github/antonsysoev/Ass/blob/main/Numerical_Differentiation_in_R.ipynb\" target=\"_parent\"><img src=\"https://colab.research.google.com/assets/colab-badge.svg\" alt=\"Open In Colab\"/></a>"
      ]
    },
    {
      "cell_type": "code",
      "execution_count": 1,
      "metadata": {
        "id": "nqEhkXTXaeUW"
      },
      "outputs": [],
      "source": [
        "x <- c(0.0, 0.2, 0.4)\n",
        "fx <- c(0.00000, 0.74140, 1.3718)"
      ]
    },
    {
      "cell_type": "code",
      "source": [
        "install.packages(\"ggplot2\")"
      ],
      "metadata": {
        "colab": {
          "base_uri": "https://localhost:8080/"
        },
        "id": "H6URgYdda1Hc",
        "outputId": "4f253503-737b-4afb-b875-e6b45c65de4f"
      },
      "execution_count": 8,
      "outputs": [
        {
          "output_type": "stream",
          "name": "stderr",
          "text": [
            "Installing package into ‘/usr/local/lib/R/site-library’\n",
            "(as ‘lib’ is unspecified)\n",
            "\n"
          ]
        }
      ]
    },
    {
      "cell_type": "code",
      "source": [
        "library(ggplot2)"
      ],
      "metadata": {
        "id": "B1Pkfizwa49_"
      },
      "execution_count": 9,
      "outputs": []
    },
    {
      "cell_type": "code",
      "source": [
        "finite.differences <- function(x, y) {\n",
        "  if (length(x) != length(y)) {\n",
        "    stop('x and y vectors must have equal length')\n",
        "  }\n",
        "\n",
        "  n <- length(x)\n",
        "\n",
        "  # Initialize a vector of length n to enter the derivative approximations\n",
        "  fdx <- vector(length = n)\n",
        "\n",
        "  # Iterate through the values using the forward differencing method\n",
        "  for (i in 2:n) {\n",
        "    fdx[i-1] <- (y[i-1] - y[i]) / (x[i-1] - x[i])\n",
        "  }\n",
        "\n",
        "  # For the last value, since we are unable to perform the forward differencing method\n",
        "  # as only the first n values are known, we use the backward differencing approach\n",
        "  # instead. Note this will essentially give the same value as the last iteration\n",
        "  # in the forward differencing method, but it is used as an approximation as we\n",
        "  # don't have any more information\n",
        "  fdx[n] <- (y[n] - y[n - 1]) / (x[n] - x[n - 1])\n",
        "\n",
        "  return(fdx)\n",
        "}"
      ],
      "metadata": {
        "id": "TobQbYgVak-a"
      },
      "execution_count": 2,
      "outputs": []
    },
    {
      "cell_type": "code",
      "source": [
        "finite <- finite.differences(x, fx)\n",
        "finite\n",
        "## [1] 3.707 3.152 3.152"
      ],
      "metadata": {
        "colab": {
          "base_uri": "https://localhost:8080/",
          "height": 34
        },
        "id": "zETE7dWwapEf",
        "outputId": "d5dbdb59-6413-44c2-9657-3621540be321"
      },
      "execution_count": 3,
      "outputs": [
        {
          "output_type": "display_data",
          "data": {
            "text/html": [
              "<style>\n",
              ".list-inline {list-style: none; margin:0; padding: 0}\n",
              ".list-inline>li {display: inline-block}\n",
              ".list-inline>li:not(:last-child)::after {content: \"\\00b7\"; padding: 0 .5ex}\n",
              "</style>\n",
              "<ol class=list-inline><li>3.707</li><li>3.152</li><li>3.152</li></ol>\n"
            ],
            "text/markdown": "1. 3.707\n2. 3.152\n3. 3.152\n\n\n",
            "text/latex": "\\begin{enumerate*}\n\\item 3.707\n\\item 3.152\n\\item 3.152\n\\end{enumerate*}\n",
            "text/plain": [
              "[1] 3.707 3.152 3.152"
            ]
          },
          "metadata": {}
        }
      ]
    },
    {
      "cell_type": "code",
      "source": [
        "f <- function(x) {\n",
        "  return(exp(x) - 2 * x^2 + 3 * x - 1)\n",
        "}"
      ],
      "metadata": {
        "id": "5QU_2VrfapGo"
      },
      "execution_count": 4,
      "outputs": []
    },
    {
      "cell_type": "code",
      "source": [
        "central.difference <- function(f, x) {\n",
        "  steps <- c(0.1, 0.01, 0.001, 0.0001, 0.00001, 0.000001, 0.0000001)\n",
        "  n <- length(steps)\n",
        "\n",
        "  fdx <- vector(length = n)\n",
        "\n",
        "  for (h in 1:n) {\n",
        "    fdx[h] <- (f(x + 0.5 * steps[h]) - f(x - 0.5 * steps[h])) / steps[h]\n",
        "  }\n",
        "\n",
        "  return(fdx)\n",
        "}"
      ],
      "metadata": {
        "id": "DZDXSCqzapI0"
      },
      "execution_count": 5,
      "outputs": []
    },
    {
      "cell_type": "code",
      "source": [
        "fdx <- function(x) {\n",
        "  return(exp(x) - 4 * x + 3)\n",
        "}"
      ],
      "metadata": {
        "id": "NNyYk2LFawMo"
      },
      "execution_count": 6,
      "outputs": []
    },
    {
      "cell_type": "code",
      "source": [
        "ggplot(data = data.frame(x = 0), mapping = aes(x = x)) +\n",
        "  stat_function(fun = f, size = 1.25, alpha = 0.75) +\n",
        "  stat_function(fun = fdx, size = 1.25, color = 'blue', alpha = 0.75) +\n",
        "  xlim(-3,3)"
      ],
      "metadata": {
        "colab": {
          "base_uri": "https://localhost:8080/",
          "height": 489
        },
        "id": "VCgv7SY2ayl_",
        "outputId": "b50e37c5-3266-4fb0-8b0c-be7c85dcd9e2"
      },
      "execution_count": 10,
      "outputs": [
        {
          "output_type": "stream",
          "name": "stderr",
          "text": [
            "Warning message:\n",
            "“\u001b[1m\u001b[22mUsing `size` aesthetic for lines was deprecated in ggplot2 3.4.0.\n",
            "\u001b[36mℹ\u001b[39m Please use `linewidth` instead.”\n"
          ]
        },
        {
          "output_type": "display_data",
          "data": {
            "text/plain": [
              "plot without title"
            ],
            "image/png": "[encoded data removed]"
          },
          "metadata": {
            "image/png": {
              "width": 420,
              "height": 420
            }
          }
        }
      ]
    },
    {
      "cell_type": "code",
      "source": [
        "actual <- vector(length = length(x))\n",
        "central.approx <- c(4.00000, 3.421403, 2.891825)\n",
        "\n",
        "for (i in 1:length(x)) {\n",
        "  actual[i] <- fdx(x[i])\n",
        "}\n",
        "\n",
        "approx.df <- data.frame(cbind(actual, central.approx, actual - central.approx, finite, actual - finite))\n",
        "colnames(approx.df) <- c('Actual Values', 'Central Difference Approx', 'Central Differences Error', 'Finite Differences', 'Finite Differences Error')\n",
        "\n",
        "approx.df\n",
        "##   Actual Values Central Difference Approx Central Differences Error\n",
        "## 1      4.000000                  4.000000              0.000000e+00\n",
        "## 2      3.421403                  3.421403             -2.418398e-07\n",
        "## 3      2.891825                  2.891825             -3.023587e-07\n",
        "##   Finite Differences Finite Differences Error\n",
        "## 1              3.707                0.2930000\n",
        "## 2              3.152                0.2694028\n",
        "## 3              3.152               -0.2601753"
      ],
      "metadata": {
        "colab": {
          "base_uri": "https://localhost:8080/",
          "height": 192
        },
        "id": "0CPwF6W3a0Cv",
        "outputId": "c1d8f762-0529-4245-fcc7-cdd0492adb4f"
      },
      "execution_count": 11,
      "outputs": [
        {
          "output_type": "display_data",
          "data": {
            "text/html": [
              "<table class=\"dataframe\">\n",
              "<caption>A data.frame: 3 × 5</caption>\n",
              "<thead>\n",
              "\t<tr><th scope=col>Actual Values</th><th scope=col>Central Difference Approx</th><th scope=col>Central Differences Error</th><th scope=col>Finite Differences</th><th scope=col>Finite Differences Error</th></tr>\n",
              "\t<tr><th scope=col>&lt;dbl&gt;</th><th scope=col>&lt;dbl&gt;</th><th scope=col>&lt;dbl&gt;</th><th scope=col>&lt;dbl&gt;</th><th scope=col>&lt;dbl&gt;</th></tr>\n",
              "</thead>\n",
              "<tbody>\n",
              "\t<tr><td>4.000000</td><td>4.000000</td><td> 0.000000e+00</td><td>3.707</td><td> 0.2930000</td></tr>\n",
              "\t<tr><td>3.421403</td><td>3.421403</td><td>-2.418398e-07</td><td>3.152</td><td> 0.2694028</td></tr>\n",
              "\t<tr><td>2.891825</td><td>2.891825</td><td>-3.023587e-07</td><td>3.152</td><td>-0.2601753</td></tr>\n",
              "</tbody>\n",
              "</table>\n"
            ],
            "text/markdown": "\nA data.frame: 3 × 5\n\n| Actual Values &lt;dbl&gt; | Central Difference Approx &lt;dbl&gt; | Central Differences Error &lt;dbl&gt; | Finite Differences &lt;dbl&gt; | Finite Differences Error &lt;dbl&gt; |\n|---|---|---|---|---|\n| 4.000000 | 4.000000 |  0.000000e+00 | 3.707 |  0.2930000 |\n| 3.421403 | 3.421403 | -2.418398e-07 | 3.152 |  0.2694028 |\n| 2.891825 | 2.891825 | -3.023587e-07 | 3.152 | -0.2601753 |\n\n",
            "text/latex": "A data.frame: 3 × 5\n\\begin{tabular}{lllll}\n Actual Values & Central Difference Approx & Central Differences Error & Finite Differences & Finite Differences Error\\\\\n <dbl> & <dbl> & <dbl> & <dbl> & <dbl>\\\\\n\\hline\n\t 4.000000 & 4.000000 &  0.000000e+00 & 3.707 &  0.2930000\\\\\n\t 3.421403 & 3.421403 & -2.418398e-07 & 3.152 &  0.2694028\\\\\n\t 2.891825 & 2.891825 & -3.023587e-07 & 3.152 & -0.2601753\\\\\n\\end{tabular}\n",
            "text/plain": [
              "  Actual Values Central Difference Approx Central Differences Error\n",
              "1 4.000000      4.000000                   0.000000e+00            \n",
              "2 3.421403      3.421403                  -2.418398e-07            \n",
              "3 2.891825      2.891825                  -3.023587e-07            \n",
              "  Finite Differences Finite Differences Error\n",
              "1 3.707               0.2930000              \n",
              "2 3.152               0.2694028              \n",
              "3 3.152              -0.2601753              "
            ]
          },
          "metadata": {}
        }
      ]
    },
    {
      "cell_type": "code",
      "source": [
        "function_to_analyze <- function(x1,x2,x3){\n",
        "  return(x1*x2+exp(x3))\n",
        "}"
      ],
      "metadata": {
        "id": "-u-AK4jAbDmV"
      },
      "execution_count": 12,
      "outputs": []
    },
    {
      "cell_type": "code",
      "source": [],
      "metadata": {
        "id": "kOOm72h6dgmD"
      },
      "execution_count": null,
      "outputs": []
    }
  ]
}
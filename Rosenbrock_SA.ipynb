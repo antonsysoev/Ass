{
  "nbformat": 4,
  "nbformat_minor": 0,
  "metadata": {
    "colab": {
      "provenance": [],
      "authorship_tag": "ABX9TyNGGEnY+zCEHWQgU99egBdS",
      "include_colab_link": true
    },
    "kernelspec": {
      "name": "ir",
      "display_name": "R"
    },
    "language_info": {
      "name": "R"
    }
  },
  "cells": [
    {
      "cell_type": "markdown",
      "metadata": {
        "id": "view-in-github",
        "colab_type": "text"
      },
      "source": [
        "<a href=\"https://colab.research.google.com/github/antonsysoev/Ass/blob/main/Rosenbrock_SA.ipynb\" target=\"_parent\"><img src=\"https://colab.research.google.com/assets/colab-badge.svg\" alt=\"Open In Colab\"/></a>"
      ]
    },
    {
      "cell_type": "code",
      "execution_count": 1,
      "metadata": {
        "colab": {
          "base_uri": "https://localhost:8080/"
        },
        "id": "0uKM7bcg_5Ra",
        "outputId": "512f4605-04cc-40f0-eb5f-9305e7eb3f3a"
      },
      "outputs": [
        {
          "output_type": "stream",
          "name": "stderr",
          "text": [
            "Installing package into ‘/usr/local/lib/R/site-library’\n",
            "(as ‘lib’ is unspecified)\n",
            "\n",
            "also installing the dependency ‘Deriv’\n",
            "\n",
            "\n",
            "Installing package into ‘/usr/local/lib/R/site-library’\n",
            "(as ‘lib’ is unspecified)\n",
            "\n",
            "also installing the dependencies ‘plyr’, ‘reshape2’\n",
            "\n",
            "\n"
          ]
        }
      ],
      "source": [
        "install.packages('neuralnet')\n",
        "install.packages('NeuralNetTools')\n",
        "library(nnet)\n",
        "library(neuralnet)\n",
        "library(NeuralNetTools)"
      ]
    },
    {
      "cell_type": "code",
      "source": [
        "rosenbrock <- function(x1,x2){\n",
        "  return(100*(x2-x1)^2+(1-x1)^2)\n",
        "}"
      ],
      "metadata": {
        "id": "RvNouy6E_9ri"
      },
      "execution_count": 19,
      "outputs": []
    },
    {
      "cell_type": "code",
      "source": [
        "n <- 2\n",
        "l <- rep(list((-10:10)), n)\n",
        "\n",
        "x <- expand.grid(l)\n",
        "x$Var1"
      ],
      "metadata": {
        "colab": {
          "base_uri": "https://localhost:8080/",
          "height": 121
        },
        "id": "L0zyItGKAP5z",
        "outputId": "abb1b4de-bf23-4e76-911e-e4ae5c6181c7"
      },
      "execution_count": 25,
      "outputs": [
        {
          "output_type": "display_data",
          "data": {
            "text/html": [
              "<style>\n",
              ".list-inline {list-style: none; margin:0; padding: 0}\n",
              ".list-inline>li {display: inline-block}\n",
              ".list-inline>li:not(:last-child)::after {content: \"\\00b7\"; padding: 0 .5ex}\n",
              "</style>\n",
              "<ol class=list-inline><li>-10</li><li>-9</li><li>-8</li><li>-7</li><li>-6</li><li>-5</li><li>-4</li><li>-3</li><li>-2</li><li>-1</li><li>0</li><li>1</li><li>2</li><li>3</li><li>4</li><li>5</li><li>6</li><li>7</li><li>8</li><li>9</li><li>10</li><li>-10</li><li>-9</li><li>-8</li><li>-7</li><li>-6</li><li>-5</li><li>-4</li><li>-3</li><li>-2</li><li>-1</li><li>0</li><li>1</li><li>2</li><li>3</li><li>4</li><li>5</li><li>6</li><li>7</li><li>8</li><li>9</li><li>10</li><li>-10</li><li>-9</li><li>-8</li><li>-7</li><li>-6</li><li>-5</li><li>-4</li><li>-3</li><li>-2</li><li>-1</li><li>0</li><li>1</li><li>2</li><li>3</li><li>4</li><li>5</li><li>6</li><li>7</li><li>8</li><li>9</li><li>10</li><li>-10</li><li>-9</li><li>-8</li><li>-7</li><li>-6</li><li>-5</li><li>-4</li><li>-3</li><li>-2</li><li>-1</li><li>0</li><li>1</li><li>2</li><li>3</li><li>4</li><li>5</li><li>6</li><li>7</li><li>8</li><li>9</li><li>10</li><li>-10</li><li>-9</li><li>-8</li><li>-7</li><li>-6</li><li>-5</li><li>-4</li><li>-3</li><li>-2</li><li>-1</li><li>0</li><li>1</li><li>2</li><li>3</li><li>4</li><li>5</li><li>6</li><li>7</li><li>8</li><li>9</li><li>10</li><li>-10</li><li>-9</li><li>-8</li><li>-7</li><li>-6</li><li>-5</li><li>-4</li><li>-3</li><li>-2</li><li>-1</li><li>0</li><li>1</li><li>2</li><li>3</li><li>4</li><li>5</li><li>6</li><li>7</li><li>8</li><li>9</li><li>10</li><li>-10</li><li>-9</li><li>-8</li><li>-7</li><li>-6</li><li>-5</li><li>-4</li><li>-3</li><li>-2</li><li>-1</li><li>0</li><li>1</li><li>2</li><li>3</li><li>4</li><li>5</li><li>6</li><li>7</li><li>8</li><li>9</li><li>10</li><li>-10</li><li>-9</li><li>-8</li><li>-7</li><li>-6</li><li>-5</li><li>-4</li><li>-3</li><li>-2</li><li>-1</li><li>0</li><li>1</li><li>2</li><li>3</li><li>4</li><li>5</li><li>6</li><li>7</li><li>8</li><li>9</li><li>10</li><li>-10</li><li>-9</li><li>-8</li><li>-7</li><li>-6</li><li>-5</li><li>-4</li><li>-3</li><li>-2</li><li>-1</li><li>0</li><li>1</li><li>2</li><li>3</li><li>4</li><li>5</li><li>6</li><li>7</li><li>8</li><li>9</li><li>10</li><li>-10</li><li>-9</li><li>-8</li><li>-7</li><li>-6</li><li>-5</li><li>-4</li><li>-3</li><li>-2</li><li>-1</li><li>0</li><li>⋯</li><li>0</li><li>1</li><li>2</li><li>3</li><li>4</li><li>5</li><li>6</li><li>7</li><li>8</li><li>9</li><li>10</li><li>-10</li><li>-9</li><li>-8</li><li>-7</li><li>-6</li><li>-5</li><li>-4</li><li>-3</li><li>-2</li><li>-1</li><li>0</li><li>1</li><li>2</li><li>3</li><li>4</li><li>5</li><li>6</li><li>7</li><li>8</li><li>9</li><li>10</li><li>-10</li><li>-9</li><li>-8</li><li>-7</li><li>-6</li><li>-5</li><li>-4</li><li>-3</li><li>-2</li><li>-1</li><li>0</li><li>1</li><li>2</li><li>3</li><li>4</li><li>5</li><li>6</li><li>7</li><li>8</li><li>9</li><li>10</li><li>-10</li><li>-9</li><li>-8</li><li>-7</li><li>-6</li><li>-5</li><li>-4</li><li>-3</li><li>-2</li><li>-1</li><li>0</li><li>1</li><li>2</li><li>3</li><li>4</li><li>5</li><li>6</li><li>7</li><li>8</li><li>9</li><li>10</li><li>-10</li><li>-9</li><li>-8</li><li>-7</li><li>-6</li><li>-5</li><li>-4</li><li>-3</li><li>-2</li><li>-1</li><li>0</li><li>1</li><li>2</li><li>3</li><li>4</li><li>5</li><li>6</li><li>7</li><li>8</li><li>9</li><li>10</li><li>-10</li><li>-9</li><li>-8</li><li>-7</li><li>-6</li><li>-5</li><li>-4</li><li>-3</li><li>-2</li><li>-1</li><li>0</li><li>1</li><li>2</li><li>3</li><li>4</li><li>5</li><li>6</li><li>7</li><li>8</li><li>9</li><li>10</li><li>-10</li><li>-9</li><li>-8</li><li>-7</li><li>-6</li><li>-5</li><li>-4</li><li>-3</li><li>-2</li><li>-1</li><li>0</li><li>1</li><li>2</li><li>3</li><li>4</li><li>5</li><li>6</li><li>7</li><li>8</li><li>9</li><li>10</li><li>-10</li><li>-9</li><li>-8</li><li>-7</li><li>-6</li><li>-5</li><li>-4</li><li>-3</li><li>-2</li><li>-1</li><li>0</li><li>1</li><li>2</li><li>3</li><li>4</li><li>5</li><li>6</li><li>7</li><li>8</li><li>9</li><li>10</li><li>-10</li><li>-9</li><li>-8</li><li>-7</li><li>-6</li><li>-5</li><li>-4</li><li>-3</li><li>-2</li><li>-1</li><li>0</li><li>1</li><li>2</li><li>3</li><li>4</li><li>5</li><li>6</li><li>7</li><li>8</li><li>9</li><li>10</li><li>-10</li><li>-9</li><li>-8</li><li>-7</li><li>-6</li><li>-5</li><li>-4</li><li>-3</li><li>-2</li><li>-1</li><li>0</li><li>1</li><li>2</li><li>3</li><li>4</li><li>5</li><li>6</li><li>7</li><li>8</li><li>9</li><li>10</li></ol>\n"
            ],
            "text/markdown": "1. -10\n2. -9\n3. -8\n4. -7\n5. -6\n6. -5\n7. -4\n8. -3\n9. -2\n10. -1\n11. 0\n12. 1\n13. 2\n14. 3\n15. 4\n16. 5\n17. 6\n18. 7\n19. 8\n20. 9\n21. 10\n22. -10\n23. -9\n24. -8\n25. -7\n26. -6\n27. -5\n28. -4\n29. -3\n30. -2\n31. -1\n32. 0\n33. 1\n34. 2\n35. 3\n36. 4\n37. 5\n38. 6\n39. 7\n40. 8\n41. 9\n42. 10\n43. -10\n44. -9\n45. -8\n46. -7\n47. -6\n48. -5\n49. -4\n50. -3\n51. -2\n52. -1\n53. 0\n54. 1\n55. 2\n56. 3\n57. 4\n58. 5\n59. 6\n60. 7\n61. 8\n62. 9\n63. 10\n64. -10\n65. -9\n66. -8\n67. -7\n68. -6\n69. -5\n70. -4\n71. -3\n72. -2\n73. -1\n74. 0\n75. 1\n76. 2\n77. 3\n78. 4\n79. 5\n80. 6\n81. 7\n82. 8\n83. 9\n84. 10\n85. -10\n86. -9\n87. -8\n88. -7\n89. -6\n90. -5\n91. -4\n92. -3\n93. -2\n94. -1\n95. 0\n96. 1\n97. 2\n98. 3\n99. 4\n100. 5\n101. 6\n102. 7\n103. 8\n104. 9\n105. 10\n106. -10\n107. -9\n108. -8\n109. -7\n110. -6\n111. -5\n112. -4\n113. -3\n114. -2\n115. -1\n116. 0\n117. 1\n118. 2\n119. 3\n120. 4\n121. 5\n122. 6\n123. 7\n124. 8\n125. 9\n126. 10\n127. -10\n128. -9\n129. -8\n130. -7\n131. -6\n132. -5\n133. -4\n134. -3\n135. -2\n136. -1\n137. 0\n138. 1\n139. 2\n140. 3\n141. 4\n142. 5\n143. 6\n144. 7\n145. 8\n146. 9\n147. 10\n148. -10\n149. -9\n150. -8\n151. -7\n152. -6\n153. -5\n154. -4\n155. -3\n156. -2\n157. -1\n158. 0\n159. 1\n160. 2\n161. 3\n162. 4\n163. 5\n164. 6\n165. 7\n166. 8\n167. 9\n168. 10\n169. -10\n170. -9\n171. -8\n172. -7\n173. -6\n174. -5\n175. -4\n176. -3\n177. -2\n178. -1\n179. 0\n180. 1\n181. 2\n182. 3\n183. 4\n184. 5\n185. 6\n186. 7\n187. 8\n188. 9\n189. 10\n190. -10\n191. -9\n192. -8\n193. -7\n194. -6\n195. -5\n196. -4\n197. -3\n198. -2\n199. -1\n200. 0\n201. ⋯\n202. 0\n203. 1\n204. 2\n205. 3\n206. 4\n207. 5\n208. 6\n209. 7\n210. 8\n211. 9\n212. 10\n213. -10\n214. -9\n215. -8\n216. -7\n217. -6\n218. -5\n219. -4\n220. -3\n221. -2\n222. -1\n223. 0\n224. 1\n225. 2\n226. 3\n227. 4\n228. 5\n229. 6\n230. 7\n231. 8\n232. 9\n233. 10\n234. -10\n235. -9\n236. -8\n237. -7\n238. -6\n239. -5\n240. -4\n241. -3\n242. -2\n243. -1\n244. 0\n245. 1\n246. 2\n247. 3\n248. 4\n249. 5\n250. 6\n251. 7\n252. 8\n253. 9\n254. 10\n255. -10\n256. -9\n257. -8\n258. -7\n259. -6\n260. -5\n261. -4\n262. -3\n263. -2\n264. -1\n265. 0\n266. 1\n267. 2\n268. 3\n269. 4\n270. 5\n271. 6\n272. 7\n273. 8\n274. 9\n275. 10\n276. -10\n277. -9\n278. -8\n279. -7\n280. -6\n281. -5\n282. -4\n283. -3\n284. -2\n285. -1\n286. 0\n287. 1\n288. 2\n289. 3\n290. 4\n291. 5\n292. 6\n293. 7\n294. 8\n295. 9\n296. 10\n297. -10\n298. -9\n299. -8\n300. -7\n301. -6\n302. -5\n303. -4\n304. -3\n305. -2\n306. -1\n307. 0\n308. 1\n309. 2\n310. 3\n311. 4\n312. 5\n313. 6\n314. 7\n315. 8\n316. 9\n317. 10\n318. -10\n319. -9\n320. -8\n321. -7\n322. -6\n323. -5\n324. -4\n325. -3\n326. -2\n327. -1\n328. 0\n329. 1\n330. 2\n331. 3\n332. 4\n333. 5\n334. 6\n335. 7\n336. 8\n337. 9\n338. 10\n339. -10\n340. -9\n341. -8\n342. -7\n343. -6\n344. -5\n345. -4\n346. -3\n347. -2\n348. -1\n349. 0\n350. 1\n351. 2\n352. 3\n353. 4\n354. 5\n355. 6\n356. 7\n357. 8\n358. 9\n359. 10\n360. -10\n361. -9\n362. -8\n363. -7\n364. -6\n365. -5\n366. -4\n367. -3\n368. -2\n369. -1\n370. 0\n371. 1\n372. 2\n373. 3\n374. 4\n375. 5\n376. 6\n377. 7\n378. 8\n379. 9\n380. 10\n381. -10\n382. -9\n383. -8\n384. -7\n385. -6\n386. -5\n387. -4\n388. -3\n389. -2\n390. -1\n391. 0\n392. 1\n393. 2\n394. 3\n395. 4\n396. 5\n397. 6\n398. 7\n399. 8\n400. 9\n401. 10\n\n\n",
            "text/latex": "\\begin{enumerate*}\n\\item -10\n\\item -9\n\\item -8\n\\item -7\n\\item -6\n\\item -5\n\\item -4\n\\item -3\n\\item -2\n\\item -1\n\\item 0\n\\item 1\n\\item 2\n\\item 3\n\\item 4\n\\item 5\n\\item 6\n\\item 7\n\\item 8\n\\item 9\n\\item 10\n\\item -10\n\\item -9\n\\item -8\n\\item -7\n\\item -6\n\\item -5\n\\item -4\n\\item -3\n\\item -2\n\\item -1\n\\item 0\n\\item 1\n\\item 2\n\\item 3\n\\item 4\n\\item 5\n\\item 6\n\\item 7\n\\item 8\n\\item 9\n\\item 10\n\\item -10\n\\item -9\n\\item -8\n\\item -7\n\\item -6\n\\item -5\n\\item -4\n\\item -3\n\\item -2\n\\item -1\n\\item 0\n\\item 1\n\\item 2\n\\item 3\n\\item 4\n\\item 5\n\\item 6\n\\item 7\n\\item 8\n\\item 9\n\\item 10\n\\item -10\n\\item -9\n\\item -8\n\\item -7\n\\item -6\n\\item -5\n\\item -4\n\\item -3\n\\item -2\n\\item -1\n\\item 0\n\\item 1\n\\item 2\n\\item 3\n\\item 4\n\\item 5\n\\item 6\n\\item 7\n\\item 8\n\\item 9\n\\item 10\n\\item -10\n\\item -9\n\\item -8\n\\item -7\n\\item -6\n\\item -5\n\\item -4\n\\item -3\n\\item -2\n\\item -1\n\\item 0\n\\item 1\n\\item 2\n\\item 3\n\\item 4\n\\item 5\n\\item 6\n\\item 7\n\\item 8\n\\item 9\n\\item 10\n\\item -10\n\\item -9\n\\item -8\n\\item -7\n\\item -6\n\\item -5\n\\item -4\n\\item -3\n\\item -2\n\\item -1\n\\item 0\n\\item 1\n\\item 2\n\\item 3\n\\item 4\n\\item 5\n\\item 6\n\\item 7\n\\item 8\n\\item 9\n\\item 10\n\\item -10\n\\item -9\n\\item -8\n\\item -7\n\\item -6\n\\item -5\n\\item -4\n\\item -3\n\\item -2\n\\item -1\n\\item 0\n\\item 1\n\\item 2\n\\item 3\n\\item 4\n\\item 5\n\\item 6\n\\item 7\n\\item 8\n\\item 9\n\\item 10\n\\item -10\n\\item -9\n\\item -8\n\\item -7\n\\item -6\n\\item -5\n\\item -4\n\\item -3\n\\item -2\n\\item -1\n\\item 0\n\\item 1\n\\item 2\n\\item 3\n\\item 4\n\\item 5\n\\item 6\n\\item 7\n\\item 8\n\\item 9\n\\item 10\n\\item -10\n\\item -9\n\\item -8\n\\item -7\n\\item -6\n\\item -5\n\\item -4\n\\item -3\n\\item -2\n\\item -1\n\\item 0\n\\item 1\n\\item 2\n\\item 3\n\\item 4\n\\item 5\n\\item 6\n\\item 7\n\\item 8\n\\item 9\n\\item 10\n\\item -10\n\\item -9\n\\item -8\n\\item -7\n\\item -6\n\\item -5\n\\item -4\n\\item -3\n\\item -2\n\\item -1\n\\item 0\n\\item ⋯\n\\item 0\n\\item 1\n\\item 2\n\\item 3\n\\item 4\n\\item 5\n\\item 6\n\\item 7\n\\item 8\n\\item 9\n\\item 10\n\\item -10\n\\item -9\n\\item -8\n\\item -7\n\\item -6\n\\item -5\n\\item -4\n\\item -3\n\\item -2\n\\item -1\n\\item 0\n\\item 1\n\\item 2\n\\item 3\n\\item 4\n\\item 5\n\\item 6\n\\item 7\n\\item 8\n\\item 9\n\\item 10\n\\item -10\n\\item -9\n\\item -8\n\\item -7\n\\item -6\n\\item -5\n\\item -4\n\\item -3\n\\item -2\n\\item -1\n\\item 0\n\\item 1\n\\item 2\n\\item 3\n\\item 4\n\\item 5\n\\item 6\n\\item 7\n\\item 8\n\\item 9\n\\item 10\n\\item -10\n\\item -9\n\\item -8\n\\item -7\n\\item -6\n\\item -5\n\\item -4\n\\item -3\n\\item -2\n\\item -1\n\\item 0\n\\item 1\n\\item 2\n\\item 3\n\\item 4\n\\item 5\n\\item 6\n\\item 7\n\\item 8\n\\item 9\n\\item 10\n\\item -10\n\\item -9\n\\item -8\n\\item -7\n\\item -6\n\\item -5\n\\item -4\n\\item -3\n\\item -2\n\\item -1\n\\item 0\n\\item 1\n\\item 2\n\\item 3\n\\item 4\n\\item 5\n\\item 6\n\\item 7\n\\item 8\n\\item 9\n\\item 10\n\\item -10\n\\item -9\n\\item -8\n\\item -7\n\\item -6\n\\item -5\n\\item -4\n\\item -3\n\\item -2\n\\item -1\n\\item 0\n\\item 1\n\\item 2\n\\item 3\n\\item 4\n\\item 5\n\\item 6\n\\item 7\n\\item 8\n\\item 9\n\\item 10\n\\item -10\n\\item -9\n\\item -8\n\\item -7\n\\item -6\n\\item -5\n\\item -4\n\\item -3\n\\item -2\n\\item -1\n\\item 0\n\\item 1\n\\item 2\n\\item 3\n\\item 4\n\\item 5\n\\item 6\n\\item 7\n\\item 8\n\\item 9\n\\item 10\n\\item -10\n\\item -9\n\\item -8\n\\item -7\n\\item -6\n\\item -5\n\\item -4\n\\item -3\n\\item -2\n\\item -1\n\\item 0\n\\item 1\n\\item 2\n\\item 3\n\\item 4\n\\item 5\n\\item 6\n\\item 7\n\\item 8\n\\item 9\n\\item 10\n\\item -10\n\\item -9\n\\item -8\n\\item -7\n\\item -6\n\\item -5\n\\item -4\n\\item -3\n\\item -2\n\\item -1\n\\item 0\n\\item 1\n\\item 2\n\\item 3\n\\item 4\n\\item 5\n\\item 6\n\\item 7\n\\item 8\n\\item 9\n\\item 10\n\\item -10\n\\item -9\n\\item -8\n\\item -7\n\\item -6\n\\item -5\n\\item -4\n\\item -3\n\\item -2\n\\item -1\n\\item 0\n\\item 1\n\\item 2\n\\item 3\n\\item 4\n\\item 5\n\\item 6\n\\item 7\n\\item 8\n\\item 9\n\\item 10\n\\end{enumerate*}\n",
            "text/plain": [
              "  [1] -10  -9  -8  -7  -6  -5  -4  -3  -2  -1   0   1   2   3   4   5   6   7\n",
              " [19]   8   9  10 -10  -9  -8  -7  -6  -5  -4  -3  -2  -1   0   1   2   3   4\n",
              " [37]   5   6   7   8   9  10 -10  -9  -8  -7  -6  -5  -4  -3  -2  -1   0   1\n",
              " [55]   2   3   4   5   6   7   8   9  10 -10  -9  -8  -7  -6  -5  -4  -3  -2\n",
              " [73]  -1   0   1   2   3   4   5   6   7   8   9  10 -10  -9  -8  -7  -6  -5\n",
              " [91]  -4  -3  -2  -1   0   1   2   3   4   5   6   7   8   9  10 -10  -9  -8\n",
              "[109]  -7  -6  -5  -4  -3  -2  -1   0   1   2   3   4   5   6   7   8   9  10\n",
              "[127] -10  -9  -8  -7  -6  -5  -4  -3  -2  -1   0   1   2   3   4   5   6   7\n",
              "[145]   8   9  10 -10  -9  -8  -7  -6  -5  -4  -3  -2  -1   0   1   2   3   4\n",
              "[163]   5   6   7   8   9  10 -10  -9  -8  -7  -6  -5  -4  -3  -2  -1   0   1\n",
              "[181]   2   3   4   5   6   7   8   9  10 -10  -9  -8  -7  -6  -5  -4  -3  -2\n",
              "[199]  -1   0   1   2   3   4   5   6   7   8   9  10 -10  -9  -8  -7  -6  -5\n",
              "[217]  -4  -3  -2  -1   0   1   2   3   4   5   6   7   8   9  10 -10  -9  -8\n",
              "[235]  -7  -6  -5  -4  -3  -2  -1   0   1   2   3   4   5   6   7   8   9  10\n",
              "[253] -10  -9  -8  -7  -6  -5  -4  -3  -2  -1   0   1   2   3   4   5   6   7\n",
              "[271]   8   9  10 -10  -9  -8  -7  -6  -5  -4  -3  -2  -1   0   1   2   3   4\n",
              "[289]   5   6   7   8   9  10 -10  -9  -8  -7  -6  -5  -4  -3  -2  -1   0   1\n",
              "[307]   2   3   4   5   6   7   8   9  10 -10  -9  -8  -7  -6  -5  -4  -3  -2\n",
              "[325]  -1   0   1   2   3   4   5   6   7   8   9  10 -10  -9  -8  -7  -6  -5\n",
              "[343]  -4  -3  -2  -1   0   1   2   3   4   5   6   7   8   9  10 -10  -9  -8\n",
              "[361]  -7  -6  -5  -4  -3  -2  -1   0   1   2   3   4   5   6   7   8   9  10\n",
              "[379] -10  -9  -8  -7  -6  -5  -4  -3  -2  -1   0   1   2   3   4   5   6   7\n",
              "[397]   8   9  10 -10  -9  -8  -7  -6  -5  -4  -3  -2  -1   0   1   2   3   4\n",
              "[415]   5   6   7   8   9  10 -10  -9  -8  -7  -6  -5  -4  -3  -2  -1   0   1\n",
              "[433]   2   3   4   5   6   7   8   9  10"
            ]
          },
          "metadata": {}
        }
      ]
    },
    {
      "cell_type": "code",
      "source": [
        "model_rosenbrock <- rosenbrock(x$Var1, x$Var2)"
      ],
      "metadata": {
        "id": "r8EL34h2B_2s"
      },
      "execution_count": 26,
      "outputs": []
    },
    {
      "cell_type": "code",
      "source": [
        "mod <- x\n",
        "mod$y <- model_rosenbrock"
      ],
      "metadata": {
        "id": "fllWYIDyCHjT"
      },
      "execution_count": 29,
      "outputs": []
    },
    {
      "cell_type": "code",
      "source": [
        "install.packages(\"nlsr\")\n",
        "library(nlsr)"
      ],
      "metadata": {
        "colab": {
          "base_uri": "https://localhost:8080/"
        },
        "id": "OwKg1U_AC3i_",
        "outputId": "35184885-31dc-4788-f2dd-0638562e755f"
      },
      "execution_count": 31,
      "outputs": [
        {
          "output_type": "stream",
          "name": "stderr",
          "text": [
            "Installing package into ‘/usr/local/lib/R/site-library’\n",
            "(as ‘lib’ is unspecified)\n",
            "\n"
          ]
        }
      ]
    },
    {
      "cell_type": "code",
      "source": [
        "dx <- as.expression(nlsDeriv(~ (100*(x_2-x_1)^2+(1-x_1)^2), \"x_1\"))"
      ],
      "metadata": {
        "id": "X7KWJ2PVDYxW"
      },
      "execution_count": 41,
      "outputs": []
    },
    {
      "cell_type": "code",
      "source": [
        "dx"
      ],
      "metadata": {
        "colab": {
          "base_uri": "https://localhost:8080/",
          "height": 34
        },
        "id": "lFtMS2LFDjgv",
        "outputId": "06318e00-a5cc-4e68-8b69-37f3bd701b94"
      },
      "execution_count": 42,
      "outputs": [
        {
          "output_type": "display_data",
          "data": {
            "text/plain": [
              "expression(100 * -(2 * (x_2 - x_1)) + -(2 * (1 - x_1)))"
            ]
          },
          "metadata": {}
        }
      ]
    },
    {
      "cell_type": "code",
      "source": [
        "(100 * -(2 * (x_2 - x_1)) + -(2 * (1 - x_1)))\n",
        "\n",
        "(100 * (2 * (x_2 - x_1)))"
      ],
      "metadata": {
        "id": "VW2O3M8aDrUW"
      },
      "execution_count": null,
      "outputs": []
    },
    {
      "cell_type": "code",
      "source": [
        "alpha <- 0\n",
        "znach_1 <- 0\n",
        "znach_2 <- 0\n",
        "\n",
        "\n",
        "for(i in 2:length(mod$Var1)){\n",
        "\t\t\t\tx_1 = mod$Var1[i-1];\n",
        "\t\t\t\tx_2 = mod$Var2[i-1];\n",
        "\t\t\t\tdx_1 = mod$Var1[i]-mod$Var1[i-1];\n",
        "\t\t\t\tdx_2 = mod$Var2[i]-mod$Var2[i-1];\n",
        "\n",
        "\n",
        "func <- function(a){\n",
        "(1/(1+exp(-b_0_f_0+w_1_f_0*(1/(1+exp(-(b_1_f_0+(1/(1+exp(-b_0_f_1+w_1_f_1*(1/(1+exp(-(b_1_f_1+(x_1[i]+dx_1[i])*w_11_f_1+(x_2[i]+dx_2[i])*w_21_f_1+(x_4[i]+dx_4[i])*w_31_f_1))))+\n",
        "  w_2_f_1*(1/(1+exp(-(b_2_f_1+(x_1[i]+dx_1[i])*w_12_f_1+(x_2[i]+dx_2[i])*w_22_f_1+(x_4[i]+dx_4[i])*w_32_f_1)))))))*w_11_f_0+(1/(1+exp(-b_0_f_2+w_1_f_2*(1/(1+exp(-(b_1_f_2+(x_3[i]+dx_3[i])*w_11_f_2+\n",
        "  (x_5[i]+dx_5[i])*w_21_f_2)))))))*w_21_f_0))))+w_2_f_0*(1/(1+exp(-(b_2_f_0+(1/(1+exp(-b_0_f_1+w_1_f_1*(1/(1+exp(-(b_1_f_1+(x_1[i]+dx_1[i])*w_11_f_1+(x_2[i]+dx_2[i])*w_21_f_1+(x_4[i]+dx_4[i])*w_31_f_1))))+\n",
        "  w_2_f_1*(1/(1+exp(-(b_2_f_1+(x_1[i]+dx_1[i])*w_12_f_1+(x_2[i]+dx_2[i])*w_22_f_1+(x_4[i]+dx_4[i])*w_32_f_1)))))))*w_12_f_0+(1/(1+exp(-b_0_f_2+w_1_f_2*(1/(1+exp(-(b_1_f_2+(x_3[i]+dx_3[i])*w_11_f_2+\n",
        "  (x_5[i]+dx_5[i])*w_21_f_2)))))))*w_22_f_0)))))))-\n",
        "(1/(1+exp(-b_0_f_0+w_1_f_0*(1/(1+exp(-(b_1_f_0+(1/(1+exp(-b_0_f_1+w_1_f_1*(1/(1+exp(-(b_1_f_1+x_1[i]*w_11_f_1+x_2[i]*w_21_f_1+x_4[i]*w_31_f_1))))+\n",
        "  w_2_f_1*(1/(1+exp(-(b_2_f_1+x_1[i]*w_12_f_1+x_2[i]*w_22_f_1+x_4[i]*w_32_f_1)))))))*w_11_f_0+(1/(1+exp(-b_0_f_2+w_1_f_2*(1/(1+exp(-(b_1_f_2+x_3[i]*w_11_f_2+x_5[i]*w_21_f_2)))))))*w_21_f_0))))+w_2_f_0*(1/(1+exp(-(b_2_f_0+\n",
        "  (1/(1+exp(-b_0_f_1+w_1_f_1*(1/(1+exp(-(b_1_f_1+x_1[i]*w_11_f_1+x_2[i]*w_21_f_1+x_4[i]*w_31_f_1))))+w_2_f_1*(1/(1+exp(-(b_2_f_1+x_1[i]*w_12_f_1+x_2[i]*w_22_f_1+x_4[i]*w_32_f_1)))))))*w_12_f_0+(1/(1+exp(-b_0_f_2+w_1_f_2*(1/(1+\n",
        "  exp(-(b_1_f_2+x_3[i]*w_11_f_2+x_5[i]*w_21_f_2)))))))*w_22_f_0)))))))-\n",
        "((-(exp(-b_0_f_0+w_1_f_0*(1/(1+exp(-(b_1_f_0+1/(1+exp(-b_0_f_1+w_1_f_1*(1/(1+exp(-(b_1_f_1+(x_1[i]+a*dx_1[i])*w_11_f_1+(x_2[i]+a*dx_2[i])*w_21_f_1+\n",
        "  (x_4[i]+a*dx_4[i])*w_31_f_1))))+w_2_f_1*(1/(1+exp(-(b_2_f_1+(x_1[i]+a*dx_1[i])*w_12_f_1+(x_2[i]+a*dx_2[i])*w_22_f_1+(x_4[i]+a*dx_4[i])*w_32_f_1))))))*w_11_f_0+1/(1+exp(-b_0_f_2+w_1_f_2*(1/(1+exp(-(b_1_f_2+(x_3[i]+\n",
        "  a*dx_3[i])*w_11_f_2+(x_5[i]+a*dx_5[i])*w_21_f_2))))))*w_21_f_0))))+w_2_f_0*(1/(1+exp(-(b_2_f_0+1/(1+exp(-b_0_f_1+w_1_f_1*(1/(1+exp(-(b_1_f_1+(x_1[i]+a*dx_1[i])*w_11_f_1+(x_2[i]+a*dx_2[i])*w_21_f_1+(x_4[i]+\n",
        "  a*dx_4[i])*w_31_f_1))))+w_2_f_1*(1/(1+exp(-(b_2_f_1+(x_1[i]+a*dx_1[i])*w_12_f_1+(x_2[i]+a*dx_2[i])*w_22_f_1+(x_4[i]+a*dx_4[i])*w_32_f_1))))))*w_12_f_0+1/(1+exp(-b_0_f_2+w_1_f_2*(1/(1+exp(-(b_1_f_2+(x_3[i]+\n",
        "  a*dx_3[i])*w_11_f_2+(x_5[i]+a*dx_5[i])*w_21_f_2))))))*w_22_f_0)))))*(w_1_f_0*-(exp(-(b_1_f_0+1/(1+exp(-b_0_f_1+w_1_f_1*(1/(1+exp(-(b_1_f_1+(x_1[i]+a*dx_1[i])*w_11_f_1+(x_2[i]+a*dx_2[i])*w_21_f_1+(x_4[i]+\n",
        "  a*dx_4[i])*w_31_f_1))))+w_2_f_1*(1/(1+exp(-(b_2_f_1+(x_1[i]+a*dx_1[i])*w_12_f_1+(x_2[i]+a*dx_2[i])*w_22_f_1+(x_4[i]+a*dx_4[i])*w_32_f_1))))))*w_11_f_0+1/(1+exp(-b_0_f_2+w_1_f_2*(1/(1+exp(-(b_1_f_2+(x_3[i]+\n",
        "  a*dx_3[i])*w_11_f_2+(x_5[i]+a*dx_5[i])*w_21_f_2))))))*w_21_f_0))*-(-(exp(-b_0_f_1+w_1_f_1*(1/(1+exp(-(b_1_f_1+(x_1[i]+a*dx_1[i])*w_11_f_1+(x_2[i]+a*dx_2[i])*w_21_f_1+(x_4[i]+a*dx_4[i])*w_31_f_1))))+w_2_f_1*(1/(1+\n",
        "  exp(-(b_2_f_1+(x_1[i]+a*dx_1[i])*w_12_f_1+(x_2[i]+a*dx_2[i])*w_22_f_1+(x_4[i]+a*dx_4[i])*w_32_f_1)))))*(w_1_f_1*-(exp(-(b_1_f_1+(x_1[i]+a*dx_1[i])*w_11_f_1+(x_2[i]+a*dx_2[i])*w_21_f_1+(x_4[i]+a*dx_4[i])*w_31_f_1))*-\n",
        "    w_11_f_1/(1+exp(-(b_1_f_1+(x_1[i]+a*dx_1[i])*w_11_f_1+(x_2[i]+a*dx_2[i])*w_21_f_1+(x_4[i]+a*dx_4[i])*w_31_f_1)))^2)+w_2_f_1*-(exp(-(b_2_f_1+(x_1[i]+a*dx_1[i])*w_12_f_1+(x_2[i]+a*dx_2[i])*w_22_f_1+\n",
        "      (x_4[i]+a*dx_4[i])*w_32_f_1))*-w_12_f_1/(1+exp(-(b_2_f_1+(x_1[i]+a*dx_1[i])*w_12_f_1+(x_2[i]+a*dx_2[i])*w_22_f_1+(x_4[i]+a*dx_4[i])*w_32_f_1)))^2))/(1+exp(-b_0_f_1+w_1_f_1*(1/(1+exp(-(b_1_f_1+\n",
        "      (x_1[i]+a*dx_1[i])*w_11_f_1+(x_2[i]+a*dx_2[i])*w_21_f_1+(x_4[i]+a*dx_4[i])*w_31_f_1))))+w_2_f_1*(1/(1+exp(-(b_2_f_1+(x_1[i]+a*dx_1[i])*w_12_f_1+(x_2[i]+a*dx_2[i])*w_22_f_1+(x_4[i]+\n",
        "      a*dx_4[i])*w_32_f_1))))))^2)*w_11_f_0)/(1+exp(-(b_1_f_0+1/(1+exp(-b_0_f_1+w_1_f_1*(1/(1+exp(-(b_1_f_1+(x_1[i]+a*dx_1[i])*w_11_f_1+(x_2[i]+a*dx_2[i])*w_21_f_1+(x_4[i]+a*dx_4[i])*w_31_f_1))))+w_2_f_1*(1/(1+\n",
        "      exp(-(b_2_f_1+(x_1[i]+a*dx_1[i])*w_12_f_1+(x_2[i]+a*dx_2[i])*w_22_f_1+(x_4[i]+a*dx_4[i])*w_32_f_1))))))*w_11_f_0+1/(1+exp(-b_0_f_2+w_1_f_2*(1/(1+exp(-(b_1_f_2+(x_3[i]+a*dx_3[i])*w_11_f_2+(x_5[i]+\n",
        "      a*dx_5[i])*w_21_f_2))))))*w_21_f_0)))^2)+w_2_f_0*-(exp(-(b_2_f_0+1/(1+exp(-b_0_f_1+w_1_f_1*(1/(1+exp(-(b_1_f_1+(x_1[i]+a*dx_1[i])*w_11_f_1+(x_2[i]+a*dx_2[i])*w_21_f_1+(x_4[i]+a*dx_4[i])*w_31_f_1))))+\n",
        "      w_2_f_1*(1/(1+exp(-(b_2_f_1+(x_1[i]+a*dx_1[i])*w_12_f_1+(x_2[i]+a*dx_2[i])*w_22_f_1+(x_4[i]+a*dx_4[i])*w_32_f_1))))))*w_12_f_0+1/(1+exp(-b_0_f_2+w_1_f_2*(1/(1+exp(-(b_1_f_2+(x_3[i]+a*dx_3[i])*w_11_f_2+\n",
        "      (x_5[i]+a*dx_5[i])*w_21_f_2))))))*w_22_f_0))*-(-(exp(-b_0_f_1+w_1_f_1*(1/(1+exp(-(b_1_f_1+(x_1[i]+a*dx_1[i])*w_11_f_1+(x_2[i]+a*dx_2[i])*w_21_f_1+(x_4[i]+a*dx_4[i])*w_31_f_1))))+w_2_f_1*(1/(1+exp(-(b_2_f_1+\n",
        "      (x_1[i]+a*dx_1[i])*w_12_f_1+(x_2[i]+a*dx_2[i])*w_22_f_1+(x_4[i]+a*dx_4[i])*w_32_f_1)))))*(w_1_f_1*-(exp(-(b_1_f_1+(x_1[i]+a*dx_1[i])*w_11_f_1+(x_2[i]+a*dx_2[i])*w_21_f_1+(x_4[i]+a*dx_4[i])*w_31_f_1))*-\n",
        "        w_11_f_1/(1+exp(-(b_1_f_1+(x_1[i]+a*dx_1[i])*w_11_f_1+(x_2[i]+a*dx_2[i])*w_21_f_1+(x_4[i]+a*dx_4[i])*w_31_f_1)))^2)+w_2_f_1*-(exp(-(b_2_f_1+(x_1[i]+a*dx_1[i])*w_12_f_1+(x_2[i]+a*dx_2[i])*w_22_f_1+\n",
        "          (x_4[i]+a*dx_4[i])*w_32_f_1))*-w_12_f_1/(1+exp(-(b_2_f_1+(x_1[i]+a*dx_1[i])*w_12_f_1+(x_2[i]+a*dx_2[i])*w_22_f_1+(x_4[i]+a*dx_4[i])*w_32_f_1)))^2))/(1+exp(-b_0_f_1+w_1_f_1*(1/(1+exp(-(b_1_f_1+\n",
        "          (x_1[i]+a*dx_1[i])*w_11_f_1+(x_2[i]+a*dx_2[i])*w_21_f_1+(x_4[i]+a*dx_4[i])*w_31_f_1))))+w_2_f_1*(1/(1+exp(-(b_2_f_1+(x_1[i]+a*dx_1[i])*w_12_f_1+(x_2[i]+a*dx_2[i])*w_22_f_1+\n",
        "          (x_4[i]+a*dx_4[i])*w_32_f_1))))))^2)*w_12_f_0)/(1+exp(-(b_2_f_0+1/(1+exp(-b_0_f_1+w_1_f_1*(1/(1+exp(-(b_1_f_1+(x_1[i]+a*dx_1[i])*w_11_f_1+(x_2[i]+a*dx_2[i])*w_21_f_1+(x_4[i]+a*dx_4[i])*w_31_f_1))))+w_2_f_1*(1/(1+\n",
        "          exp(-(b_2_f_1+(x_1[i]+a*dx_1[i])*w_12_f_1+(x_2[i]+a*dx_2[i])*w_22_f_1+(x_4[i]+a*dx_4[i])*w_32_f_1))))))*w_12_f_0+1/(1+exp(-b_0_f_2+w_1_f_2*(1/(1+exp(-(b_1_f_2+(x_3[i]+a*dx_3[i])*w_11_f_2+(x_5[i]+\n",
        "          a*dx_5[i])*w_21_f_2))))))*w_22_f_0)))^2))/(1+exp(-b_0_f_0+w_1_f_0*(1/(1+exp(-(b_1_f_0+1/(1+exp(-b_0_f_1+w_1_f_1*(1/(1+exp(-(b_1_f_1+(x_1[i]+a*dx_1[i])*w_11_f_1+(x_2[i]+a*dx_2[i])*w_21_f_1+(x_4[i]+\n",
        "          a*dx_4[i])*w_31_f_1))))+w_2_f_1*(1/(1+exp(-(b_2_f_1+(x_1[i]+a*dx_1[i])*w_12_f_1+(x_2[i]+a*dx_2[i])*w_22_f_1+(x_4[i]+a*dx_4[i])*w_32_f_1))))))*w_11_f_0+1/(1+exp(-b_0_f_2+w_1_f_2*(1/(1+exp(-(b_1_f_2+\n",
        "          (x_3[i]+a*dx_3[i])*w_11_f_2+(x_5[i]+a*dx_5[i])*w_21_f_2))))))*w_21_f_0))))+w_2_f_0*(1/(1+exp(-(b_2_f_0+1/(1+exp(-b_0_f_1+w_1_f_1*(1/(1+exp(-(b_1_f_1+(x_1[i]+a*dx_1[i])*w_11_f_1+(x_2[i]+a*dx_2[i])*w_21_f_1+\n",
        "          (x_4[i]+a*dx_4[i])*w_31_f_1))))+w_2_f_1*(1/(1+exp(-(b_2_f_1+(x_1[i]+a*dx_1[i])*w_12_f_1+(x_2[i]+a*dx_2[i])*w_22_f_1+(x_4[i]+a*dx_4[i])*w_32_f_1))))))*w_12_f_0+1/(1+exp(-b_0_f_2+w_1_f_2*(1/(1+exp(-(b_1_f_2+\n",
        "          (x_3[i]+a*dx_3[i])*w_11_f_2+(x_5[i]+a*dx_5[i])*w_21_f_2))))))*w_22_f_0))))))^2))*dx_1[i]\n",
        "+(-(exp(-b_0_f_0+w_1_f_0*(1/(1+exp(-(b_1_f_0+1/(1+exp(-b_0_f_1+w_1_f_1*(1/(1+exp(-(b_1_f_1+(x_1[i]+a*dx_1[i])*w_11_f_1+(x_2[i]+a*dx_2[i])*w_21_f_1+(x_4[i]+a*dx_4[i])*w_31_f_1))))+\n",
        "  w_2_f_1*(1/(1+exp(-(b_2_f_1+(x_1[i]+a*dx_1[i])*w_12_f_1+(x_2[i]+a*dx_2[i])*w_22_f_1+(x_4[i]+a*dx_4[i])*w_32_f_1))))))*w_11_f_0+1/(1+exp(-b_0_f_2+w_1_f_2*(1/(1+exp(-(b_1_f_2+(x_3[i]+a*dx_3[i])*w_11_f_2+\n",
        "  (x_5[i]+a*dx_5[i])*w_21_f_2))))))*w_21_f_0))))+w_2_f_0*(1/(1+exp(-(b_2_f_0+1/(1+exp(-b_0_f_1+w_1_f_1*(1/(1+exp(-(b_1_f_1+(x_1[i]+a*dx_1[i])*w_11_f_1+(x_2[i]+a*dx_2[i])*w_21_f_1+(x_4[i]+a*dx_4[i])*w_31_f_1))))+\n",
        "  w_2_f_1*(1/(1+exp(-(b_2_f_1+(x_1[i]+a*dx_1[i])*w_12_f_1+(x_2[i]+a*dx_2[i])*w_22_f_1+(x_4[i]+a*dx_4[i])*w_32_f_1))))))*w_12_f_0+1/(1+exp(-b_0_f_2+w_1_f_2*(1/(1+exp(-(b_1_f_2+(x_3[i]+a*dx_3[i])*w_11_f_2+\n",
        "  (x_5[i]+a*dx_5[i])*w_21_f_2))))))*w_22_f_0)))))*(w_1_f_0*-(exp(-(b_1_f_0+1/(1+exp(-b_0_f_1+w_1_f_1*(1/(1+exp(-(b_1_f_1+(x_1[i]+a*dx_1[i])*w_11_f_1+(x_2[i]+a*dx_2[i])*w_21_f_1+(x_4[i]+a*dx_4[i])*w_31_f_1))))+\n",
        "  w_2_f_1*(1/(1+exp(-(b_2_f_1+(x_1[i]+a*dx_1[i])*w_12_f_1+(x_2[i]+a*dx_2[i])*w_22_f_1+(x_4[i]+a*dx_4[i])*w_32_f_1))))))*w_11_f_0+1/(1+exp(-b_0_f_2+w_1_f_2*(1/(1+exp(-(b_1_f_2+(x_3[i]+a*dx_3[i])*w_11_f_2+(x_5[i]+\n",
        "  a*dx_5[i])*w_21_f_2))))))*w_21_f_0))*-(-(exp(-b_0_f_1+w_1_f_1*(1/(1+exp(-(b_1_f_1+(x_1[i]+a*dx_1[i])*w_11_f_1+(x_2[i]+a*dx_2[i])*w_21_f_1+(x_4[i]+a*dx_4[i])*w_31_f_1))))+w_2_f_1*(1/(1+exp(-(b_2_f_1+(x_1[i]+a*dx_1[i])*w_12_f_1+\n",
        "  (x_2[i]+a*dx_2[i])*w_22_f_1+(x_4[i]+a*dx_4[i])*w_32_f_1)))))*(w_1_f_1*-(exp(-(b_1_f_1+(x_1[i]+a*dx_1[i])*w_11_f_1+(x_2[i]+a*dx_2[i])*w_21_f_1+(x_4[i]+a*dx_4[i])*w_31_f_1))*-w_21_f_1/(1+exp(-(b_1_f_1+(x_1[i]+a*dx_1[i])*w_11_f_1+\n",
        "  (x_2[i]+a*dx_2[i])*w_21_f_1+(x_4[i]+a*dx_4[i])*w_31_f_1)))^2)+w_2_f_1*-(exp(-(b_2_f_1+(x_1[i]+a*dx_1[i])*w_12_f_1+(x_2[i]+a*dx_2[i])*w_22_f_1+(x_4[i]+a*dx_4[i])*w_32_f_1))*-w_22_f_1/(1+exp(-(b_2_f_1+(x_1[i]+a*dx_1[i])*w_12_f_1+\n",
        "  (x_2[i]+a*dx_2[i])*w_22_f_1+(x_4[i]+a*dx_4[i])*w_32_f_1)))^2))/(1+exp(-b_0_f_1+w_1_f_1*(1/(1+exp(-(b_1_f_1+(x_1[i]+a*dx_1[i])*w_11_f_1+(x_2[i]+a*dx_2[i])*w_21_f_1+(x_4[i]+a*dx_4[i])*w_31_f_1))))+w_2_f_1*(1/(1+exp(-(b_2_f_1+\n",
        "  (x_1[i]+a*dx_1[i])*w_12_f_1+(x_2[i]+a*dx_2[i])*w_22_f_1+(x_4[i]+a*dx_4[i])*w_32_f_1))))))^2)*w_11_f_0)/(1+exp(-(b_1_f_0+1/(1+exp(-b_0_f_1+w_1_f_1*(1/(1+exp(-(b_1_f_1+(x_1[i]+a*dx_1[i])*w_11_f_1+(x_2[i]+a*dx_2[i])*w_21_f_1+\n",
        "  (x_4[i]+a*dx_4[i])*w_31_f_1))))+w_2_f_1*(1/(1+exp(-(b_2_f_1+(x_1[i]+a*dx_1[i])*w_12_f_1+(x_2[i]+a*dx_2[i])*w_22_f_1+(x_4[i]+a*dx_4[i])*w_32_f_1))))))*w_11_f_0+1/(1+exp(-b_0_f_2+w_1_f_2*(1/(1+exp(-(b_1_f_2+(x_3[i]+\n",
        "  a*dx_3[i])*w_11_f_2+(x_5[i]+a*dx_5[i])*w_21_f_2))))))*w_21_f_0)))^2)+w_2_f_0*-(exp(-(b_2_f_0+1/(1+exp(-b_0_f_1+w_1_f_1*(1/(1+exp(-(b_1_f_1+(x_1[i]+a*dx_1[i])*w_11_f_1+(x_2[i]+a*dx_2[i])*w_21_f_1+(x_4[i]+a*dx_4[i])*w_31_f_1))))+\n",
        "  w_2_f_1*(1/(1+exp(-(b_2_f_1+(x_1[i]+a*dx_1[i])*w_12_f_1+(x_2[i]+a*dx_2[i])*w_22_f_1+(x_4[i]+a*dx_4[i])*w_32_f_1))))))*w_12_f_0+1/(1+exp(-b_0_f_2+w_1_f_2*(1/(1+exp(-(b_1_f_2+(x_3[i]+a*dx_3[i])*w_11_f_2+(x_5[i]+\n",
        "  a*dx_5[i])*w_21_f_2))))))*w_22_f_0))*-(-(exp(-b_0_f_1+w_1_f_1*(1/(1+exp(-(b_1_f_1+(x_1[i]+a*dx_1[i])*w_11_f_1+(x_2[i]+a*dx_2[i])*w_21_f_1+(x_4[i]+a*dx_4[i])*w_31_f_1))))+w_2_f_1*(1/(1+exp(-(b_2_f_1+(x_1[i]+\n",
        "  a*dx_1[i])*w_12_f_1+(x_2[i]+a*dx_2[i])*w_22_f_1+(x_4[i]+a*dx_4[i])*w_32_f_1)))))*(w_1_f_1*-(exp(-(b_1_f_1+(x_1[i]+a*dx_1[i])*w_11_f_1+(x_2[i]+a*dx_2[i])*w_21_f_1+(x_4[i]+a*dx_4[i])*w_31_f_1))*-w_21_f_1/(1+\n",
        "  exp(-(b_1_f_1+(x_1[i]+a*dx_1[i])*w_11_f_1+(x_2[i]+a*dx_2[i])*w_21_f_1+(x_4[i]+a*dx_4[i])*w_31_f_1)))^2)+w_2_f_1*-(exp(-(b_2_f_1+(x_1[i]+a*dx_1[i])*w_12_f_1+(x_2[i]+a*dx_2[i])*w_22_f_1+(x_4[i]+a*dx_4[i])*w_32_f_1))*-w_22_f_1/(1+\n",
        "  exp(-(b_2_f_1+(x_1[i]+a*dx_1[i])*w_12_f_1+(x_2[i]+a*dx_2[i])*w_22_f_1+(x_4[i]+a*dx_4[i])*w_32_f_1)))^2))/(1+exp(-b_0_f_1+w_1_f_1*(1/(1+exp(-(b_1_f_1+(x_1[i]+a*dx_1[i])*w_11_f_1+(x_2[i]+a*dx_2[i])*w_21_f_1+(x_4[i]+\n",
        "  a*dx_4[i])*w_31_f_1))))+w_2_f_1*(1/(1+exp(-(b_2_f_1+(x_1[i]+a*dx_1[i])*w_12_f_1+(x_2[i]+a*dx_2[i])*w_22_f_1+(x_4[i]+a*dx_4[i])*w_32_f_1))))))^2)*w_12_f_0)/(1+exp(-(b_2_f_0+1/(1+exp(-b_0_f_1+w_1_f_1*(1/(1+exp(-(b_1_f_1+\n",
        "  (x_1[i]+a*dx_1[i])*w_11_f_1+(x_2[i]+a*dx_2[i])*w_21_f_1+(x_4[i]+a*dx_4[i])*w_31_f_1))))+w_2_f_1*(1/(1+exp(-(b_2_f_1+(x_1[i]+a*dx_1[i])*w_12_f_1+(x_2[i]+a*dx_2[i])*w_22_f_1+(x_4[i]+a*dx_4[i])*w_32_f_1))))))*w_12_f_0+\n",
        "  1/(1+exp(-b_0_f_2+w_1_f_2*(1/(1+exp(-(b_1_f_2+(x_3[i]+a*dx_3[i])*w_11_f_2+(x_5[i]+a*dx_5[i])*w_21_f_2))))))*w_22_f_0)))^2))/(1+exp(-b_0_f_0+w_1_f_0*(1/(1+exp(-(b_1_f_0+1/(1+exp(-b_0_f_1+w_1_f_1*(1/(1+exp(-(b_1_f_1+\n",
        "  (x_1[i]+a*dx_1[i])*w_11_f_1+(x_2[i]+a*dx_2[i])*w_21_f_1+(x_4[i]+a*dx_4[i])*w_31_f_1))))+w_2_f_1*(1/(1+exp(-(b_2_f_1+(x_1[i]+a*dx_1[i])*w_12_f_1+(x_2[i]+a*dx_2[i])*w_22_f_1+(x_4[i]+a*dx_4[i])*w_32_f_1))))))*w_11_f_0+\n",
        "  1/(1+exp(-b_0_f_2+w_1_f_2*(1/(1+exp(-(b_1_f_2+(x_3[i]+a*dx_3[i])*w_11_f_2+(x_5[i]+a*dx_5[i])*w_21_f_2))))))*w_21_f_0))))+w_2_f_0*(1/(1+exp(-(b_2_f_0+1/(1+exp(-b_0_f_1+w_1_f_1*(1/(1+exp(-(b_1_f_1+(x_1[i]+\n",
        "  a*dx_1[i])*w_11_f_1+(x_2[i]+a*dx_2[i])*w_21_f_1+(x_4[i]+a*dx_4[i])*w_31_f_1))))+w_2_f_1*(1/(1+exp(-(b_2_f_1+(x_1[i]+a*dx_1[i])*w_12_f_1+(x_2[i]+a*dx_2[i])*w_22_f_1+(x_4[i]+a*dx_4[i])*w_32_f_1))))))*w_12_f_0+1/(1+\n",
        "  exp(-b_0_f_2+w_1_f_2*(1/(1+exp(-(b_1_f_2+(x_3[i]+a*dx_3[i])*w_11_f_2+(x_5[i]+a*dx_5[i])*w_21_f_2))))))*w_22_f_0))))))^2))*dx_2[i]\n",
        "+(-(exp(-b_0_f_0+w_1_f_0*(1/(1+exp(-(b_1_f_0+1/(1+exp(-b_0_f_1+w_1_f_1*(1/(1+exp(-(b_1_f_1+(x_1[i]+a*dx_1[i])*w_11_f_1+(x_2[i]+a*dx_2[i])*w_21_f_1+(x_4[i]+a*dx_4[i])*w_31_f_1))))+\n",
        "  w_2_f_1*(1/(1+exp(-(b_2_f_1+(x_1[i]+a*dx_1[i])*w_12_f_1+(x_2[i]+a*dx_2[i])*w_22_f_1+(x_4[i]+a*dx_4[i])*w_32_f_1))))))*w_11_f_0+1/(1+exp(-b_0_f_2+w_1_f_2*(1/(1+exp(-(b_1_f_2+(x_3[i]+a*dx_3[i])*w_11_f_2+\n",
        "  (x_5[i]+a*dx_5[i])*w_21_f_2))))))*w_21_f_0))))+w_2_f_0*(1/(1+exp(-(b_2_f_0+1/(1+exp(-b_0_f_1+w_1_f_1*(1/(1+exp(-(b_1_f_1+(x_1[i]+a*dx_1[i])*w_11_f_1+(x_2[i]+a*dx_2[i])*w_21_f_1+(x_4[i]+a*dx_4[i])*w_31_f_1))))+\n",
        "  w_2_f_1*(1/(1+exp(-(b_2_f_1+(x_1[i]+a*dx_1[i])*w_12_f_1+(x_2[i]+a*dx_2[i])*w_22_f_1+(x_4[i]+a*dx_4[i])*w_32_f_1))))))*w_12_f_0+1/(1+exp(-b_0_f_2+w_1_f_2*(1/(1+exp(-(b_1_f_2+(x_3[i]+a*dx_3[i])*w_11_f_2+\n",
        "  (x_5[i]+a*dx_5[i])*w_21_f_2))))))*w_22_f_0)))))*(w_1_f_0*-(exp(-(b_1_f_0+1/(1+exp(-b_0_f_1+w_1_f_1*(1/(1+exp(-(b_1_f_1+(x_1[i]+a*dx_1[i])*w_11_f_1+(x_2[i]+a*dx_2[i])*w_21_f_1+(x_4[i]+a*dx_4[i])*w_31_f_1))))+\n",
        "  w_2_f_1*(1/(1+exp(-(b_2_f_1+(x_1[i]+a*dx_1[i])*w_12_f_1+(x_2[i]+a*dx_2[i])*w_22_f_1+(x_4[i]+a*dx_4[i])*w_32_f_1))))))*w_11_f_0+1/(1+exp(-b_0_f_2+w_1_f_2*(1/(1+exp(-(b_1_f_2+(x_3[i]+a*dx_3[i])*w_11_f_2+(x_5[i]+\n",
        "  a*dx_5[i])*w_21_f_2))))))*w_21_f_0))*-(-(exp(-b_0_f_2+w_1_f_2*(1/(1+exp(-(b_1_f_2+(x_3[i]+a*dx_3[i])*w_11_f_2+(x_5[i]+a*dx_5[i])*w_21_f_2)))))*(w_1_f_2*-(exp(-(b_1_f_2+(x_3[i]+a*dx_3[i])*w_11_f_2+\n",
        "  (x_5[i]+a*dx_5[i])*w_21_f_2))*-w_11_f_2/(1+exp(-(b_1_f_2+(x_3[i]+a*dx_3[i])*w_11_f_2+(x_5[i]+a*dx_5[i])*w_21_f_2)))^2))/(1+exp(-b_0_f_2+w_1_f_2*(1/(1+exp(-(b_1_f_2+(x_3[i]+a*dx_3[i])*w_11_f_2+\n",
        "  (x_5[i]+a*dx_5[i])*w_21_f_2))))))^2)*w_21_f_0)/(1+exp(-(b_1_f_0+1/(1+exp(-b_0_f_1+w_1_f_1*(1/(1+exp(-(b_1_f_1+(x_1[i]+a*dx_1[i])*w_11_f_1+(x_2[i]+a*dx_2[i])*w_21_f_1+(x_4[i]+a*dx_4[i])*w_31_f_1))))+\n",
        "  w_2_f_1*(1/(1+exp(-(b_2_f_1+(x_1[i]+a*dx_1[i])*w_12_f_1+(x_2[i]+a*dx_2[i])*w_22_f_1+(x_4[i]+a*dx_4[i])*w_32_f_1))))))*w_11_f_0+1/(1+exp(-b_0_f_2+w_1_f_2*(1/(1+exp(-(b_1_f_2+(x_3[i]+a*dx_3[i])*w_11_f_2+\n",
        "  (x_5[i]+a*dx_5[i])*w_21_f_2))))))*w_21_f_0)))^2)+w_2_f_0*-(exp(-(b_2_f_0+1/(1+exp(-b_0_f_1+w_1_f_1*(1/(1+exp(-(b_1_f_1+(x_1[i]+a*dx_1[i])*w_11_f_1+(x_2[i]+a*dx_2[i])*w_21_f_1+(x_4[i]+a*dx_4[i])*w_31_f_1))))+\n",
        "  w_2_f_1*(1/(1+exp(-(b_2_f_1+(x_1[i]+a*dx_1[i])*w_12_f_1+(x_2[i]+a*dx_2[i])*w_22_f_1+(x_4[i]+a*dx_4[i])*w_32_f_1))))))*w_12_f_0+1/(1+exp(-b_0_f_2+w_1_f_2*(1/(1+exp(-(b_1_f_2+(x_3[i]+a*dx_3[i])*w_11_f_2+\n",
        "  (x_5[i]+a*dx_5[i])*w_21_f_2))))))*w_22_f_0))*-(-(exp(-b_0_f_2+w_1_f_2*(1/(1+exp(-(b_1_f_2+(x_3[i]+a*dx_3[i])*w_11_f_2+(x_5[i]+a*dx_5[i])*w_21_f_2)))))*(w_1_f_2*-(exp(-(b_1_f_2+(x_3[i]+a*dx_3[i])*w_11_f_2+\n",
        "  (x_5[i]+a*dx_5[i])*w_21_f_2))*-w_11_f_2/(1+exp(-(b_1_f_2+(x_3[i]+a*dx_3[i])*w_11_f_2+(x_5[i]+a*dx_5[i])*w_21_f_2)))^2))/(1+exp(-b_0_f_2+w_1_f_2*(1/(1+exp(-(b_1_f_2+(x_3[i]+a*dx_3[i])*w_11_f_2+(x_5[i]+\n",
        "  a*dx_5[i])*w_21_f_2))))))^2)*w_22_f_0)/(1+exp(-(b_2_f_0+1/(1+exp(-b_0_f_1+w_1_f_1*(1/(1+exp(-(b_1_f_1+(x_1[i]+a*dx_1[i])*w_11_f_1+(x_2[i]+a*dx_2[i])*w_21_f_1+(x_4[i]+a*dx_4[i])*w_31_f_1))))+w_2_f_1*(1/(1+exp(-(b_2_f_1+\n",
        "  (x_1[i]+a*dx_1[i])*w_12_f_1+(x_2[i]+a*dx_2[i])*w_22_f_1+(x_4[i]+a*dx_4[i])*w_32_f_1))))))*w_12_f_0+1/(1+exp(-b_0_f_2+w_1_f_2*(1/(1+exp(-(b_1_f_2+(x_3[i]+a*dx_3[i])*w_11_f_2+(x_5[i]+\n",
        "  a*dx_5[i])*w_21_f_2))))))*w_22_f_0)))^2))/(1+exp(-b_0_f_0+w_1_f_0*(1/(1+exp(-(b_1_f_0+1/(1+exp(-b_0_f_1+w_1_f_1*(1/(1+exp(-(b_1_f_1+(x_1[i]+a*dx_1[i])*w_11_f_1+(x_2[i]+a*dx_2[i])*w_21_f_1+(x_4[i]+\n",
        "  a*dx_4[i])*w_31_f_1))))+w_2_f_1*(1/(1+exp(-(b_2_f_1+(x_1[i]+a*dx_1[i])*w_12_f_1+(x_2[i]+a*dx_2[i])*w_22_f_1+(x_4[i]+a*dx_4[i])*w_32_f_1))))))*w_11_f_0+1/(1+exp(-b_0_f_2+w_1_f_2*(1/(1+exp(-(b_1_f_2+\n",
        "  (x_3[i]+a*dx_3[i])*w_11_f_2+(x_5[i]+a*dx_5[i])*w_21_f_2))))))*w_21_f_0))))+w_2_f_0*(1/(1+exp(-(b_2_f_0+1/(1+exp(-b_0_f_1+w_1_f_1*(1/(1+exp(-(b_1_f_1+(x_1[i]+a*dx_1[i])*w_11_f_1+(x_2[i]+a*dx_2[i])*w_21_f_1+\n",
        "  (x_4[i]+a*dx_4[i])*w_31_f_1))))+w_2_f_1*(1/(1+exp(-(b_2_f_1+(x_1[i]+a*dx_1[i])*w_12_f_1+(x_2[i]+a*dx_2[i])*w_22_f_1+(x_4[i]+a*dx_4[i])*w_32_f_1))))))*w_12_f_0+1/(1+exp(-b_0_f_2+w_1_f_2*(1/(1+exp(-(b_1_f_2+\n",
        "  (x_3[i]+a*dx_3[i])*w_11_f_2+(x_5[i]+a*dx_5[i])*w_21_f_2))))))*w_22_f_0))))))^2))*dx_3[i]\n",
        "+(-(exp(-b_0_f_0+w_1_f_0*(1/(1+exp(-(b_1_f_0+1/(1+exp(-b_0_f_1+w_1_f_1*(1/(1+exp(-(b_1_f_1+(x_1[i]+a*dx_1[i])*w_11_f_1+(x_2[i]+a*dx_2[i])*w_21_f_1+(x_4[i]+a*dx_4[i])*w_31_f_1))))+\n",
        "  w_2_f_1*(1/(1+exp(-(b_2_f_1+(x_1[i]+a*dx_1[i])*w_12_f_1+(x_2[i]+a*dx_2[i])*w_22_f_1+(x_4[i]+a*dx_4[i])*w_32_f_1))))))*w_11_f_0+1/(1+exp(-b_0_f_2+w_1_f_2*(1/(1+exp(-(b_1_f_2+(x_3[i]+a*dx_3[i])*w_11_f_2+\n",
        "  (x_5[i]+a*dx_5[i])*w_21_f_2))))))*w_21_f_0))))+w_2_f_0*(1/(1+exp(-(b_2_f_0+1/(1+exp(-b_0_f_1+w_1_f_1*(1/(1+exp(-(b_1_f_1+(x_1[i]+a*dx_1[i])*w_11_f_1+(x_2[i]+a*dx_2[i])*w_21_f_1+(x_4[i]+a*dx_4[i])*w_31_f_1))))+\n",
        "  w_2_f_1*(1/(1+exp(-(b_2_f_1+(x_1[i]+a*dx_1[i])*w_12_f_1+(x_2[i]+a*dx_2[i])*w_22_f_1+(x_4[i]+a*dx_4[i])*w_32_f_1))))))*w_12_f_0+1/(1+exp(-b_0_f_2+w_1_f_2*(1/(1+exp(-(b_1_f_2+(x_3[i]+a*dx_3[i])*w_11_f_2+\n",
        "  (x_5[i]+a*dx_5[i])*w_21_f_2))))))*w_22_f_0)))))*(w_1_f_0*-(exp(-(b_1_f_0+1/(1+exp(-b_0_f_1+w_1_f_1*(1/(1+exp(-(b_1_f_1+(x_1[i]+a*dx_1[i])*w_11_f_1+(x_2[i]+a*dx_2[i])*w_21_f_1+(x_4[i]+a*dx_4[i])*w_31_f_1))))+\n",
        "  w_2_f_1*(1/(1+exp(-(b_2_f_1+(x_1[i]+a*dx_1[i])*w_12_f_1+(x_2[i]+a*dx_2[i])*w_22_f_1+(x_4[i]+a*dx_4[i])*w_32_f_1))))))*w_11_f_0+1/(1+exp(-b_0_f_2+w_1_f_2*(1/(1+exp(-(b_1_f_2+(x_3[i]+a*dx_3[i])*w_11_f_2+(x_5[i]+\n",
        "  a*dx_5[i])*w_21_f_2))))))*w_21_f_0))*-(-(exp(-b_0_f_1+w_1_f_1*(1/(1+exp(-(b_1_f_1+(x_1[i]+a*dx_1[i])*w_11_f_1+(x_2[i]+a*dx_2[i])*w_21_f_1+(x_4[i]+a*dx_4[i])*w_31_f_1))))+w_2_f_1*(1/(1+exp(-(b_2_f_1+(x_1[i]+\n",
        "  a*dx_1[i])*w_12_f_1+(x_2[i]+a*dx_2[i])*w_22_f_1+(x_4[i]+a*dx_4[i])*w_32_f_1)))))*(w_1_f_1*-(exp(-(b_1_f_1+(x_1[i]+a*dx_1[i])*w_11_f_1+(x_2[i]+a*dx_2[i])*w_21_f_1+(x_4[i]+a*dx_4[i])*w_31_f_1))*-w_31_f_1/(1+\n",
        "  exp(-(b_1_f_1+(x_1[i]+a*dx_1[i])*w_11_f_1+(x_2[i]+a*dx_2[i])*w_21_f_1+(x_4[i]+a*dx_4[i])*w_31_f_1)))^2)+w_2_f_1*-(exp(-(b_2_f_1+(x_1[i]+a*dx_1[i])*w_12_f_1+(x_2[i]+a*dx_2[i])*w_22_f_1+(x_4[i]+\n",
        "  a*dx_4[i])*w_32_f_1))*-w_32_f_1/(1+exp(-(b_2_f_1+(x_1[i]+a*dx_1[i])*w_12_f_1+(x_2[i]+a*dx_2[i])*w_22_f_1+(x_4[i]+a*dx_4[i])*w_32_f_1)))^2))/(1+exp(-b_0_f_1+w_1_f_1*(1/(1+exp(-(b_1_f_1+(x_1[i]+\n",
        "  a*dx_1[i])*w_11_f_1+(x_2[i]+a*dx_2[i])*w_21_f_1+(x_4[i]+a*dx_4[i])*w_31_f_1))))+w_2_f_1*(1/(1+exp(-(b_2_f_1+(x_1[i]+a*dx_1[i])*w_12_f_1+(x_2[i]+a*dx_2[i])*w_22_f_1+(x_4[i]+a*dx_4[i])*w_32_f_1))))))^2)*w_11_f_0)/(1+\n",
        "  exp(-(b_1_f_0+1/(1+exp(-b_0_f_1+w_1_f_1*(1/(1+exp(-(b_1_f_1+(x_1[i]+a*dx_1[i])*w_11_f_1+(x_2[i]+a*dx_2[i])*w_21_f_1+(x_4[i]+a*dx_4[i])*w_31_f_1))))+w_2_f_1*(1/(1+exp(-(b_2_f_1+(x_1[i]+a*dx_1[i])*w_12_f_1+\n",
        "  (x_2[i]+a*dx_2[i])*w_22_f_1+(x_4[i]+a*dx_4[i])*w_32_f_1))))))*w_11_f_0+1/(1+exp(-b_0_f_2+w_1_f_2*(1/(1+exp(-(b_1_f_2+(x_3[i]+a*dx_3[i])*w_11_f_2+(x_5[i]+a*dx_5[i])*w_21_f_2))))))*w_21_f_0)))^2)+w_2_f_0*-(exp(-\n",
        "    (b_2_f_0+1/(1+exp(-b_0_f_1+w_1_f_1*(1/(1+exp(-(b_1_f_1+(x_1[i]+a*dx_1[i])*w_11_f_1+(x_2[i]+a*dx_2[i])*w_21_f_1+(x_4[i]+a*dx_4[i])*w_31_f_1))))+w_2_f_1*(1/(1+exp(-(b_2_f_1+(x_1[i]+a*dx_1[i])*w_12_f_1+(x_2[i]+\n",
        "      a*dx_2[i])*w_22_f_1+(x_4[i]+a*dx_4[i])*w_32_f_1))))))*w_12_f_0+1/(1+exp(-b_0_f_2+w_1_f_2*(1/(1+exp(-(b_1_f_2+(x_3[i]+a*dx_3[i])*w_11_f_2+(x_5[i]+a*dx_5[i])*w_21_f_2))))))*w_22_f_0))*-(-(exp(-b_0_f_1+\n",
        "      w_1_f_1*(1/(1+exp(-(b_1_f_1+(x_1[i]+a*dx_1[i])*w_11_f_1+(x_2[i]+a*dx_2[i])*w_21_f_1+(x_4[i]+a*dx_4[i])*w_31_f_1))))+w_2_f_1*(1/(1+exp(-(b_2_f_1+(x_1[i]+a*dx_1[i])*w_12_f_1+(x_2[i]+a*dx_2[i])*w_22_f_1+\n",
        "      (x_4[i]+a*dx_4[i])*w_32_f_1)))))*(w_1_f_1*-(exp(-(b_1_f_1+(x_1[i]+a*dx_1[i])*w_11_f_1+(x_2[i]+a*dx_2[i])*w_21_f_1+(x_4[i]+a*dx_4[i])*w_31_f_1))*-w_31_f_1/(1+exp(-(b_1_f_1+(x_1[i]+a*dx_1[i])*w_11_f_1+\n",
        "      (x_2[i]+a*dx_2[i])*w_21_f_1+(x_4[i]+a*dx_4[i])*w_31_f_1)))^2)+w_2_f_1*-(exp(-(b_2_f_1+(x_1[i]+a*dx_1[i])*w_12_f_1+(x_2[i]+a*dx_2[i])*w_22_f_1+(x_4[i]+a*dx_4[i])*w_32_f_1))*-w_32_f_1/(1+exp(-(b_2_f_1+\n",
        "      (x_1[i]+a*dx_1[i])*w_12_f_1+(x_2[i]+a*dx_2[i])*w_22_f_1+(x_4[i]+a*dx_4[i])*w_32_f_1)))^2))/(1+exp(-b_0_f_1+w_1_f_1*(1/(1+exp(-(b_1_f_1+(x_1[i]+a*dx_1[i])*w_11_f_1+(x_2[i]+a*dx_2[i])*w_21_f_1+\n",
        "      (x_4[i]+a*dx_4[i])*w_31_f_1))))+w_2_f_1*(1/(1+exp(-(b_2_f_1+(x_1[i]+a*dx_1[i])*w_12_f_1+(x_2[i]+a*dx_2[i])*w_22_f_1+(x_4[i]+a*dx_4[i])*w_32_f_1))))))^2)*w_12_f_0)/(1+exp(-(b_2_f_0+1/(1+exp(-b_0_f_1+\n",
        "      w_1_f_1*(1/(1+exp(-(b_1_f_1+(x_1[i]+a*dx_1[i])*w_11_f_1+(x_2[i]+a*dx_2[i])*w_21_f_1+(x_4[i]+a*dx_4[i])*w_31_f_1))))+w_2_f_1*(1/(1+exp(-(b_2_f_1+(x_1[i]+a*dx_1[i])*w_12_f_1+(x_2[i]+a*dx_2[i])*w_22_f_1+\n",
        "      (x_4[i]+a*dx_4[i])*w_32_f_1))))))*w_12_f_0+1/(1+exp(-b_0_f_2+w_1_f_2*(1/(1+exp(-(b_1_f_2+(x_3[i]+a*dx_3[i])*w_11_f_2+(x_5[i]+a*dx_5[i])*w_21_f_2))))))*w_22_f_0)))^2))/(1+exp(-b_0_f_0+w_1_f_0*(1/(1+\n",
        "      exp(-(b_1_f_0+1/(1+exp(-b_0_f_1+w_1_f_1*(1/(1+exp(-(b_1_f_1+(x_1[i]+a*dx_1[i])*w_11_f_1+(x_2[i]+a*dx_2[i])*w_21_f_1+(x_4[i]+a*dx_4[i])*w_31_f_1))))+w_2_f_1*(1/(1+exp(-(b_2_f_1+(x_1[i]+a*dx_1[i])*w_12_f_1+\n",
        "      (x_2[i]+a*dx_2[i])*w_22_f_1+(x_4[i]+a*dx_4[i])*w_32_f_1))))))*w_11_f_0+1/(1+exp(-b_0_f_2+w_1_f_2*(1/(1+exp(-(b_1_f_2+(x_3[i]+a*dx_3[i])*w_11_f_2+(x_5[i]+a*dx_5[i])*w_21_f_2))))))*w_21_f_0))))+w_2_f_0*(1/(1+\n",
        "      exp(-(b_2_f_0+1/(1+exp(-b_0_f_1+w_1_f_1*(1/(1+exp(-(b_1_f_1+(x_1[i]+a*dx_1[i])*w_11_f_1+(x_2[i]+a*dx_2[i])*w_21_f_1+(x_4[i]+a*dx_4[i])*w_31_f_1))))+w_2_f_1*(1/(1+exp(-(b_2_f_1+(x_1[i]+a*dx_1[i])*w_12_f_1+\n",
        "      (x_2[i]+a*dx_2[i])*w_22_f_1+(x_4[i]+a*dx_4[i])*w_32_f_1))))))*w_12_f_0+1/(1+exp(-b_0_f_2+w_1_f_2*(1/(1+exp(-(b_1_f_2+(x_3[i]+a*dx_3[i])*w_11_f_2+(x_5[i]+a*dx_5[i])*w_21_f_2))))))*w_22_f_0))))))^2))*dx_4[i]\n",
        "+(-(exp(-b_0_f_0+w_1_f_0*(1/(1+exp(-(b_1_f_0+1/(1+exp(-b_0_f_1+w_1_f_1*(1/(1+exp(-(b_1_f_1+(x_1[i]+a*dx_1[i])*w_11_f_1+(x_2[i]+a*dx_2[i])*w_21_f_1+(x_4[i]+a*dx_4[i])*w_31_f_1))))+\n",
        "  w_2_f_1*(1/(1+exp(-(b_2_f_1+(x_1[i]+a*dx_1[i])*w_12_f_1+(x_2[i]+a*dx_2[i])*w_22_f_1+(x_4[i]+a*dx_4[i])*w_32_f_1))))))*w_11_f_0+1/(1+exp(-b_0_f_2+w_1_f_2*(1/(1+exp(-(b_1_f_2+(x_3[i]+a*dx_3[i])*w_11_f_2+\n",
        "  (x_5[i]+a*dx_5[i])*w_21_f_2))))))*w_21_f_0))))+w_2_f_0*(1/(1+exp(-(b_2_f_0+1/(1+exp(-b_0_f_1+w_1_f_1*(1/(1+exp(-(b_1_f_1+(x_1[i]+a*dx_1[i])*w_11_f_1+(x_2[i]+a*dx_2[i])*w_21_f_1+(x_4[i]+a*dx_4[i])*w_31_f_1))))+\n",
        "  w_2_f_1*(1/(1+exp(-(b_2_f_1+(x_1[i]+a*dx_1[i])*w_12_f_1+(x_2[i]+a*dx_2[i])*w_22_f_1+(x_4[i]+a*dx_4[i])*w_32_f_1))))))*w_12_f_0+1/(1+exp(-b_0_f_2+w_1_f_2*(1/(1+exp(-(b_1_f_2+(x_3[i]+a*dx_3[i])*w_11_f_2+\n",
        "  (x_5[i]+a*dx_5[i])*w_21_f_2))))))*w_22_f_0)))))*(w_1_f_0*-(exp(-(b_1_f_0+1/(1+exp(-b_0_f_1+w_1_f_1*(1/(1+exp(-(b_1_f_1+(x_1[i]+a*dx_1[i])*w_11_f_1+(x_2[i]+a*dx_2[i])*w_21_f_1+(x_4[i]+a*dx_4[i])*w_31_f_1))))+\n",
        "  w_2_f_1*(1/(1+exp(-(b_2_f_1+(x_1[i]+a*dx_1[i])*w_12_f_1+(x_2[i]+a*dx_2[i])*w_22_f_1+(x_4[i]+a*dx_4[i])*w_32_f_1))))))*w_11_f_0+1/(1+exp(-b_0_f_2+w_1_f_2*(1/(1+exp(-(b_1_f_2+(x_3[i]+a*dx_3[i])*w_11_f_2+\n",
        "  (x_5[i]+a*dx_5[i])*w_21_f_2))))))*w_21_f_0))*-(-(exp(-b_0_f_2+w_1_f_2*(1/(1+exp(-(b_1_f_2+(x_3[i]+a*dx_3[i])*w_11_f_2+(x_5[i]+a*dx_5[i])*w_21_f_2)))))*(w_1_f_2*-(exp(-(b_1_f_2+(x_3[i]+a*dx_3[i])*w_11_f_2+\n",
        "  (x_5[i]+a*dx_5[i])*w_21_f_2))*-w_21_f_2/(1+exp(-(b_1_f_2+(x_3[i]+a*dx_3[i])*w_11_f_2+(x_5[i]+a*dx_5[i])*w_21_f_2)))^2))/(1+exp(-b_0_f_2+w_1_f_2*(1/(1+exp(-(b_1_f_2+(x_3[i]+a*dx_3[i])*w_11_f_2+(x_5[i]+\n",
        "  a*dx_5[i])*w_21_f_2))))))^2)*w_21_f_0)/(1+exp(-(b_1_f_0+1/(1+exp(-b_0_f_1+w_1_f_1*(1/(1+exp(-(b_1_f_1+(x_1[i]+a*dx_1[i])*w_11_f_1+(x_2[i]+a*dx_2[i])*w_21_f_1+(x_4[i]+a*dx_4[i])*w_31_f_1))))+\n",
        "  w_2_f_1*(1/(1+exp(-(b_2_f_1+(x_1[i]+a*dx_1[i])*w_12_f_1+(x_2[i]+a*dx_2[i])*w_22_f_1+(x_4[i]+a*dx_4[i])*w_32_f_1))))))*w_11_f_0+1/(1+exp(-b_0_f_2+w_1_f_2*(1/(1+exp(-(b_1_f_2+(x_3[i]+a*dx_3[i])*w_11_f_2+\n",
        "  (x_5[i]+a*dx_5[i])*w_21_f_2))))))*w_21_f_0)))^2)+w_2_f_0*-(exp(-(b_2_f_0+1/(1+exp(-b_0_f_1+w_1_f_1*(1/(1+exp(-(b_1_f_1+(x_1[i]+a*dx_1[i])*w_11_f_1+(x_2[i]+a*dx_2[i])*w_21_f_1+(x_4[i]+a*dx_4[i])*w_31_f_1))))+\n",
        "  w_2_f_1*(1/(1+exp(-(b_2_f_1+(x_1[i]+a*dx_1[i])*w_12_f_1+(x_2[i]+a*dx_2[i])*w_22_f_1+(x_4[i]+a*dx_4[i])*w_32_f_1))))))*w_12_f_0+1/(1+exp(-b_0_f_2+w_1_f_2*(1/(1+exp(-(b_1_f_2+(x_3[i]+a*dx_3[i])*w_11_f_2+\n",
        "  (x_5[i]+a*dx_5[i])*w_21_f_2))))))*w_22_f_0))*-(-(exp(-b_0_f_2+w_1_f_2*(1/(1+exp(-(b_1_f_2+(x_3[i]+a*dx_3[i])*w_11_f_2+(x_5[i]+a*dx_5[i])*w_21_f_2)))))*(w_1_f_2*-(exp(-(b_1_f_2+(x_3[i]+a*dx_3[i])*w_11_f_2+\n",
        "  (x_5[i]+a*dx_5[i])*w_21_f_2))*-w_21_f_2/(1+exp(-(b_1_f_2+(x_3[i]+a*dx_3[i])*w_11_f_2+(x_5[i]+a*dx_5[i])*w_21_f_2)))^2))/(1+exp(-b_0_f_2+w_1_f_2*(1/(1+exp(-(b_1_f_2+(x_3[i]+a*dx_3[i])*w_11_f_2+(x_5[i]+\n",
        "  a*dx_5[i])*w_21_f_2))))))^2)*w_22_f_0)/(1+exp(-(b_2_f_0+1/(1+exp(-b_0_f_1+w_1_f_1*(1/(1+exp(-(b_1_f_1+(x_1[i]+a*dx_1[i])*w_11_f_1+(x_2[i]+a*dx_2[i])*w_21_f_1+(x_4[i]+a*dx_4[i])*w_31_f_1))))+w_2_f_1*(1/(1+\n",
        "  exp(-(b_2_f_1+(x_1[i]+a*dx_1[i])*w_12_f_1+(x_2[i]+a*dx_2[i])*w_22_f_1+(x_4[i]+a*dx_4[i])*w_32_f_1))))))*w_12_f_0+1/(1+exp(-b_0_f_2+w_1_f_2*(1/(1+exp(-(b_1_f_2+(x_3[i]+a*dx_3[i])*w_11_f_2+(x_5[i]+\n",
        "  a*dx_5[i])*w_21_f_2))))))*w_22_f_0)))^2))/(1+exp(-b_0_f_0+w_1_f_0*(1/(1+exp(-(b_1_f_0+1/(1+exp(-b_0_f_1+w_1_f_1*(1/(1+exp(-(b_1_f_1+(x_1[i]+a*dx_1[i])*w_11_f_1+(x_2[i]+a*dx_2[i])*w_21_f_1+(x_4[i]+\n",
        "  a*dx_4[i])*w_31_f_1))))+w_2_f_1*(1/(1+exp(-(b_2_f_1+(x_1[i]+a*dx_1[i])*w_12_f_1+(x_2[i]+a*dx_2[i])*w_22_f_1+(x_4[i]+a*dx_4[i])*w_32_f_1))))))*w_11_f_0+1/(1+exp(-b_0_f_2+w_1_f_2*(1/(1+exp(-(b_1_f_2+\n",
        "  (x_3[i]+a*dx_3[i])*w_11_f_2+(x_5[i]+a*dx_5[i])*w_21_f_2))))))*w_21_f_0))))+w_2_f_0*(1/(1+exp(-(b_2_f_0+1/(1+exp(-b_0_f_1+w_1_f_1*(1/(1+exp(-(b_1_f_1+(x_1[i]+a*dx_1[i])*w_11_f_1+(x_2[i]+a*dx_2[i])*w_21_f_1+\n",
        "  (x_4[i]+a*dx_4[i])*w_31_f_1))))+w_2_f_1*(1/(1+exp(-(b_2_f_1+(x_1[i]+a*dx_1[i])*w_12_f_1+(x_2[i]+a*dx_2[i])*w_22_f_1+(x_4[i]+a*dx_4[i])*w_32_f_1))))))*w_12_f_0+1/(1+exp(-b_0_f_2+w_1_f_2*(1/(1+exp(-(b_1_f_2+\n",
        "  (x_3[i]+a*dx_3[i])*w_11_f_2+(x_5[i]+a*dx_5[i])*w_21_f_2))))))*w_22_f_0))))))^2))*dx_5[i])\n",
        "  }\n",
        "alpha[i] <-  optimize(func, c(0, 1), tol = 0.1)$`minimum`;\n",
        "\t\t\t\talpha[i] <- as.data.frame(alpha[i])[1,]\n",
        "}"
      ],
      "metadata": {
        "id": "D4utSAOQD_sc"
      },
      "execution_count": null,
      "outputs": []
    }
  ]
}
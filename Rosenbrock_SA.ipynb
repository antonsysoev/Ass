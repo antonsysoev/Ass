{
  "nbformat": 4,
  "nbformat_minor": 0,
  "metadata": {
    "colab": {
      "provenance": [],
      "authorship_tag": "ABX9TyNO2SDN6UnpmfxE/KdxSwTs",
      "include_colab_link": true
    },
    "kernelspec": {
      "name": "ir",
      "display_name": "R"
    },
    "language_info": {
      "name": "R"
    }
  },
  "cells": [
    {
      "cell_type": "markdown",
      "metadata": {
        "id": "view-in-github",
        "colab_type": "text"
      },
      "source": [
        "<a href=\"https://colab.research.google.com/github/antonsysoev/Ass/blob/main/Rosenbrock_SA.ipynb\" target=\"_parent\"><img src=\"https://colab.research.google.com/assets/colab-badge.svg\" alt=\"Open In Colab\"/></a>"
      ]
    },
    {
      "cell_type": "code",
      "execution_count": 1,
      "metadata": {
        "colab": {
          "base_uri": "https://localhost:8080/"
        },
        "id": "0uKM7bcg_5Ra",
        "outputId": "afe0d115-a900-4bdf-f6fe-9e9348dc0b8e"
      },
      "outputs": [
        {
          "output_type": "stream",
          "name": "stderr",
          "text": [
            "Installing package into ‘/usr/local/lib/R/site-library’\n",
            "(as ‘lib’ is unspecified)\n",
            "\n",
            "also installing the dependency ‘Deriv’\n",
            "\n",
            "\n",
            "Installing package into ‘/usr/local/lib/R/site-library’\n",
            "(as ‘lib’ is unspecified)\n",
            "\n",
            "also installing the dependencies ‘plyr’, ‘reshape2’\n",
            "\n",
            "\n"
          ]
        }
      ],
      "source": [
        "install.packages('neuralnet')\n",
        "install.packages('NeuralNetTools')\n",
        "library(nnet)\n",
        "library(neuralnet)\n",
        "library(NeuralNetTools)"
      ]
    },
    {
      "cell_type": "code",
      "source": [
        "rosenbrock <- function(x1,x2){\n",
        "  return(10*x1+0.2*x2^3)\n",
        "}"
      ],
      "metadata": {
        "id": "RvNouy6E_9ri"
      },
      "execution_count": 55,
      "outputs": []
    },
    {
      "cell_type": "code",
      "source": [
        "n <- 2\n",
        "l <- rep(list((0:10)), n)\n",
        "\n",
        "x <- expand.grid(l)\n",
        "x$Var1"
      ],
      "metadata": {
        "colab": {
          "base_uri": "https://localhost:8080/",
          "height": 52
        },
        "id": "L0zyItGKAP5z",
        "outputId": "4f6f5823-55b1-4b2c-bbf1-aa160ac03324"
      },
      "execution_count": 45,
      "outputs": [
        {
          "output_type": "display_data",
          "data": {
            "text/html": [
              "<style>\n",
              ".list-inline {list-style: none; margin:0; padding: 0}\n",
              ".list-inline>li {display: inline-block}\n",
              ".list-inline>li:not(:last-child)::after {content: \"\\00b7\"; padding: 0 .5ex}\n",
              "</style>\n",
              "<ol class=list-inline><li>0</li><li>1</li><li>2</li><li>3</li><li>4</li><li>5</li><li>6</li><li>7</li><li>8</li><li>9</li><li>10</li><li>0</li><li>1</li><li>2</li><li>3</li><li>4</li><li>5</li><li>6</li><li>7</li><li>8</li><li>9</li><li>10</li><li>0</li><li>1</li><li>2</li><li>3</li><li>4</li><li>5</li><li>6</li><li>7</li><li>8</li><li>9</li><li>10</li><li>0</li><li>1</li><li>2</li><li>3</li><li>4</li><li>5</li><li>6</li><li>7</li><li>8</li><li>9</li><li>10</li><li>0</li><li>1</li><li>2</li><li>3</li><li>4</li><li>5</li><li>6</li><li>7</li><li>8</li><li>9</li><li>10</li><li>0</li><li>1</li><li>2</li><li>3</li><li>4</li><li>5</li><li>6</li><li>7</li><li>8</li><li>9</li><li>10</li><li>0</li><li>1</li><li>2</li><li>3</li><li>4</li><li>5</li><li>6</li><li>7</li><li>8</li><li>9</li><li>10</li><li>0</li><li>1</li><li>2</li><li>3</li><li>4</li><li>5</li><li>6</li><li>7</li><li>8</li><li>9</li><li>10</li><li>0</li><li>1</li><li>2</li><li>3</li><li>4</li><li>5</li><li>6</li><li>7</li><li>8</li><li>9</li><li>10</li><li>0</li><li>1</li><li>2</li><li>3</li><li>4</li><li>5</li><li>6</li><li>7</li><li>8</li><li>9</li><li>10</li><li>0</li><li>1</li><li>2</li><li>3</li><li>4</li><li>5</li><li>6</li><li>7</li><li>8</li><li>9</li><li>10</li></ol>\n"
            ],
            "text/markdown": "1. 0\n2. 1\n3. 2\n4. 3\n5. 4\n6. 5\n7. 6\n8. 7\n9. 8\n10. 9\n11. 10\n12. 0\n13. 1\n14. 2\n15. 3\n16. 4\n17. 5\n18. 6\n19. 7\n20. 8\n21. 9\n22. 10\n23. 0\n24. 1\n25. 2\n26. 3\n27. 4\n28. 5\n29. 6\n30. 7\n31. 8\n32. 9\n33. 10\n34. 0\n35. 1\n36. 2\n37. 3\n38. 4\n39. 5\n40. 6\n41. 7\n42. 8\n43. 9\n44. 10\n45. 0\n46. 1\n47. 2\n48. 3\n49. 4\n50. 5\n51. 6\n52. 7\n53. 8\n54. 9\n55. 10\n56. 0\n57. 1\n58. 2\n59. 3\n60. 4\n61. 5\n62. 6\n63. 7\n64. 8\n65. 9\n66. 10\n67. 0\n68. 1\n69. 2\n70. 3\n71. 4\n72. 5\n73. 6\n74. 7\n75. 8\n76. 9\n77. 10\n78. 0\n79. 1\n80. 2\n81. 3\n82. 4\n83. 5\n84. 6\n85. 7\n86. 8\n87. 9\n88. 10\n89. 0\n90. 1\n91. 2\n92. 3\n93. 4\n94. 5\n95. 6\n96. 7\n97. 8\n98. 9\n99. 10\n100. 0\n101. 1\n102. 2\n103. 3\n104. 4\n105. 5\n106. 6\n107. 7\n108. 8\n109. 9\n110. 10\n111. 0\n112. 1\n113. 2\n114. 3\n115. 4\n116. 5\n117. 6\n118. 7\n119. 8\n120. 9\n121. 10\n\n\n",
            "text/latex": "\\begin{enumerate*}\n\\item 0\n\\item 1\n\\item 2\n\\item 3\n\\item 4\n\\item 5\n\\item 6\n\\item 7\n\\item 8\n\\item 9\n\\item 10\n\\item 0\n\\item 1\n\\item 2\n\\item 3\n\\item 4\n\\item 5\n\\item 6\n\\item 7\n\\item 8\n\\item 9\n\\item 10\n\\item 0\n\\item 1\n\\item 2\n\\item 3\n\\item 4\n\\item 5\n\\item 6\n\\item 7\n\\item 8\n\\item 9\n\\item 10\n\\item 0\n\\item 1\n\\item 2\n\\item 3\n\\item 4\n\\item 5\n\\item 6\n\\item 7\n\\item 8\n\\item 9\n\\item 10\n\\item 0\n\\item 1\n\\item 2\n\\item 3\n\\item 4\n\\item 5\n\\item 6\n\\item 7\n\\item 8\n\\item 9\n\\item 10\n\\item 0\n\\item 1\n\\item 2\n\\item 3\n\\item 4\n\\item 5\n\\item 6\n\\item 7\n\\item 8\n\\item 9\n\\item 10\n\\item 0\n\\item 1\n\\item 2\n\\item 3\n\\item 4\n\\item 5\n\\item 6\n\\item 7\n\\item 8\n\\item 9\n\\item 10\n\\item 0\n\\item 1\n\\item 2\n\\item 3\n\\item 4\n\\item 5\n\\item 6\n\\item 7\n\\item 8\n\\item 9\n\\item 10\n\\item 0\n\\item 1\n\\item 2\n\\item 3\n\\item 4\n\\item 5\n\\item 6\n\\item 7\n\\item 8\n\\item 9\n\\item 10\n\\item 0\n\\item 1\n\\item 2\n\\item 3\n\\item 4\n\\item 5\n\\item 6\n\\item 7\n\\item 8\n\\item 9\n\\item 10\n\\item 0\n\\item 1\n\\item 2\n\\item 3\n\\item 4\n\\item 5\n\\item 6\n\\item 7\n\\item 8\n\\item 9\n\\item 10\n\\end{enumerate*}\n",
            "text/plain": [
              "  [1]  0  1  2  3  4  5  6  7  8  9 10  0  1  2  3  4  5  6  7  8  9 10  0  1  2\n",
              " [26]  3  4  5  6  7  8  9 10  0  1  2  3  4  5  6  7  8  9 10  0  1  2  3  4  5\n",
              " [51]  6  7  8  9 10  0  1  2  3  4  5  6  7  8  9 10  0  1  2  3  4  5  6  7  8\n",
              " [76]  9 10  0  1  2  3  4  5  6  7  8  9 10  0  1  2  3  4  5  6  7  8  9 10  0\n",
              "[101]  1  2  3  4  5  6  7  8  9 10  0  1  2  3  4  5  6  7  8  9 10"
            ]
          },
          "metadata": {}
        }
      ]
    },
    {
      "cell_type": "code",
      "source": [
        "model_rosenbrock <- rosenbrock(x$Var1, x$Var2)"
      ],
      "metadata": {
        "id": "r8EL34h2B_2s"
      },
      "execution_count": 46,
      "outputs": []
    },
    {
      "cell_type": "code",
      "source": [
        "mod <- x\n",
        "mod$y <- model_rosenbrock"
      ],
      "metadata": {
        "id": "fllWYIDyCHjT"
      },
      "execution_count": 47,
      "outputs": []
    },
    {
      "cell_type": "code",
      "source": [
        "install.packages(\"nlsr\")\n",
        "library(nlsr)"
      ],
      "metadata": {
        "colab": {
          "base_uri": "https://localhost:8080/"
        },
        "id": "OwKg1U_AC3i_",
        "outputId": "f16c245d-da47-4b49-ed8a-070ffce97515"
      },
      "execution_count": 38,
      "outputs": [
        {
          "output_type": "stream",
          "name": "stderr",
          "text": [
            "Installing package into ‘/usr/local/lib/R/site-library’\n",
            "(as ‘lib’ is unspecified)\n",
            "\n"
          ]
        }
      ]
    },
    {
      "cell_type": "code",
      "source": [
        "dx <- as.expression(nlsDeriv(~ (100*(x_2-x_1)^2+(1-x_1)^2), \"x_2\"))"
      ],
      "metadata": {
        "id": "X7KWJ2PVDYxW"
      },
      "execution_count": 39,
      "outputs": []
    },
    {
      "cell_type": "code",
      "source": [
        "dx"
      ],
      "metadata": {
        "colab": {
          "base_uri": "https://localhost:8080/",
          "height": 34
        },
        "id": "lFtMS2LFDjgv",
        "outputId": "b3620e8c-da5d-440c-844b-7ba6288afac7"
      },
      "execution_count": 40,
      "outputs": [
        {
          "output_type": "display_data",
          "data": {
            "text/plain": [
              "expression(100 * (2 * (x_2 - x_1)))"
            ]
          },
          "metadata": {}
        }
      ]
    },
    {
      "cell_type": "code",
      "source": [
        "alpha <- 0\n",
        "znach_1 <- 0\n",
        "znach_2 <- 0\n",
        "\n",
        "\n",
        "for(i in 2:length(mod$Var1)){\n",
        "\t\t\t\tx_1 = mod$Var1[i-1];\n",
        "\t\t\t\tx_2 = mod$Var2[i-1];\n",
        "\t\t\t\tdx_1 = mod$Var1[i]-mod$Var1[i-1];\n",
        "\t\t\t\tdx_2 = mod$Var2[i]-mod$Var2[i-1];\n",
        "\n",
        "\n",
        "func <- function(a){\n",
        "      1*((x_2+dx_2)-(x_1+dx_1))^2+(1-(x_1+dx_1))^2 - (1 * (2 * (x_2 - x_1))) -\n",
        "      (1 * -(2 * ((x_2+a*dx_2) - (x_1+a*dx_1))) + -(2 * (1 - (x_1+a*dx_1))))*dx_1 -\n",
        "      (1 * (2 * ((x_2+a*dx_2) - (x_1+a*dx_1))))*dx_2\n",
        "  }\n",
        "alpha[i] <-  optimize(func, c(0, 1), tol = 0.1)$`minimum`;\n",
        "\t\t\t\talpha[i] <- as.data.frame(alpha[i])[1,]\n",
        "\n",
        "        znach_1[i] <- 1 * -(2 * ((x_2+alpha[i]*dx_2) - (x_1+alpha[i]*dx_1))) + -(2 * (1 - (x_1+alpha[i]*dx_1)))\n",
        "        znach_2[i] <- 1 * (2 * ((x_2+alpha[i]*dx_2) - (x_1+alpha[i]*dx_1)))\n",
        "}"
      ],
      "metadata": {
        "id": "D4utSAOQD_sc"
      },
      "execution_count": 51,
      "outputs": []
    },
    {
      "cell_type": "code",
      "source": [
        "res_1=data.frame(X_1 = mean(znach_1[2:length(znach_1)]), X_2 = mean(znach_2[2:length(znach_2)]))"
      ],
      "metadata": {
        "id": "Q0M4MpP3zAYt"
      },
      "execution_count": 52,
      "outputs": []
    },
    {
      "cell_type": "code",
      "source": [
        "res_1"
      ],
      "metadata": {
        "colab": {
          "base_uri": "https://localhost:8080/",
          "height": 129
        },
        "id": "e99tK12FzCKt",
        "outputId": "ea29510f-a52e-4083-f963-f097ecaa3628"
      },
      "execution_count": 53,
      "outputs": [
        {
          "output_type": "display_data",
          "data": {
            "text/html": [
              "<table class=\"dataframe\">\n",
              "<caption>A data.frame: 1 × 2</caption>\n",
              "<thead>\n",
              "\t<tr><th scope=col>X_1</th><th scope=col>X_2</th></tr>\n",
              "\t<tr><th scope=col>&lt;dbl&gt;</th><th scope=col>&lt;dbl&gt;</th></tr>\n",
              "</thead>\n",
              "<tbody>\n",
              "\t<tr><td>8.074045</td><td>-4.340645e-16</td></tr>\n",
              "</tbody>\n",
              "</table>\n"
            ],
            "text/markdown": "\nA data.frame: 1 × 2\n\n| X_1 &lt;dbl&gt; | X_2 &lt;dbl&gt; |\n|---|---|\n| 8.074045 | -4.340645e-16 |\n\n",
            "text/latex": "A data.frame: 1 × 2\n\\begin{tabular}{ll}\n X\\_1 & X\\_2\\\\\n <dbl> & <dbl>\\\\\n\\hline\n\t 8.074045 & -4.340645e-16\\\\\n\\end{tabular}\n",
            "text/plain": [
              "  X_1      X_2          \n",
              "1 8.074045 -4.340645e-16"
            ]
          },
          "metadata": {}
        }
      ]
    },
    {
      "cell_type": "code",
      "source": [
        "data.frame(X_1 = mean(znach_1[2:length(znach_1)])/(res_1$X_1+res_1$X_2), X_2 = mean(znach_2[2:length(znach_2)])/(res_1$X_1+res_1$X_2))"
      ],
      "metadata": {
        "colab": {
          "base_uri": "https://localhost:8080/",
          "height": 129
        },
        "id": "Wi_JCLtUz4-_",
        "outputId": "344fc624-a68c-466e-aa9b-017e01d9e1d3"
      },
      "execution_count": 54,
      "outputs": [
        {
          "output_type": "display_data",
          "data": {
            "text/html": [
              "<table class=\"dataframe\">\n",
              "<caption>A data.frame: 1 × 2</caption>\n",
              "<thead>\n",
              "\t<tr><th scope=col>X_1</th><th scope=col>X_2</th></tr>\n",
              "\t<tr><th scope=col>&lt;dbl&gt;</th><th scope=col>&lt;dbl&gt;</th></tr>\n",
              "</thead>\n",
              "<tbody>\n",
              "\t<tr><td>1</td><td>-5.376047e-17</td></tr>\n",
              "</tbody>\n",
              "</table>\n"
            ],
            "text/markdown": "\nA data.frame: 1 × 2\n\n| X_1 &lt;dbl&gt; | X_2 &lt;dbl&gt; |\n|---|---|\n| 1 | -5.376047e-17 |\n\n",
            "text/latex": "A data.frame: 1 × 2\n\\begin{tabular}{ll}\n X\\_1 & X\\_2\\\\\n <dbl> & <dbl>\\\\\n\\hline\n\t 1 & -5.376047e-17\\\\\n\\end{tabular}\n",
            "text/plain": [
              "  X_1 X_2          \n",
              "1 1   -5.376047e-17"
            ]
          },
          "metadata": {}
        }
      ]
    },
    {
      "cell_type": "code",
      "source": [],
      "metadata": {
        "id": "ceSP24TE00I1"
      },
      "execution_count": null,
      "outputs": []
    }
  ]
}
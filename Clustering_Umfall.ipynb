{
  "nbformat": 4,
  "nbformat_minor": 0,
  "metadata": {
    "colab": {
      "name": "Clustering_Umfall.ipynb",
      "provenance": [],
      "authorship_tag": "ABX9TyO29qByUdmGNIp/RmdMy6O0",
      "include_colab_link": true
    },
    "kernelspec": {
      "name": "python3",
      "display_name": "Python 3"
    },
    "language_info": {
      "name": "python"
    },
    "accelerator": "TPU"
  },
  "cells": [
    {
      "cell_type": "markdown",
      "metadata": {
        "id": "view-in-github",
        "colab_type": "text"
      },
      "source": [
        "<a href=\"https://colab.research.google.com/github/antonsysoev/Ass/blob/main/Clustering_Umfall.ipynb\" target=\"_parent\"><img src=\"https://colab.research.google.com/assets/colab-badge.svg\" alt=\"Open In Colab\"/></a>"
      ]
    },
    {
      "cell_type": "code",
      "metadata": {
        "id": "SezgN2HeRbFK"
      },
      "source": [
        "%load_ext rpy2.ipython"
      ],
      "execution_count": 1,
      "outputs": []
    },
    {
      "cell_type": "code",
      "metadata": {
        "colab": {
          "base_uri": "https://localhost:8080/"
        },
        "id": "vdlv0MmGu56i",
        "outputId": "a96cb362-c4ec-4336-c88b-52c0fe5411ff"
      },
      "source": [
        "%%R\n",
        "library(tidyverse)  # data manipulation\n",
        "library(cluster)    # clustering algorithms\n",
        "#library(factoextra) # clustering algorithms & visualization"
      ],
      "execution_count": 2,
      "outputs": [
        {
          "output_type": "stream",
          "name": "stderr",
          "text": [
            "R[write to console]: ── Attaching packages ─────────────────────────────────────── tidyverse 1.3.1 ──\n",
            "\n",
            "R[write to console]: ✔ ggplot2 3.3.5     ✔ purrr   0.3.4\n",
            "✔ tibble  3.1.5     ✔ dplyr   1.0.7\n",
            "✔ tidyr   1.1.4     ✔ stringr 1.4.0\n",
            "✔ readr   2.0.2     ✔ forcats 0.5.1\n",
            "\n",
            "R[write to console]: ── Conflicts ────────────────────────────────────────── tidyverse_conflicts() ──\n",
            "✖ dplyr::filter() masks stats::filter()\n",
            "✖ dplyr::lag()    masks stats::lag()\n",
            "\n"
          ]
        }
      ]
    },
    {
      "cell_type": "code",
      "metadata": {
        "id": "C2Y7DMrsxHc4"
      },
      "source": [
        "%%R\n",
        "library(\"readxl\")"
      ],
      "execution_count": 3,
      "outputs": []
    },
    {
      "cell_type": "code",
      "metadata": {
        "id": "DJV8lTBFlE7C"
      },
      "source": [
        "%%R\n",
        "\n",
        "my_data_xlsx <- na.omit(read_excel(\"/content/Alle_Umfall_2910.xlsx\"))"
      ],
      "execution_count": 4,
      "outputs": []
    },
    {
      "cell_type": "code",
      "metadata": {
        "colab": {
          "base_uri": "https://localhost:8080/"
        },
        "id": "Bxf6Ft1JlqqV",
        "outputId": "2b0067f1-3766-4383-931a-d41d773c9102"
      },
      "source": [
        "%%R\n",
        "\n",
        "summary(my_data_xlsx)"
      ],
      "execution_count": 5,
      "outputs": [
        {
          "output_type": "stream",
          "name": "stdout",
          "text": [
            "    Vid_DTP            Pol        Sotsialnaya_harakteristika\n",
            " Min.   : 1.000   Min.   :1.000   Min.   : 1.000            \n",
            " 1st Qu.: 1.000   1st Qu.:1.000   1st Qu.: 1.000            \n",
            " Median : 1.000   Median :1.000   Median : 1.000            \n",
            " Mean   : 1.474   Mean   :1.187   Mean   : 2.711            \n",
            " 3rd Qu.: 2.000   3rd Qu.:1.000   3rd Qu.: 2.000            \n",
            " Max.   :11.000   Max.   :2.000   Max.   :38.000            \n",
            " Neposredstvennye_narusheniya_PDD Soputstvuyushchie_narusheniya_PDD\n",
            " Min.   : 1.000                   Min.   : 1.000                   \n",
            " 1st Qu.: 2.000                   1st Qu.: 2.000                   \n",
            " Median : 2.000                   Median : 2.000                   \n",
            " Mean   : 3.199                   Mean   : 3.419                   \n",
            " 3rd Qu.: 4.000                   3rd Qu.: 2.000                   \n",
            " Max.   :24.000                   Max.   :32.000                   \n",
            "     Stazh          Vozrast     \n",
            " Min.   : 0.00   Min.   :14.35  \n",
            " 1st Qu.: 5.00   1st Qu.:26.18  \n",
            " Median :11.00   Median :32.24  \n",
            " Mean   :13.44   Mean   :34.82  \n",
            " 3rd Qu.:19.00   3rd Qu.:41.65  \n",
            " Max.   :73.00   Max.   :86.84  \n"
          ]
        }
      ]
    },
    {
      "cell_type": "code",
      "metadata": {
        "colab": {
          "base_uri": "https://localhost:8080/"
        },
        "id": "GrMPQte1k1zN",
        "outputId": "59085f70-c7eb-4667-86c6-d8e625e23f89"
      },
      "source": [
        "%%R\n",
        "\n",
        "summary(my_data_xlsx)"
      ],
      "execution_count": null,
      "outputs": [
        {
          "output_type": "stream",
          "name": "stdout",
          "text": [
            "    Vid dtp            Pol        Soc.harakteristika\n",
            " Min.   : 1.000   Min.   :1.000   Min.   : 1.000    \n",
            " 1st Qu.: 1.000   1st Qu.:1.000   1st Qu.: 1.000    \n",
            " Median : 1.000   Median :1.000   Median : 1.000    \n",
            " Mean   : 1.474   Mean   :1.187   Mean   : 2.711    \n",
            " 3rd Qu.: 2.000   3rd Qu.:1.000   3rd Qu.: 2.000    \n",
            " Max.   :11.000   Max.   :2.000   Max.   :38.000    \n",
            " Neposredstvennye narusheniya PDD Soputstvuyushchie narusheniya PDD\n",
            " Min.   : 1.000                   Min.   : 1.000                   \n",
            " 1st Qu.: 2.000                   1st Qu.: 2.000                   \n",
            " Median : 2.000                   Median : 2.000                   \n",
            " Mean   : 3.199                   Mean   : 3.419                   \n",
            " 3rd Qu.: 4.000                   3rd Qu.: 2.000                   \n",
            " Max.   :24.000                   Max.   :32.000                   \n",
            "   Stazh(let)       Vozrast     \n",
            " Min.   : 0.00   Min.   :14.35  \n",
            " 1st Qu.: 5.00   1st Qu.:26.18  \n",
            " Median :11.00   Median :32.24  \n",
            " Mean   :13.44   Mean   :34.82  \n",
            " 3rd Qu.:19.00   3rd Qu.:41.65  \n",
            " Max.   :73.00   Max.   :86.84  \n"
          ]
        }
      ]
    },
    {
      "cell_type": "code",
      "metadata": {
        "id": "qTbd21Vbu92w",
        "colab": {
          "base_uri": "https://localhost:8080/",
          "height": 583
        },
        "outputId": "801278a5-5df1-4873-97db-c359f1770f96"
      },
      "source": [
        "%%R\n",
        "my_data_1 <- read_excel(\"/content/DTP_bez_postr_2019.xlsx\")"
      ],
      "execution_count": null,
      "outputs": [
        {
          "output_type": "stream",
          "name": "stderr",
          "text": [
            "R[write to console]: Error: `path` does not exist: ‘/content/DTP_bez_postr_2019.xlsx’\n",
            "\n"
          ]
        },
        {
          "output_type": "stream",
          "name": "stdout",
          "text": [
            "\n",
            "Error: `path` does not exist: ‘/content/DTP_bez_postr_2019.xlsx’\n"
          ]
        },
        {
          "output_type": "error",
          "ename": "RInterpreterError",
          "evalue": "ignored",
          "traceback": [
            "\u001b[0;31m---------------------------------------------------------------------------\u001b[0m",
            "\u001b[0;31mRRuntimeError\u001b[0m                             Traceback (most recent call last)",
            "\u001b[0;32m/usr/local/lib/python3.7/dist-packages/rpy2/ipython/rmagic.py\u001b[0m in \u001b[0;36meval\u001b[0;34m(self, code)\u001b[0m\n\u001b[1;32m    267\u001b[0m                 \u001b[0;31m# Need the newline in case the last line in code is a comment.\u001b[0m\u001b[0;34m\u001b[0m\u001b[0;34m\u001b[0m\u001b[0;34m\u001b[0m\u001b[0m\n\u001b[0;32m--> 268\u001b[0;31m                 \u001b[0mvalue\u001b[0m\u001b[0;34m,\u001b[0m \u001b[0mvisible\u001b[0m \u001b[0;34m=\u001b[0m \u001b[0mro\u001b[0m\u001b[0;34m.\u001b[0m\u001b[0mr\u001b[0m\u001b[0;34m(\u001b[0m\u001b[0;34m\"withVisible({%s\\n})\"\u001b[0m \u001b[0;34m%\u001b[0m \u001b[0mcode\u001b[0m\u001b[0;34m)\u001b[0m\u001b[0;34m\u001b[0m\u001b[0;34m\u001b[0m\u001b[0m\n\u001b[0m\u001b[1;32m    269\u001b[0m             \u001b[0;32mexcept\u001b[0m \u001b[0;34m(\u001b[0m\u001b[0mri\u001b[0m\u001b[0;34m.\u001b[0m\u001b[0membedded\u001b[0m\u001b[0;34m.\u001b[0m\u001b[0mRRuntimeError\u001b[0m\u001b[0;34m,\u001b[0m \u001b[0mValueError\u001b[0m\u001b[0;34m)\u001b[0m \u001b[0;32mas\u001b[0m \u001b[0mexception\u001b[0m\u001b[0;34m:\u001b[0m\u001b[0;34m\u001b[0m\u001b[0;34m\u001b[0m\u001b[0m\n",
            "\u001b[0;32m/usr/local/lib/python3.7/dist-packages/rpy2/robjects/__init__.py\u001b[0m in \u001b[0;36m__call__\u001b[0;34m(self, string)\u001b[0m\n\u001b[1;32m    437\u001b[0m         \u001b[0mp\u001b[0m \u001b[0;34m=\u001b[0m \u001b[0mrinterface\u001b[0m\u001b[0;34m.\u001b[0m\u001b[0mparse\u001b[0m\u001b[0;34m(\u001b[0m\u001b[0mstring\u001b[0m\u001b[0;34m)\u001b[0m\u001b[0;34m\u001b[0m\u001b[0;34m\u001b[0m\u001b[0m\n\u001b[0;32m--> 438\u001b[0;31m         \u001b[0mres\u001b[0m \u001b[0;34m=\u001b[0m \u001b[0mself\u001b[0m\u001b[0;34m.\u001b[0m\u001b[0meval\u001b[0m\u001b[0;34m(\u001b[0m\u001b[0mp\u001b[0m\u001b[0;34m)\u001b[0m\u001b[0;34m\u001b[0m\u001b[0;34m\u001b[0m\u001b[0m\n\u001b[0m\u001b[1;32m    439\u001b[0m         \u001b[0;32mreturn\u001b[0m \u001b[0mconversion\u001b[0m\u001b[0;34m.\u001b[0m\u001b[0mrpy2py\u001b[0m\u001b[0;34m(\u001b[0m\u001b[0mres\u001b[0m\u001b[0;34m)\u001b[0m\u001b[0;34m\u001b[0m\u001b[0;34m\u001b[0m\u001b[0m\n",
            "\u001b[0;32m/usr/local/lib/python3.7/dist-packages/rpy2/robjects/functions.py\u001b[0m in \u001b[0;36m__call__\u001b[0;34m(self, *args, **kwargs)\u001b[0m\n\u001b[1;32m    198\u001b[0m         return (super(SignatureTranslatedFunction, self)\n\u001b[0;32m--> 199\u001b[0;31m                 .__call__(*args, **kwargs))\n\u001b[0m\u001b[1;32m    200\u001b[0m \u001b[0;34m\u001b[0m\u001b[0m\n",
            "\u001b[0;32m/usr/local/lib/python3.7/dist-packages/rpy2/robjects/functions.py\u001b[0m in \u001b[0;36m__call__\u001b[0;34m(self, *args, **kwargs)\u001b[0m\n\u001b[1;32m    124\u001b[0m                 \u001b[0mnew_kwargs\u001b[0m\u001b[0;34m[\u001b[0m\u001b[0mk\u001b[0m\u001b[0;34m]\u001b[0m \u001b[0;34m=\u001b[0m \u001b[0mconversion\u001b[0m\u001b[0;34m.\u001b[0m\u001b[0mpy2rpy\u001b[0m\u001b[0;34m(\u001b[0m\u001b[0mv\u001b[0m\u001b[0;34m)\u001b[0m\u001b[0;34m\u001b[0m\u001b[0;34m\u001b[0m\u001b[0m\n\u001b[0;32m--> 125\u001b[0;31m         \u001b[0mres\u001b[0m \u001b[0;34m=\u001b[0m \u001b[0msuper\u001b[0m\u001b[0;34m(\u001b[0m\u001b[0mFunction\u001b[0m\u001b[0;34m,\u001b[0m \u001b[0mself\u001b[0m\u001b[0;34m)\u001b[0m\u001b[0;34m.\u001b[0m\u001b[0m__call__\u001b[0m\u001b[0;34m(\u001b[0m\u001b[0;34m*\u001b[0m\u001b[0mnew_args\u001b[0m\u001b[0;34m,\u001b[0m \u001b[0;34m**\u001b[0m\u001b[0mnew_kwargs\u001b[0m\u001b[0;34m)\u001b[0m\u001b[0;34m\u001b[0m\u001b[0;34m\u001b[0m\u001b[0m\n\u001b[0m\u001b[1;32m    126\u001b[0m         \u001b[0mres\u001b[0m \u001b[0;34m=\u001b[0m \u001b[0mconversion\u001b[0m\u001b[0;34m.\u001b[0m\u001b[0mrpy2py\u001b[0m\u001b[0;34m(\u001b[0m\u001b[0mres\u001b[0m\u001b[0;34m)\u001b[0m\u001b[0;34m\u001b[0m\u001b[0;34m\u001b[0m\u001b[0m\n",
            "\u001b[0;32m/usr/local/lib/python3.7/dist-packages/rpy2/rinterface_lib/conversion.py\u001b[0m in \u001b[0;36m_\u001b[0;34m(*args, **kwargs)\u001b[0m\n\u001b[1;32m     44\u001b[0m     \u001b[0;32mdef\u001b[0m \u001b[0m_\u001b[0m\u001b[0;34m(\u001b[0m\u001b[0;34m*\u001b[0m\u001b[0margs\u001b[0m\u001b[0;34m,\u001b[0m \u001b[0;34m**\u001b[0m\u001b[0mkwargs\u001b[0m\u001b[0;34m)\u001b[0m\u001b[0;34m:\u001b[0m\u001b[0;34m\u001b[0m\u001b[0;34m\u001b[0m\u001b[0m\n\u001b[0;32m---> 45\u001b[0;31m         \u001b[0mcdata\u001b[0m \u001b[0;34m=\u001b[0m \u001b[0mfunction\u001b[0m\u001b[0;34m(\u001b[0m\u001b[0;34m*\u001b[0m\u001b[0margs\u001b[0m\u001b[0;34m,\u001b[0m \u001b[0;34m**\u001b[0m\u001b[0mkwargs\u001b[0m\u001b[0;34m)\u001b[0m\u001b[0;34m\u001b[0m\u001b[0;34m\u001b[0m\u001b[0m\n\u001b[0m\u001b[1;32m     46\u001b[0m         \u001b[0;31m# TODO: test cdata is of the expected CType\u001b[0m\u001b[0;34m\u001b[0m\u001b[0;34m\u001b[0m\u001b[0;34m\u001b[0m\u001b[0m\n",
            "\u001b[0;32m/usr/local/lib/python3.7/dist-packages/rpy2/rinterface.py\u001b[0m in \u001b[0;36m__call__\u001b[0;34m(self, *args, **kwargs)\u001b[0m\n\u001b[1;32m    679\u001b[0m             \u001b[0;32mif\u001b[0m \u001b[0merror_occured\u001b[0m\u001b[0;34m[\u001b[0m\u001b[0;36m0\u001b[0m\u001b[0;34m]\u001b[0m\u001b[0;34m:\u001b[0m\u001b[0;34m\u001b[0m\u001b[0;34m\u001b[0m\u001b[0m\n\u001b[0;32m--> 680\u001b[0;31m                 \u001b[0;32mraise\u001b[0m \u001b[0membedded\u001b[0m\u001b[0;34m.\u001b[0m\u001b[0mRRuntimeError\u001b[0m\u001b[0;34m(\u001b[0m\u001b[0m_rinterface\u001b[0m\u001b[0;34m.\u001b[0m\u001b[0m_geterrmessage\u001b[0m\u001b[0;34m(\u001b[0m\u001b[0;34m)\u001b[0m\u001b[0;34m)\u001b[0m\u001b[0;34m\u001b[0m\u001b[0;34m\u001b[0m\u001b[0m\n\u001b[0m\u001b[1;32m    681\u001b[0m         \u001b[0;32mreturn\u001b[0m \u001b[0mres\u001b[0m\u001b[0;34m\u001b[0m\u001b[0;34m\u001b[0m\u001b[0m\n",
            "\u001b[0;31mRRuntimeError\u001b[0m: Error: `path` does not exist: ‘/content/DTP_bez_postr_2019.xlsx’\n",
            "\nDuring handling of the above exception, another exception occurred:\n",
            "\u001b[0;31mRInterpreterError\u001b[0m                         Traceback (most recent call last)",
            "\u001b[0;32m<ipython-input-6-142156eab4b4>\u001b[0m in \u001b[0;36m<module>\u001b[0;34m()\u001b[0m\n\u001b[0;32m----> 1\u001b[0;31m \u001b[0mget_ipython\u001b[0m\u001b[0;34m(\u001b[0m\u001b[0;34m)\u001b[0m\u001b[0;34m.\u001b[0m\u001b[0mrun_cell_magic\u001b[0m\u001b[0;34m(\u001b[0m\u001b[0;34m'R'\u001b[0m\u001b[0;34m,\u001b[0m \u001b[0;34m''\u001b[0m\u001b[0;34m,\u001b[0m \u001b[0;34m'my_data_1 <- read_excel(\"/content/DTP_bez_postr_2019.xlsx\")'\u001b[0m\u001b[0;34m)\u001b[0m\u001b[0;34m\u001b[0m\u001b[0;34m\u001b[0m\u001b[0m\n\u001b[0m",
            "\u001b[0;32m/usr/local/lib/python3.7/dist-packages/IPython/core/interactiveshell.py\u001b[0m in \u001b[0;36mrun_cell_magic\u001b[0;34m(self, magic_name, line, cell)\u001b[0m\n\u001b[1;32m   2115\u001b[0m             \u001b[0mmagic_arg_s\u001b[0m \u001b[0;34m=\u001b[0m \u001b[0mself\u001b[0m\u001b[0;34m.\u001b[0m\u001b[0mvar_expand\u001b[0m\u001b[0;34m(\u001b[0m\u001b[0mline\u001b[0m\u001b[0;34m,\u001b[0m \u001b[0mstack_depth\u001b[0m\u001b[0;34m)\u001b[0m\u001b[0;34m\u001b[0m\u001b[0;34m\u001b[0m\u001b[0m\n\u001b[1;32m   2116\u001b[0m             \u001b[0;32mwith\u001b[0m \u001b[0mself\u001b[0m\u001b[0;34m.\u001b[0m\u001b[0mbuiltin_trap\u001b[0m\u001b[0;34m:\u001b[0m\u001b[0;34m\u001b[0m\u001b[0;34m\u001b[0m\u001b[0m\n\u001b[0;32m-> 2117\u001b[0;31m                 \u001b[0mresult\u001b[0m \u001b[0;34m=\u001b[0m \u001b[0mfn\u001b[0m\u001b[0;34m(\u001b[0m\u001b[0mmagic_arg_s\u001b[0m\u001b[0;34m,\u001b[0m \u001b[0mcell\u001b[0m\u001b[0;34m)\u001b[0m\u001b[0;34m\u001b[0m\u001b[0;34m\u001b[0m\u001b[0m\n\u001b[0m\u001b[1;32m   2118\u001b[0m             \u001b[0;32mreturn\u001b[0m \u001b[0mresult\u001b[0m\u001b[0;34m\u001b[0m\u001b[0;34m\u001b[0m\u001b[0m\n\u001b[1;32m   2119\u001b[0m \u001b[0;34m\u001b[0m\u001b[0m\n",
            "\u001b[0;32m<decorator-gen-119>\u001b[0m in \u001b[0;36mR\u001b[0;34m(self, line, cell, local_ns)\u001b[0m\n",
            "\u001b[0;32m/usr/local/lib/python3.7/dist-packages/IPython/core/magic.py\u001b[0m in \u001b[0;36m<lambda>\u001b[0;34m(f, *a, **k)\u001b[0m\n\u001b[1;32m    186\u001b[0m     \u001b[0;31m# but it's overkill for just that one bit of state.\u001b[0m\u001b[0;34m\u001b[0m\u001b[0;34m\u001b[0m\u001b[0;34m\u001b[0m\u001b[0m\n\u001b[1;32m    187\u001b[0m     \u001b[0;32mdef\u001b[0m \u001b[0mmagic_deco\u001b[0m\u001b[0;34m(\u001b[0m\u001b[0marg\u001b[0m\u001b[0;34m)\u001b[0m\u001b[0;34m:\u001b[0m\u001b[0;34m\u001b[0m\u001b[0;34m\u001b[0m\u001b[0m\n\u001b[0;32m--> 188\u001b[0;31m         \u001b[0mcall\u001b[0m \u001b[0;34m=\u001b[0m \u001b[0;32mlambda\u001b[0m \u001b[0mf\u001b[0m\u001b[0;34m,\u001b[0m \u001b[0;34m*\u001b[0m\u001b[0ma\u001b[0m\u001b[0;34m,\u001b[0m \u001b[0;34m**\u001b[0m\u001b[0mk\u001b[0m\u001b[0;34m:\u001b[0m \u001b[0mf\u001b[0m\u001b[0;34m(\u001b[0m\u001b[0;34m*\u001b[0m\u001b[0ma\u001b[0m\u001b[0;34m,\u001b[0m \u001b[0;34m**\u001b[0m\u001b[0mk\u001b[0m\u001b[0;34m)\u001b[0m\u001b[0;34m\u001b[0m\u001b[0;34m\u001b[0m\u001b[0m\n\u001b[0m\u001b[1;32m    189\u001b[0m \u001b[0;34m\u001b[0m\u001b[0m\n\u001b[1;32m    190\u001b[0m         \u001b[0;32mif\u001b[0m \u001b[0mcallable\u001b[0m\u001b[0;34m(\u001b[0m\u001b[0marg\u001b[0m\u001b[0;34m)\u001b[0m\u001b[0;34m:\u001b[0m\u001b[0;34m\u001b[0m\u001b[0;34m\u001b[0m\u001b[0m\n",
            "\u001b[0;32m/usr/local/lib/python3.7/dist-packages/rpy2/ipython/rmagic.py\u001b[0m in \u001b[0;36mR\u001b[0;34m(self, line, cell, local_ns)\u001b[0m\n\u001b[1;32m    781\u001b[0m             \u001b[0;32mif\u001b[0m \u001b[0;32mnot\u001b[0m \u001b[0me\u001b[0m\u001b[0;34m.\u001b[0m\u001b[0mstdout\u001b[0m\u001b[0;34m.\u001b[0m\u001b[0mendswith\u001b[0m\u001b[0;34m(\u001b[0m\u001b[0me\u001b[0m\u001b[0;34m.\u001b[0m\u001b[0merr\u001b[0m\u001b[0;34m)\u001b[0m\u001b[0;34m:\u001b[0m\u001b[0;34m\u001b[0m\u001b[0;34m\u001b[0m\u001b[0m\n\u001b[1;32m    782\u001b[0m                 \u001b[0mprint\u001b[0m\u001b[0;34m(\u001b[0m\u001b[0me\u001b[0m\u001b[0;34m.\u001b[0m\u001b[0merr\u001b[0m\u001b[0;34m)\u001b[0m\u001b[0;34m\u001b[0m\u001b[0;34m\u001b[0m\u001b[0m\n\u001b[0;32m--> 783\u001b[0;31m             \u001b[0;32mraise\u001b[0m \u001b[0me\u001b[0m\u001b[0;34m\u001b[0m\u001b[0;34m\u001b[0m\u001b[0m\n\u001b[0m\u001b[1;32m    784\u001b[0m         \u001b[0;32mfinally\u001b[0m\u001b[0;34m:\u001b[0m\u001b[0;34m\u001b[0m\u001b[0;34m\u001b[0m\u001b[0m\n\u001b[1;32m    785\u001b[0m             \u001b[0;32mif\u001b[0m \u001b[0mself\u001b[0m\u001b[0;34m.\u001b[0m\u001b[0mdevice\u001b[0m \u001b[0;32min\u001b[0m \u001b[0;34m[\u001b[0m\u001b[0;34m'png'\u001b[0m\u001b[0;34m,\u001b[0m \u001b[0;34m'svg'\u001b[0m\u001b[0;34m]\u001b[0m\u001b[0;34m:\u001b[0m\u001b[0;34m\u001b[0m\u001b[0;34m\u001b[0m\u001b[0m\n",
            "\u001b[0;32m/usr/local/lib/python3.7/dist-packages/rpy2/ipython/rmagic.py\u001b[0m in \u001b[0;36mR\u001b[0;34m(self, line, cell, local_ns)\u001b[0m\n\u001b[1;32m    761\u001b[0m                     \u001b[0mreturn_output\u001b[0m \u001b[0;34m=\u001b[0m \u001b[0;32mFalse\u001b[0m\u001b[0;34m\u001b[0m\u001b[0;34m\u001b[0m\u001b[0m\n\u001b[1;32m    762\u001b[0m             \u001b[0;32melse\u001b[0m\u001b[0;34m:\u001b[0m\u001b[0;34m\u001b[0m\u001b[0;34m\u001b[0m\u001b[0m\n\u001b[0;32m--> 763\u001b[0;31m                 \u001b[0mtext_result\u001b[0m\u001b[0;34m,\u001b[0m \u001b[0mresult\u001b[0m\u001b[0;34m,\u001b[0m \u001b[0mvisible\u001b[0m \u001b[0;34m=\u001b[0m \u001b[0mself\u001b[0m\u001b[0;34m.\u001b[0m\u001b[0meval\u001b[0m\u001b[0;34m(\u001b[0m\u001b[0mcode\u001b[0m\u001b[0;34m)\u001b[0m\u001b[0;34m\u001b[0m\u001b[0;34m\u001b[0m\u001b[0m\n\u001b[0m\u001b[1;32m    764\u001b[0m                 \u001b[0mtext_output\u001b[0m \u001b[0;34m+=\u001b[0m \u001b[0mtext_result\u001b[0m\u001b[0;34m\u001b[0m\u001b[0;34m\u001b[0m\u001b[0m\n\u001b[1;32m    765\u001b[0m                 \u001b[0;32mif\u001b[0m \u001b[0mvisible\u001b[0m\u001b[0;34m:\u001b[0m\u001b[0;34m\u001b[0m\u001b[0;34m\u001b[0m\u001b[0m\n",
            "\u001b[0;32m/usr/local/lib/python3.7/dist-packages/rpy2/ipython/rmagic.py\u001b[0m in \u001b[0;36meval\u001b[0;34m(self, code)\u001b[0m\n\u001b[1;32m    271\u001b[0m                 \u001b[0mwarning_or_other_msg\u001b[0m \u001b[0;34m=\u001b[0m \u001b[0mself\u001b[0m\u001b[0;34m.\u001b[0m\u001b[0mflush\u001b[0m\u001b[0;34m(\u001b[0m\u001b[0;34m)\u001b[0m\u001b[0;34m\u001b[0m\u001b[0;34m\u001b[0m\u001b[0m\n\u001b[1;32m    272\u001b[0m                 raise RInterpreterError(code, str(exception),\n\u001b[0;32m--> 273\u001b[0;31m                                         warning_or_other_msg)\n\u001b[0m\u001b[1;32m    274\u001b[0m             \u001b[0mtext_output\u001b[0m \u001b[0;34m=\u001b[0m \u001b[0mself\u001b[0m\u001b[0;34m.\u001b[0m\u001b[0mflush\u001b[0m\u001b[0;34m(\u001b[0m\u001b[0;34m)\u001b[0m\u001b[0;34m\u001b[0m\u001b[0;34m\u001b[0m\u001b[0m\n\u001b[1;32m    275\u001b[0m             \u001b[0;32mreturn\u001b[0m \u001b[0mtext_output\u001b[0m\u001b[0;34m,\u001b[0m \u001b[0mvalue\u001b[0m\u001b[0;34m,\u001b[0m \u001b[0mvisible\u001b[0m\u001b[0;34m[\u001b[0m\u001b[0;36m0\u001b[0m\u001b[0;34m]\u001b[0m\u001b[0;34m\u001b[0m\u001b[0;34m\u001b[0m\u001b[0m\n",
            "\u001b[0;31mRInterpreterError\u001b[0m: Failed to parse and evaluate line 'my_data_1 <- read_excel(\"/content/DTP_bez_postr_2019.xlsx\")'.\nR error message: 'Error: `path` does not exist: ‘/content/DTP_bez_postr_2019.xlsx’'"
          ]
        }
      ]
    },
    {
      "cell_type": "code",
      "metadata": {
        "colab": {
          "base_uri": "https://localhost:8080/",
          "height": 725
        },
        "id": "yxCTk-1zwJk1",
        "outputId": "fb8c0356-6ead-42d6-c74f-a095e631dde2"
      },
      "source": [
        "%%R\n",
        "summary(my_data_1)"
      ],
      "execution_count": null,
      "outputs": [
        {
          "output_type": "stream",
          "name": "stderr",
          "text": [
            "R[write to console]: Error in summary(my_data_1) : object 'my_data_1' not found\n",
            "\n",
            "R[write to console]: In addition: \n",
            "R[write to console]: Warning message:\n",
            "\n",
            "R[write to console]: In system(\"timedatectl\", intern = TRUE) :\n",
            "R[write to console]: \n",
            " \n",
            "R[write to console]:  running command 'timedatectl' had status 1\n",
            "\n"
          ]
        },
        {
          "output_type": "stream",
          "name": "stdout",
          "text": [
            "\n",
            "Error in summary(my_data_1) : object 'my_data_1' not found\n"
          ]
        },
        {
          "output_type": "error",
          "ename": "RInterpreterError",
          "evalue": "ignored",
          "traceback": [
            "\u001b[0;31m---------------------------------------------------------------------------\u001b[0m",
            "\u001b[0;31mRRuntimeError\u001b[0m                             Traceback (most recent call last)",
            "\u001b[0;32m/usr/local/lib/python3.7/dist-packages/rpy2/ipython/rmagic.py\u001b[0m in \u001b[0;36meval\u001b[0;34m(self, code)\u001b[0m\n\u001b[1;32m    267\u001b[0m                 \u001b[0;31m# Need the newline in case the last line in code is a comment.\u001b[0m\u001b[0;34m\u001b[0m\u001b[0;34m\u001b[0m\u001b[0;34m\u001b[0m\u001b[0m\n\u001b[0;32m--> 268\u001b[0;31m                 \u001b[0mvalue\u001b[0m\u001b[0;34m,\u001b[0m \u001b[0mvisible\u001b[0m \u001b[0;34m=\u001b[0m \u001b[0mro\u001b[0m\u001b[0;34m.\u001b[0m\u001b[0mr\u001b[0m\u001b[0;34m(\u001b[0m\u001b[0;34m\"withVisible({%s\\n})\"\u001b[0m \u001b[0;34m%\u001b[0m \u001b[0mcode\u001b[0m\u001b[0;34m)\u001b[0m\u001b[0;34m\u001b[0m\u001b[0;34m\u001b[0m\u001b[0m\n\u001b[0m\u001b[1;32m    269\u001b[0m             \u001b[0;32mexcept\u001b[0m \u001b[0;34m(\u001b[0m\u001b[0mri\u001b[0m\u001b[0;34m.\u001b[0m\u001b[0membedded\u001b[0m\u001b[0;34m.\u001b[0m\u001b[0mRRuntimeError\u001b[0m\u001b[0;34m,\u001b[0m \u001b[0mValueError\u001b[0m\u001b[0;34m)\u001b[0m \u001b[0;32mas\u001b[0m \u001b[0mexception\u001b[0m\u001b[0;34m:\u001b[0m\u001b[0;34m\u001b[0m\u001b[0;34m\u001b[0m\u001b[0m\n",
            "\u001b[0;32m/usr/local/lib/python3.7/dist-packages/rpy2/robjects/__init__.py\u001b[0m in \u001b[0;36m__call__\u001b[0;34m(self, string)\u001b[0m\n\u001b[1;32m    437\u001b[0m         \u001b[0mp\u001b[0m \u001b[0;34m=\u001b[0m \u001b[0mrinterface\u001b[0m\u001b[0;34m.\u001b[0m\u001b[0mparse\u001b[0m\u001b[0;34m(\u001b[0m\u001b[0mstring\u001b[0m\u001b[0;34m)\u001b[0m\u001b[0;34m\u001b[0m\u001b[0;34m\u001b[0m\u001b[0m\n\u001b[0;32m--> 438\u001b[0;31m         \u001b[0mres\u001b[0m \u001b[0;34m=\u001b[0m \u001b[0mself\u001b[0m\u001b[0;34m.\u001b[0m\u001b[0meval\u001b[0m\u001b[0;34m(\u001b[0m\u001b[0mp\u001b[0m\u001b[0;34m)\u001b[0m\u001b[0;34m\u001b[0m\u001b[0;34m\u001b[0m\u001b[0m\n\u001b[0m\u001b[1;32m    439\u001b[0m         \u001b[0;32mreturn\u001b[0m \u001b[0mconversion\u001b[0m\u001b[0;34m.\u001b[0m\u001b[0mrpy2py\u001b[0m\u001b[0;34m(\u001b[0m\u001b[0mres\u001b[0m\u001b[0;34m)\u001b[0m\u001b[0;34m\u001b[0m\u001b[0;34m\u001b[0m\u001b[0m\n",
            "\u001b[0;32m/usr/local/lib/python3.7/dist-packages/rpy2/robjects/functions.py\u001b[0m in \u001b[0;36m__call__\u001b[0;34m(self, *args, **kwargs)\u001b[0m\n\u001b[1;32m    198\u001b[0m         return (super(SignatureTranslatedFunction, self)\n\u001b[0;32m--> 199\u001b[0;31m                 .__call__(*args, **kwargs))\n\u001b[0m\u001b[1;32m    200\u001b[0m \u001b[0;34m\u001b[0m\u001b[0m\n",
            "\u001b[0;32m/usr/local/lib/python3.7/dist-packages/rpy2/robjects/functions.py\u001b[0m in \u001b[0;36m__call__\u001b[0;34m(self, *args, **kwargs)\u001b[0m\n\u001b[1;32m    124\u001b[0m                 \u001b[0mnew_kwargs\u001b[0m\u001b[0;34m[\u001b[0m\u001b[0mk\u001b[0m\u001b[0;34m]\u001b[0m \u001b[0;34m=\u001b[0m \u001b[0mconversion\u001b[0m\u001b[0;34m.\u001b[0m\u001b[0mpy2rpy\u001b[0m\u001b[0;34m(\u001b[0m\u001b[0mv\u001b[0m\u001b[0;34m)\u001b[0m\u001b[0;34m\u001b[0m\u001b[0;34m\u001b[0m\u001b[0m\n\u001b[0;32m--> 125\u001b[0;31m         \u001b[0mres\u001b[0m \u001b[0;34m=\u001b[0m \u001b[0msuper\u001b[0m\u001b[0;34m(\u001b[0m\u001b[0mFunction\u001b[0m\u001b[0;34m,\u001b[0m \u001b[0mself\u001b[0m\u001b[0;34m)\u001b[0m\u001b[0;34m.\u001b[0m\u001b[0m__call__\u001b[0m\u001b[0;34m(\u001b[0m\u001b[0;34m*\u001b[0m\u001b[0mnew_args\u001b[0m\u001b[0;34m,\u001b[0m \u001b[0;34m**\u001b[0m\u001b[0mnew_kwargs\u001b[0m\u001b[0;34m)\u001b[0m\u001b[0;34m\u001b[0m\u001b[0;34m\u001b[0m\u001b[0m\n\u001b[0m\u001b[1;32m    126\u001b[0m         \u001b[0mres\u001b[0m \u001b[0;34m=\u001b[0m \u001b[0mconversion\u001b[0m\u001b[0;34m.\u001b[0m\u001b[0mrpy2py\u001b[0m\u001b[0;34m(\u001b[0m\u001b[0mres\u001b[0m\u001b[0;34m)\u001b[0m\u001b[0;34m\u001b[0m\u001b[0;34m\u001b[0m\u001b[0m\n",
            "\u001b[0;32m/usr/local/lib/python3.7/dist-packages/rpy2/rinterface_lib/conversion.py\u001b[0m in \u001b[0;36m_\u001b[0;34m(*args, **kwargs)\u001b[0m\n\u001b[1;32m     44\u001b[0m     \u001b[0;32mdef\u001b[0m \u001b[0m_\u001b[0m\u001b[0;34m(\u001b[0m\u001b[0;34m*\u001b[0m\u001b[0margs\u001b[0m\u001b[0;34m,\u001b[0m \u001b[0;34m**\u001b[0m\u001b[0mkwargs\u001b[0m\u001b[0;34m)\u001b[0m\u001b[0;34m:\u001b[0m\u001b[0;34m\u001b[0m\u001b[0;34m\u001b[0m\u001b[0m\n\u001b[0;32m---> 45\u001b[0;31m         \u001b[0mcdata\u001b[0m \u001b[0;34m=\u001b[0m \u001b[0mfunction\u001b[0m\u001b[0;34m(\u001b[0m\u001b[0;34m*\u001b[0m\u001b[0margs\u001b[0m\u001b[0;34m,\u001b[0m \u001b[0;34m**\u001b[0m\u001b[0mkwargs\u001b[0m\u001b[0;34m)\u001b[0m\u001b[0;34m\u001b[0m\u001b[0;34m\u001b[0m\u001b[0m\n\u001b[0m\u001b[1;32m     46\u001b[0m         \u001b[0;31m# TODO: test cdata is of the expected CType\u001b[0m\u001b[0;34m\u001b[0m\u001b[0;34m\u001b[0m\u001b[0;34m\u001b[0m\u001b[0m\n",
            "\u001b[0;32m/usr/local/lib/python3.7/dist-packages/rpy2/rinterface.py\u001b[0m in \u001b[0;36m__call__\u001b[0;34m(self, *args, **kwargs)\u001b[0m\n\u001b[1;32m    679\u001b[0m             \u001b[0;32mif\u001b[0m \u001b[0merror_occured\u001b[0m\u001b[0;34m[\u001b[0m\u001b[0;36m0\u001b[0m\u001b[0;34m]\u001b[0m\u001b[0;34m:\u001b[0m\u001b[0;34m\u001b[0m\u001b[0;34m\u001b[0m\u001b[0m\n\u001b[0;32m--> 680\u001b[0;31m                 \u001b[0;32mraise\u001b[0m \u001b[0membedded\u001b[0m\u001b[0;34m.\u001b[0m\u001b[0mRRuntimeError\u001b[0m\u001b[0;34m(\u001b[0m\u001b[0m_rinterface\u001b[0m\u001b[0;34m.\u001b[0m\u001b[0m_geterrmessage\u001b[0m\u001b[0;34m(\u001b[0m\u001b[0;34m)\u001b[0m\u001b[0;34m)\u001b[0m\u001b[0;34m\u001b[0m\u001b[0;34m\u001b[0m\u001b[0m\n\u001b[0m\u001b[1;32m    681\u001b[0m         \u001b[0;32mreturn\u001b[0m \u001b[0mres\u001b[0m\u001b[0;34m\u001b[0m\u001b[0;34m\u001b[0m\u001b[0m\n",
            "\u001b[0;31mRRuntimeError\u001b[0m: Error in summary(my_data_1) : object 'my_data_1' not found\n",
            "\nDuring handling of the above exception, another exception occurred:\n",
            "\u001b[0;31mRInterpreterError\u001b[0m                         Traceback (most recent call last)",
            "\u001b[0;32m<ipython-input-5-9a882ada148d>\u001b[0m in \u001b[0;36m<module>\u001b[0;34m()\u001b[0m\n\u001b[0;32m----> 1\u001b[0;31m \u001b[0mget_ipython\u001b[0m\u001b[0;34m(\u001b[0m\u001b[0;34m)\u001b[0m\u001b[0;34m.\u001b[0m\u001b[0mrun_cell_magic\u001b[0m\u001b[0;34m(\u001b[0m\u001b[0;34m'R'\u001b[0m\u001b[0;34m,\u001b[0m \u001b[0;34m''\u001b[0m\u001b[0;34m,\u001b[0m \u001b[0;34m'summary(my_data_1)'\u001b[0m\u001b[0;34m)\u001b[0m\u001b[0;34m\u001b[0m\u001b[0;34m\u001b[0m\u001b[0m\n\u001b[0m",
            "\u001b[0;32m/usr/local/lib/python3.7/dist-packages/IPython/core/interactiveshell.py\u001b[0m in \u001b[0;36mrun_cell_magic\u001b[0;34m(self, magic_name, line, cell)\u001b[0m\n\u001b[1;32m   2115\u001b[0m             \u001b[0mmagic_arg_s\u001b[0m \u001b[0;34m=\u001b[0m \u001b[0mself\u001b[0m\u001b[0;34m.\u001b[0m\u001b[0mvar_expand\u001b[0m\u001b[0;34m(\u001b[0m\u001b[0mline\u001b[0m\u001b[0;34m,\u001b[0m \u001b[0mstack_depth\u001b[0m\u001b[0;34m)\u001b[0m\u001b[0;34m\u001b[0m\u001b[0;34m\u001b[0m\u001b[0m\n\u001b[1;32m   2116\u001b[0m             \u001b[0;32mwith\u001b[0m \u001b[0mself\u001b[0m\u001b[0;34m.\u001b[0m\u001b[0mbuiltin_trap\u001b[0m\u001b[0;34m:\u001b[0m\u001b[0;34m\u001b[0m\u001b[0;34m\u001b[0m\u001b[0m\n\u001b[0;32m-> 2117\u001b[0;31m                 \u001b[0mresult\u001b[0m \u001b[0;34m=\u001b[0m \u001b[0mfn\u001b[0m\u001b[0;34m(\u001b[0m\u001b[0mmagic_arg_s\u001b[0m\u001b[0;34m,\u001b[0m \u001b[0mcell\u001b[0m\u001b[0;34m)\u001b[0m\u001b[0;34m\u001b[0m\u001b[0;34m\u001b[0m\u001b[0m\n\u001b[0m\u001b[1;32m   2118\u001b[0m             \u001b[0;32mreturn\u001b[0m \u001b[0mresult\u001b[0m\u001b[0;34m\u001b[0m\u001b[0;34m\u001b[0m\u001b[0m\n\u001b[1;32m   2119\u001b[0m \u001b[0;34m\u001b[0m\u001b[0m\n",
            "\u001b[0;32m<decorator-gen-119>\u001b[0m in \u001b[0;36mR\u001b[0;34m(self, line, cell, local_ns)\u001b[0m\n",
            "\u001b[0;32m/usr/local/lib/python3.7/dist-packages/IPython/core/magic.py\u001b[0m in \u001b[0;36m<lambda>\u001b[0;34m(f, *a, **k)\u001b[0m\n\u001b[1;32m    186\u001b[0m     \u001b[0;31m# but it's overkill for just that one bit of state.\u001b[0m\u001b[0;34m\u001b[0m\u001b[0;34m\u001b[0m\u001b[0;34m\u001b[0m\u001b[0m\n\u001b[1;32m    187\u001b[0m     \u001b[0;32mdef\u001b[0m \u001b[0mmagic_deco\u001b[0m\u001b[0;34m(\u001b[0m\u001b[0marg\u001b[0m\u001b[0;34m)\u001b[0m\u001b[0;34m:\u001b[0m\u001b[0;34m\u001b[0m\u001b[0;34m\u001b[0m\u001b[0m\n\u001b[0;32m--> 188\u001b[0;31m         \u001b[0mcall\u001b[0m \u001b[0;34m=\u001b[0m \u001b[0;32mlambda\u001b[0m \u001b[0mf\u001b[0m\u001b[0;34m,\u001b[0m \u001b[0;34m*\u001b[0m\u001b[0ma\u001b[0m\u001b[0;34m,\u001b[0m \u001b[0;34m**\u001b[0m\u001b[0mk\u001b[0m\u001b[0;34m:\u001b[0m \u001b[0mf\u001b[0m\u001b[0;34m(\u001b[0m\u001b[0;34m*\u001b[0m\u001b[0ma\u001b[0m\u001b[0;34m,\u001b[0m \u001b[0;34m**\u001b[0m\u001b[0mk\u001b[0m\u001b[0;34m)\u001b[0m\u001b[0;34m\u001b[0m\u001b[0;34m\u001b[0m\u001b[0m\n\u001b[0m\u001b[1;32m    189\u001b[0m \u001b[0;34m\u001b[0m\u001b[0m\n\u001b[1;32m    190\u001b[0m         \u001b[0;32mif\u001b[0m \u001b[0mcallable\u001b[0m\u001b[0;34m(\u001b[0m\u001b[0marg\u001b[0m\u001b[0;34m)\u001b[0m\u001b[0;34m:\u001b[0m\u001b[0;34m\u001b[0m\u001b[0;34m\u001b[0m\u001b[0m\n",
            "\u001b[0;32m/usr/local/lib/python3.7/dist-packages/rpy2/ipython/rmagic.py\u001b[0m in \u001b[0;36mR\u001b[0;34m(self, line, cell, local_ns)\u001b[0m\n\u001b[1;32m    781\u001b[0m             \u001b[0;32mif\u001b[0m \u001b[0;32mnot\u001b[0m \u001b[0me\u001b[0m\u001b[0;34m.\u001b[0m\u001b[0mstdout\u001b[0m\u001b[0;34m.\u001b[0m\u001b[0mendswith\u001b[0m\u001b[0;34m(\u001b[0m\u001b[0me\u001b[0m\u001b[0;34m.\u001b[0m\u001b[0merr\u001b[0m\u001b[0;34m)\u001b[0m\u001b[0;34m:\u001b[0m\u001b[0;34m\u001b[0m\u001b[0;34m\u001b[0m\u001b[0m\n\u001b[1;32m    782\u001b[0m                 \u001b[0mprint\u001b[0m\u001b[0;34m(\u001b[0m\u001b[0me\u001b[0m\u001b[0;34m.\u001b[0m\u001b[0merr\u001b[0m\u001b[0;34m)\u001b[0m\u001b[0;34m\u001b[0m\u001b[0;34m\u001b[0m\u001b[0m\n\u001b[0;32m--> 783\u001b[0;31m             \u001b[0;32mraise\u001b[0m \u001b[0me\u001b[0m\u001b[0;34m\u001b[0m\u001b[0;34m\u001b[0m\u001b[0m\n\u001b[0m\u001b[1;32m    784\u001b[0m         \u001b[0;32mfinally\u001b[0m\u001b[0;34m:\u001b[0m\u001b[0;34m\u001b[0m\u001b[0;34m\u001b[0m\u001b[0m\n\u001b[1;32m    785\u001b[0m             \u001b[0;32mif\u001b[0m \u001b[0mself\u001b[0m\u001b[0;34m.\u001b[0m\u001b[0mdevice\u001b[0m \u001b[0;32min\u001b[0m \u001b[0;34m[\u001b[0m\u001b[0;34m'png'\u001b[0m\u001b[0;34m,\u001b[0m \u001b[0;34m'svg'\u001b[0m\u001b[0;34m]\u001b[0m\u001b[0;34m:\u001b[0m\u001b[0;34m\u001b[0m\u001b[0;34m\u001b[0m\u001b[0m\n",
            "\u001b[0;32m/usr/local/lib/python3.7/dist-packages/rpy2/ipython/rmagic.py\u001b[0m in \u001b[0;36mR\u001b[0;34m(self, line, cell, local_ns)\u001b[0m\n\u001b[1;32m    761\u001b[0m                     \u001b[0mreturn_output\u001b[0m \u001b[0;34m=\u001b[0m \u001b[0;32mFalse\u001b[0m\u001b[0;34m\u001b[0m\u001b[0;34m\u001b[0m\u001b[0m\n\u001b[1;32m    762\u001b[0m             \u001b[0;32melse\u001b[0m\u001b[0;34m:\u001b[0m\u001b[0;34m\u001b[0m\u001b[0;34m\u001b[0m\u001b[0m\n\u001b[0;32m--> 763\u001b[0;31m                 \u001b[0mtext_result\u001b[0m\u001b[0;34m,\u001b[0m \u001b[0mresult\u001b[0m\u001b[0;34m,\u001b[0m \u001b[0mvisible\u001b[0m \u001b[0;34m=\u001b[0m \u001b[0mself\u001b[0m\u001b[0;34m.\u001b[0m\u001b[0meval\u001b[0m\u001b[0;34m(\u001b[0m\u001b[0mcode\u001b[0m\u001b[0;34m)\u001b[0m\u001b[0;34m\u001b[0m\u001b[0;34m\u001b[0m\u001b[0m\n\u001b[0m\u001b[1;32m    764\u001b[0m                 \u001b[0mtext_output\u001b[0m \u001b[0;34m+=\u001b[0m \u001b[0mtext_result\u001b[0m\u001b[0;34m\u001b[0m\u001b[0;34m\u001b[0m\u001b[0m\n\u001b[1;32m    765\u001b[0m                 \u001b[0;32mif\u001b[0m \u001b[0mvisible\u001b[0m\u001b[0;34m:\u001b[0m\u001b[0;34m\u001b[0m\u001b[0;34m\u001b[0m\u001b[0m\n",
            "\u001b[0;32m/usr/local/lib/python3.7/dist-packages/rpy2/ipython/rmagic.py\u001b[0m in \u001b[0;36meval\u001b[0;34m(self, code)\u001b[0m\n\u001b[1;32m    271\u001b[0m                 \u001b[0mwarning_or_other_msg\u001b[0m \u001b[0;34m=\u001b[0m \u001b[0mself\u001b[0m\u001b[0;34m.\u001b[0m\u001b[0mflush\u001b[0m\u001b[0;34m(\u001b[0m\u001b[0;34m)\u001b[0m\u001b[0;34m\u001b[0m\u001b[0;34m\u001b[0m\u001b[0m\n\u001b[1;32m    272\u001b[0m                 raise RInterpreterError(code, str(exception),\n\u001b[0;32m--> 273\u001b[0;31m                                         warning_or_other_msg)\n\u001b[0m\u001b[1;32m    274\u001b[0m             \u001b[0mtext_output\u001b[0m \u001b[0;34m=\u001b[0m \u001b[0mself\u001b[0m\u001b[0;34m.\u001b[0m\u001b[0mflush\u001b[0m\u001b[0;34m(\u001b[0m\u001b[0;34m)\u001b[0m\u001b[0;34m\u001b[0m\u001b[0;34m\u001b[0m\u001b[0m\n\u001b[1;32m    275\u001b[0m             \u001b[0;32mreturn\u001b[0m \u001b[0mtext_output\u001b[0m\u001b[0;34m,\u001b[0m \u001b[0mvalue\u001b[0m\u001b[0;34m,\u001b[0m \u001b[0mvisible\u001b[0m\u001b[0;34m[\u001b[0m\u001b[0;36m0\u001b[0m\u001b[0;34m]\u001b[0m\u001b[0;34m\u001b[0m\u001b[0;34m\u001b[0m\u001b[0m\n",
            "\u001b[0;31mRInterpreterError\u001b[0m: Failed to parse and evaluate line 'summary(my_data_1)'.\nR error message: \"Error in summary(my_data_1) : object 'my_data_1' not found\""
          ]
        }
      ]
    },
    {
      "cell_type": "code",
      "metadata": {
        "id": "_ryEjndm0imN"
      },
      "source": [
        "%%R\n",
        "\n",
        "my_data <- scale(my_data_xlsx)\n"
      ],
      "execution_count": 6,
      "outputs": []
    },
    {
      "cell_type": "code",
      "metadata": {
        "id": "5gICa75OwcfM"
      },
      "source": [
        "%%R\n",
        "\n",
        "k2 <- kmeans(my_data, centers = 5, nstart = 25)"
      ],
      "execution_count": 9,
      "outputs": []
    },
    {
      "cell_type": "code",
      "metadata": {
        "id": "CM_jM-5hpArM"
      },
      "source": [
        "%%R\n",
        "\n",
        "my_data_xlsx$cluster <- k2$cluster "
      ],
      "execution_count": 10,
      "outputs": []
    },
    {
      "cell_type": "code",
      "metadata": {
        "colab": {
          "base_uri": "https://localhost:8080/"
        },
        "id": "i1h8AT27Jrcs",
        "outputId": "bdee0269-7387-4212-9ae6-600dddf10033"
      },
      "source": [
        "%%R\n",
        "\n",
        "length(my_data_xlsx$Pol)"
      ],
      "execution_count": 11,
      "outputs": [
        {
          "output_type": "stream",
          "name": "stdout",
          "text": [
            "[1] 44578\n"
          ]
        }
      ]
    },
    {
      "cell_type": "code",
      "metadata": {
        "colab": {
          "base_uri": "https://localhost:8080/"
        },
        "id": "cwgrxb1dpyo5",
        "outputId": "c535cbf5-7fbc-46e5-91ba-d58de37dd56a"
      },
      "source": [
        "%%R\n",
        "install.packages(\"writexl\")\n",
        "library(writexl)"
      ],
      "execution_count": 12,
      "outputs": [
        {
          "output_type": "stream",
          "name": "stderr",
          "text": [
            "R[write to console]: Installing package into ‘/usr/local/lib/R/site-library’\n",
            "(as ‘lib’ is unspecified)\n",
            "\n",
            "R[write to console]: trying URL 'https://cran.rstudio.com/src/contrib/writexl_1.4.0.tar.gz'\n",
            "\n",
            "R[write to console]: Content type 'application/x-gzip'\n",
            "R[write to console]:  length 258516 bytes (252 KB)\n",
            "\n",
            "R[write to console]: =\n",
            "R[write to console]: =\n",
            "R[write to console]: =\n",
            "R[write to console]: =\n",
            "R[write to console]: =\n",
            "R[write to console]: =\n",
            "R[write to console]: =\n",
            "R[write to console]: =\n",
            "R[write to console]: =\n",
            "R[write to console]: =\n",
            "R[write to console]: =\n",
            "R[write to console]: =\n",
            "R[write to console]: =\n",
            "R[write to console]: =\n",
            "R[write to console]: =\n",
            "R[write to console]: =\n",
            "R[write to console]: =\n",
            "R[write to console]: =\n",
            "R[write to console]: =\n",
            "R[write to console]: =\n",
            "R[write to console]: =\n",
            "R[write to console]: =\n",
            "R[write to console]: =\n",
            "R[write to console]: =\n",
            "R[write to console]: =\n",
            "R[write to console]: =\n",
            "R[write to console]: =\n",
            "R[write to console]: =\n",
            "R[write to console]: =\n",
            "R[write to console]: =\n",
            "R[write to console]: =\n",
            "R[write to console]: =\n",
            "R[write to console]: =\n",
            "R[write to console]: =\n",
            "R[write to console]: =\n",
            "R[write to console]: =\n",
            "R[write to console]: =\n",
            "R[write to console]: =\n",
            "R[write to console]: =\n",
            "R[write to console]: =\n",
            "R[write to console]: =\n",
            "R[write to console]: =\n",
            "R[write to console]: =\n",
            "R[write to console]: =\n",
            "R[write to console]: =\n",
            "R[write to console]: =\n",
            "R[write to console]: =\n",
            "R[write to console]: =\n",
            "R[write to console]: =\n",
            "R[write to console]: =\n",
            "R[write to console]: \n",
            "\n",
            "R[write to console]: downloaded 252 KB\n",
            "\n",
            "\n",
            "R[write to console]: \n",
            "\n",
            "R[write to console]: \n",
            "R[write to console]: The downloaded source packages are in\n",
            "\t‘/tmp/Rtmp2MkXRr/downloaded_packages’\n",
            "R[write to console]: \n",
            "R[write to console]: \n",
            "\n"
          ]
        }
      ]
    },
    {
      "cell_type": "code",
      "metadata": {
        "id": "Ktz5mO43qAxO"
      },
      "source": [
        "%%R\n",
        "\n",
        "write_xlsx(my_data_xlsx, \"/content/results.xlsx\")"
      ],
      "execution_count": 13,
      "outputs": []
    },
    {
      "cell_type": "code",
      "metadata": {
        "id": "SLuklZyj2I-D"
      },
      "source": [
        "%%R\n",
        "kmeans_basic_df <- data.frame(Cluster = k2$cluster, my_data)"
      ],
      "execution_count": null,
      "outputs": []
    },
    {
      "cell_type": "code",
      "metadata": {
        "id": "cptC_ErJqAI_"
      },
      "source": [
        ""
      ],
      "execution_count": null,
      "outputs": []
    },
    {
      "cell_type": "code",
      "metadata": {
        "colab": {
          "base_uri": "https://localhost:8080/"
        },
        "id": "PPxi8j4Q2S4N",
        "outputId": "d7c7f5a2-6143-4767-a0aa-097987b9f2b3"
      },
      "source": [
        "%%R\n",
        "kmeans_basic_df"
      ],
      "execution_count": null,
      "outputs": [
        {
          "output_type": "stream",
          "name": "stdout",
          "text": [
            "    Cluster    vid.dtp      Tip.TS Narushenie.PDD        Pol Stazh.vozhdeniya\n",
            "1         5  0.8234405 -0.24008931     -0.7268618 -0.4755514     -0.404748237\n",
            "2         5  0.3524745 -0.24008931      1.0113045 -0.4755514     -0.808211559\n",
            "3         5 -1.0604234 -0.24008931      1.0113045 -0.4755514     -0.556046983\n",
            "4         6 -1.0604234 -0.15538365     -1.0945509  2.0131678     -0.656912813\n",
            "5         4 -1.0604234 -0.32479498      1.0113045 -0.4755514      0.856074644\n",
            "6         2 -1.0604234 -0.24008931     -1.0276983 -0.4755514     -0.808211559\n",
            "7         2 -1.0604234 -0.24008931     -1.0276983 -0.4755514     -0.001284915\n",
            "8         6 -1.0604234 -0.40950065     -0.6600093  2.0131678     -0.354315322\n",
            "9         3 -0.5894574 -0.15538365      1.0113045 -0.4755514      3.932482474\n",
            "10        4  3.1782705 -0.74832332     -0.4928779 -0.4755514     -0.354315322\n",
            "11        6  0.8234405 -0.24008931      1.0113045  2.0131678     -0.606479898\n",
            "12        6  0.8234405 -0.24008931     -0.7268618  2.0131678     -0.606479898\n",
            "13        6 -1.0604234 -0.15538365     -1.0276983  2.0131678     -0.757778644\n",
            "14        4  0.8234405  0.01402769     -0.7268618 -0.4755514     -0.606479898\n",
            "15        4  0.3524745  0.09873336      1.0113045 -0.4755514     -0.102150746\n",
            "16        4  0.8234405  0.69167303     -0.7268618 -0.4755514      1.209105051\n",
            "17        2 -1.0604234 -0.24008931     -0.6600093 -0.4755514     -0.707345729\n",
            "18        2 -1.0604234 -0.24008931     -1.0945509 -0.4755514     -0.858644474\n",
            "19        4  0.8234405 -0.24008931      1.6798301 -0.4755514     -0.858644474\n",
            "20        4  2.2363385  0.69167303      1.9806666 -0.4755514     -0.455181152\n",
            "21        5  0.3524745 -0.15538365     -0.4928779 -0.4755514     -0.707345729\n",
            "22        6 -1.0604234 -0.24008931     -0.8271407  2.0131678      0.099580915\n",
            "23        2 -1.0604234 -0.24008931     -1.0276983 -0.4755514     -0.656912813\n",
            "24        6  0.8234405 -0.15538365      1.0113045  2.0131678     -0.757778644\n",
            "25        4  0.8234405 -0.15538365     -0.4260253 -0.4755514     -0.203016576\n",
            "26        2 -1.0604234 -0.07067798     -1.0276983 -0.4755514     -0.505614068\n",
            "27        4  0.8234405 -0.24008931     -0.6600093 -0.4755514     -0.556046983\n",
            "28        2 -1.0604234 -0.15538365     -1.0276983 -0.4755514     -0.404748237\n",
            "29        4  2.2363385  0.60696736      1.9472403 -0.4755514      0.553477153\n",
            "30        3  0.8234405 -0.24008931     -0.4594516 -0.4755514      3.932482474\n",
            "31        4  0.8234405 -0.24008931     -0.7268618 -0.4755514     -0.001284915\n",
            "32        6 -1.0604234 -0.24008931     -0.5597305  2.0131678     -0.505614068\n",
            "33        6 -0.5894574 -0.24008931      1.0113045  2.0131678     -0.656912813\n",
            "34        2 -1.0604234 -0.24008931     -0.8271407 -0.4755514      0.452611322\n",
            "35        2 -1.0604234 -0.24008931     -1.0276983 -0.4755514     -0.606479898\n",
            "36        5 -0.1184914 -0.24008931      1.0113045 -0.4755514     -0.455181152\n",
            "37        4  0.8234405 -1.00244032     -0.7268618 -0.4755514     -0.203016576\n",
            "38        5  0.8234405 -0.07067798     -0.4594516 -0.4755514     -0.404748237\n",
            "39        5 -0.1184914 -0.15538365      1.0113045 -0.4755514     -0.253449491\n",
            "40        6 -1.0604234 -0.24008931     -1.0276983  2.0131678     -0.808211559\n",
            "41        4  0.8234405  0.60696736      1.3121410 -0.4755514      0.654342983\n",
            "42        5  0.8234405 -0.24008931      1.2118622 -0.4755514     -0.656912813\n",
            "43        4  0.8234405 -0.15538365     -0.7268618 -0.4755514     -0.303882407\n",
            "44        4 -0.1184914 -0.24008931      1.0113045 -0.4755514      0.250879661\n",
            "45        2 -1.0604234 -0.24008931     -1.0945509 -0.4755514     -0.051717830\n",
            "46        2 -1.0604234 -0.24008931     -1.0276983 -0.4755514     -0.606479898\n",
            "47        5 -0.1184914 -0.24008931     -0.4928779 -0.4755514     -0.455181152\n",
            "48        4  0.3524745 -0.15538365      1.0113045 -0.4755514     -0.505614068\n",
            "49        4  2.2363385  0.69167303      1.0113045 -0.4755514      0.452611322\n",
            "50        2 -1.0604234 -0.24008931     -1.0276983 -0.4755514     -0.505614068\n",
            "51        5  0.8234405 -0.24008931      1.0113045 -0.4755514      0.200446746\n",
            "52        2 -1.0604234 -0.15538365     -1.0276983 -0.4755514     -0.505614068\n",
            "53        5  0.8234405 -0.24008931      1.2118622 -0.4755514      0.402178407\n",
            "54        6  0.8234405 -0.24008931     -0.4594516  2.0131678     -0.606479898\n",
            "55        2 -1.0604234  0.69167303     -1.0276983 -0.4755514     -0.303882407\n",
            "56        6 -1.0604234 -0.24008931     -0.4928779  2.0131678     -0.656912813\n",
            "57        2 -1.0604234 -0.15538365     -1.0276983 -0.4755514     -0.051717830\n",
            "58        5  0.8234405 -0.15538365      1.2452885 -0.4755514     -0.556046983\n",
            "59        5  0.8234405 -0.24008931     -0.7268618 -0.4755514      0.301312576\n",
            "60        4  0.8234405 -1.17185166      1.2118622 -0.4755514      1.158672136\n",
            "61        5  0.8234405 -0.24008931      1.2118622 -0.4755514     -0.606479898\n",
            "62        4  0.8234405 -0.24008931      1.0113045 -0.4755514      0.402178407\n",
            "63        3 -1.0604234 -0.15538365     -1.0945509 -0.4755514      3.932482474\n",
            "64        5  0.8234405 -0.15538365      1.0113045 -0.4755514      0.200446746\n",
            "65        6 -1.0604234 -0.24008931     -0.8271407  2.0131678     -0.455181152\n",
            "66        6  0.8234405 -0.24008931     -0.7268618  2.0131678     -0.404748237\n",
            "67        4  0.8234405 -0.24008931      1.2118622 -0.4755514      0.049148000\n",
            "68        4  0.8234405 -0.24008931      1.2118622 -0.4755514     -0.556046983\n",
            "69        2 -1.0604234 -0.15538365     -0.8271407 -0.4755514     -0.808211559\n",
            "70        2 -1.0604234 -0.15538365     -1.0276983 -0.4755514      0.049148000\n",
            "71        2 -1.0604234 -1.17185166     -0.6600093 -0.4755514     -0.102150746\n",
            "72        2 -1.0604234 -0.24008931     -1.0276983 -0.4755514     -0.152583661\n",
            "73        4  0.8234405 -0.15538365     -0.7268618 -0.4755514     -0.556046983\n",
            "74        5 -0.1184914 -0.24008931      1.0113045 -0.4755514      0.402178407\n",
            "75        4  0.8234405 -0.15538365     -0.7268618 -0.4755514     -0.556046983\n",
            "76        2 -1.0604234 -0.15538365     -1.0276983 -0.4755514     -0.102150746\n",
            "77        4  0.8234405 -0.24008931      1.2118622 -0.4755514     -0.707345729\n",
            "78        4  2.2363385  0.69167303      1.9472403 -0.4755514     -0.152583661\n",
            "79        4  0.8234405  1.70814104     -0.7268618 -0.4755514     -0.354315322\n",
            "80        2 -1.0604234 -0.24008931     -0.4928779 -0.4755514     -0.757778644\n",
            "81        2 -1.0604234  0.60696736     -0.8271407 -0.4755514      0.351745492\n",
            "82        1  0.3524745 -0.24008931      1.0113045 -0.4755514      3.932482474\n",
            "83        4  0.8234405 -0.32479498      1.0113045 -0.4755514     -0.505614068\n",
            "84        4  0.8234405 -0.24008931     -0.7268618 -0.4755514     -0.102150746\n",
            "85        2 -1.0604234 -0.91773465     -1.0276983 -0.4755514      0.956940475\n",
            "86        4 -1.0604234  0.69167303      1.0113045 -0.4755514     -0.556046983\n",
            "87        5  0.8234405 -0.24008931      1.2118622 -0.4755514     -0.455181152\n",
            "88        6 -1.0604234 -0.24008931     -1.0276983  2.0131678      0.200446746\n",
            "89        2 -1.0604234 -0.15538365     -0.4928779 -0.4755514      0.503044237\n",
            "90        2 -1.0604234 -0.24008931     -1.0276983 -0.4755514      0.099580915\n",
            "91        4  0.8234405 -0.24008931     -0.7268618 -0.4755514      1.108239220\n",
            "92        1  0.8234405  6.02813010      1.6798301  2.0131678      0.805641729\n",
            "93        6 -1.0604234 -0.24008931      1.0113045  2.0131678     -0.455181152\n",
            "94        5  0.3524745 -0.15538365      1.0113045 -0.4755514     -0.606479898\n",
            "95        4  0.8234405 -0.24008931      1.3121410 -0.4755514     -0.455181152\n",
            "96        4 -0.1184914 -1.17185166      1.0113045 -0.4755514      0.301312576\n",
            "97        2 -1.0604234 -0.24008931     -0.8271407 -0.4755514     -0.808211559\n",
            "98        4  0.8234405 -0.24008931      1.2118622 -0.4755514     -0.757778644\n",
            "99        2 -0.1184914  0.60696736     -0.4928779 -0.4755514      0.906507559\n",
            "100       4  0.8234405 -1.00244032     -0.4594516 -0.4755514     -0.556046983\n",
            "101       2 -1.0604234 -0.15538365     -1.0276983 -0.4755514      0.200446746\n",
            "102       3 -1.0604234  4.16460541     -0.8271407 -0.4755514      3.932482474\n",
            "103       2 -1.0604234 -0.24008931     -1.0276983 -0.4755514      1.461269627\n",
            "104       2 -1.0604234 -0.15538365     -1.0276983 -0.4755514     -0.455181152\n",
            "105       5  0.8234405 -0.24008931     -0.7268618 -0.4755514     -0.707345729\n",
            "106       5  0.8234405 -0.24008931      1.2118622 -0.4755514     -0.505614068\n",
            "107       2 -1.0604234 -0.24008931     -0.4928779 -0.4755514     -0.303882407\n",
            "108       3 -1.0604234 -0.24008931     -0.8271407  2.0131678      3.932482474\n",
            "109       1 -1.0604234  3.82578274     -0.8271407 -0.4755514      3.932482474\n",
            "110       3  0.8234405  4.07989974      1.0113045 -0.4755514      3.932482474\n",
            "111       5 -0.1184914 -0.24008931      1.0113045 -0.4755514     -0.404748237\n",
            "112       4  0.8234405 -0.24008931     -0.6600093 -0.4755514     -0.808211559\n",
            "113       2 -1.0604234 -0.24008931     -0.6600093 -0.4755514     -0.253449491\n",
            "114       2 -1.0604234 -0.91773465     -0.9274195 -0.4755514      0.351745492\n",
            "115       6  0.8234405  4.07989974      1.0113045  2.0131678     -0.808211559\n",
            "116       2 -1.0604234 -0.15538365     -1.0276983 -0.4755514     -0.253449491\n",
            "117       4  0.8234405 -0.57891198      1.2118622 -0.4755514      0.956940475\n",
            "118       6 -1.0604234 -0.40950065     -1.0945509  2.0131678     -0.707345729\n",
            "119       4  2.2363385 -1.00244032      1.9806666 -0.4755514      0.099580915\n",
            "120       5  1.2944065 -0.24008931     -0.6600093 -0.4755514     -0.707345729\n",
            "121       2 -1.0604234 -0.24008931     -0.5597305 -0.4755514      0.150013831\n",
            "122       1  0.3524745  3.82578274      1.0113045 -0.4755514      0.553477153\n",
            "123       4  0.8234405  0.69167303      1.0113045 -0.4755514      0.654342983\n",
            "124       6  0.8234405 -0.24008931      1.3121410  2.0131678     -0.707345729\n",
            "125       4  2.2363385  0.60696736      1.9806666 -0.4755514     -0.404748237\n",
            "126       2 -1.0604234 -0.24008931     -1.0276983 -0.4755514     -0.001284915\n",
            "127       4 -0.1184914  0.69167303      1.0113045 -0.4755514     -0.556046983\n",
            "128       4  0.8234405 -0.15538365      1.0113045 -0.4755514      0.755208814\n",
            "129       4  0.8234405  0.69167303      1.2452885 -0.4755514      0.956940475\n",
            "130       6  0.8234405 -0.15538365      1.2118622  2.0131678     -0.505614068\n",
            "131       2 -1.0604234 -0.15538365     -1.0276983 -0.4755514      0.049148000\n",
            "132       5  0.8234405 -0.32479498     -0.4594516 -0.4755514     -0.606479898\n",
            "133       2 -1.0604234 -0.15538365     -0.8271407 -0.4755514     -0.505614068\n",
            "134       4  0.8234405 -0.15538365      1.2118622 -0.4755514      0.200446746\n",
            "135       5 -1.0604234 -0.32479498      1.0113045 -0.4755514     -0.808211559\n",
            "136       2 -1.0604234 -0.24008931     -0.8271407 -0.4755514     -0.203016576\n",
            "137       4  0.8234405 -0.24008931      1.0113045 -0.4755514     -0.203016576\n",
            "138       4  0.8234405 -0.24008931      1.2118622 -0.4755514      0.099580915\n",
            "139       5  0.8234405 -0.24008931     -0.4594516 -0.4755514     -0.606479898\n",
            "140       5 -1.0604234 -0.15538365      1.0113045 -0.4755514     -0.455181152\n",
            "141       5  0.8234405 -0.15538365      1.2118622 -0.4755514     -0.152583661\n",
            "142       6 -0.1184914 -0.15538365     -0.8271407  2.0131678     -0.455181152\n",
            "143       5 -0.1184914 -0.15538365      1.0113045 -0.4755514     -0.606479898\n",
            "144       6  0.3524745 -0.24008931      1.0113045  2.0131678     -0.505614068\n",
            "145       5  0.8234405 -0.24008931     -0.7268618 -0.4755514      0.099580915\n",
            "146       6 -0.1184914 -0.24008931      1.0113045  2.0131678     -0.102150746\n",
            "147       2 -1.0604234 -0.24008931     -0.5597305 -0.4755514      1.259537966\n",
            "148       5  0.3524745 -0.15538365      1.0113045 -0.4755514     -0.556046983\n",
            "149       5 -0.1184914 -1.17185166     -0.8271407 -0.4755514     -0.505614068\n",
            "150       4 -0.5894574 -0.15538365      1.0113045 -0.4755514     -0.808211559\n",
            "151       6  0.3524745 -0.15538365      1.0113045  2.0131678     -0.606479898\n",
            "152       5 -0.1184914 -0.15538365      1.0113045 -0.4755514      0.150013831\n",
            "153       2 -1.0604234 -0.15538365     -1.0276983 -0.4755514     -0.102150746\n",
            "154       1  0.8234405  6.02813010      1.6798301  2.0131678     -0.404748237\n",
            "155       6 -0.1184914 -0.24008931      1.0113045  2.0131678     -0.606479898\n",
            "156       5  0.8234405 -0.15538365      1.5461250 -0.4755514     -0.354315322\n",
            "157       4  0.8234405 -0.07067798      1.0113045 -0.4755514      0.200446746\n",
            "158       5  0.8234405 -0.24008931      1.2452885 -0.4755514     -0.455181152\n",
            "159       2 -1.0604234 -0.32479498     -0.8271407 -0.4755514      1.209105051\n",
            "160       2 -1.0604234 -0.24008931     -0.8271407 -0.4755514     -0.757778644\n",
            "161       4  0.8234405 -1.17185166      1.4458461 -0.4755514     -0.455181152\n",
            "162       3 -1.0604234  3.82578274     -0.8271407 -0.4755514      3.932482474\n",
            "163       2 -1.0604234 -0.32479498     -0.8271407 -0.4755514      1.562135458\n",
            "164       2 -1.0604234  0.69167303     -0.8605669 -0.4755514      0.150013831\n",
            "165       5  0.8234405 -0.15538365     -0.4594516 -0.4755514     -0.253449491\n",
            "166       2 -1.0604234 -0.15538365     -1.0276983 -0.4755514     -0.253449491\n",
            "167       5  0.3524745 -0.15538365      1.0113045 -0.4755514     -0.404748237\n",
            "168       6 -1.0604234 -0.91773465      0.2090739  4.5018869      0.503044237\n",
            "169       6 -1.0604234 -0.15538365     -1.0276983  2.0131678     -0.808211559\n",
            "170       5  0.8234405 -0.24008931     -0.7268618 -0.4755514     -0.656912813\n",
            "171       4  0.8234405 -0.24008931      1.0113045 -0.4755514      0.603910068\n",
            "172       5  0.8234405 -1.00244032      0.8107469 -0.4755514      0.301312576\n",
            "173       4  2.2363385  0.69167303      1.0113045 -0.4755514     -0.001284915\n",
            "174       2 -1.0604234 -0.24008931     -1.0276983 -0.4755514     -0.455181152\n",
            "175       3  0.8234405 -0.15538365     -0.4594516  2.0131678      3.932482474\n",
            "176       2 -1.0604234 -0.24008931     -0.8605669 -0.4755514      0.956940475\n",
            "177       2 -1.0604234 -0.24008931     -0.9274195 -0.4755514     -0.606479898\n",
            "178       2 -1.0604234 -0.24008931     -0.4928779 -0.4755514     -0.203016576\n",
            "179       4  0.8234405  0.60696736      1.2118622 -0.4755514     -0.203016576\n",
            "180       2 -1.0604234 -0.24008931     -1.0276983 -0.4755514      0.250879661\n",
            "181       5  0.8234405 -1.00244032     -0.7268618 -0.4755514     -0.203016576\n",
            "182       2 -1.0604234 -0.24008931     -1.0945509 -0.4755514     -0.707345729\n",
            "183       6 -1.0604234 -0.40950065     -1.0276983  2.0131678     -0.455181152\n",
            "184       6 -1.0604234 -0.24008931     -1.0945509  2.0131678     -0.102150746\n",
            "185       4  1.2944065 -0.24008931     -1.0276983 -0.4755514      0.049148000\n",
            "186       4  2.2363385  0.60696736      1.0113045 -0.4755514     -0.001284915\n",
            "187       6 -1.0604234 -0.24008931     -1.0945509  2.0131678     -0.556046983\n",
            "188       2 -1.0604234 -0.24008931     -0.8271407 -0.4755514     -0.051717830\n",
            "189       5  0.8234405 -0.24008931     -0.4594516 -0.4755514      0.452611322\n",
            "190       2 -1.0604234 -0.15538365     -1.0276983 -0.4755514     -0.606479898\n",
            "191       2 -1.0604234 -0.24008931     -1.0276983 -0.4755514      0.553477153\n",
            "192       2 -1.0604234 -0.24008931     -0.5597305 -0.4755514     -0.707345729\n",
            "193       2 -1.0604234 -0.83302899     -0.8271407 -0.4755514      0.654342983\n",
            "194       4  2.2363385  0.69167303      1.9472403 -0.4755514      0.503044237\n",
            "195       4  0.8234405 -0.24008931     -0.4594516 -0.4755514      0.452611322\n",
            "196       5  0.8234405 -1.25655733      1.3121410 -0.4755514     -0.858644474\n",
            "197       2 -1.0604234 -0.24008931     -0.6600093 -0.4755514     -0.051717830\n",
            "198       6 -1.0604234 -0.32479498     -0.9274195  2.0131678     -0.707345729\n",
            "199       4  0.8234405 -0.24008931      1.3121410 -0.4755514      0.553477153\n",
            "200       4  0.8234405 -0.24008931      1.0113045 -0.4755514      0.301312576\n",
            "201       6  0.8234405 -0.24008931     -0.7268618  2.0131678      0.250879661\n",
            "202       4  0.8234405 -1.00244032     -0.4594516 -0.4755514     -0.556046983\n",
            "203       5  0.8234405 -0.24008931      1.0113045 -0.4755514     -0.303882407\n",
            "204       2 -1.0604234 -0.24008931     -1.0276983 -0.4755514     -0.203016576\n",
            "205       1 -0.5894574  3.82578274      1.0113045 -0.4755514     -0.808211559\n",
            "206       4 -0.1184914 -0.07067798      1.0113045 -0.4755514     -0.303882407\n",
            "207       5  0.8234405 -0.24008931      1.0113045 -0.4755514     -0.808211559\n",
            "208       2 -1.0604234 -0.24008931     -0.8271407  2.0131678     -0.404748237\n",
            "209       6  0.8234405 -0.24008931      1.4124199  2.0131678     -0.102150746\n",
            "210       4  0.8234405 -1.00244032     -0.7268618 -0.4755514     -0.051717830\n",
            "211       6 -1.0604234 -0.24008931     -0.4594516  2.0131678     -0.606479898\n",
            "212       5  0.3524745 -0.24008931     -0.4928779 -0.4755514     -0.253449491\n",
            "213       5 -1.0604234  3.82578274     -0.8271407 -0.4755514     -0.303882407\n",
            "214       2 -1.0604234 -0.07067798     -0.6600093 -0.4755514     -0.858644474\n",
            "215       4  0.8234405 -0.32479498      1.0113045 -0.4755514     -0.505614068\n",
            "216       5  0.8234405 -0.07067798      1.2118622 -0.4755514      1.108239220\n",
            "217       4  1.2944065 -0.24008931     -1.0276983 -0.4755514      0.250879661\n",
            "218       4  0.8234405 -0.24008931      1.2118622 -0.4755514     -0.102150746\n",
            "219       4  0.8234405 -0.24008931      1.0113045 -0.4755514     -0.001284915\n",
            "220       4  1.2944065 -0.24008931     -1.0276983 -0.4755514      0.049148000\n",
            "221       4  0.8234405  3.82578274     -0.7268618 -0.4755514     -0.303882407\n",
            "222       4  0.8234405 -0.24008931     -0.7268618 -0.4755514      0.200446746\n",
            "223       5 -0.5894574 -0.24008931     -0.4928779 -0.4755514     -0.656912813\n",
            "224       4  0.8234405 -1.00244032     -0.4594516 -0.4755514     -0.455181152\n",
            "225       6 -1.0604234 -0.15538365     -0.8271407  2.0131678     -0.354315322\n",
            "226       5 -0.1184914 -0.15538365      1.0113045 -0.4755514      0.805641729\n",
            "227       6 -0.1184914 -0.24008931     -0.4928779  2.0131678     -0.001284915\n",
            "228       5  0.8234405 -0.24008931      1.0113045 -0.4755514     -0.606479898\n",
            "229       3  0.3524745  3.82578274     -0.4928779 -0.4755514      3.932482474\n",
            "230       2 -1.0604234 -0.15538365     -1.0276983 -0.4755514     -0.556046983\n",
            "231       6  0.8234405 -0.24008931     -0.7268618  2.0131678     -0.858644474\n",
            "232       6 -1.0604234 -0.24008931     -0.5597305  2.0131678     -0.102150746\n",
            "233       6  0.8234405 -0.24008931     -0.4594516  2.0131678     -0.656912813\n",
            "234       6 -1.0604234 -0.24008931     -0.9274195  2.0131678     -0.757778644\n",
            "235       2 -1.0604234 -0.24008931     -1.0276983 -0.4755514     -0.757778644\n",
            "236       4  0.8234405  0.69167303      1.5461250 -0.4755514      0.301312576\n",
            "237       5  0.8234405 -0.83302899     -0.7268618 -0.4755514     -0.505614068\n",
            "238       6 -1.0604234 -0.32479498     -0.6600093  2.0131678     -0.656912813\n",
            "239       5  0.8234405 -0.24008931      1.2118622 -0.4755514      0.654342983\n",
            "240       2 -1.0604234 -0.32479498     -1.0945509 -0.4755514     -0.707345729\n",
            "241       4  0.3524745 -0.24008931     -0.4928779 -0.4755514     -0.556046983\n",
            "242       2 -1.0604234 -0.24008931      1.0113045 -0.4755514     -0.606479898\n",
            "243       6  0.3524745 -0.24008931      1.0113045  2.0131678     -0.858644474\n",
            "244       2 -1.0604234  1.87755238     -0.8271407 -0.4755514      0.704775898\n",
            "245       2 -1.0604234 -0.24008931     -0.8271407 -0.4755514     -0.606479898\n",
            "246       2 -1.0604234 -0.07067798      1.0113045 -0.4755514     -0.303882407\n",
            "247       6 -1.0604234 -0.15538365     -1.0276983  2.0131678     -0.808211559\n",
            "248       4 -1.0604234  0.69167303      1.0113045 -0.4755514      0.351745492\n",
            "249       5  0.8234405 -0.15538365      1.2118622 -0.4755514     -0.404748237\n",
            "250       4  0.8234405 -0.40950065      1.0113045 -0.4755514     -0.404748237\n",
            "251       4  1.2944065  0.69167303      1.0781571 -0.4755514     -0.354315322\n",
            "252       5  0.8234405 -0.57891198     -0.4594516 -0.4755514     -0.303882407\n",
            "253       4  0.8234405 -0.24008931      1.3121410 -0.4755514     -0.001284915\n",
            "254       2 -1.0604234 -0.24008931     -0.8271407 -0.4755514     -0.152583661\n",
            "255       6  0.8234405 -0.32479498     -0.4594516  2.0131678     -0.808211559\n",
            "256       1 -1.0604234  3.82578274     -1.0276983 -0.4755514      3.932482474\n",
            "257       4  0.8234405  0.69167303      1.6798301 -0.4755514      0.654342983\n",
            "258       5 -0.1184914 -0.15538365      1.0113045 -0.4755514     -0.556046983\n",
            "259       2 -1.0604234 -0.24008931     -1.0276983 -0.4755514     -0.455181152\n",
            "260       5  0.3524745 -0.24008931      1.0113045 -0.4755514     -0.808211559\n",
            "261       4  0.8234405 -0.24008931      1.2118622 -0.4755514     -0.102150746\n",
            "262       4  0.8234405 -0.24008931     -0.4594516 -0.4755514      1.259537966\n",
            "263       6 -0.5894574 -0.24008931      1.0113045  2.0131678     -0.808211559\n",
            "264       5  1.2944065  0.09873336      1.0113045 -0.4755514      0.402178407\n",
            "265       2 -1.0604234 -0.24008931     -0.8271407 -0.4755514      1.158672136\n",
            "266       2 -1.0604234 -0.24008931     -1.0276983 -0.4755514     -0.505614068\n",
            "267       2 -1.0604234 -0.24008931     -1.0945509 -0.4755514     -0.808211559\n",
            "268       6  0.8234405 -1.25655733     -1.1279772  2.0131678     -0.858644474\n",
            "269       6 -1.0604234 -0.24008931     -1.0611246  2.0131678     -0.757778644\n",
            "270       4  0.8234405 -0.24008931      1.0113045 -0.4755514      1.158672136\n",
            "271       3 -1.0604234 -0.24008931     -0.9608458 -0.4755514      3.932482474\n",
            "272       4  0.8234405 -0.24008931     -0.7268618 -0.4755514      0.704775898\n",
            "273       2 -1.0604234 -0.07067798     -0.8271407 -0.4755514     -0.102150746\n",
            "274       5  0.8234405 -0.24008931     -0.7268618 -0.4755514     -0.051717830\n",
            "275       2 -1.0604234 -0.24008931     -0.8271407 -0.4755514     -0.051717830\n",
            "276       2 -1.0604234 -0.24008931     -1.0276983 -0.4755514      0.402178407\n",
            "277       6  0.8234405 -0.24008931      1.2118622  2.0131678     -0.152583661\n",
            "278       6 -1.0604234 -0.32479498     -1.0276983  2.0131678     -0.808211559\n",
            "279       2 -1.0604234 -0.83302899     -0.8271407 -0.4755514      0.250879661\n",
            "280       4  0.8234405 -0.24008931      1.2118622 -0.4755514      0.503044237\n",
            "281       4 -0.1184914 -0.24008931      1.0113045 -0.4755514     -0.505614068\n",
            "282       6 -1.0604234 -0.24008931     -0.6600093  2.0131678     -0.556046983\n",
            "283       6  1.2944065 -0.24008931      1.0113045  2.0131678     -0.354315322\n",
            "284       4  0.8234405 -0.24008931     -0.7268618 -0.4755514     -0.556046983\n",
            "285       4  2.2363385  0.60696736      1.9472403 -0.4755514      0.603910068\n",
            "286       2 -1.0604234 -0.24008931     -0.8271407 -0.4755514     -0.505614068\n",
            "287       5  0.8234405  0.52226170     -0.7268618 -0.4755514      0.452611322\n",
            "288       5  0.8234405 -0.24008931      1.2118622 -0.4755514     -0.303882407\n",
            "289       2 -0.1184914  0.60696736      1.0113045 -0.4755514      0.452611322\n",
            "290       6 -1.0604234 -0.24008931     -0.8271407  2.0131678     -0.656912813\n",
            "291       6 -1.0604234  3.82578274     -0.9608458  2.0131678      0.503044237\n",
            "292       2 -1.0604234 -0.24008931     -1.0276983 -0.4755514      0.402178407\n",
            "293       2 -1.0604234 -0.24008931     -1.0276983 -0.4755514     -0.404748237\n",
            "294       2 -1.0604234 -0.24008931     -0.8271407 -0.4755514     -0.404748237\n",
            "295       4 -1.0604234 -0.24008931      1.0113045 -0.4755514     -0.152583661\n",
            "296       4  2.2363385 -1.00244032      1.9472403 -0.4755514     -0.858644474\n",
            "297       2 -1.0604234 -0.74832332     -0.8271407 -0.4755514      0.301312576\n",
            "298       2 -1.0604234 -0.24008931     -1.0945509 -0.4755514     -0.656912813\n",
            "299       2 -1.0604234 -0.32479498     -1.0276983 -0.4755514     -0.757778644\n",
            "300       6  0.8234405 -0.24008931      1.0113045  2.0131678     -0.556046983\n",
            "301       3  0.8234405 -0.24008931     -0.6600093 -0.4755514      3.932482474\n",
            "302       5  0.8234405 -0.24008931     -0.7268618 -0.4755514     -0.656912813\n",
            "303       4  2.2363385  0.69167303      1.9472403 -0.4755514     -0.505614068\n",
            "304       4  0.8234405 -1.00244032     -0.4594516 -0.4755514     -0.303882407\n",
            "305       4  0.8234405 -0.15538365     -0.4594516 -0.4755514     -0.606479898\n",
            "306       2 -1.0604234 -0.24008931     -0.8271407 -0.4755514     -0.606479898\n",
            "307       4  0.8234405 -0.24008931      1.0113045 -0.4755514     -0.455181152\n",
            "308       5 -0.5894574 -0.24008931      1.0113045 -0.4755514      0.250879661\n",
            "309       2 -1.0604234 -0.24008931     -1.0276983 -0.4755514     -0.404748237\n",
            "310       5  0.8234405 -0.24008931     -0.6600093 -0.4755514     -0.707345729\n",
            "311       5 -0.1184914 -0.24008931      1.0113045 -0.4755514     -0.354315322\n",
            "312       5  0.8234405 -0.15538365      1.3121410 -0.4755514      0.200446746\n",
            "313       2 -1.0604234  0.01402769     -0.8939932 -0.4755514      0.503044237\n",
            "314       5  0.8234405 -0.83302899      1.2452885 -0.4755514      1.108239220\n",
            "    Soc.harakteristika Obrazovanie Semejnoe.polozhenie Kol.uchastnikov\n",
            "1           1.00257807  0.02952608            0.289987      -0.4267162\n",
            "2           1.00257807  0.02952608           -1.307485       0.5513048\n",
            "3           1.00257807  0.02952608           -1.307485       0.5513048\n",
            "4           1.00257807 -0.81330920           -1.307485       0.5513048\n",
            "5          -0.55020315 -0.81330920            0.289987      -0.4267162\n",
            "6           1.00257807  0.02952608            0.289987      -0.4267162\n",
            "7           1.20511475  1.71519662            0.289987      -0.4267162\n",
            "8          -1.02278873 -0.81330920            0.289987       1.5293259\n",
            "9           1.00257807 -0.81330920            0.289987      -1.4047372\n",
            "10         -0.95527651  0.02952608           -1.307485      -1.4047372\n",
            "11         -1.02278873  1.71519662           -1.307485      -0.4267162\n",
            "12         -1.02278873  1.71519662           -1.307485      -0.4267162\n",
            "13          1.88023701  1.71519662            0.289987       0.5513048\n",
            "14         -0.82025205 -0.81330920           -1.307485      -0.4267162\n",
            "15         -1.09030096  1.71519662            0.289987      -1.4047372\n",
            "16         -0.95527651 -0.81330920            0.289987      -0.4267162\n",
            "17         -1.09030096 -0.81330920           -1.307485       2.5073469\n",
            "18          1.00257807  0.02952608           -1.307485       0.5513048\n",
            "19         -0.68522760 -0.81330920           -1.307485      -0.4267162\n",
            "20         -0.95527651 -0.81330920            0.289987      -0.4267162\n",
            "21          1.00257807 -0.81330920            0.289987      -1.4047372\n",
            "22         -0.75273983  1.71519662           -1.307485      -0.4267162\n",
            "23          1.00257807 -0.81330920           -1.307485      -0.4267162\n",
            "24         -0.75273983 -0.81330920            0.289987      -0.4267162\n",
            "25         -0.75273983  0.02952608            0.289987       0.5513048\n",
            "26          1.00257807 -0.81330920            0.289987      -0.4267162\n",
            "27         -0.95527651 -0.81330920            0.289987      -0.4267162\n",
            "28          1.00257807 -0.81330920            0.289987       0.5513048\n",
            "29         -0.95527651  0.02952608            0.289987      -0.4267162\n",
            "30          1.00257807  0.02952608           -1.307485      -0.4267162\n",
            "31         -1.02278873  1.71519662            0.289987      -0.4267162\n",
            "32         -0.75273983  1.71519662            0.289987      -0.4267162\n",
            "33          1.00257807 -0.81330920            0.289987      -1.4047372\n",
            "34          1.00257807  0.02952608            0.289987      -0.4267162\n",
            "35         -0.75273983  1.71519662           -1.307485       0.5513048\n",
            "36          1.00257807  1.71519662            0.289987      -0.4267162\n",
            "37         -0.95527651 -0.81330920            0.289987      -0.4267162\n",
            "38          1.00257807 -0.81330920            0.289987      -0.4267162\n",
            "39          1.00257807 -0.81330920            0.289987       0.5513048\n",
            "40         -0.82025205  1.71519662            0.289987       0.5513048\n",
            "41         -0.95527651 -0.81330920            0.289987      -0.4267162\n",
            "42          1.00257807  1.71519662            0.289987      -0.4267162\n",
            "43         -1.02278873  1.71519662            0.289987      -0.4267162\n",
            "44         -0.55020315  1.71519662            0.289987       1.5293259\n",
            "45          1.00257807  0.02952608            0.289987      -0.4267162\n",
            "46          1.00257807 -0.81330920            0.289987       0.5513048\n",
            "47          1.07009029  0.02952608            0.289987      -0.4267162\n",
            "48         -1.09030096 -0.81330920           -1.307485      -1.4047372\n",
            "49         -0.95527651 -0.81330920            0.289987      -0.4267162\n",
            "50          1.00257807  0.02952608            0.289987       0.5513048\n",
            "51          1.00257807  0.02952608            0.289987      -0.4267162\n",
            "52          1.00257807 -0.81330920            1.887459       0.5513048\n",
            "53          1.00257807  0.02952608            0.289987      -0.4267162\n",
            "54         -1.09030096  1.71519662            0.289987       0.5513048\n",
            "55         -0.95527651 -0.81330920            0.289987       2.5073469\n",
            "56         -1.02278873  1.71519662            0.289987       1.5293259\n",
            "57          1.00257807 -0.81330920            0.289987       0.5513048\n",
            "58          1.00257807 -0.81330920           -1.307485      -0.4267162\n",
            "59          1.00257807  0.02952608            0.289987      -0.4267162\n",
            "60         -0.95527651  0.02952608            0.289987      -0.4267162\n",
            "61          1.00257807 -0.81330920           -1.307485      -0.4267162\n",
            "62         -0.75273983  0.02952608            0.289987      -0.4267162\n",
            "63          1.00257807  0.02952608           -1.307485      -0.4267162\n",
            "64          1.00257807 -0.81330920            0.289987      -0.4267162\n",
            "65          1.00257807 -0.81330920            0.289987      -0.4267162\n",
            "66         -0.82025205  1.71519662            0.289987      -0.4267162\n",
            "67         -0.95527651 -0.81330920           -1.307485      -0.4267162\n",
            "68         -1.02278873  1.71519662            0.289987      -0.4267162\n",
            "69          1.00257807 -0.81330920           -1.307485       0.5513048\n",
            "70         -0.82025205  1.71519662            0.289987       0.5513048\n",
            "71          1.00257807 -0.81330920           -1.307485      -0.4267162\n",
            "72         -0.82025205  0.02952608           -1.307485      -0.4267162\n",
            "73         -1.09030096 -0.81330920            0.289987      -0.4267162\n",
            "74          1.00257807 -0.81330920            0.289987       1.5293259\n",
            "75         -0.55020315 -0.81330920            0.289987      -0.4267162\n",
            "76         -0.55020315 -0.81330920            0.289987       0.5513048\n",
            "77         -0.95527651  0.02952608            0.289987      -0.4267162\n",
            "78         -0.95527651  0.02952608            0.289987      -0.4267162\n",
            "79         -0.95527651 -0.81330920            0.289987      -0.4267162\n",
            "80          1.00257807  0.02952608            0.289987       1.5293259\n",
            "81         -0.95527651 -0.81330920            0.289987      -0.4267162\n",
            "82          1.00257807 -2.49897974            6.679876      -1.4047372\n",
            "83         -1.09030096  0.02952608            0.289987      -0.4267162\n",
            "84         -0.07761756  1.71519662            0.289987      -0.4267162\n",
            "85         -0.95527651 -0.81330920            0.289987       0.5513048\n",
            "86         -0.95527651 -0.81330920            0.289987      -0.4267162\n",
            "87          1.00257807  1.71519662           -1.307485      -0.4267162\n",
            "88         -0.88776428  1.71519662           -1.307485      -0.4267162\n",
            "89         -1.02278873  1.71519662            0.289987       0.5513048\n",
            "90         -1.09030096  1.71519662            0.289987      -0.4267162\n",
            "91         -0.95527651  0.02952608            0.289987      -0.4267162\n",
            "92         -0.95527651 -0.81330920            0.289987      -0.4267162\n",
            "93          1.00257807 -0.81330920            0.289987       0.5513048\n",
            "94          1.00257807 -0.81330920           -1.307485      -0.4267162\n",
            "95         -1.02278873  0.02952608           -1.307485      -0.4267162\n",
            "96         -0.95527651  0.02952608           -1.307485      -0.4267162\n",
            "97         -1.09030096  0.02952608           -1.307485      -0.4267162\n",
            "98         -0.95527651 -1.65614447            0.289987      -0.4267162\n",
            "99         -0.95527651 -0.81330920            0.289987       3.4853679\n",
            "100        -1.02278873  0.02952608            0.289987      -0.4267162\n",
            "101        -0.95527651  0.02952608            0.289987      -0.4267162\n",
            "102         1.00257807 -0.81330920           -1.307485      -0.4267162\n",
            "103        -0.55020315 -0.81330920            0.289987       0.5513048\n",
            "104         1.00257807 -0.81330920            0.289987       0.5513048\n",
            "105         1.00257807  0.02952608            0.289987      -0.4267162\n",
            "106         1.00257807  0.02952608            0.289987      -0.4267162\n",
            "107         1.00257807  0.02952608            0.289987       2.5073469\n",
            "108         1.00257807  0.02952608            1.887459       1.5293259\n",
            "109        -0.61771537 -0.81330920            5.082404      -0.4267162\n",
            "110         1.00257807 -0.81330920            0.289987      -0.4267162\n",
            "111         1.00257807 -0.81330920            0.289987      -0.4267162\n",
            "112        -0.68522760 -0.81330920           -1.307485      -0.4267162\n",
            "113         1.00257807 -0.81330920           -1.307485      -0.4267162\n",
            "114        -0.95527651 -0.81330920            0.289987       4.4633889\n",
            "115        -0.82025205  1.71519662            0.289987      -0.4267162\n",
            "116         1.00257807 -0.81330920           -1.307485       0.5513048\n",
            "117        -0.55020315 -0.81330920            0.289987      -0.4267162\n",
            "118         1.00257807  1.71519662            0.289987       0.5513048\n",
            "119        -0.95527651  0.02952608            0.289987       0.5513048\n",
            "120         1.00257807  0.02952608            0.289987      -0.4267162\n",
            "121         1.00257807  0.02952608            0.289987      -0.4267162\n",
            "122         1.00257807 -0.81330920            0.289987      -1.4047372\n",
            "123        -0.95527651  0.02952608            0.289987      -0.4267162\n",
            "124        -1.02278873 -0.81330920           -1.307485      -0.4267162\n",
            "125        -0.95527651  0.02952608            0.289987      -0.4267162\n",
            "126         1.00257807  0.02952608            0.289987      -0.4267162\n",
            "127        -0.95527651 -0.81330920            0.289987       0.5513048\n",
            "128        -0.75273983  1.71519662            0.289987       0.5513048\n",
            "129        -0.95527651 -0.81330920            0.289987      -0.4267162\n",
            "130        -0.88776428  1.71519662            0.289987      -0.4267162\n",
            "131        -1.02278873  0.02952608            0.289987       0.5513048\n",
            "132         1.00257807  0.02952608            0.289987      -0.4267162\n",
            "133        -0.95527651 -0.81330920            0.289987      -0.4267162\n",
            "134        -1.02278873 -0.81330920            0.289987      -0.4267162\n",
            "135         1.00257807 -0.81330920           -1.307485      -0.4267162\n",
            "136         2.82540818  1.71519662            0.289987       0.5513048\n",
            "137        -0.07761756  0.02952608            0.289987      -0.4267162\n",
            "138        -1.02278873 -0.81330920            0.289987      -0.4267162\n",
            "139         1.00257807  0.02952608            1.887459      -0.4267162\n",
            "140         1.00257807 -0.81330920           -1.307485      -0.4267162\n",
            "141         1.00257807 -0.81330920            0.289987       0.5513048\n",
            "142        -0.82025205  1.71519662            0.289987      -0.4267162\n",
            "143         1.00257807 -0.81330920            0.289987      -0.4267162\n",
            "144         1.20511475  1.71519662            0.289987       2.5073469\n",
            "145         1.00257807  0.02952608            0.289987      -0.4267162\n",
            "146        -0.75273983  1.71519662            0.289987       0.5513048\n",
            "147        -0.55020315  0.02952608            0.289987       0.5513048\n",
            "148         1.00257807 -0.81330920           -1.307485      -1.4047372\n",
            "149         1.00257807 -0.81330920            0.289987      -0.4267162\n",
            "150        -0.68522760  0.87236135           -1.307485      -1.4047372\n",
            "151         1.00257807  0.02952608            0.289987      -0.4267162\n",
            "152         1.00257807 -0.81330920            0.289987       0.5513048\n",
            "153         1.00257807 -0.81330920            0.289987       0.5513048\n",
            "154        -0.95527651  0.02952608            1.887459      -0.4267162\n",
            "155         1.00257807 -0.81330920            0.289987       1.5293259\n",
            "156         2.28531037  1.71519662            0.289987      -0.4267162\n",
            "157        -0.82025205  1.71519662            0.289987      -0.4267162\n",
            "158         1.00257807 -0.81330920            0.289987      -0.4267162\n",
            "159        -0.55020315 -0.81330920            0.289987       2.5073469\n",
            "160         1.00257807  0.02952608           -1.307485       0.5513048\n",
            "161        -0.95527651  0.02952608            0.289987      -0.4267162\n",
            "162        -1.09030096 -0.81330920            0.289987       0.5513048\n",
            "163        -0.55020315 -0.81330920            0.289987       1.5293259\n",
            "164        -0.95527651 -0.81330920            0.289987       1.5293259\n",
            "165         1.00257807 -0.81330920            0.289987      -0.4267162\n",
            "166        -1.02278873  1.71519662            0.289987      -0.4267162\n",
            "167         1.00257807 -0.81330920            0.289987      -0.4267162\n",
            "168        -0.95527651  0.02952608            0.289987      -0.4267162\n",
            "169         1.00257807  0.02952608           -1.307485      -0.4267162\n",
            "170         0.52999248 -0.81330920            0.289987      -0.4267162\n",
            "171        -0.95527651  0.02952608            0.289987      -0.4267162\n",
            "172         1.00257807 -0.81330920            0.289987      -0.4267162\n",
            "173        -0.95527651  0.02952608            0.289987      -0.4267162\n",
            "174         1.00257807 -0.81330920            0.289987       0.5513048\n",
            "175         1.00257807 -0.81330920            0.289987      -0.4267162\n",
            "176        -0.55020315  1.71519662            0.289987      -0.4267162\n",
            "177        -1.02278873  1.71519662            0.289987       0.5513048\n",
            "178        -1.09030096  0.02952608            0.289987       0.5513048\n",
            "179        -0.95527651  0.02952608            0.289987      -0.4267162\n",
            "180         1.00257807  1.71519662            0.289987       0.5513048\n",
            "181         1.00257807  0.02952608            0.289987      -0.4267162\n",
            "182         1.00257807 -0.81330920           -1.307485       0.5513048\n",
            "183        -1.02278873  1.71519662            0.289987      -0.4267162\n",
            "184        -1.02278873  1.71519662            0.289987       0.5513048\n",
            "185        -1.02278873 -0.81330920            0.289987      -0.4267162\n",
            "186        -0.95527651 -0.81330920            0.289987      -0.4267162\n",
            "187         1.00257807  0.02952608            0.289987      -0.4267162\n",
            "188         1.20511475  1.71519662            0.289987      -0.4267162\n",
            "189         1.00257807  0.02952608            0.289987      -0.4267162\n",
            "190         1.00257807 -0.81330920           -1.307485       8.3754730\n",
            "191        -0.95527651  0.02952608            0.289987       0.5513048\n",
            "192        -0.95527651  0.02952608           -1.307485      -0.4267162\n",
            "193         1.00257807 -0.81330920            0.289987       0.5513048\n",
            "194        -0.95527651  0.02952608            0.289987      -0.4267162\n",
            "195        -0.55020315  0.02952608           -1.307485      -0.4267162\n",
            "196         1.00257807 -0.81330920            5.082404      -0.4267162\n",
            "197         1.00257807  0.02952608            0.289987       0.5513048\n",
            "198        -0.82025205 -0.81330920            0.289987      -0.4267162\n",
            "199        -0.21264201  1.71519662            0.289987      -0.4267162\n",
            "200        -1.09030096  1.71519662            0.289987      -0.4267162\n",
            "201        -1.02278873  1.71519662           -1.307485      -0.4267162\n",
            "202        -0.75273983  0.02952608            0.289987      -0.4267162\n",
            "203         1.00257807  0.02952608            0.289987      -0.4267162\n",
            "204         1.00257807 -0.81330920           -1.307485      -0.4267162\n",
            "205        -0.68522760 -2.49897974            5.082404       0.5513048\n",
            "206        -0.88776428  1.71519662            0.289987      -0.4267162\n",
            "207         1.20511475  0.02952608           -1.307485      -0.4267162\n",
            "208         1.00257807 -0.81330920            0.289987       3.4853679\n",
            "209         1.00257807  1.71519662            0.289987      -0.4267162\n",
            "210        -0.95527651  0.02952608            0.289987      -0.4267162\n",
            "211         1.00257807 -0.81330920            0.289987      -0.4267162\n",
            "212         1.00257807  0.02952608            0.289987      -0.4267162\n",
            "213         3.16296932  1.71519662            0.289987      -0.4267162\n",
            "214        -0.61771537 -0.81330920           -1.307485       1.5293259\n",
            "215        -0.82025205  0.02952608           -1.307485      -0.4267162\n",
            "216         1.20511475  1.71519662            0.289987      -0.4267162\n",
            "217        -0.55020315 -0.81330920            0.289987      -0.4267162\n",
            "218        -0.95527651  0.02952608            0.289987      -0.4267162\n",
            "219        -1.09030096  0.02952608            0.289987      -0.4267162\n",
            "220        -0.55020315 -0.81330920            0.289987      -0.4267162\n",
            "221        -1.02278873  1.71519662            0.289987      -0.4267162\n",
            "222        -1.02278873  1.71519662            0.289987      -0.4267162\n",
            "223         1.00257807  0.02952608           -1.307485      -1.4047372\n",
            "224        -0.95527651 -0.81330920           -1.307485      -0.4267162\n",
            "225         1.00257807 -0.81330920            0.289987       0.5513048\n",
            "226         1.00257807 -0.81330920            0.289987      -0.4267162\n",
            "227         1.00257807  1.71519662            0.289987      -0.4267162\n",
            "228         1.00257807 -0.81330920           -1.307485      -0.4267162\n",
            "229         1.00257807  0.02952608            0.289987      -1.4047372\n",
            "230        -0.55020315 -0.81330920            0.289987       0.5513048\n",
            "231        -0.61771537 -0.81330920           -1.307485      -0.4267162\n",
            "232        -1.02278873  1.71519662            0.289987       0.5513048\n",
            "233         1.00257807  0.02952608            0.289987      -0.4267162\n",
            "234         1.00257807  1.71519662           -1.307485       1.5293259\n",
            "235         1.00257807 -0.81330920            0.289987      -0.4267162\n",
            "236        -0.95527651 -0.81330920            0.289987      -0.4267162\n",
            "237         1.00257807  1.71519662           -1.307485      -0.4267162\n",
            "238        -1.09030096  0.02952608           -1.307485      -0.4267162\n",
            "239         1.40765143  1.71519662            0.289987      -0.4267162\n",
            "240        -1.09030096  1.71519662            0.289987       0.5513048\n",
            "241        -0.95527651  0.02952608           -1.307485      -1.4047372\n",
            "242        -1.02278873  0.02952608            0.289987       0.5513048\n",
            "243         1.00257807 -0.81330920           -1.307485      -1.4047372\n",
            "244         1.00257807  0.02952608            0.289987       4.4633889\n",
            "245         1.00257807  0.02952608            0.289987       0.5513048\n",
            "246         1.00257807  0.02952608            0.289987       3.4853679\n",
            "247        -0.82025205 -0.81330920           -1.307485       0.5513048\n",
            "248        -0.95527651 -0.81330920            0.289987       0.5513048\n",
            "249         1.00257807 -0.81330920           -1.307485      -0.4267162\n",
            "250        -0.21264201  1.71519662            0.289987       0.5513048\n",
            "251        -0.95527651 -0.81330920            0.289987      -0.4267162\n",
            "252         1.00257807  0.02952608            0.289987      -0.4267162\n",
            "253        -0.95527651  0.02952608            0.289987      -0.4267162\n",
            "254        -1.09030096  0.02952608            0.289987       0.5513048\n",
            "255        -1.02278873  1.71519662            0.289987      -0.4267162\n",
            "256        -0.68522760 -2.49897974            5.082404      -0.4267162\n",
            "257        -0.95527651 -0.81330920            0.289987      -0.4267162\n",
            "258         1.00257807  0.02952608           -1.307485       0.5513048\n",
            "259        -1.02278873  1.71519662           -1.307485       0.5513048\n",
            "260         1.00257807  0.02952608           -1.307485       0.5513048\n",
            "261        -0.55020315  1.71519662           -1.307485      -0.4267162\n",
            "262        -0.55020315 -0.81330920            0.289987      -0.4267162\n",
            "263        -0.61771537 -0.81330920           -1.307485       0.5513048\n",
            "264         2.89292041 -0.81330920            0.289987      -0.4267162\n",
            "265        -0.55020315 -0.81330920            0.289987      -0.4267162\n",
            "266        -1.09030096  0.02952608            0.289987       0.5513048\n",
            "267        -0.95527651  0.02952608           -1.307485      -0.4267162\n",
            "268         1.00257807 -0.81330920           -1.307485       0.5513048\n",
            "269        -1.02278873  1.71519662           -1.307485      -0.4267162\n",
            "270        -0.55020315 -0.81330920            0.289987      -0.4267162\n",
            "271         1.00257807  0.02952608           -1.307485      -0.4267162\n",
            "272        -0.55020315 -0.81330920           -1.307485      -0.4267162\n",
            "273        -0.82025205 -0.81330920            0.289987       0.5513048\n",
            "274         1.00257807 -0.81330920            0.289987      -0.4267162\n",
            "275         1.00257807 -0.81330920            0.289987       0.5513048\n",
            "276        -0.95527651 -0.81330920            0.289987       0.5513048\n",
            "277        -0.75273983  1.71519662            0.289987      -0.4267162\n",
            "278        -0.55020315 -0.81330920            0.289987       1.5293259\n",
            "279        -0.95527651  0.02952608            0.289987      -0.4267162\n",
            "280        -0.95527651 -0.81330920            0.289987      -0.4267162\n",
            "281        -0.55020315  0.02952608            0.289987       1.5293259\n",
            "282         1.00257807  1.71519662            0.289987      -0.4267162\n",
            "283        -1.02278873  1.71519662            0.289987      -0.4267162\n",
            "284        -1.09030096 -0.81330920           -1.307485      -0.4267162\n",
            "285        -0.95527651  0.02952608            0.289987      -0.4267162\n",
            "286        -0.95527651  0.02952608           -1.307485       0.5513048\n",
            "287         1.00257807  0.02952608            0.289987      -0.4267162\n",
            "288         1.00257807  0.02952608            0.289987      -0.4267162\n",
            "289        -0.95527651  0.02952608            0.289987       3.4853679\n",
            "290         1.20511475  1.71519662            0.289987      -0.4267162\n",
            "291        -1.02278873  1.71519662            0.289987      -0.4267162\n",
            "292        -1.02278873  0.02952608            0.289987      -0.4267162\n",
            "293         1.00257807  0.02952608            0.289987       0.5513048\n",
            "294        -1.02278873  1.71519662            0.289987       1.5293259\n",
            "295        -0.82025205  0.02952608           -1.307485      -0.4267162\n",
            "296        -0.55020315 -0.81330920           -1.307485      -0.4267162\n",
            "297        -0.95527651  0.02952608            0.289987      -0.4267162\n",
            "298        -1.02278873  1.71519662            0.289987       0.5513048\n",
            "299        -0.95527651 -0.81330920            0.289987       0.5513048\n",
            "300         1.00257807 -0.81330920            0.289987      -0.4267162\n",
            "301         1.00257807  0.02952608           -1.307485      -0.4267162\n",
            "302         1.00257807 -0.81330920           -1.307485      -0.4267162\n",
            "303        -0.95527651  0.02952608            0.289987      -0.4267162\n",
            "304        -0.95527651  0.02952608            0.289987      -0.4267162\n",
            "305        -0.82025205 -0.81330920            0.289987      -0.4267162\n",
            "306         1.00257807 -0.81330920           -1.307485       0.5513048\n",
            "307        -0.82025205 -0.81330920            0.289987      -0.4267162\n",
            "308         1.00257807 -0.81330920            0.289987      -1.4047372\n",
            "309         1.00257807  0.02952608            0.289987      -0.4267162\n",
            "310         1.00257807 -0.81330920           -1.307485      -0.4267162\n",
            "311         1.00257807 -0.81330920            0.289987       1.5293259\n",
            "312         1.00257807 -0.81330920            0.289987      -0.4267162\n",
            "313         1.00257807 -0.81330920            0.289987       0.5513048\n",
            "314         1.00257807 -0.81330920            0.289987      -0.4267162\n",
            "         Vozrast\n",
            "1   -0.739729665\n",
            "2   -1.383721994\n",
            "3   -0.913310956\n",
            "4   -1.020100769\n",
            "5    2.680415033\n",
            "6   -0.801353894\n",
            "7    0.166261326\n",
            "8    0.078800852\n",
            "9    1.334250979\n",
            "10  -0.708917551\n",
            "11  -1.094738810\n",
            "12  -1.055505993\n",
            "13   0.044352525\n",
            "14  -1.061630140\n",
            "15   0.478018682\n",
            "16   1.428792498\n",
            "17  -1.215307953\n",
            "18  -1.426782403\n",
            "19  -1.424103088\n",
            "20  -0.316398007\n",
            "21  -0.772264196\n",
            "22   0.548254993\n",
            "23  -1.183156181\n",
            "24  -0.327880782\n",
            "25  -0.509882775\n",
            "26   0.940200398\n",
            "27  -0.731883102\n",
            "28  -0.440986121\n",
            "29   0.815420904\n",
            "30  -0.972638630\n",
            "31   1.571753054\n",
            "32   0.299461522\n",
            "33  -0.975126564\n",
            "34   0.466918666\n",
            "35  -0.072771785\n",
            "36  -0.877714352\n",
            "37   0.743653557\n",
            "38   0.078418093\n",
            "39   0.281089081\n",
            "40  -0.240420308\n",
            "41   0.837620936\n",
            "42  -1.128995757\n",
            "43  -0.421656783\n",
            "44   0.366827139\n",
            "45   0.637820642\n",
            "46  -0.305106611\n",
            "47   0.368166796\n",
            "48  -0.961921372\n",
            "49   0.597056789\n",
            "50  -0.899340246\n",
            "51   0.924890031\n",
            "52  -0.507203460\n",
            "53   0.918574504\n",
            "54  -0.391036048\n",
            "55  -0.682315788\n",
            "56  -0.561938024\n",
            "57   0.323192592\n",
            "58  -0.997900736\n",
            "59   0.202623448\n",
            "60   1.329849249\n",
            "61  -0.999049013\n",
            "62   0.624041311\n",
            "63  -0.915224752\n",
            "64   0.518973915\n",
            "65   0.063490485\n",
            "66  -0.356970480\n",
            "67   1.046224692\n",
            "68  -0.313527313\n",
            "69  -1.367071970\n",
            "70   0.106168134\n",
            "71  -0.300896260\n",
            "72  -0.202527149\n",
            "73   1.053879876\n",
            "74   0.807382961\n",
            "75   0.076312917\n",
            "76   2.342630052\n",
            "77  -1.220666582\n",
            "78  -0.439646464\n",
            "79  -0.095545957\n",
            "80  -0.151428798\n",
            "81   0.354387465\n",
            "82   5.378867288\n",
            "83   0.455244511\n",
            "84  -0.297451427\n",
            "85   1.115121346\n",
            "86  -0.760398661\n",
            "87  -0.648250220\n",
            "88   0.071337048\n",
            "89   0.505577343\n",
            "90  -0.086359736\n",
            "91   1.287937118\n",
            "92   0.837812316\n",
            "93  -0.504715526\n",
            "94  -0.562320783\n",
            "95  -0.687865796\n",
            "96   0.265778714\n",
            "97  -1.189854467\n",
            "98  -0.177839182\n",
            "99   1.327361314\n",
            "100 -0.537632816\n",
            "101  1.184974897\n",
            "102 -1.456828999\n",
            "103  1.759687813\n",
            "104 -0.481367215\n",
            "105 -0.213435786\n",
            "106  1.250618097\n",
            "107 -0.021482055\n",
            "108 -1.294347725\n",
            "109 -1.520367023\n",
            "110 -1.080002581\n",
            "111 -0.359075656\n",
            "112 -1.396161668\n",
            "113 -0.545479379\n",
            "114  0.287213228\n",
            "115 -0.887091952\n",
            "116 -0.548541452\n",
            "117  1.639501429\n",
            "118 -0.886135054\n",
            "119  0.055835301\n",
            "120  0.531413588\n",
            "121  0.404528919\n",
            "122  0.478975580\n",
            "123  0.688727613\n",
            "124  0.055835301\n",
            "125 -0.796186645\n",
            "126  0.404911678\n",
            "127 -0.471415477\n",
            "128  0.795326047\n",
            "129  1.441806310\n",
            "130 -0.672555428\n",
            "131 -0.181284014\n",
            "132 -0.218603035\n",
            "133  0.993021166\n",
            "134  1.713373952\n",
            "135 -1.375109913\n",
            "136  0.538303254\n",
            "137 -0.415724015\n",
            "138 -0.083871802\n",
            "139 -0.880010907\n",
            "140 -0.878479870\n",
            "141 -0.027606201\n",
            "142 -0.634662269\n",
            "143 -0.895895413\n",
            "144  1.456542539\n",
            "145 -0.034878626\n",
            "146  0.735998373\n",
            "147  1.507066751\n",
            "148 -0.972447250\n",
            "149 -0.807478041\n",
            "150 -1.389846141\n",
            "151  0.192863089\n",
            "152 -0.054973483\n",
            "153  0.601267140\n",
            "154  0.519548054\n",
            "155 -0.280227264\n",
            "156  0.373142665\n",
            "157  0.076121538\n",
            "158 -0.908335086\n",
            "159  1.845043112\n",
            "160 -1.088614663\n",
            "161 -0.008851001\n",
            "162  0.716477654\n",
            "163  1.939967390\n",
            "164  0.932736594\n",
            "165 -0.566339755\n",
            "166 -0.103583900\n",
            "167  0.174490648\n",
            "168  0.888527908\n",
            "169 -1.360756443\n",
            "170 -1.083064654\n",
            "171  1.902265610\n",
            "172  0.169706158\n",
            "173 -0.062628667\n",
            "174 -0.846710858\n",
            "175 -0.495146546\n",
            "176  1.079141982\n",
            "177 -0.811497013\n",
            "178 -0.548350073\n",
            "179 -0.433713697\n",
            "180  0.269223547\n",
            "181 -0.443665436\n",
            "182 -0.815898743\n",
            "183  0.814464006\n",
            "184 -0.181475394\n",
            "185 -0.160232259\n",
            "186 -0.179178839\n",
            "187 -0.609782922\n",
            "188  0.184442387\n",
            "189  0.368740935\n",
            "190 -1.073687054\n",
            "191  0.520313572\n",
            "192 -0.966323103\n",
            "193  0.855227859\n",
            "194  0.746907010\n",
            "195  1.210811142\n",
            "196 -1.526682550\n",
            "197 -0.084445940\n",
            "198 -0.634853649\n",
            "199  0.616003368\n",
            "200  0.156118207\n",
            "201  0.938095223\n",
            "202 -0.643465730\n",
            "203 -0.449789583\n",
            "204 -0.411896423\n",
            "205 -1.485344558\n",
            "206 -0.619734661\n",
            "207 -1.158659594\n",
            "208  0.023492150\n",
            "209 -0.366539460\n",
            "210 -0.291710039\n",
            "211 -0.110664945\n",
            "212  1.410420057\n",
            "213 -0.641934694\n",
            "214 -1.464675562\n",
            "215 -0.944123070\n",
            "216  2.257274754\n",
            "217  1.305926799\n",
            "218  0.390366829\n",
            "219  0.364147824\n",
            "220  0.473425572\n",
            "221 -0.231234088\n",
            "222  0.328933979\n",
            "223 -1.179519969\n",
            "224 -0.866040196\n",
            "225 -0.456487868\n",
            "226  1.538261625\n",
            "227 -0.059949353\n",
            "228  0.162625114\n",
            "229  0.212001048\n",
            "230  1.175405917\n",
            "231 -1.354823676\n",
            "232 -0.158318463\n",
            "233 -0.096885614\n",
            "234 -1.267937341\n",
            "235 -0.921923038\n",
            "236  0.164538909\n",
            "237 -0.982781748\n",
            "238  0.492563531\n",
            "239  1.518358147\n",
            "240 -0.637915722\n",
            "241 -0.971298972\n",
            "242 -0.257644472\n",
            "243 -1.466972117\n",
            "244  0.945941786\n",
            "245 -0.643848490\n",
            "246 -0.046552781\n",
            "247 -0.580310465\n",
            "248  0.759920822\n",
            "249  0.015454207\n",
            "250  0.051050811\n",
            "251 -0.718486531\n",
            "252 -0.665857143\n",
            "253  0.259463187\n",
            "254 -0.461846497\n",
            "255 -0.299365223\n",
            "256  5.315329264\n",
            "257  0.786139826\n",
            "258 -1.010723168\n",
            "259 -0.641743314\n",
            "260 -1.255306288\n",
            "261  1.518740906\n",
            "262  1.525630572\n",
            "263 -1.377406468\n",
            "264  0.279558045\n",
            "265  1.728110181\n",
            "266 -0.828529796\n",
            "267 -1.366115072\n",
            "268 -0.615715689\n",
            "269 -0.904698874\n",
            "270  2.433152600\n",
            "271 -1.259325259\n",
            "272  2.606542511\n",
            "273  0.059471513\n",
            "274  1.013307402\n",
            "275  0.463665213\n",
            "276  0.696191418\n",
            "277  0.080331889\n",
            "278  1.119523076\n",
            "279  0.130090583\n",
            "280  0.452756576\n",
            "281  2.053838247\n",
            "282 -1.012062826\n",
            "283 -0.724802057\n",
            "284 -0.559641469\n",
            "285  1.407740743\n",
            "286  0.517442878\n",
            "287  0.693512103\n",
            "288 -0.655905404\n",
            "289  0.399553049\n",
            "290 -0.923071315\n",
            "291  0.948238341\n",
            "292  1.497880531\n",
            "293 -0.550072489\n",
            "294 -0.547010416\n",
            "295 -0.255156537\n",
            "296  2.628551164\n",
            "297  0.158988901\n",
            "298 -0.233530643\n",
            "299 -0.569210448\n",
            "300 -1.002302466\n",
            "301 -0.890919544\n",
            "302 -1.163444083\n",
            "303 -0.976466221\n",
            "304 -0.612844996\n",
            "305 -0.017271703\n",
            "306 -0.986800719\n",
            "307 -0.873504001\n",
            "308  1.175980056\n",
            "309 -0.227406496\n",
            "310  0.538494633\n",
            "311 -0.671024392\n",
            "312  0.699444871\n",
            "313  0.441273800\n",
            "314  1.385349330\n"
          ]
        }
      ]
    },
    {
      "cell_type": "code",
      "metadata": {
        "id": "F_gcFvZ11yWL"
      },
      "source": [
        "%%R\n",
        "\n",
        "library(ggplot2)"
      ],
      "execution_count": null,
      "outputs": []
    },
    {
      "cell_type": "code",
      "metadata": {
        "id": "n8_DK3BYnRg7"
      },
      "source": [
        "%%R\n",
        "\n",
        "library(purrr)"
      ],
      "execution_count": 7,
      "outputs": []
    },
    {
      "cell_type": "code",
      "metadata": {
        "colab": {
          "base_uri": "https://localhost:8080/",
          "height": 497
        },
        "id": "PmGYjrqgxqT3",
        "outputId": "b3f88515-0683-441a-fabb-7bf538d38a8e"
      },
      "source": [
        "%%R\n",
        "\n",
        "set.seed(123)\n",
        "\n",
        "# function to compute total within-cluster sum of square \n",
        "wss <- function(k) {\n",
        "  kmeans(my_data, k, nstart = 10 )$tot.withinss\n",
        "}\n",
        "\n",
        "# Compute and plot wss for k = 1 to k = 15\n",
        "k.values <- 1:10\n",
        "\n",
        "# extract wss for 2-15 clusters\n",
        "wss_values <- map_dbl(k.values, wss)\n",
        "\n",
        "plot(k.values, wss_values,\n",
        "       type=\"b\", pch = 19, frame = FALSE, \n",
        "       xlab=\"Number of clusters K\",\n",
        "       ylab=\"Total within-clusters sum of squares\")"
      ],
      "execution_count": 8,
      "outputs": [
        {
          "output_type": "display_data",
          "data": {
            "image/png": "[encoded data removed]"
          },
          "metadata": {}
        }
      ]
    },
    {
      "cell_type": "code",
      "metadata": {
        "id": "S7dNNrxVnfF8"
      },
      "source": [
        "%%R\n",
        "\n",
        "library(cluster)"
      ],
      "execution_count": null,
      "outputs": []
    },
    {
      "cell_type": "code",
      "metadata": {
        "id": "57xQdzcAxzgV"
      },
      "source": [
        "%%R\n",
        "\n",
        "# function to compute average silhouette for k clusters\n",
        "avg_sil <- function(k) {\n",
        "  km.res <- kmeans(my_data, centers = k, nstart = 25)\n",
        "  ss <- silhouette(km.res$cluster, dist(my_data))\n",
        "  mean(ss[, 3])\n",
        "}\n",
        "\n",
        "# Compute and plot wss for k = 2 to k = 15\n",
        "k.values <- 2:5\n",
        "\n",
        "# extract avg silhouette for 2-15 clusters\n",
        "avg_sil_values <- map_dbl(k.values, avg_sil)\n",
        "\n",
        "plot(k.values, avg_sil_values,\n",
        "       type = \"b\", pch = 19, frame = FALSE, \n",
        "       xlab = \"Number of clusters K\",\n",
        "       ylab = \"Average Silhouettes\")"
      ],
      "execution_count": null,
      "outputs": []
    },
    {
      "cell_type": "code",
      "metadata": {
        "colab": {
          "base_uri": "https://localhost:8080/"
        },
        "id": "8tZZzvlEzX8d",
        "outputId": "3d5ca069-15d2-4f49-8d18-e247825d8c74"
      },
      "source": [
        "%%R\n",
        "\n",
        "# compute gap statistic\n",
        "set.seed(123)\n",
        "gap_stat <- clusGap(my_data, FUN = kmeans, nstart = 25,\n",
        "                    K.max = 10, B = 50)\n",
        "# Print the result\n",
        "print(gap_stat, method = \"firstmax\")"
      ],
      "execution_count": null,
      "outputs": [
        {
          "output_type": "stream",
          "name": "stdout",
          "text": [
            "Clustering k = 1,2,..., K.max (= 10): .. done\n",
            "Bootstrapping, b = 1,2,..., B (= 50)  [one \".\" per sample]:\n",
            ".................................................. 50 \n",
            "Clustering Gap statistic [\"clusGap\"] from call:\n",
            "clusGap(x = my_data, FUNcluster = kmeans, K.max = 10, B = 50,     nstart = 25)\n",
            "B=50 simulated reference sets, k = 1..10; spaceH0=\"scaledPCA\"\n",
            " --> Number of clusters (method 'firstmax'): 1\n",
            "          logW   E.logW       gap      SE.sim\n",
            " [1,] 5.790719 6.561125 0.7704059 0.010714738\n",
            " [2,] 5.699502 6.454491 0.7549892 0.009050616\n",
            " [3,] 5.644588 6.402681 0.7580932 0.009082395\n",
            " [4,] 5.577646 6.363753 0.7861070 0.008659288\n",
            " [5,] 5.527821 6.335862 0.8080409 0.008845769\n",
            " [6,] 5.498316 6.311290 0.8129738 0.009179733\n",
            " [7,] 5.473254 6.289627 0.8163727 0.009676754\n",
            " [8,] 5.446664 6.269638 0.8229741 0.009590343\n",
            " [9,] 5.405001 6.251795 0.8467944 0.009990563\n",
            "[10,] 5.367494 6.234830 0.8673363 0.009801157\n"
          ]
        }
      ]
    },
    {
      "cell_type": "code",
      "metadata": {
        "colab": {
          "base_uri": "https://localhost:8080/"
        },
        "id": "7kCE-ph0zwCI",
        "outputId": "d70033e3-5ca9-4850-cb49-6592ebba77b7"
      },
      "source": [
        "%%R\n",
        "\n",
        "#fviz_gap_stat(gap_stat)"
      ],
      "execution_count": null,
      "outputs": [
        {
          "output_type": "stream",
          "name": "stdout",
          "text": [
            "NULL\n"
          ]
        }
      ]
    },
    {
      "cell_type": "code",
      "metadata": {
        "id": "D0iPG0ZYz1vO"
      },
      "source": [
        "%%R\n",
        "\n",
        "clusters <- hclust(dist(my_data))\n",
        "plot(clusters)"
      ],
      "execution_count": null,
      "outputs": []
    },
    {
      "cell_type": "code",
      "metadata": {
        "colab": {
          "base_uri": "https://localhost:8080/"
        },
        "id": "NEM5rVfHxFst",
        "outputId": "3cd6ae5b-5f68-4097-8f31-b1888205f773"
      },
      "source": [
        "%%R\n",
        "install.packages('ape')"
      ],
      "execution_count": null,
      "outputs": [
        {
          "output_type": "stream",
          "name": "stderr",
          "text": [
            "R[write to console]: Installing package into ‘/usr/local/lib/R/site-library’\n",
            "(as ‘lib’ is unspecified)\n",
            "\n",
            "R[write to console]: trying URL 'https://cran.rstudio.com/src/contrib/ape_5.5.tar.gz'\n",
            "\n",
            "R[write to console]: Content type 'application/x-gzip'\n",
            "R[write to console]:  length 1751486 bytes (1.7 MB)\n",
            "\n",
            "R[write to console]: =\n",
            "R[write to console]: =\n",
            "R[write to console]: =\n",
            "R[write to console]: =\n",
            "R[write to console]: =\n",
            "R[write to console]: =\n",
            "R[write to console]: =\n",
            "R[write to console]: =\n",
            "R[write to console]: =\n",
            "R[write to console]: =\n",
            "R[write to console]: =\n",
            "R[write to console]: =\n",
            "R[write to console]: =\n",
            "R[write to console]: =\n",
            "R[write to console]: =\n",
            "R[write to console]: =\n",
            "R[write to console]: =\n",
            "R[write to console]: =\n",
            "R[write to console]: =\n",
            "R[write to console]: =\n",
            "R[write to console]: =\n",
            "R[write to console]: =\n",
            "R[write to console]: =\n",
            "R[write to console]: =\n",
            "R[write to console]: =\n",
            "R[write to console]: =\n",
            "R[write to console]: =\n",
            "R[write to console]: =\n",
            "R[write to console]: =\n",
            "R[write to console]: =\n",
            "R[write to console]: =\n",
            "R[write to console]: =\n",
            "R[write to console]: =\n",
            "R[write to console]: =\n",
            "R[write to console]: =\n",
            "R[write to console]: =\n",
            "R[write to console]: =\n",
            "R[write to console]: =\n",
            "R[write to console]: =\n",
            "R[write to console]: =\n",
            "R[write to console]: =\n",
            "R[write to console]: =\n",
            "R[write to console]: =\n",
            "R[write to console]: =\n",
            "R[write to console]: =\n",
            "R[write to console]: =\n",
            "R[write to console]: =\n",
            "R[write to console]: =\n",
            "R[write to console]: =\n",
            "R[write to console]: =\n",
            "R[write to console]: \n",
            "\n",
            "R[write to console]: downloaded 1.7 MB\n",
            "\n",
            "\n",
            "R[write to console]: \n",
            "\n",
            "R[write to console]: \n",
            "R[write to console]: The downloaded source packages are in\n",
            "\t‘/tmp/Rtmp8StXLF/downloaded_packages’\n",
            "R[write to console]: \n",
            "R[write to console]: \n",
            "\n"
          ]
        }
      ]
    },
    {
      "cell_type": "code",
      "metadata": {
        "colab": {
          "base_uri": "https://localhost:8080/",
          "height": 497
        },
        "id": "07AVqOqewgpa",
        "outputId": "4d03a08c-938c-48c1-e092-824b106005fd"
      },
      "source": [
        "%%R\n",
        "library(ape)\n",
        "colors = c(\"red\", \"blue\", \"green\", \"black\", \"orange\", \"darkblue\")\n",
        "clus6 = cutree(clusters, 6)\n",
        "plot(as.phylo(clusters), type = \"fan\", tip.color = colors[clus6],\n",
        "     label.offset = 1, cex = 0.7)"
      ],
      "execution_count": null,
      "outputs": [
        {
          "output_type": "display_data",
          "data": {
            "image/png": "[encoded data removed]"
          },
          "metadata": {}
        }
      ]
    },
    {
      "cell_type": "code",
      "metadata": {
        "colab": {
          "base_uri": "https://localhost:8080/"
        },
        "id": "VhrO_Y5Myi2J",
        "outputId": "ed0e5d93-f0d3-41f5-e47b-a7ddeb2c5775"
      },
      "source": [
        "%%R\n",
        "install.packages(\"pvclust\")"
      ],
      "execution_count": 15,
      "outputs": [
        {
          "output_type": "stream",
          "name": "stderr",
          "text": [
            "R[write to console]: Installing package into ‘/usr/local/lib/R/site-library’\n",
            "(as ‘lib’ is unspecified)\n",
            "\n",
            "R[write to console]: trying URL 'https://cran.rstudio.com/src/contrib/pvclust_2.2-0.tar.gz'\n",
            "\n",
            "R[write to console]: Content type 'application/x-gzip'\n",
            "R[write to console]:  length 105190 bytes (102 KB)\n",
            "\n",
            "R[write to console]: =\n",
            "R[write to console]: =\n",
            "R[write to console]: =\n",
            "R[write to console]: =\n",
            "R[write to console]: =\n",
            "R[write to console]: =\n",
            "R[write to console]: =\n",
            "R[write to console]: =\n",
            "R[write to console]: =\n",
            "R[write to console]: =\n",
            "R[write to console]: =\n",
            "R[write to console]: =\n",
            "R[write to console]: =\n",
            "R[write to console]: =\n",
            "R[write to console]: =\n",
            "R[write to console]: =\n",
            "R[write to console]: =\n",
            "R[write to console]: =\n",
            "R[write to console]: =\n",
            "R[write to console]: =\n",
            "R[write to console]: =\n",
            "R[write to console]: =\n",
            "R[write to console]: =\n",
            "R[write to console]: =\n",
            "R[write to console]: =\n",
            "R[write to console]: =\n",
            "R[write to console]: =\n",
            "R[write to console]: =\n",
            "R[write to console]: =\n",
            "R[write to console]: =\n",
            "R[write to console]: =\n",
            "R[write to console]: =\n",
            "R[write to console]: =\n",
            "R[write to console]: =\n",
            "R[write to console]: =\n",
            "R[write to console]: =\n",
            "R[write to console]: =\n",
            "R[write to console]: =\n",
            "R[write to console]: =\n",
            "R[write to console]: =\n",
            "R[write to console]: =\n",
            "R[write to console]: =\n",
            "R[write to console]: =\n",
            "R[write to console]: =\n",
            "R[write to console]: =\n",
            "R[write to console]: =\n",
            "R[write to console]: =\n",
            "R[write to console]: =\n",
            "R[write to console]: =\n",
            "R[write to console]: =\n",
            "R[write to console]: \n",
            "\n",
            "R[write to console]: downloaded 102 KB\n",
            "\n",
            "\n",
            "R[write to console]: \n",
            "\n",
            "R[write to console]: \n",
            "R[write to console]: The downloaded source packages are in\n",
            "\t‘/tmp/Rtmp2MkXRr/downloaded_packages’\n",
            "R[write to console]: \n",
            "R[write to console]: \n",
            "\n"
          ]
        }
      ]
    },
    {
      "cell_type": "markdown",
      "metadata": {
        "id": "G992Wibtzuh2"
      },
      "source": [
        "Непонятно, что... Результат --- близость факторов"
      ]
    },
    {
      "cell_type": "code",
      "metadata": {
        "id": "FTONtOFV0JDf",
        "colab": {
          "base_uri": "https://localhost:8080/",
          "height": 601
        },
        "outputId": "44b2c248-f0db-4dd7-a983-37a3b0658cda"
      },
      "source": [
        "%%R\n",
        "library(pvclust)\n",
        "set.seed(1234)\n",
        "result <- pvclust(my_data_1[1:length(my_data_1$Gender),], method.dist=\"cor\", \n",
        "                  method.hclust=\"average\", nboot=1000)"
      ],
      "execution_count": 16,
      "outputs": [
        {
          "output_type": "stream",
          "name": "stderr",
          "text": [
            "R[write to console]: Error in nrow(data) : object 'my_data_1' not found\n",
            "\n"
          ]
        },
        {
          "output_type": "stream",
          "name": "stdout",
          "text": [
            "\n",
            "Error in nrow(data) : object 'my_data_1' not found\n"
          ]
        },
        {
          "output_type": "error",
          "ename": "RInterpreterError",
          "evalue": "ignored",
          "traceback": [
            "\u001b[0;31m---------------------------------------------------------------------------\u001b[0m",
            "\u001b[0;31mRRuntimeError\u001b[0m                             Traceback (most recent call last)",
            "\u001b[0;32m/usr/local/lib/python3.7/dist-packages/rpy2/ipython/rmagic.py\u001b[0m in \u001b[0;36meval\u001b[0;34m(self, code)\u001b[0m\n\u001b[1;32m    267\u001b[0m                 \u001b[0;31m# Need the newline in case the last line in code is a comment.\u001b[0m\u001b[0;34m\u001b[0m\u001b[0;34m\u001b[0m\u001b[0;34m\u001b[0m\u001b[0m\n\u001b[0;32m--> 268\u001b[0;31m                 \u001b[0mvalue\u001b[0m\u001b[0;34m,\u001b[0m \u001b[0mvisible\u001b[0m \u001b[0;34m=\u001b[0m \u001b[0mro\u001b[0m\u001b[0;34m.\u001b[0m\u001b[0mr\u001b[0m\u001b[0;34m(\u001b[0m\u001b[0;34m\"withVisible({%s\\n})\"\u001b[0m \u001b[0;34m%\u001b[0m \u001b[0mcode\u001b[0m\u001b[0;34m)\u001b[0m\u001b[0;34m\u001b[0m\u001b[0;34m\u001b[0m\u001b[0m\n\u001b[0m\u001b[1;32m    269\u001b[0m             \u001b[0;32mexcept\u001b[0m \u001b[0;34m(\u001b[0m\u001b[0mri\u001b[0m\u001b[0;34m.\u001b[0m\u001b[0membedded\u001b[0m\u001b[0;34m.\u001b[0m\u001b[0mRRuntimeError\u001b[0m\u001b[0;34m,\u001b[0m \u001b[0mValueError\u001b[0m\u001b[0;34m)\u001b[0m \u001b[0;32mas\u001b[0m \u001b[0mexception\u001b[0m\u001b[0;34m:\u001b[0m\u001b[0;34m\u001b[0m\u001b[0;34m\u001b[0m\u001b[0m\n",
            "\u001b[0;32m/usr/local/lib/python3.7/dist-packages/rpy2/robjects/__init__.py\u001b[0m in \u001b[0;36m__call__\u001b[0;34m(self, string)\u001b[0m\n\u001b[1;32m    437\u001b[0m         \u001b[0mp\u001b[0m \u001b[0;34m=\u001b[0m \u001b[0mrinterface\u001b[0m\u001b[0;34m.\u001b[0m\u001b[0mparse\u001b[0m\u001b[0;34m(\u001b[0m\u001b[0mstring\u001b[0m\u001b[0;34m)\u001b[0m\u001b[0;34m\u001b[0m\u001b[0;34m\u001b[0m\u001b[0m\n\u001b[0;32m--> 438\u001b[0;31m         \u001b[0mres\u001b[0m \u001b[0;34m=\u001b[0m \u001b[0mself\u001b[0m\u001b[0;34m.\u001b[0m\u001b[0meval\u001b[0m\u001b[0;34m(\u001b[0m\u001b[0mp\u001b[0m\u001b[0;34m)\u001b[0m\u001b[0;34m\u001b[0m\u001b[0;34m\u001b[0m\u001b[0m\n\u001b[0m\u001b[1;32m    439\u001b[0m         \u001b[0;32mreturn\u001b[0m \u001b[0mconversion\u001b[0m\u001b[0;34m.\u001b[0m\u001b[0mrpy2py\u001b[0m\u001b[0;34m(\u001b[0m\u001b[0mres\u001b[0m\u001b[0;34m)\u001b[0m\u001b[0;34m\u001b[0m\u001b[0;34m\u001b[0m\u001b[0m\n",
            "\u001b[0;32m/usr/local/lib/python3.7/dist-packages/rpy2/robjects/functions.py\u001b[0m in \u001b[0;36m__call__\u001b[0;34m(self, *args, **kwargs)\u001b[0m\n\u001b[1;32m    198\u001b[0m         return (super(SignatureTranslatedFunction, self)\n\u001b[0;32m--> 199\u001b[0;31m                 .__call__(*args, **kwargs))\n\u001b[0m\u001b[1;32m    200\u001b[0m \u001b[0;34m\u001b[0m\u001b[0m\n",
            "\u001b[0;32m/usr/local/lib/python3.7/dist-packages/rpy2/robjects/functions.py\u001b[0m in \u001b[0;36m__call__\u001b[0;34m(self, *args, **kwargs)\u001b[0m\n\u001b[1;32m    124\u001b[0m                 \u001b[0mnew_kwargs\u001b[0m\u001b[0;34m[\u001b[0m\u001b[0mk\u001b[0m\u001b[0;34m]\u001b[0m \u001b[0;34m=\u001b[0m \u001b[0mconversion\u001b[0m\u001b[0;34m.\u001b[0m\u001b[0mpy2rpy\u001b[0m\u001b[0;34m(\u001b[0m\u001b[0mv\u001b[0m\u001b[0;34m)\u001b[0m\u001b[0;34m\u001b[0m\u001b[0;34m\u001b[0m\u001b[0m\n\u001b[0;32m--> 125\u001b[0;31m         \u001b[0mres\u001b[0m \u001b[0;34m=\u001b[0m \u001b[0msuper\u001b[0m\u001b[0;34m(\u001b[0m\u001b[0mFunction\u001b[0m\u001b[0;34m,\u001b[0m \u001b[0mself\u001b[0m\u001b[0;34m)\u001b[0m\u001b[0;34m.\u001b[0m\u001b[0m__call__\u001b[0m\u001b[0;34m(\u001b[0m\u001b[0;34m*\u001b[0m\u001b[0mnew_args\u001b[0m\u001b[0;34m,\u001b[0m \u001b[0;34m**\u001b[0m\u001b[0mnew_kwargs\u001b[0m\u001b[0;34m)\u001b[0m\u001b[0;34m\u001b[0m\u001b[0;34m\u001b[0m\u001b[0m\n\u001b[0m\u001b[1;32m    126\u001b[0m         \u001b[0mres\u001b[0m \u001b[0;34m=\u001b[0m \u001b[0mconversion\u001b[0m\u001b[0;34m.\u001b[0m\u001b[0mrpy2py\u001b[0m\u001b[0;34m(\u001b[0m\u001b[0mres\u001b[0m\u001b[0;34m)\u001b[0m\u001b[0;34m\u001b[0m\u001b[0;34m\u001b[0m\u001b[0m\n",
            "\u001b[0;32m/usr/local/lib/python3.7/dist-packages/rpy2/rinterface_lib/conversion.py\u001b[0m in \u001b[0;36m_\u001b[0;34m(*args, **kwargs)\u001b[0m\n\u001b[1;32m     44\u001b[0m     \u001b[0;32mdef\u001b[0m \u001b[0m_\u001b[0m\u001b[0;34m(\u001b[0m\u001b[0;34m*\u001b[0m\u001b[0margs\u001b[0m\u001b[0;34m,\u001b[0m \u001b[0;34m**\u001b[0m\u001b[0mkwargs\u001b[0m\u001b[0;34m)\u001b[0m\u001b[0;34m:\u001b[0m\u001b[0;34m\u001b[0m\u001b[0;34m\u001b[0m\u001b[0m\n\u001b[0;32m---> 45\u001b[0;31m         \u001b[0mcdata\u001b[0m \u001b[0;34m=\u001b[0m \u001b[0mfunction\u001b[0m\u001b[0;34m(\u001b[0m\u001b[0;34m*\u001b[0m\u001b[0margs\u001b[0m\u001b[0;34m,\u001b[0m \u001b[0;34m**\u001b[0m\u001b[0mkwargs\u001b[0m\u001b[0;34m)\u001b[0m\u001b[0;34m\u001b[0m\u001b[0;34m\u001b[0m\u001b[0m\n\u001b[0m\u001b[1;32m     46\u001b[0m         \u001b[0;31m# TODO: test cdata is of the expected CType\u001b[0m\u001b[0;34m\u001b[0m\u001b[0;34m\u001b[0m\u001b[0;34m\u001b[0m\u001b[0m\n",
            "\u001b[0;32m/usr/local/lib/python3.7/dist-packages/rpy2/rinterface.py\u001b[0m in \u001b[0;36m__call__\u001b[0;34m(self, *args, **kwargs)\u001b[0m\n\u001b[1;32m    679\u001b[0m             \u001b[0;32mif\u001b[0m \u001b[0merror_occured\u001b[0m\u001b[0;34m[\u001b[0m\u001b[0;36m0\u001b[0m\u001b[0;34m]\u001b[0m\u001b[0;34m:\u001b[0m\u001b[0;34m\u001b[0m\u001b[0;34m\u001b[0m\u001b[0m\n\u001b[0;32m--> 680\u001b[0;31m                 \u001b[0;32mraise\u001b[0m \u001b[0membedded\u001b[0m\u001b[0;34m.\u001b[0m\u001b[0mRRuntimeError\u001b[0m\u001b[0;34m(\u001b[0m\u001b[0m_rinterface\u001b[0m\u001b[0;34m.\u001b[0m\u001b[0m_geterrmessage\u001b[0m\u001b[0;34m(\u001b[0m\u001b[0;34m)\u001b[0m\u001b[0;34m)\u001b[0m\u001b[0;34m\u001b[0m\u001b[0;34m\u001b[0m\u001b[0m\n\u001b[0m\u001b[1;32m    681\u001b[0m         \u001b[0;32mreturn\u001b[0m \u001b[0mres\u001b[0m\u001b[0;34m\u001b[0m\u001b[0;34m\u001b[0m\u001b[0m\n",
            "\u001b[0;31mRRuntimeError\u001b[0m: Error in nrow(data) : object 'my_data_1' not found\n",
            "\nDuring handling of the above exception, another exception occurred:\n",
            "\u001b[0;31mRInterpreterError\u001b[0m                         Traceback (most recent call last)",
            "\u001b[0;32m<ipython-input-16-6b53256e1c07>\u001b[0m in \u001b[0;36m<module>\u001b[0;34m()\u001b[0m\n\u001b[0;32m----> 1\u001b[0;31m \u001b[0mget_ipython\u001b[0m\u001b[0;34m(\u001b[0m\u001b[0;34m)\u001b[0m\u001b[0;34m.\u001b[0m\u001b[0mrun_cell_magic\u001b[0m\u001b[0;34m(\u001b[0m\u001b[0;34m'R'\u001b[0m\u001b[0;34m,\u001b[0m \u001b[0;34m''\u001b[0m\u001b[0;34m,\u001b[0m \u001b[0;34m'library(pvclust)\\nset.seed(1234)\\nresult <- pvclust(my_data_1[1:length(my_data_1$Gender),], method.dist=\"cor\", \\n                  method.hclust=\"average\", nboot=1000)'\u001b[0m\u001b[0;34m)\u001b[0m\u001b[0;34m\u001b[0m\u001b[0;34m\u001b[0m\u001b[0m\n\u001b[0m",
            "\u001b[0;32m/usr/local/lib/python3.7/dist-packages/IPython/core/interactiveshell.py\u001b[0m in \u001b[0;36mrun_cell_magic\u001b[0;34m(self, magic_name, line, cell)\u001b[0m\n\u001b[1;32m   2115\u001b[0m             \u001b[0mmagic_arg_s\u001b[0m \u001b[0;34m=\u001b[0m \u001b[0mself\u001b[0m\u001b[0;34m.\u001b[0m\u001b[0mvar_expand\u001b[0m\u001b[0;34m(\u001b[0m\u001b[0mline\u001b[0m\u001b[0;34m,\u001b[0m \u001b[0mstack_depth\u001b[0m\u001b[0;34m)\u001b[0m\u001b[0;34m\u001b[0m\u001b[0;34m\u001b[0m\u001b[0m\n\u001b[1;32m   2116\u001b[0m             \u001b[0;32mwith\u001b[0m \u001b[0mself\u001b[0m\u001b[0;34m.\u001b[0m\u001b[0mbuiltin_trap\u001b[0m\u001b[0;34m:\u001b[0m\u001b[0;34m\u001b[0m\u001b[0;34m\u001b[0m\u001b[0m\n\u001b[0;32m-> 2117\u001b[0;31m                 \u001b[0mresult\u001b[0m \u001b[0;34m=\u001b[0m \u001b[0mfn\u001b[0m\u001b[0;34m(\u001b[0m\u001b[0mmagic_arg_s\u001b[0m\u001b[0;34m,\u001b[0m \u001b[0mcell\u001b[0m\u001b[0;34m)\u001b[0m\u001b[0;34m\u001b[0m\u001b[0;34m\u001b[0m\u001b[0m\n\u001b[0m\u001b[1;32m   2118\u001b[0m             \u001b[0;32mreturn\u001b[0m \u001b[0mresult\u001b[0m\u001b[0;34m\u001b[0m\u001b[0;34m\u001b[0m\u001b[0m\n\u001b[1;32m   2119\u001b[0m \u001b[0;34m\u001b[0m\u001b[0m\n",
            "\u001b[0;32m<decorator-gen-119>\u001b[0m in \u001b[0;36mR\u001b[0;34m(self, line, cell, local_ns)\u001b[0m\n",
            "\u001b[0;32m/usr/local/lib/python3.7/dist-packages/IPython/core/magic.py\u001b[0m in \u001b[0;36m<lambda>\u001b[0;34m(f, *a, **k)\u001b[0m\n\u001b[1;32m    186\u001b[0m     \u001b[0;31m# but it's overkill for just that one bit of state.\u001b[0m\u001b[0;34m\u001b[0m\u001b[0;34m\u001b[0m\u001b[0;34m\u001b[0m\u001b[0m\n\u001b[1;32m    187\u001b[0m     \u001b[0;32mdef\u001b[0m \u001b[0mmagic_deco\u001b[0m\u001b[0;34m(\u001b[0m\u001b[0marg\u001b[0m\u001b[0;34m)\u001b[0m\u001b[0;34m:\u001b[0m\u001b[0;34m\u001b[0m\u001b[0;34m\u001b[0m\u001b[0m\n\u001b[0;32m--> 188\u001b[0;31m         \u001b[0mcall\u001b[0m \u001b[0;34m=\u001b[0m \u001b[0;32mlambda\u001b[0m \u001b[0mf\u001b[0m\u001b[0;34m,\u001b[0m \u001b[0;34m*\u001b[0m\u001b[0ma\u001b[0m\u001b[0;34m,\u001b[0m \u001b[0;34m**\u001b[0m\u001b[0mk\u001b[0m\u001b[0;34m:\u001b[0m \u001b[0mf\u001b[0m\u001b[0;34m(\u001b[0m\u001b[0;34m*\u001b[0m\u001b[0ma\u001b[0m\u001b[0;34m,\u001b[0m \u001b[0;34m**\u001b[0m\u001b[0mk\u001b[0m\u001b[0;34m)\u001b[0m\u001b[0;34m\u001b[0m\u001b[0;34m\u001b[0m\u001b[0m\n\u001b[0m\u001b[1;32m    189\u001b[0m \u001b[0;34m\u001b[0m\u001b[0m\n\u001b[1;32m    190\u001b[0m         \u001b[0;32mif\u001b[0m \u001b[0mcallable\u001b[0m\u001b[0;34m(\u001b[0m\u001b[0marg\u001b[0m\u001b[0;34m)\u001b[0m\u001b[0;34m:\u001b[0m\u001b[0;34m\u001b[0m\u001b[0;34m\u001b[0m\u001b[0m\n",
            "\u001b[0;32m/usr/local/lib/python3.7/dist-packages/rpy2/ipython/rmagic.py\u001b[0m in \u001b[0;36mR\u001b[0;34m(self, line, cell, local_ns)\u001b[0m\n\u001b[1;32m    781\u001b[0m             \u001b[0;32mif\u001b[0m \u001b[0;32mnot\u001b[0m \u001b[0me\u001b[0m\u001b[0;34m.\u001b[0m\u001b[0mstdout\u001b[0m\u001b[0;34m.\u001b[0m\u001b[0mendswith\u001b[0m\u001b[0;34m(\u001b[0m\u001b[0me\u001b[0m\u001b[0;34m.\u001b[0m\u001b[0merr\u001b[0m\u001b[0;34m)\u001b[0m\u001b[0;34m:\u001b[0m\u001b[0;34m\u001b[0m\u001b[0;34m\u001b[0m\u001b[0m\n\u001b[1;32m    782\u001b[0m                 \u001b[0mprint\u001b[0m\u001b[0;34m(\u001b[0m\u001b[0me\u001b[0m\u001b[0;34m.\u001b[0m\u001b[0merr\u001b[0m\u001b[0;34m)\u001b[0m\u001b[0;34m\u001b[0m\u001b[0;34m\u001b[0m\u001b[0m\n\u001b[0;32m--> 783\u001b[0;31m             \u001b[0;32mraise\u001b[0m \u001b[0me\u001b[0m\u001b[0;34m\u001b[0m\u001b[0;34m\u001b[0m\u001b[0m\n\u001b[0m\u001b[1;32m    784\u001b[0m         \u001b[0;32mfinally\u001b[0m\u001b[0;34m:\u001b[0m\u001b[0;34m\u001b[0m\u001b[0;34m\u001b[0m\u001b[0m\n\u001b[1;32m    785\u001b[0m             \u001b[0;32mif\u001b[0m \u001b[0mself\u001b[0m\u001b[0;34m.\u001b[0m\u001b[0mdevice\u001b[0m \u001b[0;32min\u001b[0m \u001b[0;34m[\u001b[0m\u001b[0;34m'png'\u001b[0m\u001b[0;34m,\u001b[0m \u001b[0;34m'svg'\u001b[0m\u001b[0;34m]\u001b[0m\u001b[0;34m:\u001b[0m\u001b[0;34m\u001b[0m\u001b[0;34m\u001b[0m\u001b[0m\n",
            "\u001b[0;32m/usr/local/lib/python3.7/dist-packages/rpy2/ipython/rmagic.py\u001b[0m in \u001b[0;36mR\u001b[0;34m(self, line, cell, local_ns)\u001b[0m\n\u001b[1;32m    761\u001b[0m                     \u001b[0mreturn_output\u001b[0m \u001b[0;34m=\u001b[0m \u001b[0;32mFalse\u001b[0m\u001b[0;34m\u001b[0m\u001b[0;34m\u001b[0m\u001b[0m\n\u001b[1;32m    762\u001b[0m             \u001b[0;32melse\u001b[0m\u001b[0;34m:\u001b[0m\u001b[0;34m\u001b[0m\u001b[0;34m\u001b[0m\u001b[0m\n\u001b[0;32m--> 763\u001b[0;31m                 \u001b[0mtext_result\u001b[0m\u001b[0;34m,\u001b[0m \u001b[0mresult\u001b[0m\u001b[0;34m,\u001b[0m \u001b[0mvisible\u001b[0m \u001b[0;34m=\u001b[0m \u001b[0mself\u001b[0m\u001b[0;34m.\u001b[0m\u001b[0meval\u001b[0m\u001b[0;34m(\u001b[0m\u001b[0mcode\u001b[0m\u001b[0;34m)\u001b[0m\u001b[0;34m\u001b[0m\u001b[0;34m\u001b[0m\u001b[0m\n\u001b[0m\u001b[1;32m    764\u001b[0m                 \u001b[0mtext_output\u001b[0m \u001b[0;34m+=\u001b[0m \u001b[0mtext_result\u001b[0m\u001b[0;34m\u001b[0m\u001b[0;34m\u001b[0m\u001b[0m\n\u001b[1;32m    765\u001b[0m                 \u001b[0;32mif\u001b[0m \u001b[0mvisible\u001b[0m\u001b[0;34m:\u001b[0m\u001b[0;34m\u001b[0m\u001b[0;34m\u001b[0m\u001b[0m\n",
            "\u001b[0;32m/usr/local/lib/python3.7/dist-packages/rpy2/ipython/rmagic.py\u001b[0m in \u001b[0;36meval\u001b[0;34m(self, code)\u001b[0m\n\u001b[1;32m    271\u001b[0m                 \u001b[0mwarning_or_other_msg\u001b[0m \u001b[0;34m=\u001b[0m \u001b[0mself\u001b[0m\u001b[0;34m.\u001b[0m\u001b[0mflush\u001b[0m\u001b[0;34m(\u001b[0m\u001b[0;34m)\u001b[0m\u001b[0;34m\u001b[0m\u001b[0;34m\u001b[0m\u001b[0m\n\u001b[1;32m    272\u001b[0m                 raise RInterpreterError(code, str(exception),\n\u001b[0;32m--> 273\u001b[0;31m                                         warning_or_other_msg)\n\u001b[0m\u001b[1;32m    274\u001b[0m             \u001b[0mtext_output\u001b[0m \u001b[0;34m=\u001b[0m \u001b[0mself\u001b[0m\u001b[0;34m.\u001b[0m\u001b[0mflush\u001b[0m\u001b[0;34m(\u001b[0m\u001b[0;34m)\u001b[0m\u001b[0;34m\u001b[0m\u001b[0;34m\u001b[0m\u001b[0m\n\u001b[1;32m    275\u001b[0m             \u001b[0;32mreturn\u001b[0m \u001b[0mtext_output\u001b[0m\u001b[0;34m,\u001b[0m \u001b[0mvalue\u001b[0m\u001b[0;34m,\u001b[0m \u001b[0mvisible\u001b[0m\u001b[0;34m[\u001b[0m\u001b[0;36m0\u001b[0m\u001b[0;34m]\u001b[0m\u001b[0;34m\u001b[0m\u001b[0;34m\u001b[0m\u001b[0m\n",
            "\u001b[0;31mRInterpreterError\u001b[0m: Failed to parse and evaluate line 'library(pvclust)\\nset.seed(1234)\\nresult <- pvclust(my_data_1[1:length(my_data_1$Gender),], method.dist=\"cor\", \\n                  method.hclust=\"average\", nboot=1000)'.\nR error message: \"Error in nrow(data) : object 'my_data_1' not found\""
          ]
        }
      ]
    },
    {
      "cell_type": "code",
      "metadata": {
        "colab": {
          "base_uri": "https://localhost:8080/",
          "height": 497
        },
        "id": "e5IUczePyhLx",
        "outputId": "ec6fd685-0eff-4314-e62b-dd3aac700186"
      },
      "source": [
        "%%R\n",
        "\n",
        "plot(result)\n",
        "pvrect(result)"
      ],
      "execution_count": null,
      "outputs": [
        {
          "output_type": "display_data",
          "data": {
            "image/png": "[encoded data removed]"
          },
          "metadata": {}
        }
      ]
    },
    {
      "cell_type": "code",
      "metadata": {
        "id": "wYZlKRN6yv00"
      },
      "source": [
        "%%R\n",
        "\n",
        "library(dplyr)"
      ],
      "execution_count": 17,
      "outputs": []
    },
    {
      "cell_type": "code",
      "metadata": {
        "id": "2Wa1yGyeVaCE"
      },
      "source": [
        "%%R\n",
        "\n",
        "counts <- my_data_xlsx %>%\n",
        "          group_by(cluster)"
      ],
      "execution_count": 18,
      "outputs": []
    },
    {
      "cell_type": "code",
      "metadata": {
        "colab": {
          "base_uri": "https://localhost:8080/"
        },
        "id": "V-wXhs7PVyzd",
        "outputId": "a431c215-004a-425f-fa85-f086d3d560d6"
      },
      "source": [
        "%%R\n",
        "\n",
        "counts"
      ],
      "execution_count": 19,
      "outputs": [
        {
          "output_type": "stream",
          "name": "stdout",
          "text": [
            "# A tibble: 44,578 × 8\n",
            "# Groups:   cluster [5]\n",
            "   Vid_DTP   Pol Sotsialnaya_harak… Neposredstvennye_n… Soputstvuyushchie… Stazh\n",
            "     <dbl> <dbl>              <dbl>               <dbl>              <dbl> <dbl>\n",
            " 1       1     1                  1                   1                  2    13\n",
            " 2       2     2                  1                   1                  2    11\n",
            " 3       1     1                  1                   1                  2    20\n",
            " 4       1     1                  1                   2                  2    10\n",
            " 5       1     2                  1                   2                  2    10\n",
            " 6       2     1                  2                   2                  2    22\n",
            " 7       1     1                  1                   4                  2    17\n",
            " 8       2     1                 12                   1                  2     1\n",
            " 9       2     1                  1                   2                  2     0\n",
            "10       2     1                  2                   2                  2    14\n",
            "# … with 44,568 more rows, and 2 more variables: Vozrast <dbl>, cluster <int>\n"
          ]
        }
      ]
    },
    {
      "cell_type": "code",
      "metadata": {
        "colab": {
          "base_uri": "https://localhost:8080/",
          "height": 497
        },
        "id": "uaobc6jGV0wA",
        "outputId": "60eb8e59-0710-4e83-bb3a-019f63e903e8"
      },
      "source": [
        "%%R\n",
        "\n",
        "ggplot(counts, aes(x = Pol, y = cluster,\n",
        "                   color=Pol, \n",
        "                   fill= Pol)) +\n",
        "   geom_bar(stat=\"identity\") + \n",
        "  theme_classic(base_size = 10) +\n",
        "  theme(axis.text.x = element_text(angle = 90, hjust = 1)) +\n",
        "  facet_wrap(~cluster, ncol=3)\n"
      ],
      "execution_count": 20,
      "outputs": [
        {
          "output_type": "display_data",
          "data": {
            "image/png": "[encoded data removed]"
          },
          "metadata": {}
        }
      ]
    },
    {
      "cell_type": "code",
      "metadata": {
        "colab": {
          "base_uri": "https://localhost:8080/",
          "height": 497
        },
        "id": "HDPhImL_WKIV",
        "outputId": "2244f35d-8636-413d-96eb-3a873e5a44f6"
      },
      "source": [
        "%%R\n",
        "\n",
        "ggplot(counts, aes(x = Sotsialnaya_harakteristika, y = cluster,\n",
        "                   color= Sotsialnaya_harakteristika, \n",
        "                   fill= Sotsialnaya_harakteristika)) +\n",
        "   geom_bar(stat=\"identity\") + \n",
        "  theme_classic(base_size = 10) +\n",
        "  theme(axis.text.x = element_text(angle = 90, hjust = 1)) +\n",
        "  facet_wrap(~cluster, ncol=3)"
      ],
      "execution_count": 21,
      "outputs": [
        {
          "output_type": "display_data",
          "data": {
            "image/png": "[encoded data removed]"
          },
          "metadata": {}
        }
      ]
    },
    {
      "cell_type": "code",
      "metadata": {
        "colab": {
          "base_uri": "https://localhost:8080/",
          "height": 497
        },
        "id": "XmZW1tGHXF0w",
        "outputId": "e47ac1fa-7780-452d-ea88-2c6251dd31c9"
      },
      "source": [
        "%%R\n",
        "\n",
        "ggplot(counts, aes(x = Stazh, y = cluster,\n",
        "                   color= Stazh, \n",
        "                   fill= Stazh)) +\n",
        "   geom_bar(stat=\"identity\") + \n",
        "  theme_classic(base_size = 10) +\n",
        "  theme(axis.text.x = element_text(angle = 90, hjust = 1)) +\n",
        "  facet_wrap(~cluster, ncol=3)"
      ],
      "execution_count": 22,
      "outputs": [
        {
          "output_type": "display_data",
          "data": {
            "image/png": "[encoded data removed]"
          },
          "metadata": {}
        }
      ]
    },
    {
      "cell_type": "code",
      "metadata": {
        "colab": {
          "base_uri": "https://localhost:8080/",
          "height": 497
        },
        "id": "hx_BmiInYlCf",
        "outputId": "2b1f9802-feb8-4f45-f9ba-95a725aade77"
      },
      "source": [
        "%%R\n",
        "\n",
        "ggplot(counts, aes(x = Neposredstvennye_narusheniya_PDD, y = cluster,\n",
        "                   color= Neposredstvennye_narusheniya_PDD, \n",
        "                   fill= Neposredstvennye_narusheniya_PDD)) +\n",
        "   geom_bar(stat=\"identity\") + \n",
        "  theme_classic(base_size = 10) +\n",
        "  theme(axis.text.x = element_text(angle = 90, hjust = 1)) +\n",
        "  facet_wrap(~cluster, ncol=3)"
      ],
      "execution_count": 23,
      "outputs": [
        {
          "output_type": "display_data",
          "data": {
            "image/png": "[encoded data removed]"
          },
          "metadata": {}
        }
      ]
    },
    {
      "cell_type": "code",
      "metadata": {
        "colab": {
          "base_uri": "https://localhost:8080/",
          "height": 497
        },
        "id": "x5Q31c_PZlmL",
        "outputId": "cf325f6f-cea6-4af5-badc-216f0c26dd9d"
      },
      "source": [
        "%%R\n",
        "\n",
        "ggplot(counts, aes(x = Soputstvuyushchie_narusheniya_PDD, y = cluster,\n",
        "                   color= Soputstvuyushchie_narusheniya_PDD, \n",
        "                   fill= Soputstvuyushchie_narusheniya_PDD)) +\n",
        "   geom_bar(stat=\"identity\") + \n",
        "  theme_classic(base_size = 10) +\n",
        "  theme(axis.text.x = element_text(angle = 90, hjust = 1)) +\n",
        "  facet_wrap(~cluster, ncol=3)"
      ],
      "execution_count": 24,
      "outputs": [
        {
          "output_type": "display_data",
          "data": {
            "image/png": "[encoded data removed]"
          },
          "metadata": {}
        }
      ]
    },
    {
      "cell_type": "code",
      "metadata": {
        "colab": {
          "base_uri": "https://localhost:8080/",
          "height": 497
        },
        "id": "h-C6LIOzZrI1",
        "outputId": "3d3961b9-3d0a-46a9-8caf-2e1afbb6c732"
      },
      "source": [
        "%%R\n",
        "\n",
        "ggplot(counts, aes(x = Vozrast, y = cluster,\n",
        "                   color= Vozrast, \n",
        "                   fill= Vozrast)) +\n",
        "   geom_bar(stat=\"identity\") + \n",
        "  theme_classic(base_size = 10) +\n",
        "  theme(axis.text.x = element_text(angle = 90, hjust = 1)) +\n",
        "  facet_wrap(~cluster, ncol=3)"
      ],
      "execution_count": 25,
      "outputs": [
        {
          "output_type": "display_data",
          "data": {
            "image/png": "[encoded data removed]"
          },
          "metadata": {}
        }
      ]
    },
    {
      "cell_type": "code",
      "metadata": {
        "id": "s-Uq19lAZw7n"
      },
      "source": [
        ""
      ],
      "execution_count": null,
      "outputs": []
    }
  ]
}
{
  "nbformat": 4,
  "nbformat_minor": 0,
  "metadata": {
    "colab": {
      "provenance": [],
      "authorship_tag": "ABX9TyMlpkVOy8DglFihcejkNjj8",
      "include_colab_link": true
    },
    "kernelspec": {
      "name": "ir",
      "display_name": "R"
    },
    "language_info": {
      "name": "R"
    }
  },
  "cells": [
    {
      "cell_type": "markdown",
      "metadata": {
        "id": "view-in-github",
        "colab_type": "text"
      },
      "source": [
        "<a href=\"https://colab.research.google.com/github/antonsysoev/Ass/blob/main/Hierarchical_SA.ipynb\" target=\"_parent\"><img src=\"https://colab.research.google.com/assets/colab-badge.svg\" alt=\"Open In Colab\"/></a>"
      ]
    },
    {
      "cell_type": "code",
      "execution_count": 80,
      "metadata": {
        "colab": {
          "base_uri": "https://localhost:8080/"
        },
        "id": "llDvmIN6OECc",
        "outputId": "6ec4906f-410f-4d8d-e314-84b64d2a3ca7"
      },
      "outputs": [
        {
          "output_type": "stream",
          "name": "stderr",
          "text": [
            "Installing package into ‘/usr/local/lib/R/site-library’\n",
            "(as ‘lib’ is unspecified)\n",
            "\n",
            "Installing package into ‘/usr/local/lib/R/site-library’\n",
            "(as ‘lib’ is unspecified)\n",
            "\n"
          ]
        }
      ],
      "source": [
        "install.packages('neuralnet')\n",
        "install.packages('NeuralNetTools')\n",
        "library(nnet)\n",
        "library(neuralnet)\n",
        "library(NeuralNetTools)"
      ]
    },
    {
      "cell_type": "code",
      "source": [
        "neuraldat$X4 <- (neuraldat$X1*neuraldat$X2/neuraldat$X3) / 400\n",
        "neuraldat$X5 <- sin(neuraldat$X1)\n",
        "neuraldat$Z <- exp(neuraldat$Y1)*neuraldat$Y2"
      ],
      "metadata": {
        "id": "elEiyacBVlCD"
      },
      "execution_count": 81,
      "outputs": []
    },
    {
      "cell_type": "code",
      "source": [
        "summary(neuraldat)"
      ],
      "metadata": {
        "id": "kee3B8utOSA7",
        "outputId": "b7240cdf-6c9b-47f8-acc3-7a325435df1c",
        "colab": {
          "base_uri": "https://localhost:8080/",
          "height": 255
        }
      },
      "execution_count": 82,
      "outputs": [
        {
          "output_type": "display_data",
          "data": {
            "text/plain": [
              "       Y1               Y2               X1                 X2          \n",
              " Min.   :0.0000   Min.   :0.0000   Min.   :-4.07522   Min.   :-3.92584  \n",
              " 1st Qu.:0.3742   1st Qu.:0.3576   1st Qu.:-0.64377   1st Qu.:-0.63255  \n",
              " Median :0.4641   Median :0.4469   Median : 0.04648   Median : 0.05394  \n",
              " Mean   :0.4656   Mean   :0.4477   Mean   : 0.04151   Mean   : 0.04497  \n",
              " 3rd Qu.:0.5537   3rd Qu.:0.5381   3rd Qu.: 0.71727   3rd Qu.: 0.72451  \n",
              " Max.   :1.0000   Max.   :1.0000   Max.   : 3.53988   Max.   : 3.30277  \n",
              "       X3                 X4                   X5                 Z         \n",
              " Min.   :-3.43596   Min.   :-1.1471426   Min.   :-1.00000   Min.   :0.0000  \n",
              " 1st Qu.:-0.63142   1st Qu.:-0.0015342   1st Qu.:-0.58651   1st Qu.:0.5444  \n",
              " Median : 0.01116   Median : 0.0000224   Median : 0.04578   Median :0.7074  \n",
              " Mean   : 0.01198   Mean   :-0.0004311   Mean   : 0.02352   Mean   :0.7330  \n",
              " 3rd Qu.: 0.64531   3rd Qu.: 0.0017118   3rd Qu.: 0.63725   3rd Qu.:0.9029  \n",
              " Max.   : 2.90699   Max.   : 0.7784835   Max.   : 1.00000   Max.   :1.8793  "
            ]
          },
          "metadata": {}
        }
      ]
    },
    {
      "cell_type": "code",
      "source": [
        "# cor(neuraldat)"
      ],
      "metadata": {
        "id": "9yLR4wVEV9Ot"
      },
      "execution_count": 83,
      "outputs": []
    },
    {
      "cell_type": "code",
      "source": [
        "submod_1 <-  neuralnet(Y1 ~ X1 + X2 + X4, neuraldat, hidden=2, act.fct = \"logistic\", linear.output = FALSE)"
      ],
      "metadata": {
        "id": "VEluuYj9UOJ8"
      },
      "execution_count": 84,
      "outputs": []
    },
    {
      "cell_type": "code",
      "source": [
        "submod_2 <-  neuralnet(Y2 ~ X3 + X5, neuraldat, hidden=1, act.fct = \"logistic\", linear.output = FALSE)"
      ],
      "metadata": {
        "id": "zWGfArbeXKud"
      },
      "execution_count": 85,
      "outputs": []
    },
    {
      "cell_type": "code",
      "source": [
        "df <- data.frame(Z=neuraldat$Z, Y_1 = as.numeric(unlist(submod_1$net.result)), Y_2 = as.numeric(unlist(submod_2$net.result)))"
      ],
      "metadata": {
        "id": "I-Za2LiXYrwv"
      },
      "execution_count": 86,
      "outputs": []
    },
    {
      "cell_type": "code",
      "source": [
        "model_0 <- neuralnet(Z ~ Y_1 + Y_2, df, hidden=2, act.fct = \"logistic\", linear.output = FALSE)"
      ],
      "metadata": {
        "id": "aJ2-rMb1W8sj"
      },
      "execution_count": 87,
      "outputs": []
    },
    {
      "cell_type": "code",
      "source": [
        "# data.frame(pred= model_0$net.result, real = df$Z)"
      ],
      "metadata": {
        "id": "N01ylMZ-ZFdS"
      },
      "execution_count": 88,
      "outputs": []
    },
    {
      "cell_type": "code",
      "source": [
        "model_0$result.matrix"
      ],
      "metadata": {
        "id": "3hph00czQYE8",
        "outputId": "39f96eb5-fcd2-427d-9052-614fb1703739",
        "colab": {
          "base_uri": "https://localhost:8080/",
          "height": 406
        }
      },
      "execution_count": 89,
      "outputs": [
        {
          "output_type": "display_data",
          "data": {
            "text/html": [
              "<table class=\"dataframe\">\n",
              "<caption>A matrix: 12 × 1 of type dbl</caption>\n",
              "<tbody>\n",
              "\t<tr><th scope=row>error</th><td> 1.436414e+01</td></tr>\n",
              "\t<tr><th scope=row>reached.threshold</th><td> 9.968975e-03</td></tr>\n",
              "\t<tr><th scope=row>steps</th><td> 8.612000e+03</td></tr>\n",
              "\t<tr><th scope=row>Intercept.to.1layhid1</th><td> 4.349685e+01</td></tr>\n",
              "\t<tr><th scope=row>Y_1.to.1layhid1</th><td>-2.991613e+01</td></tr>\n",
              "\t<tr><th scope=row>Y_2.to.1layhid1</th><td>-4.662584e+01</td></tr>\n",
              "\t<tr><th scope=row>Intercept.to.1layhid2</th><td>-1.266673e+00</td></tr>\n",
              "\t<tr><th scope=row>Y_1.to.1layhid2</th><td> 1.142430e+00</td></tr>\n",
              "\t<tr><th scope=row>Y_2.to.1layhid2</th><td> 2.574673e+00</td></tr>\n",
              "\t<tr><th scope=row>Intercept.to.Z</th><td> 1.522192e+00</td></tr>\n",
              "\t<tr><th scope=row>1layhid1.to.Z</th><td>-6.580659e+00</td></tr>\n",
              "\t<tr><th scope=row>1layhid2.to.Z</th><td> 9.939045e+00</td></tr>\n",
              "</tbody>\n",
              "</table>\n"
            ],
            "text/markdown": "\nA matrix: 12 × 1 of type dbl\n\n| error |  1.436414e+01 |\n| reached.threshold |  9.968975e-03 |\n| steps |  8.612000e+03 |\n| Intercept.to.1layhid1 |  4.349685e+01 |\n| Y_1.to.1layhid1 | -2.991613e+01 |\n| Y_2.to.1layhid1 | -4.662584e+01 |\n| Intercept.to.1layhid2 | -1.266673e+00 |\n| Y_1.to.1layhid2 |  1.142430e+00 |\n| Y_2.to.1layhid2 |  2.574673e+00 |\n| Intercept.to.Z |  1.522192e+00 |\n| 1layhid1.to.Z | -6.580659e+00 |\n| 1layhid2.to.Z |  9.939045e+00 |\n\n",
            "text/latex": "A matrix: 12 × 1 of type dbl\n\\begin{tabular}{r|l}\n\terror &  1.436414e+01\\\\\n\treached.threshold &  9.968975e-03\\\\\n\tsteps &  8.612000e+03\\\\\n\tIntercept.to.1layhid1 &  4.349685e+01\\\\\n\tY\\_1.to.1layhid1 & -2.991613e+01\\\\\n\tY\\_2.to.1layhid1 & -4.662584e+01\\\\\n\tIntercept.to.1layhid2 & -1.266673e+00\\\\\n\tY\\_1.to.1layhid2 &  1.142430e+00\\\\\n\tY\\_2.to.1layhid2 &  2.574673e+00\\\\\n\tIntercept.to.Z &  1.522192e+00\\\\\n\t1layhid1.to.Z & -6.580659e+00\\\\\n\t1layhid2.to.Z &  9.939045e+00\\\\\n\\end{tabular}\n",
            "text/plain": [
              "                      [,1]         \n",
              "error                  1.436414e+01\n",
              "reached.threshold      9.968975e-03\n",
              "steps                  8.612000e+03\n",
              "Intercept.to.1layhid1  4.349685e+01\n",
              "Y_1.to.1layhid1       -2.991613e+01\n",
              "Y_2.to.1layhid1       -4.662584e+01\n",
              "Intercept.to.1layhid2 -1.266673e+00\n",
              "Y_1.to.1layhid2        1.142430e+00\n",
              "Y_2.to.1layhid2        2.574673e+00\n",
              "Intercept.to.Z         1.522192e+00\n",
              "1layhid1.to.Z         -6.580659e+00\n",
              "1layhid2.to.Z          9.939045e+00"
            ]
          },
          "metadata": {}
        }
      ]
    },
    {
      "cell_type": "code",
      "source": [
        "b_0_f_0 <- as.numeric(model_0$result.matrix[10,1])\n",
        "b_1_f_0 <- as.numeric(model_0$result.matrix[4,1])\n",
        "b_2_f_0 <- as.numeric(model_0$result.matrix[7,1])\n",
        "w_1_f_0 <- as.numeric(model_0$result.matrix[11,1])\n",
        "w_2_f_0 <- as.numeric(model_0$result.matrix[12,1])\n",
        "w_11_f_0 <- as.numeric(model_0$result.matrix[5,1])\n",
        "w_21_f_0 <- as.numeric(model_0$result.matrix[6,1])\n",
        "w_12_f_0 <- as.numeric(model_0$result.matrix[8,1])\n",
        "w_22_f_0 <- as.numeric(model_0$result.matrix[9,1])"
      ],
      "metadata": {
        "id": "lni4AJDqmNyf"
      },
      "execution_count": 90,
      "outputs": []
    },
    {
      "cell_type": "code",
      "source": [
        "b_0_f_2 <- as.numeric(submod_2$result.matrix[7,1])\n",
        "b_1_f_2 <- as.numeric(submod_2$result.matrix[4,1])\n",
        "w_1_f_2 <- as.numeric(submod_2$result.matrix[8,1])\n",
        "w_11_f_2 <- as.numeric(submod_2$result.matrix[5,1])\n",
        "w_21_f_2 <- as.numeric(submod_2$result.matrix[6,1])"
      ],
      "metadata": {
        "id": "sCStmhDniXoR"
      },
      "execution_count": 91,
      "outputs": []
    },
    {
      "cell_type": "code",
      "source": [
        "b_0_f_1 <- as.numeric(submod_1$result.matrix[12,1])\n",
        "b_1_f_1 <- as.numeric(submod_1$result.matrix[4,1])\n",
        "b_2_f_1 <- as.numeric(submod_1$result.matrix[8,1])\n",
        "w_1_f_1 <- as.numeric(submod_1$result.matrix[13,1])\n",
        "w_2_f_1 <- as.numeric(submod_1$result.matrix[14,1])\n",
        "w_11_f_1 <- as.numeric(submod_1$result.matrix[5,1])\n",
        "w_21_f_1 <- as.numeric(submod_1$result.matrix[6,1])\n",
        "w_31_f_1 <- as.numeric(submod_1$result.matrix[7,1])\n",
        "w_12_f_1 <- as.numeric(submod_1$result.matrix[9,1])\n",
        "w_22_f_1 <- as.numeric(submod_1$result.matrix[10,1])\n",
        "w_32_f_1 <- as.numeric(submod_1$result.matrix[11,1])\n"
      ],
      "metadata": {
        "id": "MPTGC3m5PUof"
      },
      "execution_count": 92,
      "outputs": []
    },
    {
      "cell_type": "code",
      "source": [
        "f_1=function(x_1,x_2,x_3){\n",
        "1/(1+exp(-b_0_f_1+w_1_f_1*(1/(1+exp(-(b_1_f_1+x_1*w_11_f_1+x_2*w_21_f_1+x_3*w_31_f_1))))+\n",
        "  w_2_f_1*(1/(1+exp(-(b_2_f_1+x_1*w_12_f_1+x_2*w_22_f_1+x_3*w_32_f_1))))))\n",
        "}"
      ],
      "metadata": {
        "id": "64H3ac_2O7_u"
      },
      "execution_count": 93,
      "outputs": []
    },
    {
      "cell_type": "code",
      "source": [
        "install.packages(\"nlsr\")"
      ],
      "metadata": {
        "id": "Rr73XCKmSx2v",
        "outputId": "f83bfbd0-4bdc-4df6-fa53-9b97c7cc23c0",
        "colab": {
          "base_uri": "https://localhost:8080/"
        }
      },
      "execution_count": 94,
      "outputs": [
        {
          "output_type": "stream",
          "name": "stderr",
          "text": [
            "Installing package into ‘/usr/local/lib/R/site-library’\n",
            "(as ‘lib’ is unspecified)\n",
            "\n"
          ]
        }
      ]
    },
    {
      "cell_type": "code",
      "source": [
        "library(nlsr)\n",
        "dx2xn <- as.expression(nlsDeriv(~ 1/(1+exp(-b_0_f_1+w_1_f_1*(1/(1+exp(-(b_1_f_1+x_1*w_11_f_1+x_2*w_21_f_1+x_3*w_31_f_1))))+\n",
        "  w_2_f_1*(1/(1+exp(-(b_2_f_1+x_1*w_12_f_1+x_2*w_22_f_1+x_3*w_32_f_1)))))), \"x_3\"))"
      ],
      "metadata": {
        "id": "Fe4qCC4WSJl7"
      },
      "execution_count": 95,
      "outputs": []
    },
    {
      "cell_type": "code",
      "source": [
        "(-(exp(-b_0_f_1 + w_1_f_1 * (1/(1 + exp(-(b_1_f_1 +\n",
        "    (x_1[i]+alpha*dx_1[i]) * w_11_f_1 + (x_2[i]+alpha*dx_2[i]) * w_21_f_1 + (x_3[i]+alpha*dx_3[i]) * w_31_f_1)))) + w_2_f_1 *\n",
        "    (1/(1 + exp(-(b_2_f_1 + (x_1[i]+alpha*dx_1[i]) * w_12_f_1 + (x_2[i]+alpha*dx_2[i]) * w_22_f_1 +\n",
        "        (x_3[i]+alpha*dx_3[i]) * w_32_f_1))))) * (w_1_f_1 * -(exp(-(b_1_f_1 + (x_1[i]+alpha*dx_1[i]) *\n",
        "    w_11_f_1 + (x_2[i]+alpha*dx_2[i]) * w_21_f_1 + (x_3[i]+alpha*dx_3[i]) * w_31_f_1)) * -w_11_f_1/(1 +\n",
        "    exp(-(b_1_f_1 + (x_1[i]+alpha*dx_1[i]) * w_11_f_1 + (x_2[i]+alpha*dx_2[i]) * w_21_f_1 + (x_3[i]+alpha*dx_3[i]) * w_31_f_1)))^2) +\n",
        "    w_2_f_1 * -(exp(-(b_2_f_1 + (x_1[i]+alpha*dx_1[i]) * w_12_f_1 + (x_2[i]+alpha*dx_2[i]) * w_22_f_1 +\n",
        "        (x_3[i]+alpha*dx_3[i]) * w_32_f_1)) * -w_12_f_1/(1 + exp(-(b_2_f_1 + (x_1[i]+alpha*dx_1[i]) *\n",
        "        w_12_f_1 + (x_2[i]+alpha*dx_2[i]) * w_22_f_1 + (x_3[i]+alpha*dx_3[i]) * w_32_f_1)))^2))/(1 +\n",
        "    exp(-b_0_f_1 + w_1_f_1 * (1/(1 + exp(-(b_1_f_1 + (x_1[i]+alpha*dx_1[i]) * w_11_f_1 +\n",
        "        (x_2[i]+alpha*dx_2[i]) * w_21_f_1 + (x_3[i]+alpha*dx_3[i]) * w_31_f_1)))) + w_2_f_1 * (1/(1 +\n",
        "        exp(-(b_2_f_1 + (x_1[i]+alpha*dx_1[i]) * w_12_f_1 + (x_2[i]+alpha*dx_2[i]) * w_22_f_1 + (x_3[i]+alpha*dx_3[i]) *\n",
        "            w_32_f_1))))))^2))*dx_1[i] +\n",
        "(-(exp(-b_0_f_1 + w_1_f_1 * (1/(1 + exp(-(b_1_f_1 +\n",
        "    (x_1[i]+alpha*dx_1[i]) * w_11_f_1 + (x_2[i]+alpha*dx_2[i]) * w_21_f_1 + (x_3[i]+alpha*dx_3[i]) * w_31_f_1)))) + w_2_f_1 *\n",
        "    (1/(1 + exp(-(b_2_f_1 + (x_1[i]+alpha*dx_1[i]) * w_12_f_1 + (x_2[i]+alpha*dx_2[i]) * w_22_f_1 +\n",
        "        (x_3[i]+alpha*dx_3[i]) * w_32_f_1))))) * (w_1_f_1 * -(exp(-(b_1_f_1 + (x_1[i]+alpha*dx_1[i]) *\n",
        "    w_11_f_1 + (x_2[i]+alpha*dx_2[i]) * w_21_f_1 + (x_3[i]+alpha*dx_3[i]) * w_31_f_1)) * -w_21_f_1/(1 +\n",
        "    exp(-(b_1_f_1 + (x_1[i]+alpha*dx_1[i]) * w_11_f_1 + (x_2[i]+alpha*dx_2[i]) * w_21_f_1 + (x_3[i]+alpha*dx_3[i]) * w_31_f_1)))^2) +\n",
        "    w_2_f_1 * -(exp(-(b_2_f_1 + (x_1[i]+alpha*dx_1[i]) * w_12_f_1 + (x_2[i]+alpha*dx_2[i]) * w_22_f_1 +\n",
        "        (x_3[i]+alpha*dx_3[i]) * w_32_f_1)) * -w_22_f_1/(1 + exp(-(b_2_f_1 + (x_1[i]+alpha*dx_1[i]) *\n",
        "        w_12_f_1 + (x_2[i]+alpha*dx_2[i]) * w_22_f_1 + (x_3[i]+alpha*dx_3[i]) * w_32_f_1)))^2))/(1 +\n",
        "    exp(-b_0_f_1 + w_1_f_1 * (1/(1 + exp(-(b_1_f_1 + (x_1[i]+alpha*dx_1[i]) * w_11_f_1 +\n",
        "        (x_2[i]+alpha*dx_2[i]) * w_21_f_1 + (x_3[i]+alpha*dx_3[i]) * w_31_f_1)))) + w_2_f_1 * (1/(1 +\n",
        "        exp(-(b_2_f_1 + (x_1[i]+alpha*dx_1[i]) * w_12_f_1 + (x_2[i]+alpha*dx_2[i]) * w_22_f_1 + (x_3[i]+alpha*dx_3[i]) *\n",
        "            w_32_f_1))))))^2))*dx_2[i]+\n",
        "(-(exp(-b_0_f_1 + w_1_f_1 * (1/(1 + exp(-(b_1_f_1 +\n",
        "    (x_1[i]+alpha*dx_1[i]) * w_11_f_1 + (x_2[i]+alpha*dx_2[i]) * w_21_f_1 + (x_3[i]+alpha*dx_3[i]) * w_31_f_1)))) + w_2_f_1 *\n",
        "    (1/(1 + exp(-(b_2_f_1 + (x_1[i]+alpha*dx_1[i]) * w_12_f_1 + (x_2[i]+alpha*dx_2[i]) * w_22_f_1 +\n",
        "        (x_3[i]+alpha*dx_3[i]) * w_32_f_1))))) * (w_1_f_1 * -(exp(-(b_1_f_1 + (x_1[i]+alpha*dx_1[i]) *\n",
        "    w_11_f_1 + (x_2[i]+alpha*dx_2[i]) * w_21_f_1 + (x_3[i]+alpha*dx_3[i]) * w_31_f_1)) * -w_31_f_1/(1 +\n",
        "    exp(-(b_1_f_1 + (x_1[i]+alpha*dx_1[i]) * w_11_f_1 + (x_2[i]+alpha*dx_2[i]) * w_21_f_1 + (x_3[i]+alpha*dx_3[i]) * w_31_f_1)))^2) +\n",
        "    w_2_f_1 * -(exp(-(b_2_f_1 + (x_1[i]+alpha*dx_1[i]) * w_12_f_1 + (x_2[i]+alpha*dx_2[i]) * w_22_f_1 +\n",
        "        (x_3[i]+alpha*dx_3[i]) * w_32_f_1)) * -w_32_f_1/(1 + exp(-(b_2_f_1 + (x_1[i]+alpha*dx_1[i]) *\n",
        "        w_12_f_1 + (x_2[i]+alpha*dx_2[i]) * w_22_f_1 + (x_3[i]+alpha*dx_3[i]) * w_32_f_1)))^2))/(1 +\n",
        "    exp(-b_0_f_1 + w_1_f_1 * (1/(1 + exp(-(b_1_f_1 + (x_1[i]+alpha*dx_1[i]) * w_11_f_1 +\n",
        "        (x_2[i]+alpha*dx_2[i]) * w_21_f_1 + (x_3[i]+alpha*dx_3[i]) * w_31_f_1)))) + w_2_f_1 * (1/(1 +\n",
        "        exp(-(b_2_f_1 + (x_1[i]+alpha*dx_1[i]) * w_12_f_1 + (x_2[i]+alpha*dx_2[i]) * w_22_f_1 + (x_3[i]+alpha*dx_3[i]) *\n",
        "            w_32_f_1))))))^2))*dx_3[i] - (1/(1+exp(-b_0_f_1+w_1_f_1*(1/(1+exp(-(b_1_f_1+(x_1[i]+dx_1[i])*w_11_f_1+(x_2[i]+dx_2[i])*w_21_f_1+(x_3[i]+dx_3[i])*w_31_f_1))))+\n",
        "  w_2_f_1*(1/(1+exp(-(b_2_f_1+(x_1[i]+dx_1[i])*w_12_f_1+(x_2[i]+dx_2[i])*w_22_f_1+(x_3[i]+dx_3[i])*w_32_f_1))))))) + (1/(1+exp(-b_0_f_1+w_1_f_1*(1/(1+exp(-(b_1_f_1+x_1[i]*w_11_f_1+x_2[i]*w_21_f_1+x_3[i]*w_31_f_1))))+\n",
        "  w_2_f_1*(1/(1+exp(-(b_2_f_1+x_1[i]*w_12_f_1+x_2[i]*w_22_f_1+x_3[i]*w_32_f_1)))))))"
      ],
      "metadata": {
        "id": "5NbxoHs6Sqjn",
        "outputId": "5831be29-f13f-444d-e5a5-eebf2b5b51c6",
        "colab": {
          "base_uri": "https://localhost:8080/",
          "height": 272
        }
      },
      "execution_count": 96,
      "outputs": [
        {
          "output_type": "display_data",
          "data": {
            "text/html": [
              "<style>\n",
              ".list-inline {list-style: none; margin:0; padding: 0}\n",
              ".list-inline>li {display: inline-block}\n",
              ".list-inline>li:not(:last-child)::after {content: \"\\00b7\"; padding: 0 .5ex}\n",
              "</style>\n",
              "<ol class=list-inline><li>&lt;NA&gt;</li><li>&lt;NA&gt;</li><li>&lt;NA&gt;</li><li>&lt;NA&gt;</li><li>&lt;NA&gt;</li><li>&lt;NA&gt;</li><li>&lt;NA&gt;</li><li>&lt;NA&gt;</li><li>&lt;NA&gt;</li><li>&lt;NA&gt;</li><li>&lt;NA&gt;</li><li>&lt;NA&gt;</li><li>&lt;NA&gt;</li><li>&lt;NA&gt;</li><li>&lt;NA&gt;</li><li>&lt;NA&gt;</li><li>&lt;NA&gt;</li><li>&lt;NA&gt;</li><li>&lt;NA&gt;</li><li>&lt;NA&gt;</li><li>&lt;NA&gt;</li><li>&lt;NA&gt;</li><li>&lt;NA&gt;</li><li>&lt;NA&gt;</li><li>&lt;NA&gt;</li><li>&lt;NA&gt;</li><li>&lt;NA&gt;</li><li>&lt;NA&gt;</li><li>&lt;NA&gt;</li><li>&lt;NA&gt;</li><li>&lt;NA&gt;</li><li>&lt;NA&gt;</li><li>&lt;NA&gt;</li><li>&lt;NA&gt;</li><li>&lt;NA&gt;</li><li>&lt;NA&gt;</li><li>&lt;NA&gt;</li><li>&lt;NA&gt;</li><li>&lt;NA&gt;</li><li>&lt;NA&gt;</li><li>&lt;NA&gt;</li><li>&lt;NA&gt;</li><li>&lt;NA&gt;</li><li>&lt;NA&gt;</li><li>&lt;NA&gt;</li><li>&lt;NA&gt;</li><li>&lt;NA&gt;</li><li>&lt;NA&gt;</li><li>&lt;NA&gt;</li><li>&lt;NA&gt;</li><li>&lt;NA&gt;</li><li>&lt;NA&gt;</li><li>&lt;NA&gt;</li><li>&lt;NA&gt;</li><li>&lt;NA&gt;</li><li>&lt;NA&gt;</li><li>&lt;NA&gt;</li><li>&lt;NA&gt;</li><li>&lt;NA&gt;</li><li>&lt;NA&gt;</li><li>&lt;NA&gt;</li><li>&lt;NA&gt;</li><li>&lt;NA&gt;</li><li>&lt;NA&gt;</li><li>&lt;NA&gt;</li><li>&lt;NA&gt;</li><li>&lt;NA&gt;</li><li>&lt;NA&gt;</li><li>&lt;NA&gt;</li><li>&lt;NA&gt;</li><li>&lt;NA&gt;</li><li>&lt;NA&gt;</li><li>&lt;NA&gt;</li><li>&lt;NA&gt;</li><li>&lt;NA&gt;</li><li>&lt;NA&gt;</li><li>&lt;NA&gt;</li><li>&lt;NA&gt;</li><li>&lt;NA&gt;</li><li>&lt;NA&gt;</li><li>&lt;NA&gt;</li><li>&lt;NA&gt;</li><li>&lt;NA&gt;</li><li>&lt;NA&gt;</li><li>&lt;NA&gt;</li><li>&lt;NA&gt;</li><li>&lt;NA&gt;</li><li>&lt;NA&gt;</li><li>&lt;NA&gt;</li><li>&lt;NA&gt;</li><li>&lt;NA&gt;</li><li>&lt;NA&gt;</li><li>&lt;NA&gt;</li><li>&lt;NA&gt;</li><li>&lt;NA&gt;</li><li>&lt;NA&gt;</li><li>&lt;NA&gt;</li><li>&lt;NA&gt;</li><li>&lt;NA&gt;</li><li>&lt;NA&gt;</li><li>&lt;NA&gt;</li><li>&lt;NA&gt;</li><li>&lt;NA&gt;</li><li>&lt;NA&gt;</li><li>&lt;NA&gt;</li><li>&lt;NA&gt;</li><li>&lt;NA&gt;</li><li>&lt;NA&gt;</li><li>&lt;NA&gt;</li><li>&lt;NA&gt;</li><li>&lt;NA&gt;</li><li>&lt;NA&gt;</li><li>&lt;NA&gt;</li><li>&lt;NA&gt;</li><li>&lt;NA&gt;</li><li>&lt;NA&gt;</li><li>&lt;NA&gt;</li><li>&lt;NA&gt;</li><li>&lt;NA&gt;</li><li>&lt;NA&gt;</li><li>&lt;NA&gt;</li><li>&lt;NA&gt;</li><li>&lt;NA&gt;</li><li>&lt;NA&gt;</li><li>&lt;NA&gt;</li><li>&lt;NA&gt;</li><li>&lt;NA&gt;</li><li>&lt;NA&gt;</li><li>&lt;NA&gt;</li><li>&lt;NA&gt;</li><li>&lt;NA&gt;</li><li>&lt;NA&gt;</li><li>&lt;NA&gt;</li><li>&lt;NA&gt;</li><li>&lt;NA&gt;</li><li>&lt;NA&gt;</li><li>&lt;NA&gt;</li><li>&lt;NA&gt;</li><li>&lt;NA&gt;</li><li>&lt;NA&gt;</li><li>&lt;NA&gt;</li><li>&lt;NA&gt;</li><li>&lt;NA&gt;</li><li>&lt;NA&gt;</li><li>&lt;NA&gt;</li><li>&lt;NA&gt;</li><li>&lt;NA&gt;</li><li>&lt;NA&gt;</li><li>&lt;NA&gt;</li><li>&lt;NA&gt;</li><li>&lt;NA&gt;</li><li>&lt;NA&gt;</li><li>&lt;NA&gt;</li><li>&lt;NA&gt;</li><li>&lt;NA&gt;</li><li>&lt;NA&gt;</li><li>&lt;NA&gt;</li><li>&lt;NA&gt;</li><li>&lt;NA&gt;</li><li>&lt;NA&gt;</li><li>&lt;NA&gt;</li><li>&lt;NA&gt;</li><li>&lt;NA&gt;</li><li>&lt;NA&gt;</li><li>&lt;NA&gt;</li><li>&lt;NA&gt;</li><li>&lt;NA&gt;</li><li>&lt;NA&gt;</li><li>&lt;NA&gt;</li><li>&lt;NA&gt;</li><li>&lt;NA&gt;</li><li>&lt;NA&gt;</li><li>&lt;NA&gt;</li><li>&lt;NA&gt;</li><li>&lt;NA&gt;</li><li>&lt;NA&gt;</li><li>&lt;NA&gt;</li><li>&lt;NA&gt;</li><li>&lt;NA&gt;</li><li>&lt;NA&gt;</li><li>&lt;NA&gt;</li><li>&lt;NA&gt;</li><li>&lt;NA&gt;</li><li>&lt;NA&gt;</li><li>&lt;NA&gt;</li><li>&lt;NA&gt;</li><li>&lt;NA&gt;</li><li>&lt;NA&gt;</li><li>&lt;NA&gt;</li><li>&lt;NA&gt;</li><li>&lt;NA&gt;</li><li>&lt;NA&gt;</li><li>&lt;NA&gt;</li><li>&lt;NA&gt;</li><li>&lt;NA&gt;</li><li>&lt;NA&gt;</li><li>&lt;NA&gt;</li><li>&lt;NA&gt;</li><li>&lt;NA&gt;</li><li>&lt;NA&gt;</li><li>⋯</li><li>&lt;NA&gt;</li><li>&lt;NA&gt;</li><li>&lt;NA&gt;</li><li>&lt;NA&gt;</li><li>&lt;NA&gt;</li><li>&lt;NA&gt;</li><li>&lt;NA&gt;</li><li>&lt;NA&gt;</li><li>&lt;NA&gt;</li><li>&lt;NA&gt;</li><li>&lt;NA&gt;</li><li>&lt;NA&gt;</li><li>&lt;NA&gt;</li><li>&lt;NA&gt;</li><li>&lt;NA&gt;</li><li>&lt;NA&gt;</li><li>&lt;NA&gt;</li><li>&lt;NA&gt;</li><li>&lt;NA&gt;</li><li>&lt;NA&gt;</li><li>&lt;NA&gt;</li><li>&lt;NA&gt;</li><li>&lt;NA&gt;</li><li>&lt;NA&gt;</li><li>&lt;NA&gt;</li><li>&lt;NA&gt;</li><li>&lt;NA&gt;</li><li>&lt;NA&gt;</li><li>&lt;NA&gt;</li><li>&lt;NA&gt;</li><li>&lt;NA&gt;</li><li>&lt;NA&gt;</li><li>&lt;NA&gt;</li><li>&lt;NA&gt;</li><li>&lt;NA&gt;</li><li>&lt;NA&gt;</li><li>&lt;NA&gt;</li><li>&lt;NA&gt;</li><li>&lt;NA&gt;</li><li>&lt;NA&gt;</li><li>&lt;NA&gt;</li><li>&lt;NA&gt;</li><li>&lt;NA&gt;</li><li>&lt;NA&gt;</li><li>&lt;NA&gt;</li><li>&lt;NA&gt;</li><li>&lt;NA&gt;</li><li>&lt;NA&gt;</li><li>&lt;NA&gt;</li><li>&lt;NA&gt;</li><li>&lt;NA&gt;</li><li>&lt;NA&gt;</li><li>&lt;NA&gt;</li><li>&lt;NA&gt;</li><li>&lt;NA&gt;</li><li>&lt;NA&gt;</li><li>&lt;NA&gt;</li><li>&lt;NA&gt;</li><li>&lt;NA&gt;</li><li>&lt;NA&gt;</li><li>&lt;NA&gt;</li><li>&lt;NA&gt;</li><li>&lt;NA&gt;</li><li>&lt;NA&gt;</li><li>&lt;NA&gt;</li><li>&lt;NA&gt;</li><li>&lt;NA&gt;</li><li>&lt;NA&gt;</li><li>&lt;NA&gt;</li><li>&lt;NA&gt;</li><li>&lt;NA&gt;</li><li>&lt;NA&gt;</li><li>&lt;NA&gt;</li><li>&lt;NA&gt;</li><li>&lt;NA&gt;</li><li>&lt;NA&gt;</li><li>&lt;NA&gt;</li><li>&lt;NA&gt;</li><li>&lt;NA&gt;</li><li>&lt;NA&gt;</li><li>&lt;NA&gt;</li><li>&lt;NA&gt;</li><li>&lt;NA&gt;</li><li>&lt;NA&gt;</li><li>&lt;NA&gt;</li><li>&lt;NA&gt;</li><li>&lt;NA&gt;</li><li>&lt;NA&gt;</li><li>&lt;NA&gt;</li><li>&lt;NA&gt;</li><li>&lt;NA&gt;</li><li>&lt;NA&gt;</li><li>&lt;NA&gt;</li><li>&lt;NA&gt;</li><li>&lt;NA&gt;</li><li>&lt;NA&gt;</li><li>&lt;NA&gt;</li><li>&lt;NA&gt;</li><li>&lt;NA&gt;</li><li>&lt;NA&gt;</li><li>&lt;NA&gt;</li><li>&lt;NA&gt;</li><li>&lt;NA&gt;</li><li>&lt;NA&gt;</li><li>&lt;NA&gt;</li><li>&lt;NA&gt;</li><li>&lt;NA&gt;</li><li>&lt;NA&gt;</li><li>&lt;NA&gt;</li><li>&lt;NA&gt;</li><li>&lt;NA&gt;</li><li>&lt;NA&gt;</li><li>&lt;NA&gt;</li><li>&lt;NA&gt;</li><li>&lt;NA&gt;</li><li>&lt;NA&gt;</li><li>&lt;NA&gt;</li><li>&lt;NA&gt;</li><li>&lt;NA&gt;</li><li>&lt;NA&gt;</li><li>&lt;NA&gt;</li><li>&lt;NA&gt;</li><li>&lt;NA&gt;</li><li>&lt;NA&gt;</li><li>&lt;NA&gt;</li><li>&lt;NA&gt;</li><li>&lt;NA&gt;</li><li>&lt;NA&gt;</li><li>&lt;NA&gt;</li><li>&lt;NA&gt;</li><li>&lt;NA&gt;</li><li>&lt;NA&gt;</li><li>&lt;NA&gt;</li><li>&lt;NA&gt;</li><li>&lt;NA&gt;</li><li>&lt;NA&gt;</li><li>&lt;NA&gt;</li><li>&lt;NA&gt;</li><li>&lt;NA&gt;</li><li>&lt;NA&gt;</li><li>&lt;NA&gt;</li><li>&lt;NA&gt;</li><li>&lt;NA&gt;</li><li>&lt;NA&gt;</li><li>&lt;NA&gt;</li><li>&lt;NA&gt;</li><li>&lt;NA&gt;</li><li>&lt;NA&gt;</li><li>&lt;NA&gt;</li><li>&lt;NA&gt;</li><li>&lt;NA&gt;</li><li>&lt;NA&gt;</li><li>&lt;NA&gt;</li><li>&lt;NA&gt;</li><li>&lt;NA&gt;</li><li>&lt;NA&gt;</li><li>&lt;NA&gt;</li><li>&lt;NA&gt;</li><li>&lt;NA&gt;</li><li>&lt;NA&gt;</li><li>&lt;NA&gt;</li><li>&lt;NA&gt;</li><li>&lt;NA&gt;</li><li>&lt;NA&gt;</li><li>&lt;NA&gt;</li><li>&lt;NA&gt;</li><li>&lt;NA&gt;</li><li>&lt;NA&gt;</li><li>&lt;NA&gt;</li><li>&lt;NA&gt;</li><li>&lt;NA&gt;</li><li>&lt;NA&gt;</li><li>&lt;NA&gt;</li><li>&lt;NA&gt;</li><li>&lt;NA&gt;</li><li>&lt;NA&gt;</li><li>&lt;NA&gt;</li><li>&lt;NA&gt;</li><li>&lt;NA&gt;</li><li>&lt;NA&gt;</li><li>&lt;NA&gt;</li><li>&lt;NA&gt;</li><li>&lt;NA&gt;</li><li>&lt;NA&gt;</li><li>&lt;NA&gt;</li><li>&lt;NA&gt;</li><li>&lt;NA&gt;</li><li>&lt;NA&gt;</li><li>&lt;NA&gt;</li><li>&lt;NA&gt;</li><li>&lt;NA&gt;</li><li>&lt;NA&gt;</li><li>&lt;NA&gt;</li><li>&lt;NA&gt;</li><li>&lt;NA&gt;</li><li>&lt;NA&gt;</li><li>&lt;NA&gt;</li><li>&lt;NA&gt;</li><li>&lt;NA&gt;</li><li>&lt;NA&gt;</li></ol>\n"
            ],
            "text/markdown": "1. &lt;NA&gt;\n2. &lt;NA&gt;\n3. &lt;NA&gt;\n4. &lt;NA&gt;\n5. &lt;NA&gt;\n6. &lt;NA&gt;\n7. &lt;NA&gt;\n8. &lt;NA&gt;\n9. &lt;NA&gt;\n10. &lt;NA&gt;\n11. &lt;NA&gt;\n12. &lt;NA&gt;\n13. &lt;NA&gt;\n14. &lt;NA&gt;\n15. &lt;NA&gt;\n16. &lt;NA&gt;\n17. &lt;NA&gt;\n18. &lt;NA&gt;\n19. &lt;NA&gt;\n20. &lt;NA&gt;\n21. &lt;NA&gt;\n22. &lt;NA&gt;\n23. &lt;NA&gt;\n24. &lt;NA&gt;\n25. &lt;NA&gt;\n26. &lt;NA&gt;\n27. &lt;NA&gt;\n28. &lt;NA&gt;\n29. &lt;NA&gt;\n30. &lt;NA&gt;\n31. &lt;NA&gt;\n32. &lt;NA&gt;\n33. &lt;NA&gt;\n34. &lt;NA&gt;\n35. &lt;NA&gt;\n36. &lt;NA&gt;\n37. &lt;NA&gt;\n38. &lt;NA&gt;\n39. &lt;NA&gt;\n40. &lt;NA&gt;\n41. &lt;NA&gt;\n42. &lt;NA&gt;\n43. &lt;NA&gt;\n44. &lt;NA&gt;\n45. &lt;NA&gt;\n46. &lt;NA&gt;\n47. &lt;NA&gt;\n48. &lt;NA&gt;\n49. &lt;NA&gt;\n50. &lt;NA&gt;\n51. &lt;NA&gt;\n52. &lt;NA&gt;\n53. &lt;NA&gt;\n54. &lt;NA&gt;\n55. &lt;NA&gt;\n56. &lt;NA&gt;\n57. &lt;NA&gt;\n58. &lt;NA&gt;\n59. &lt;NA&gt;\n60. &lt;NA&gt;\n61. &lt;NA&gt;\n62. &lt;NA&gt;\n63. &lt;NA&gt;\n64. &lt;NA&gt;\n65. &lt;NA&gt;\n66. &lt;NA&gt;\n67. &lt;NA&gt;\n68. &lt;NA&gt;\n69. &lt;NA&gt;\n70. &lt;NA&gt;\n71. &lt;NA&gt;\n72. &lt;NA&gt;\n73. &lt;NA&gt;\n74. &lt;NA&gt;\n75. &lt;NA&gt;\n76. &lt;NA&gt;\n77. &lt;NA&gt;\n78. &lt;NA&gt;\n79. &lt;NA&gt;\n80. &lt;NA&gt;\n81. &lt;NA&gt;\n82. &lt;NA&gt;\n83. &lt;NA&gt;\n84. &lt;NA&gt;\n85. &lt;NA&gt;\n86. &lt;NA&gt;\n87. &lt;NA&gt;\n88. &lt;NA&gt;\n89. &lt;NA&gt;\n90. &lt;NA&gt;\n91. &lt;NA&gt;\n92. &lt;NA&gt;\n93. &lt;NA&gt;\n94. &lt;NA&gt;\n95. &lt;NA&gt;\n96. &lt;NA&gt;\n97. &lt;NA&gt;\n98. &lt;NA&gt;\n99. &lt;NA&gt;\n100. &lt;NA&gt;\n101. &lt;NA&gt;\n102. &lt;NA&gt;\n103. &lt;NA&gt;\n104. &lt;NA&gt;\n105. &lt;NA&gt;\n106. &lt;NA&gt;\n107. &lt;NA&gt;\n108. &lt;NA&gt;\n109. &lt;NA&gt;\n110. &lt;NA&gt;\n111. &lt;NA&gt;\n112. &lt;NA&gt;\n113. &lt;NA&gt;\n114. &lt;NA&gt;\n115. &lt;NA&gt;\n116. &lt;NA&gt;\n117. &lt;NA&gt;\n118. &lt;NA&gt;\n119. &lt;NA&gt;\n120. &lt;NA&gt;\n121. &lt;NA&gt;\n122. &lt;NA&gt;\n123. &lt;NA&gt;\n124. &lt;NA&gt;\n125. &lt;NA&gt;\n126. &lt;NA&gt;\n127. &lt;NA&gt;\n128. &lt;NA&gt;\n129. &lt;NA&gt;\n130. &lt;NA&gt;\n131. &lt;NA&gt;\n132. &lt;NA&gt;\n133. &lt;NA&gt;\n134. &lt;NA&gt;\n135. &lt;NA&gt;\n136. &lt;NA&gt;\n137. &lt;NA&gt;\n138. &lt;NA&gt;\n139. &lt;NA&gt;\n140. &lt;NA&gt;\n141. &lt;NA&gt;\n142. &lt;NA&gt;\n143. &lt;NA&gt;\n144. &lt;NA&gt;\n145. &lt;NA&gt;\n146. &lt;NA&gt;\n147. &lt;NA&gt;\n148. &lt;NA&gt;\n149. &lt;NA&gt;\n150. &lt;NA&gt;\n151. &lt;NA&gt;\n152. &lt;NA&gt;\n153. &lt;NA&gt;\n154. &lt;NA&gt;\n155. &lt;NA&gt;\n156. &lt;NA&gt;\n157. &lt;NA&gt;\n158. &lt;NA&gt;\n159. &lt;NA&gt;\n160. &lt;NA&gt;\n161. &lt;NA&gt;\n162. &lt;NA&gt;\n163. &lt;NA&gt;\n164. &lt;NA&gt;\n165. &lt;NA&gt;\n166. &lt;NA&gt;\n167. &lt;NA&gt;\n168. &lt;NA&gt;\n169. &lt;NA&gt;\n170. &lt;NA&gt;\n171. &lt;NA&gt;\n172. &lt;NA&gt;\n173. &lt;NA&gt;\n174. &lt;NA&gt;\n175. &lt;NA&gt;\n176. &lt;NA&gt;\n177. &lt;NA&gt;\n178. &lt;NA&gt;\n179. &lt;NA&gt;\n180. &lt;NA&gt;\n181. &lt;NA&gt;\n182. &lt;NA&gt;\n183. &lt;NA&gt;\n184. &lt;NA&gt;\n185. &lt;NA&gt;\n186. &lt;NA&gt;\n187. &lt;NA&gt;\n188. &lt;NA&gt;\n189. &lt;NA&gt;\n190. &lt;NA&gt;\n191. &lt;NA&gt;\n192. &lt;NA&gt;\n193. &lt;NA&gt;\n194. &lt;NA&gt;\n195. &lt;NA&gt;\n196. &lt;NA&gt;\n197. &lt;NA&gt;\n198. &lt;NA&gt;\n199. &lt;NA&gt;\n200. &lt;NA&gt;\n201. ⋯\n202. &lt;NA&gt;\n203. &lt;NA&gt;\n204. &lt;NA&gt;\n205. &lt;NA&gt;\n206. &lt;NA&gt;\n207. &lt;NA&gt;\n208. &lt;NA&gt;\n209. &lt;NA&gt;\n210. &lt;NA&gt;\n211. &lt;NA&gt;\n212. &lt;NA&gt;\n213. &lt;NA&gt;\n214. &lt;NA&gt;\n215. &lt;NA&gt;\n216. &lt;NA&gt;\n217. &lt;NA&gt;\n218. &lt;NA&gt;\n219. &lt;NA&gt;\n220. &lt;NA&gt;\n221. &lt;NA&gt;\n222. &lt;NA&gt;\n223. &lt;NA&gt;\n224. &lt;NA&gt;\n225. &lt;NA&gt;\n226. &lt;NA&gt;\n227. &lt;NA&gt;\n228. &lt;NA&gt;\n229. &lt;NA&gt;\n230. &lt;NA&gt;\n231. &lt;NA&gt;\n232. &lt;NA&gt;\n233. &lt;NA&gt;\n234. &lt;NA&gt;\n235. &lt;NA&gt;\n236. &lt;NA&gt;\n237. &lt;NA&gt;\n238. &lt;NA&gt;\n239. &lt;NA&gt;\n240. &lt;NA&gt;\n241. &lt;NA&gt;\n242. &lt;NA&gt;\n243. &lt;NA&gt;\n244. &lt;NA&gt;\n245. &lt;NA&gt;\n246. &lt;NA&gt;\n247. &lt;NA&gt;\n248. &lt;NA&gt;\n249. &lt;NA&gt;\n250. &lt;NA&gt;\n251. &lt;NA&gt;\n252. &lt;NA&gt;\n253. &lt;NA&gt;\n254. &lt;NA&gt;\n255. &lt;NA&gt;\n256. &lt;NA&gt;\n257. &lt;NA&gt;\n258. &lt;NA&gt;\n259. &lt;NA&gt;\n260. &lt;NA&gt;\n261. &lt;NA&gt;\n262. &lt;NA&gt;\n263. &lt;NA&gt;\n264. &lt;NA&gt;\n265. &lt;NA&gt;\n266. &lt;NA&gt;\n267. &lt;NA&gt;\n268. &lt;NA&gt;\n269. &lt;NA&gt;\n270. &lt;NA&gt;\n271. &lt;NA&gt;\n272. &lt;NA&gt;\n273. &lt;NA&gt;\n274. &lt;NA&gt;\n275. &lt;NA&gt;\n276. &lt;NA&gt;\n277. &lt;NA&gt;\n278. &lt;NA&gt;\n279. &lt;NA&gt;\n280. &lt;NA&gt;\n281. &lt;NA&gt;\n282. &lt;NA&gt;\n283. &lt;NA&gt;\n284. &lt;NA&gt;\n285. &lt;NA&gt;\n286. &lt;NA&gt;\n287. &lt;NA&gt;\n288. &lt;NA&gt;\n289. &lt;NA&gt;\n290. &lt;NA&gt;\n291. &lt;NA&gt;\n292. &lt;NA&gt;\n293. &lt;NA&gt;\n294. &lt;NA&gt;\n295. &lt;NA&gt;\n296. &lt;NA&gt;\n297. &lt;NA&gt;\n298. &lt;NA&gt;\n299. &lt;NA&gt;\n300. &lt;NA&gt;\n301. &lt;NA&gt;\n302. &lt;NA&gt;\n303. &lt;NA&gt;\n304. &lt;NA&gt;\n305. &lt;NA&gt;\n306. &lt;NA&gt;\n307. &lt;NA&gt;\n308. &lt;NA&gt;\n309. &lt;NA&gt;\n310. &lt;NA&gt;\n311. &lt;NA&gt;\n312. &lt;NA&gt;\n313. &lt;NA&gt;\n314. &lt;NA&gt;\n315. &lt;NA&gt;\n316. &lt;NA&gt;\n317. &lt;NA&gt;\n318. &lt;NA&gt;\n319. &lt;NA&gt;\n320. &lt;NA&gt;\n321. &lt;NA&gt;\n322. &lt;NA&gt;\n323. &lt;NA&gt;\n324. &lt;NA&gt;\n325. &lt;NA&gt;\n326. &lt;NA&gt;\n327. &lt;NA&gt;\n328. &lt;NA&gt;\n329. &lt;NA&gt;\n330. &lt;NA&gt;\n331. &lt;NA&gt;\n332. &lt;NA&gt;\n333. &lt;NA&gt;\n334. &lt;NA&gt;\n335. &lt;NA&gt;\n336. &lt;NA&gt;\n337. &lt;NA&gt;\n338. &lt;NA&gt;\n339. &lt;NA&gt;\n340. &lt;NA&gt;\n341. &lt;NA&gt;\n342. &lt;NA&gt;\n343. &lt;NA&gt;\n344. &lt;NA&gt;\n345. &lt;NA&gt;\n346. &lt;NA&gt;\n347. &lt;NA&gt;\n348. &lt;NA&gt;\n349. &lt;NA&gt;\n350. &lt;NA&gt;\n351. &lt;NA&gt;\n352. &lt;NA&gt;\n353. &lt;NA&gt;\n354. &lt;NA&gt;\n355. &lt;NA&gt;\n356. &lt;NA&gt;\n357. &lt;NA&gt;\n358. &lt;NA&gt;\n359. &lt;NA&gt;\n360. &lt;NA&gt;\n361. &lt;NA&gt;\n362. &lt;NA&gt;\n363. &lt;NA&gt;\n364. &lt;NA&gt;\n365. &lt;NA&gt;\n366. &lt;NA&gt;\n367. &lt;NA&gt;\n368. &lt;NA&gt;\n369. &lt;NA&gt;\n370. &lt;NA&gt;\n371. &lt;NA&gt;\n372. &lt;NA&gt;\n373. &lt;NA&gt;\n374. &lt;NA&gt;\n375. &lt;NA&gt;\n376. &lt;NA&gt;\n377. &lt;NA&gt;\n378. &lt;NA&gt;\n379. &lt;NA&gt;\n380. &lt;NA&gt;\n381. &lt;NA&gt;\n382. &lt;NA&gt;\n383. &lt;NA&gt;\n384. &lt;NA&gt;\n385. &lt;NA&gt;\n386. &lt;NA&gt;\n387. &lt;NA&gt;\n388. &lt;NA&gt;\n389. &lt;NA&gt;\n390. &lt;NA&gt;\n391. &lt;NA&gt;\n392. &lt;NA&gt;\n393. &lt;NA&gt;\n394. &lt;NA&gt;\n395. &lt;NA&gt;\n396. &lt;NA&gt;\n397. &lt;NA&gt;\n398. &lt;NA&gt;\n399. &lt;NA&gt;\n400. &lt;NA&gt;\n401. &lt;NA&gt;\n\n\n",
            "text/latex": "\\begin{enumerate*}\n\\item <NA>\n\\item <NA>\n\\item <NA>\n\\item <NA>\n\\item <NA>\n\\item <NA>\n\\item <NA>\n\\item <NA>\n\\item <NA>\n\\item <NA>\n\\item <NA>\n\\item <NA>\n\\item <NA>\n\\item <NA>\n\\item <NA>\n\\item <NA>\n\\item <NA>\n\\item <NA>\n\\item <NA>\n\\item <NA>\n\\item <NA>\n\\item <NA>\n\\item <NA>\n\\item <NA>\n\\item <NA>\n\\item <NA>\n\\item <NA>\n\\item <NA>\n\\item <NA>\n\\item <NA>\n\\item <NA>\n\\item <NA>\n\\item <NA>\n\\item <NA>\n\\item <NA>\n\\item <NA>\n\\item <NA>\n\\item <NA>\n\\item <NA>\n\\item <NA>\n\\item <NA>\n\\item <NA>\n\\item <NA>\n\\item <NA>\n\\item <NA>\n\\item <NA>\n\\item <NA>\n\\item <NA>\n\\item <NA>\n\\item <NA>\n\\item <NA>\n\\item <NA>\n\\item <NA>\n\\item <NA>\n\\item <NA>\n\\item <NA>\n\\item <NA>\n\\item <NA>\n\\item <NA>\n\\item <NA>\n\\item <NA>\n\\item <NA>\n\\item <NA>\n\\item <NA>\n\\item <NA>\n\\item <NA>\n\\item <NA>\n\\item <NA>\n\\item <NA>\n\\item <NA>\n\\item <NA>\n\\item <NA>\n\\item <NA>\n\\item <NA>\n\\item <NA>\n\\item <NA>\n\\item <NA>\n\\item <NA>\n\\item <NA>\n\\item <NA>\n\\item <NA>\n\\item <NA>\n\\item <NA>\n\\item <NA>\n\\item <NA>\n\\item <NA>\n\\item <NA>\n\\item <NA>\n\\item <NA>\n\\item <NA>\n\\item <NA>\n\\item <NA>\n\\item <NA>\n\\item <NA>\n\\item <NA>\n\\item <NA>\n\\item <NA>\n\\item <NA>\n\\item <NA>\n\\item <NA>\n\\item <NA>\n\\item <NA>\n\\item <NA>\n\\item <NA>\n\\item <NA>\n\\item <NA>\n\\item <NA>\n\\item <NA>\n\\item <NA>\n\\item <NA>\n\\item <NA>\n\\item <NA>\n\\item <NA>\n\\item <NA>\n\\item <NA>\n\\item <NA>\n\\item <NA>\n\\item <NA>\n\\item <NA>\n\\item <NA>\n\\item <NA>\n\\item <NA>\n\\item <NA>\n\\item <NA>\n\\item <NA>\n\\item <NA>\n\\item <NA>\n\\item <NA>\n\\item <NA>\n\\item <NA>\n\\item <NA>\n\\item <NA>\n\\item <NA>\n\\item <NA>\n\\item <NA>\n\\item <NA>\n\\item <NA>\n\\item <NA>\n\\item <NA>\n\\item <NA>\n\\item <NA>\n\\item <NA>\n\\item <NA>\n\\item <NA>\n\\item <NA>\n\\item <NA>\n\\item <NA>\n\\item <NA>\n\\item <NA>\n\\item <NA>\n\\item <NA>\n\\item <NA>\n\\item <NA>\n\\item <NA>\n\\item <NA>\n\\item <NA>\n\\item <NA>\n\\item <NA>\n\\item <NA>\n\\item <NA>\n\\item <NA>\n\\item <NA>\n\\item <NA>\n\\item <NA>\n\\item <NA>\n\\item <NA>\n\\item <NA>\n\\item <NA>\n\\item <NA>\n\\item <NA>\n\\item <NA>\n\\item <NA>\n\\item <NA>\n\\item <NA>\n\\item <NA>\n\\item <NA>\n\\item <NA>\n\\item <NA>\n\\item <NA>\n\\item <NA>\n\\item <NA>\n\\item <NA>\n\\item <NA>\n\\item <NA>\n\\item <NA>\n\\item <NA>\n\\item <NA>\n\\item <NA>\n\\item <NA>\n\\item <NA>\n\\item <NA>\n\\item <NA>\n\\item <NA>\n\\item <NA>\n\\item <NA>\n\\item <NA>\n\\item <NA>\n\\item <NA>\n\\item <NA>\n\\item <NA>\n\\item ⋯\n\\item <NA>\n\\item <NA>\n\\item <NA>\n\\item <NA>\n\\item <NA>\n\\item <NA>\n\\item <NA>\n\\item <NA>\n\\item <NA>\n\\item <NA>\n\\item <NA>\n\\item <NA>\n\\item <NA>\n\\item <NA>\n\\item <NA>\n\\item <NA>\n\\item <NA>\n\\item <NA>\n\\item <NA>\n\\item <NA>\n\\item <NA>\n\\item <NA>\n\\item <NA>\n\\item <NA>\n\\item <NA>\n\\item <NA>\n\\item <NA>\n\\item <NA>\n\\item <NA>\n\\item <NA>\n\\item <NA>\n\\item <NA>\n\\item <NA>\n\\item <NA>\n\\item <NA>\n\\item <NA>\n\\item <NA>\n\\item <NA>\n\\item <NA>\n\\item <NA>\n\\item <NA>\n\\item <NA>\n\\item <NA>\n\\item <NA>\n\\item <NA>\n\\item <NA>\n\\item <NA>\n\\item <NA>\n\\item <NA>\n\\item <NA>\n\\item <NA>\n\\item <NA>\n\\item <NA>\n\\item <NA>\n\\item <NA>\n\\item <NA>\n\\item <NA>\n\\item <NA>\n\\item <NA>\n\\item <NA>\n\\item <NA>\n\\item <NA>\n\\item <NA>\n\\item <NA>\n\\item <NA>\n\\item <NA>\n\\item <NA>\n\\item <NA>\n\\item <NA>\n\\item <NA>\n\\item <NA>\n\\item <NA>\n\\item <NA>\n\\item <NA>\n\\item <NA>\n\\item <NA>\n\\item <NA>\n\\item <NA>\n\\item <NA>\n\\item <NA>\n\\item <NA>\n\\item <NA>\n\\item <NA>\n\\item <NA>\n\\item <NA>\n\\item <NA>\n\\item <NA>\n\\item <NA>\n\\item <NA>\n\\item <NA>\n\\item <NA>\n\\item <NA>\n\\item <NA>\n\\item <NA>\n\\item <NA>\n\\item <NA>\n\\item <NA>\n\\item <NA>\n\\item <NA>\n\\item <NA>\n\\item <NA>\n\\item <NA>\n\\item <NA>\n\\item <NA>\n\\item <NA>\n\\item <NA>\n\\item <NA>\n\\item <NA>\n\\item <NA>\n\\item <NA>\n\\item <NA>\n\\item <NA>\n\\item <NA>\n\\item <NA>\n\\item <NA>\n\\item <NA>\n\\item <NA>\n\\item <NA>\n\\item <NA>\n\\item <NA>\n\\item <NA>\n\\item <NA>\n\\item <NA>\n\\item <NA>\n\\item <NA>\n\\item <NA>\n\\item <NA>\n\\item <NA>\n\\item <NA>\n\\item <NA>\n\\item <NA>\n\\item <NA>\n\\item <NA>\n\\item <NA>\n\\item <NA>\n\\item <NA>\n\\item <NA>\n\\item <NA>\n\\item <NA>\n\\item <NA>\n\\item <NA>\n\\item <NA>\n\\item <NA>\n\\item <NA>\n\\item <NA>\n\\item <NA>\n\\item <NA>\n\\item <NA>\n\\item <NA>\n\\item <NA>\n\\item <NA>\n\\item <NA>\n\\item <NA>\n\\item <NA>\n\\item <NA>\n\\item <NA>\n\\item <NA>\n\\item <NA>\n\\item <NA>\n\\item <NA>\n\\item <NA>\n\\item <NA>\n\\item <NA>\n\\item <NA>\n\\item <NA>\n\\item <NA>\n\\item <NA>\n\\item <NA>\n\\item <NA>\n\\item <NA>\n\\item <NA>\n\\item <NA>\n\\item <NA>\n\\item <NA>\n\\item <NA>\n\\item <NA>\n\\item <NA>\n\\item <NA>\n\\item <NA>\n\\item <NA>\n\\item <NA>\n\\item <NA>\n\\item <NA>\n\\item <NA>\n\\item <NA>\n\\item <NA>\n\\item <NA>\n\\item <NA>\n\\item <NA>\n\\item <NA>\n\\item <NA>\n\\item <NA>\n\\item <NA>\n\\item <NA>\n\\item <NA>\n\\item <NA>\n\\item <NA>\n\\item <NA>\n\\item <NA>\n\\item <NA>\n\\end{enumerate*}\n",
            "text/plain": [
              "   [1] NA NA NA NA NA NA NA NA NA NA NA NA NA NA NA NA NA NA NA NA NA NA NA NA\n",
              "  [25] NA NA NA NA NA NA NA NA NA NA NA NA NA NA NA NA NA NA NA NA NA NA NA NA\n",
              "  [49] NA NA NA NA NA NA NA NA NA NA NA NA NA NA NA NA NA NA NA NA NA NA NA NA\n",
              "  [73] NA NA NA NA NA NA NA NA NA NA NA NA NA NA NA NA NA NA NA NA NA NA NA NA\n",
              "  [97] NA NA NA NA NA NA NA NA NA NA NA NA NA NA NA NA NA NA NA NA NA NA NA NA\n",
              " [121] NA NA NA NA NA NA NA NA NA NA NA NA NA NA NA NA NA NA NA NA NA NA NA NA\n",
              " [145] NA NA NA NA NA NA NA NA NA NA NA NA NA NA NA NA NA NA NA NA NA NA NA NA\n",
              " [169] NA NA NA NA NA NA NA NA NA NA NA NA NA NA NA NA NA NA NA NA NA NA NA NA\n",
              " [193] NA NA NA NA NA NA NA NA NA NA NA NA NA NA NA NA NA NA NA NA NA NA NA NA\n",
              " [217] NA NA NA NA NA NA NA NA NA NA NA NA NA NA NA NA NA NA NA NA NA NA NA NA\n",
              " [241] NA NA NA NA NA NA NA NA NA NA NA NA NA NA NA NA NA NA NA NA NA NA NA NA\n",
              " [265] NA NA NA NA NA NA NA NA NA NA NA NA NA NA NA NA NA NA NA NA NA NA NA NA\n",
              " [289] NA NA NA NA NA NA NA NA NA NA NA NA NA NA NA NA NA NA NA NA NA NA NA NA\n",
              " [313] NA NA NA NA NA NA NA NA NA NA NA NA NA NA NA NA NA NA NA NA NA NA NA NA\n",
              " [337] NA NA NA NA NA NA NA NA NA NA NA NA NA NA NA NA NA NA NA NA NA NA NA NA\n",
              " [361] NA NA NA NA NA NA NA NA NA NA NA NA NA NA NA NA NA NA NA NA NA NA NA NA\n",
              " [385] NA NA NA NA NA NA NA NA NA NA NA NA NA NA NA NA NA NA NA NA NA NA NA NA\n",
              " [409] NA NA NA NA NA NA NA NA NA NA NA NA NA NA NA NA NA NA NA NA NA NA NA NA\n",
              " [433] NA NA NA NA NA NA NA NA NA NA NA NA NA NA NA NA NA NA NA NA NA NA NA NA\n",
              " [457] NA NA NA NA NA NA NA NA NA NA NA NA NA NA NA NA NA NA NA NA NA NA NA NA\n",
              " [481] NA NA NA NA NA NA NA NA NA NA NA NA NA NA NA NA NA NA NA NA NA NA NA NA\n",
              " [505] NA NA NA NA NA NA NA NA NA NA NA NA NA NA NA NA NA NA NA NA NA NA NA NA\n",
              " [529] NA NA NA NA NA NA NA NA NA NA NA NA NA NA NA NA NA NA NA NA NA NA NA NA\n",
              " [553] NA NA NA NA NA NA NA NA NA NA NA NA NA NA NA NA NA NA NA NA NA NA NA NA\n",
              " [577] NA NA NA NA NA NA NA NA NA NA NA NA NA NA NA NA NA NA NA NA NA NA NA NA\n",
              " [601] NA NA NA NA NA NA NA NA NA NA NA NA NA NA NA NA NA NA NA NA NA NA NA NA\n",
              " [625] NA NA NA NA NA NA NA NA NA NA NA NA NA NA NA NA NA NA NA NA NA NA NA NA\n",
              " [649] NA NA NA NA NA NA NA NA NA NA NA NA NA NA NA NA NA NA NA NA NA NA NA NA\n",
              " [673] NA NA NA NA NA NA NA NA NA NA NA NA NA NA NA NA NA NA NA NA NA NA NA NA\n",
              " [697] NA NA NA NA NA NA NA NA NA NA NA NA NA NA NA NA NA NA NA NA NA NA NA NA\n",
              " [721] NA NA NA NA NA NA NA NA NA NA NA NA NA NA NA NA NA NA NA NA NA NA NA NA\n",
              " [745] NA NA NA NA NA NA NA NA NA NA NA NA NA NA NA NA NA NA NA NA NA NA NA NA\n",
              " [769] NA NA NA NA NA NA NA NA NA NA NA NA NA NA NA NA NA NA NA NA NA NA NA NA\n",
              " [793] NA NA NA NA NA NA NA NA NA NA NA NA NA NA NA NA NA NA NA NA NA NA NA NA\n",
              " [817] NA NA NA NA NA NA NA NA NA NA NA NA NA NA NA NA NA NA NA NA NA NA NA NA\n",
              " [841] NA NA NA NA NA NA NA NA NA NA NA NA NA NA NA NA NA NA NA NA NA NA NA NA\n",
              " [865] NA NA NA NA NA NA NA NA NA NA NA NA NA NA NA NA NA NA NA NA NA NA NA NA\n",
              " [889] NA NA NA NA NA NA NA NA NA NA NA NA NA NA NA NA NA NA NA NA NA NA NA NA\n",
              " [913] NA NA NA NA NA NA NA NA NA NA NA NA NA NA NA NA NA NA NA NA NA NA NA NA\n",
              " [937] NA NA NA NA NA NA NA NA NA NA NA NA NA NA NA NA NA NA NA NA NA NA NA NA\n",
              " [961] NA NA NA NA NA NA NA NA NA NA NA NA NA NA NA NA NA NA NA NA NA NA NA NA\n",
              " [985] NA NA NA NA NA NA NA NA NA NA NA NA NA NA NA NA NA NA NA NA NA NA NA NA\n",
              "[1009] NA NA NA NA NA NA NA NA NA NA NA NA NA NA NA NA NA NA NA NA NA NA NA NA\n",
              "[1033] NA NA NA NA NA NA NA NA NA NA NA NA NA NA NA NA NA NA NA NA NA NA NA NA\n",
              "[1057] NA NA NA NA NA NA NA NA NA NA NA NA NA NA NA NA NA NA NA NA NA NA NA NA\n",
              "[1081] NA NA NA NA NA NA NA NA NA NA NA NA NA NA NA NA NA NA NA NA NA NA NA NA\n",
              "[1105] NA NA NA NA NA NA NA NA NA NA NA NA NA NA NA NA NA NA NA NA NA NA NA NA\n",
              "[1129] NA NA NA NA NA NA NA NA NA NA NA NA NA NA NA NA NA NA NA NA NA NA NA NA\n",
              "[1153] NA NA NA NA NA NA NA NA NA NA NA NA NA NA NA NA NA NA NA NA NA NA NA NA\n",
              "[1177] NA NA NA NA NA NA NA NA NA NA NA NA NA NA NA NA NA NA NA NA NA NA NA NA\n",
              "[1201] NA NA NA NA NA NA NA NA NA NA NA NA NA NA NA NA NA NA NA NA NA NA NA NA\n",
              "[1225] NA NA NA NA NA NA NA NA NA NA NA NA NA NA NA NA NA NA NA NA NA NA NA NA\n",
              "[1249] NA NA NA NA NA NA NA NA NA NA NA NA NA NA NA NA NA NA NA NA NA NA NA NA\n",
              "[1273] NA NA NA NA NA NA NA NA NA NA NA NA NA NA NA NA NA NA NA NA NA NA NA NA\n",
              "[1297] NA NA NA NA NA NA NA NA NA NA NA NA NA NA NA NA NA NA NA NA NA NA NA NA\n",
              "[1321] NA NA NA NA NA NA NA NA NA NA NA NA NA NA NA NA NA NA NA NA NA NA NA NA\n",
              "[1345] NA NA NA NA NA NA NA NA NA NA NA NA NA NA NA NA NA NA NA NA NA NA NA NA\n",
              "[1369] NA NA NA NA NA NA NA NA NA NA NA NA NA NA NA NA NA NA NA NA NA NA NA NA\n",
              "[1393] NA NA NA NA NA NA NA NA NA NA NA NA NA NA NA NA NA NA NA NA NA NA NA NA\n",
              "[1417] NA NA NA NA NA NA NA NA NA NA NA NA NA NA NA NA NA NA NA NA NA NA NA NA\n",
              "[1441] NA NA NA NA NA NA NA NA NA NA NA NA NA NA NA NA NA NA NA NA NA NA NA NA\n",
              "[1465] NA NA NA NA NA NA NA NA NA NA NA NA NA NA NA NA NA NA NA NA NA NA NA NA\n",
              "[1489] NA NA NA NA NA NA NA NA NA NA NA NA NA NA NA NA NA NA NA NA NA NA NA NA\n",
              "[1513] NA NA NA NA NA NA NA NA NA NA NA NA NA NA NA NA NA NA NA NA NA NA NA NA\n",
              "[1537] NA NA NA NA NA NA NA NA NA NA NA NA NA NA NA NA NA NA NA NA NA NA NA NA\n",
              "[1561] NA NA NA NA NA NA NA NA NA NA NA NA NA NA NA NA NA NA NA NA NA NA NA NA\n",
              "[1585] NA NA NA NA NA NA NA NA NA NA NA NA NA NA NA NA NA NA NA NA NA NA NA NA\n",
              "[1609] NA NA NA NA NA NA NA NA NA NA NA NA NA NA NA NA NA NA NA NA NA NA NA NA\n",
              "[1633] NA NA NA NA NA NA NA NA NA NA NA NA NA NA NA NA NA NA NA NA NA NA NA NA\n",
              "[1657] NA NA NA NA NA NA NA NA NA NA NA NA NA NA NA NA NA NA NA NA NA NA NA NA\n",
              "[1681] NA NA NA NA NA NA NA NA NA NA NA NA NA NA NA NA NA NA NA NA NA NA NA NA\n",
              "[1705] NA NA NA NA NA NA NA NA NA NA NA NA NA NA NA NA NA NA NA NA NA NA NA NA\n",
              "[1729] NA NA NA NA NA NA NA NA NA NA NA NA NA NA NA NA NA NA NA NA NA NA NA NA\n",
              "[1753] NA NA NA NA NA NA NA NA NA NA NA NA NA NA NA NA NA NA NA NA NA NA NA NA\n",
              "[1777] NA NA NA NA NA NA NA NA NA NA NA NA NA NA NA NA NA NA NA NA NA NA NA NA\n",
              "[1801] NA NA NA NA NA NA NA NA NA NA NA NA NA NA NA NA NA NA NA NA NA NA NA NA\n",
              "[1825] NA NA NA NA NA NA NA NA NA NA NA NA NA NA NA NA NA NA NA NA NA NA NA NA\n",
              "[1849] NA NA NA NA NA NA NA NA NA NA NA NA NA NA NA NA NA NA NA NA NA NA NA NA\n",
              "[1873] NA NA NA NA NA NA NA NA NA NA NA NA NA NA NA NA NA NA NA NA NA NA NA NA\n",
              "[1897] NA NA NA NA NA NA NA NA NA NA NA NA NA NA NA NA NA NA NA NA NA NA NA NA\n",
              "[1921] NA NA NA NA NA NA NA NA NA NA NA NA NA NA NA NA NA NA NA NA NA NA NA NA\n",
              "[1945] NA NA NA NA NA NA NA NA NA NA NA NA NA NA NA NA NA NA NA NA NA NA NA NA\n",
              "[1969] NA NA NA NA NA NA NA NA NA NA NA NA NA NA NA NA NA NA NA NA NA NA NA NA\n",
              "[1993] NA NA NA NA NA NA NA NA"
            ]
          },
          "metadata": {}
        }
      ]
    },
    {
      "cell_type": "code",
      "source": [
        "alpha <- 0\n",
        "znach_1 <- 0\n",
        "znach_2 <- 0\n",
        "znach_3 <- 0\n",
        "data <- neuraldat\n"
      ],
      "metadata": {
        "id": "daGwuXxkSLbp"
      },
      "execution_count": 97,
      "outputs": []
    },
    {
      "cell_type": "code",
      "source": [
        "for(i in 2:length(data$X1)){\n",
        "\t\t\t\tx_1 = data$X1[i-1];\n",
        "\t\t\t\tx_2 = data$X2[i-1];\n",
        "\t\t\t\tx_3 = data$X4[i-1];\n",
        "\t\t\t\tdx_1 = data$X1[i]-data$X1[i-1];\n",
        "\t\t\t\tdx_2 = data$X2[i]-data$X2[i-1];\n",
        "\t\t\t\tdx_3 = data$X4[i]-data$X4[i-1];\n",
        "\n",
        "func <- function(a){\n",
        "(-(exp(-b_0_f_1 + w_1_f_1 * (1/(1 + exp(-(b_1_f_1 +\n",
        "    (x_1+a*dx_1) * w_11_f_1 + (x_2+a*dx_2) * w_21_f_1 + (x_3+a*dx_3) * w_31_f_1)))) + w_2_f_1 *\n",
        "    (1/(1 + exp(-(b_2_f_1 + (x_1+a*dx_1) * w_12_f_1 + (x_2+a*dx_2) * w_22_f_1 +\n",
        "        (x_3+a*dx_3) * w_32_f_1))))) * (w_1_f_1 * -(exp(-(b_1_f_1 + (x_1+a*dx_1) *\n",
        "    w_11_f_1 + (x_2+a*dx_2) * w_21_f_1 + (x_3+a*dx_3) * w_31_f_1)) * -w_11_f_1/(1 +\n",
        "    exp(-(b_1_f_1 + (x_1+a*dx_1) * w_11_f_1 + (x_2+a*dx_2) * w_21_f_1 + (x_3+a*dx_3) * w_31_f_1)))^2) +\n",
        "    w_2_f_1 * -(exp(-(b_2_f_1 + (x_1+a*dx_1) * w_12_f_1 + (x_2+a*dx_2) * w_22_f_1 +\n",
        "        (x_3+a*dx_3) * w_32_f_1)) * -w_12_f_1/(1 + exp(-(b_2_f_1 + (x_1+a*dx_1) *\n",
        "        w_12_f_1 + (x_2+a*dx_2) * w_22_f_1 + (x_3+a*dx_3) * w_32_f_1)))^2))/(1 +\n",
        "    exp(-b_0_f_1 + w_1_f_1 * (1/(1 + exp(-(b_1_f_1 + (x_1+a*dx_1) * w_11_f_1 +\n",
        "        (x_2+a*dx_2) * w_21_f_1 + (x_3+a*dx_3) * w_31_f_1)))) + w_2_f_1 * (1/(1 +\n",
        "        exp(-(b_2_f_1 + (x_1+a*dx_1) * w_12_f_1 + (x_2+a*dx_2) * w_22_f_1 + (x_3+a*dx_3) *\n",
        "            w_32_f_1))))))^2))*dx_1 +\n",
        "(-(exp(-b_0_f_1 + w_1_f_1 * (1/(1 + exp(-(b_1_f_1 +\n",
        "    (x_1+a*dx_1) * w_11_f_1 + (x_2+a*dx_2) * w_21_f_1 + (x_3+a*dx_3) * w_31_f_1)))) + w_2_f_1 *\n",
        "    (1/(1 + exp(-(b_2_f_1 + (x_1+a*dx_1) * w_12_f_1 + (x_2+a*dx_2) * w_22_f_1 +\n",
        "        (x_3+a*dx_3) * w_32_f_1))))) * (w_1_f_1 * -(exp(-(b_1_f_1 + (x_1+a*dx_1) *\n",
        "    w_11_f_1 + (x_2+a*dx_2) * w_21_f_1 + (x_3+a*dx_3) * w_31_f_1)) * -w_21_f_1/(1 +\n",
        "    exp(-(b_1_f_1 + (x_1+a*dx_1) * w_11_f_1 + (x_2+a*dx_2) * w_21_f_1 + (x_3+a*dx_3) * w_31_f_1)))^2) +\n",
        "    w_2_f_1 * -(exp(-(b_2_f_1 + (x_1+a*dx_1) * w_12_f_1 + (x_2+a*dx_2) * w_22_f_1 +\n",
        "        (x_3+a*dx_3) * w_32_f_1)) * -w_22_f_1/(1 + exp(-(b_2_f_1 + (x_1+a*dx_1) *\n",
        "        w_12_f_1 + (x_2+a*dx_2) * w_22_f_1 + (x_3+a*dx_3) * w_32_f_1)))^2))/(1 +\n",
        "    exp(-b_0_f_1 + w_1_f_1 * (1/(1 + exp(-(b_1_f_1 + (x_1+a*dx_1) * w_11_f_1 +\n",
        "        (x_2+a*dx_2) * w_21_f_1 + (x_3+a*dx_3) * w_31_f_1)))) + w_2_f_1 * (1/(1 +\n",
        "        exp(-(b_2_f_1 + (x_1+a*dx_1) * w_12_f_1 + (x_2+a*dx_2) * w_22_f_1 + (x_3+a*dx_3) *\n",
        "            w_32_f_1))))))^2))*dx_2+\n",
        "(-(exp(-b_0_f_1 + w_1_f_1 * (1/(1 + exp(-(b_1_f_1 +\n",
        "    (x_1+a*dx_1) * w_11_f_1 + (x_2+a*dx_2) * w_21_f_1 + (x_3+a*dx_3) * w_31_f_1)))) + w_2_f_1 *\n",
        "    (1/(1 + exp(-(b_2_f_1 + (x_1+a*dx_1) * w_12_f_1 + (x_2+a*dx_2) * w_22_f_1 +\n",
        "        (x_3+a*dx_3) * w_32_f_1))))) * (w_1_f_1 * -(exp(-(b_1_f_1 + (x_1+a*dx_1) *\n",
        "    w_11_f_1 + (x_2+a*dx_2) * w_21_f_1 + (x_3+a*dx_3) * w_31_f_1)) * -w_31_f_1/(1 +\n",
        "    exp(-(b_1_f_1 + (x_1+a*dx_1) * w_11_f_1 + (x_2+a*dx_2) * w_21_f_1 + (x_3+a*dx_3) * w_31_f_1)))^2) +\n",
        "    w_2_f_1 * -(exp(-(b_2_f_1 + (x_1+a*dx_1) * w_12_f_1 + (x_2+a*dx_2) * w_22_f_1 +\n",
        "        (x_3+a*dx_3) * w_32_f_1)) * -w_32_f_1/(1 + exp(-(b_2_f_1 + (x_1+a*dx_1) *\n",
        "        w_12_f_1 + (x_2+a*dx_2) * w_22_f_1 + (x_3+a*dx_3) * w_32_f_1)))^2))/(1 +\n",
        "    exp(-b_0_f_1 + w_1_f_1 * (1/(1 + exp(-(b_1_f_1 + (x_1+a*dx_1) * w_11_f_1 +\n",
        "        (x_2+a*dx_2) * w_21_f_1 + (x_3+a*dx_3) * w_31_f_1)))) + w_2_f_1 * (1/(1 +\n",
        "        exp(-(b_2_f_1 + (x_1+a*dx_1) * w_12_f_1 + (x_2+a*dx_2) * w_22_f_1 + (x_3+a*dx_3) *\n",
        "            w_32_f_1))))))^2))*dx_3 - (1/(1+exp(-b_0_f_1+w_1_f_1*(1/(1+exp(-(b_1_f_1+(x_1+dx_1)*w_11_f_1+(x_2+dx_2)*w_21_f_1+(x_3+dx_3)*w_31_f_1))))+\n",
        "  w_2_f_1*(1/(1+exp(-(b_2_f_1+(x_1+dx_1)*w_12_f_1+(x_2+dx_2)*w_22_f_1+(x_3+dx_3)*w_32_f_1))))))) + (1/(1+exp(-b_0_f_1+w_1_f_1*(1/(1+exp(-(b_1_f_1+x_1*w_11_f_1+x_2*w_21_f_1+x_3*w_31_f_1))))+\n",
        "  w_2_f_1*(1/(1+exp(-(b_2_f_1+x_1*w_12_f_1+x_2*w_22_f_1+x_3*w_32_f_1)))))))\n",
        "}\n",
        "\n",
        "alpha[i] <-  optimize(func, c(0, 1), tol = 0.1)$`minimum`;\n",
        "\t\t\t\talpha[i] <- as.data.frame(alpha[i])[1,]\n",
        "\n",
        "znach_1[i] <- (-(exp(-b_0_f_1 + w_1_f_1 * (1/(1 + exp(-(b_1_f_1 +\n",
        "    (x_1+alpha[i]*dx_1) * w_11_f_1 + (x_2+alpha[i]*dx_2) * w_21_f_1 + (x_3+alpha[i]*dx_3) * w_31_f_1)))) + w_2_f_1 *\n",
        "    (1/(1 + exp(-(b_2_f_1 + (x_1+alpha[i]*dx_1) * w_12_f_1 + (x_2+alpha[i]*dx_2) * w_22_f_1 +\n",
        "        (x_3+alpha[i]*dx_3) * w_32_f_1))))) * (w_1_f_1 * -(exp(-(b_1_f_1 + (x_1+alpha[i]*dx_1) *\n",
        "    w_11_f_1 + (x_2+alpha[i]*dx_2) * w_21_f_1 + (x_3+alpha[i]*dx_3) * w_31_f_1)) * -w_11_f_1/(1 +\n",
        "    exp(-(b_1_f_1 + (x_1+alpha[i]*dx_1) * w_11_f_1 + (x_2+alpha[i]*dx_2) * w_21_f_1 + (x_3+alpha[i]*dx_3) * w_31_f_1)))^2) +\n",
        "    w_2_f_1 * -(exp(-(b_2_f_1 + (x_1+alpha[i]*dx_1) * w_12_f_1 + (x_2+alpha[i]*dx_2) * w_22_f_1 +\n",
        "        (x_3+alpha[i]*dx_3) * w_32_f_1)) * -w_12_f_1/(1 + exp(-(b_2_f_1 + (x_1+alpha[i]*dx_1) *\n",
        "        w_12_f_1 + (x_2+alpha[i]*dx_2) * w_22_f_1 + (x_3+alpha[i]*dx_3) * w_32_f_1)))^2))/(1 +\n",
        "    exp(-b_0_f_1 + w_1_f_1 * (1/(1 + exp(-(b_1_f_1 + (x_1+alpha[i]*dx_1) * w_11_f_1 +\n",
        "        (x_2+alpha[i]*dx_2) * w_21_f_1 + (x_3+alpha[i]*dx_3) * w_31_f_1)))) + w_2_f_1 * (1/(1 +\n",
        "        exp(-(b_2_f_1 + (x_1+alpha[i]*dx_1) * w_12_f_1 + (x_2+alpha[i]*dx_2) * w_22_f_1 + (x_3+alpha[i]*dx_3) *\n",
        "            w_32_f_1))))))^2))\n",
        "\n",
        "znach_2[i] <- (-(exp(-b_0_f_1 + w_1_f_1 * (1/(1 + exp(-(b_1_f_1 +\n",
        "    (x_1+alpha[i]*dx_1) * w_11_f_1 + (x_2+alpha[i]*dx_2) * w_21_f_1 + (x_3+alpha[i]*dx_3) * w_31_f_1)))) + w_2_f_1 *\n",
        "    (1/(1 + exp(-(b_2_f_1 + (x_1+alpha[i]*dx_1) * w_12_f_1 + (x_2+alpha[i]*dx_2) * w_22_f_1 +\n",
        "        (x_3+alpha[i]*dx_3) * w_32_f_1))))) * (w_1_f_1 * -(exp(-(b_1_f_1 + (x_1+alpha[i]*dx_1) *\n",
        "    w_11_f_1 + (x_2+alpha[i]*dx_2) * w_21_f_1 + (x_3+alpha[i]*dx_3) * w_31_f_1)) * -w_21_f_1/(1 +\n",
        "    exp(-(b_1_f_1 + (x_1+alpha[i]*dx_1) * w_11_f_1 + (x_2+alpha[i]*dx_2) * w_21_f_1 + (x_3+alpha[i]*dx_3) * w_31_f_1)))^2) +\n",
        "    w_2_f_1 * -(exp(-(b_2_f_1 + (x_1+alpha[i]*dx_1) * w_12_f_1 + (x_2+alpha[i]*dx_2) * w_22_f_1 +\n",
        "        (x_3+alpha[i]*dx_3) * w_32_f_1)) * -w_22_f_1/(1 + exp(-(b_2_f_1 + (x_1+alpha[i]*dx_1) *\n",
        "        w_12_f_1 + (x_2+alpha[i]*dx_2) * w_22_f_1 + (x_3+alpha[i]*dx_3) * w_32_f_1)))^2))/(1 +\n",
        "    exp(-b_0_f_1 + w_1_f_1 * (1/(1 + exp(-(b_1_f_1 + (x_1+alpha[i]*dx_1) * w_11_f_1 +\n",
        "        (x_2+alpha[i]*dx_2) * w_21_f_1 + (x_3+alpha[i]*dx_3) * w_31_f_1)))) + w_2_f_1 * (1/(1 +\n",
        "        exp(-(b_2_f_1 + (x_1+alpha[i]*dx_1) * w_12_f_1 + (x_2+alpha[i]*dx_2) * w_22_f_1 + (x_3+alpha[i]*dx_3) *\n",
        "            w_32_f_1))))))^2))\n",
        "\n",
        "  znach_3[i] <-  (-(exp(-b_0_f_1 + w_1_f_1 * (1/(1 + exp(-(b_1_f_1 +\n",
        "    (x_1+alpha[i]*dx_1) * w_11_f_1 + (x_2+alpha[i]*dx_2) * w_21_f_1 + (x_3+alpha[i]*dx_3) * w_31_f_1)))) + w_2_f_1 *\n",
        "    (1/(1 + exp(-(b_2_f_1 + (x_1+alpha[i]*dx_1) * w_12_f_1 + (x_2+alpha[i]*dx_2) * w_22_f_1 +\n",
        "        (x_3+alpha[i]*dx_3) * w_32_f_1))))) * (w_1_f_1 * -(exp(-(b_1_f_1 + (x_1+alpha[i]*dx_1) *\n",
        "    w_11_f_1 + (x_2+alpha[i]*dx_2) * w_21_f_1 + (x_3+alpha[i]*dx_3) * w_31_f_1)) * -w_31_f_1/(1 +\n",
        "    exp(-(b_1_f_1 + (x_1+alpha[i]*dx_1) * w_11_f_1 + (x_2+alpha[i]*dx_2) * w_21_f_1 + (x_3+alpha[i]*dx_3) * w_31_f_1)))^2) +\n",
        "    w_2_f_1 * -(exp(-(b_2_f_1 + (x_1+alpha[i]*dx_1) * w_12_f_1 + (x_2+alpha[i]*dx_2) * w_22_f_1 +\n",
        "        (x_3+alpha[i]*dx_3) * w_32_f_1)) * -w_32_f_1/(1 + exp(-(b_2_f_1 + (x_1+alpha[i]*dx_1) *\n",
        "        w_12_f_1 + (x_2+alpha[i]*dx_2) * w_22_f_1 + (x_3+alpha[i]*dx_3) * w_32_f_1)))^2))/(1 +\n",
        "    exp(-b_0_f_1 + w_1_f_1 * (1/(1 + exp(-(b_1_f_1 + (x_1+alpha[i]*dx_1) * w_11_f_1 +\n",
        "        (x_2+alpha[i]*dx_2) * w_21_f_1 + (x_3+alpha[i]*dx_3) * w_31_f_1)))) + w_2_f_1 * (1/(1 +\n",
        "        exp(-(b_2_f_1 + (x_1+alpha[i]*dx_1) * w_12_f_1 + (x_2+alpha[i]*dx_2) * w_22_f_1 + (x_3+alpha[i]*dx_3) *\n",
        "            w_32_f_1))))))^2))\n",
        "\n",
        "}"
      ],
      "metadata": {
        "id": "swntg7wgRPsB"
      },
      "execution_count": 98,
      "outputs": []
    },
    {
      "cell_type": "code",
      "source": [
        "res_1=data.frame(X_1 = znach_1[2:length(znach_1)], X_2 = znach_2[2:length(znach_2)], X_4 = znach_3[2:length(znach_3)])"
      ],
      "metadata": {
        "id": "GfBVlau2RjU3"
      },
      "execution_count": 99,
      "outputs": []
    },
    {
      "cell_type": "code",
      "source": [
        "median(res_1$X_2)"
      ],
      "metadata": {
        "id": "phdlSVpHaMY-",
        "outputId": "6b58f225-cfaa-45b7-95b7-9a6150cf2233",
        "colab": {
          "base_uri": "https://localhost:8080/",
          "height": 34
        }
      },
      "execution_count": 100,
      "outputs": [
        {
          "output_type": "display_data",
          "data": {
            "text/html": [
              "0.100185976768829"
            ],
            "text/markdown": "0.100185976768829",
            "text/latex": "0.100185976768829",
            "text/plain": [
              "[1] 0.100186"
            ]
          },
          "metadata": {}
        }
      ]
    },
    {
      "cell_type": "code",
      "source": [
        "f_2=function(x_1,x_2){\n",
        "1/(1+exp(-b_0_f_2+w_1_f_2*(1/(1+exp(-(b_1_f_2+x_1*w_11_f_2+x_2*w_21_f_2))))))\n",
        "}"
      ],
      "metadata": {
        "id": "HiUTLhBQa3t9"
      },
      "execution_count": 101,
      "outputs": []
    },
    {
      "cell_type": "code",
      "source": [
        "x2xn <- as.expression(nlsDeriv(~ 1/(1+exp(-b_0_f_2+w_1_f_2*(1/(1+exp(-(b_1_f_2+x_1*w_11_f_2+x_2*w_21_f_2)))))), \"x_2\"))\n",
        "x2xn"
      ],
      "metadata": {
        "id": "ZOsKpZ-liQUB",
        "outputId": "9e41ce9f-541c-4409-ba5b-eb9e5f3d844c",
        "colab": {
          "base_uri": "https://localhost:8080/",
          "height": 119
        }
      },
      "execution_count": 102,
      "outputs": [
        {
          "output_type": "display_data",
          "data": {
            "text/plain": [
              "expression(-(exp(-b_0_f_2 + w_1_f_2 * (1/(1 + exp(-(b_1_f_2 + \n",
              "    x_1 * w_11_f_2 + x_2 * w_21_f_2))))) * (w_1_f_2 * -(exp(-(b_1_f_2 + \n",
              "    x_1 * w_11_f_2 + x_2 * w_21_f_2)) * -w_21_f_2/(1 + exp(-(b_1_f_2 + \n",
              "    x_1 * w_11_f_2 + x_2 * w_21_f_2)))^2))/(1 + exp(-b_0_f_2 + \n",
              "    w_1_f_2 * (1/(1 + exp(-(b_1_f_2 + x_1 * w_11_f_2 + x_2 * \n",
              "        w_21_f_2))))))^2))"
            ]
          },
          "metadata": {}
        }
      ]
    },
    {
      "cell_type": "code",
      "source": [
        "(-(exp(-b_0_f_2 + w_1_f_2 * (1/(1 + exp(-(b_1_f_2 +\n",
        "    (x_1+a*dx_1) * w_11_f_2 + (x_2+a*dx_2) * w_21_f_2))))) * (w_1_f_2 * -(exp(-(b_1_f_2 +\n",
        "    (x_1+a*dx_1) * w_11_f_2 + (x_2+a*dx_2) * w_21_f_2)) * -w_11_f_2/(1 + exp(-(b_1_f_2 +\n",
        "    (x_1+a*dx_1) * w_11_f_2 + (x_2+a*dx_2) * w_21_f_2)))^2))/(1 + exp(-b_0_f_2 +\n",
        "    w_1_f_2 * (1/(1 + exp(-(b_1_f_2 + (x_1+a*dx_1) * w_11_f_2 + (x_2+a*dx_2) *\n",
        "        w_21_f_2))))))^2))*dx_1 +\n",
        "(-(exp(-b_0_f_2 + w_1_f_2 * (1/(1 + exp(-(b_1_f_2 +\n",
        "    (x_1+a*dx_1) * w_11_f_2 + (x_2+a*dx_2) * w_21_f_2))))) * (w_1_f_2 * -(exp(-(b_1_f_2 +\n",
        "    (x_1+a*dx_1) * w_11_f_2 + (x_2+a*dx_2) * w_21_f_2)) * -w_21_f_2/(1 + exp(-(b_1_f_2 +\n",
        "    (x_1+a*dx_1) * w_11_f_2 + (x_2+a*dx_2) * w_21_f_2)))^2))/(1 + exp(-b_0_f_2 +\n",
        "    w_1_f_2 * (1/(1 + exp(-(b_1_f_2 + (x_1+a*dx_1) * w_11_f_2 + (x_2+a*dx_2) *\n",
        "        w_21_f_2))))))^2))*dx_2 + (1/(1+exp(-b_0_f_2+w_1_f_2*(1/(1+exp(-(b_1_f_2+x_1*w_11_f_2+x_2*w_21_f_2))))))) -\n",
        "          (1/(1+exp(-b_0_f_2+w_1_f_2*(1/(1+exp(-(b_1_f_2+(x_1+dx_1)*w_11_f_2+(x_2+dx_2)*w_21_f_2)))))))"
      ],
      "metadata": {
        "id": "nCY_jF9EjSRl",
        "outputId": "ac564341-e0f6-41e3-f8ac-eb1d3ff63637",
        "colab": {
          "base_uri": "https://localhost:8080/",
          "height": 71
        }
      },
      "execution_count": 103,
      "outputs": [
        {
          "output_type": "error",
          "ename": "ERROR",
          "evalue": "Error in eval(expr, envir, enclos): object 'a' not found\n",
          "traceback": [
            "Error in eval(expr, envir, enclos): object 'a' not found\nTraceback:\n"
          ]
        }
      ]
    },
    {
      "cell_type": "code",
      "source": [
        "alpha <- 0\n",
        "znach_1 <- 0\n",
        "znach_2 <- 0"
      ],
      "metadata": {
        "id": "Dt_tOC6UkkF9"
      },
      "execution_count": 104,
      "outputs": []
    },
    {
      "cell_type": "code",
      "source": [
        "for(i in 2:length(data$X1)){\n",
        "\t\t\t\tx_1 = data$X3[i-1];\n",
        "\t\t\t\tx_2 = data$X5[i-1];\n",
        "\t\t\t\tdx_1 = data$X3[i]-data$X3[i-1];\n",
        "\t\t\t\tdx_2 = data$X5[i]-data$X5[i-1];\n",
        "\n",
        "func <- function(a){\n",
        "(-(exp(-b_0_f_2 + w_1_f_2 * (1/(1 + exp(-(b_1_f_2 +\n",
        "    (x_1+a*dx_1) * w_11_f_2 + (x_2+a*dx_2) * w_21_f_2))))) * (w_1_f_2 * -(exp(-(b_1_f_2 +\n",
        "    (x_1+a*dx_1) * w_11_f_2 + (x_2+a*dx_2) * w_21_f_2)) * -w_11_f_2/(1 + exp(-(b_1_f_2 +\n",
        "    (x_1+a*dx_1) * w_11_f_2 + (x_2+a*dx_2) * w_21_f_2)))^2))/(1 + exp(-b_0_f_2 +\n",
        "    w_1_f_2 * (1/(1 + exp(-(b_1_f_2 + (x_1+a*dx_1) * w_11_f_2 + (x_2+a*dx_2) *\n",
        "        w_21_f_2))))))^2))*dx_1 +\n",
        "(-(exp(-b_0_f_2 + w_1_f_2 * (1/(1 + exp(-(b_1_f_2 +\n",
        "    (x_1+a*dx_1) * w_11_f_2 + (x_2+a*dx_2) * w_21_f_2))))) * (w_1_f_2 * -(exp(-(b_1_f_2 +\n",
        "    (x_1+a*dx_1) * w_11_f_2 + (x_2+a*dx_2) * w_21_f_2)) * -w_21_f_2/(1 + exp(-(b_1_f_2 +\n",
        "    (x_1+a*dx_1) * w_11_f_2 + (x_2+a*dx_2) * w_21_f_2)))^2))/(1 + exp(-b_0_f_2 +\n",
        "    w_1_f_2 * (1/(1 + exp(-(b_1_f_2 + (x_1+a*dx_1) * w_11_f_2 + (x_2+a*dx_2) *\n",
        "        w_21_f_2))))))^2))*dx_2 + (1/(1+exp(-b_0_f_2+w_1_f_2*(1/(1+exp(-(b_1_f_2+x_1*w_11_f_2+x_2*w_21_f_2))))))) -\n",
        "          (1/(1+exp(-b_0_f_2+w_1_f_2*(1/(1+exp(-(b_1_f_2+(x_1+dx_1)*w_11_f_2+(x_2+dx_2)*w_21_f_2)))))))\n",
        "}\n",
        "\n",
        "alpha[i] <-  optimize(func, c(0, 1), tol = 0.1)$`minimum`;\n",
        "\t\t\t\talpha[i] <- as.data.frame(alpha[i])[1,]\n",
        "\n",
        "znach_1[i] <- (-(exp(-b_0_f_2 + w_1_f_2 * (1/(1 + exp(-(b_1_f_2 +\n",
        "    (x_1+alpha[i]*dx_1) * w_11_f_2 + (x_2+alpha[i]*dx_2) * w_21_f_2))))) * (w_1_f_2 * -(exp(-(b_1_f_2 +\n",
        "    (x_1+alpha[i]*dx_1) * w_11_f_2 + (x_2+alpha[i]*dx_2) * w_21_f_2)) * -w_11_f_2/(1 + exp(-(b_1_f_2 +\n",
        "    (x_1+alpha[i]*dx_1) * w_11_f_2 + (x_2+alpha[i]*dx_2) * w_21_f_2)))^2))/(1 + exp(-b_0_f_2 +\n",
        "    w_1_f_2 * (1/(1 + exp(-(b_1_f_2 + (x_1+alpha[i]*dx_1) * w_11_f_2 + (x_2+alpha[i]*dx_2) *\n",
        "        w_21_f_2))))))^2))\n",
        "\n",
        "znach_2[i] <- (-(exp(-b_0_f_2 + w_1_f_2 * (1/(1 + exp(-(b_1_f_2 +\n",
        "    (x_1+alpha[i]*dx_1) * w_11_f_2 + (x_2+alpha[i]*dx_2) * w_21_f_2))))) * (w_1_f_2 * -(exp(-(b_1_f_2 +\n",
        "    (x_1+alpha[i]*dx_1) * w_11_f_2 + (x_2+alpha[i]*dx_2) * w_21_f_2)) * -w_21_f_2/(1 + exp(-(b_1_f_2 +\n",
        "    (x_1+alpha[i]*dx_1) * w_11_f_2 + (x_2+alpha[i]*dx_2) * w_21_f_2)))^2))/(1 + exp(-b_0_f_2 +\n",
        "    w_1_f_2 * (1/(1 + exp(-(b_1_f_2 + (x_1+alpha[i]*dx_1) * w_11_f_2 + (x_2+alpha[i]*dx_2) *\n",
        "        w_21_f_2))))))^2))\n",
        "\n",
        "\n",
        "}"
      ],
      "metadata": {
        "id": "brsUzbeLkxqe"
      },
      "execution_count": 105,
      "outputs": []
    },
    {
      "cell_type": "code",
      "source": [
        "res_2=data.frame(X_3 = znach_1[2:length(znach_1)], X_5 = znach_2[2:length(znach_2)])"
      ],
      "metadata": {
        "id": "j8ivOtPvlW0Z"
      },
      "execution_count": 106,
      "outputs": []
    },
    {
      "cell_type": "code",
      "source": [
        "median(res_2$X_5)"
      ],
      "metadata": {
        "id": "sFTv7illl2kW",
        "outputId": "77d2e663-3f5f-4207-8008-d7c14d4c43bd",
        "colab": {
          "base_uri": "https://localhost:8080/",
          "height": 34
        }
      },
      "execution_count": 107,
      "outputs": [
        {
          "output_type": "display_data",
          "data": {
            "text/html": [
              "0.0030757345800871"
            ],
            "text/markdown": "0.0030757345800871",
            "text/latex": "0.0030757345800871",
            "text/plain": [
              "[1] 0.003075735"
            ]
          },
          "metadata": {}
        }
      ]
    },
    {
      "cell_type": "code",
      "source": [
        "f_0=function(x_1,x_2){\n",
        "1/(1+exp(-b_0_f_0+w_1_f_0*(1/(1+exp(-(b_1_f_0+x_1*w_11_f_0+x_2*w_21_f_0))))+\n",
        "  w_2_f_0*(1/(1+exp(-(b_2_f_0+x_1*w_12_f_0+x_2*w_22_f_0))))))\n",
        "}"
      ],
      "metadata": {
        "id": "mO3ExgIql4Fu"
      },
      "execution_count": 108,
      "outputs": []
    },
    {
      "cell_type": "code",
      "source": [
        "x2xn <- as.expression(nlsDeriv(~ 1/(1+exp(-b_0_f_0+w_1_f_0*(1/(1+exp(-(b_1_f_0+x_1*w_11_f_0+x_2*w_21_f_0))))+\n",
        "  w_2_f_0*(1/(1+exp(-(b_2_f_0+x_1*w_12_f_0+x_2*w_22_f_0)))))), \"x_2\"))\n",
        "x2xn"
      ],
      "metadata": {
        "id": "lCMrtlMUnD39",
        "outputId": "5acdb3f7-e32c-4671-ce33-445b4b100368",
        "colab": {
          "base_uri": "https://localhost:8080/",
          "height": 187
        }
      },
      "execution_count": 109,
      "outputs": [
        {
          "output_type": "display_data",
          "data": {
            "text/plain": [
              "expression(-(exp(-b_0_f_0 + w_1_f_0 * (1/(1 + exp(-(b_1_f_0 + \n",
              "    x_1 * w_11_f_0 + x_2 * w_21_f_0)))) + w_2_f_0 * (1/(1 + exp(-(b_2_f_0 + \n",
              "    x_1 * w_12_f_0 + x_2 * w_22_f_0))))) * (w_1_f_0 * -(exp(-(b_1_f_0 + \n",
              "    x_1 * w_11_f_0 + x_2 * w_21_f_0)) * -w_21_f_0/(1 + exp(-(b_1_f_0 + \n",
              "    x_1 * w_11_f_0 + x_2 * w_21_f_0)))^2) + w_2_f_0 * -(exp(-(b_2_f_0 + \n",
              "    x_1 * w_12_f_0 + x_2 * w_22_f_0)) * -w_22_f_0/(1 + exp(-(b_2_f_0 + \n",
              "    x_1 * w_12_f_0 + x_2 * w_22_f_0)))^2))/(1 + exp(-b_0_f_0 + \n",
              "    w_1_f_0 * (1/(1 + exp(-(b_1_f_0 + x_1 * w_11_f_0 + x_2 * \n",
              "        w_21_f_0)))) + w_2_f_0 * (1/(1 + exp(-(b_2_f_0 + x_1 * \n",
              "    w_12_f_0 + x_2 * w_22_f_0))))))^2))"
            ]
          },
          "metadata": {}
        }
      ]
    },
    {
      "cell_type": "code",
      "source": [
        "((-(exp(-b_0_f_0 + w_1_f_0 * (1/(1 + exp(-(b_1_f_0 +\n",
        "    (x_1+a*dx_1) * w_11_f_0 + (x_2+a*dx_2) * w_21_f_0)))) + w_2_f_0 * (1/(1 + exp(-(b_2_f_0 +\n",
        "    (x_1+a*dx_1) * w_12_f_0 + (x_2+a*dx_2) * w_22_f_0))))) * (w_1_f_0 * -(exp(-(b_1_f_0 +\n",
        "    (x_1+a*dx_1) * w_11_f_0 + (x_2+a*dx_2) * w_21_f_0)) * -w_11_f_0/(1 + exp(-(b_1_f_0 +\n",
        "    (x_1+a*dx_1) * w_11_f_0 + (x_2+a*dx_2) * w_21_f_0)))^2) + w_2_f_0 * -(exp(-(b_2_f_0 +\n",
        "    (x_1+a*dx_1) * w_12_f_0 + (x_2+a*dx_2) * w_22_f_0)) * -w_12_f_0/(1 + exp(-(b_2_f_0 +\n",
        "    (x_1+a*dx_1) * w_12_f_0 + (x_2+a*dx_2) * w_22_f_0)))^2))/(1 + exp(-b_0_f_0 +\n",
        "    w_1_f_0 * (1/(1 + exp(-(b_1_f_0 + (x_1+a*dx_1) * w_11_f_0 + (x_2+a*dx_2) *\n",
        "        w_21_f_0)))) + w_2_f_0 * (1/(1 + exp(-(b_2_f_0 + (x_1+a*dx_1) *\n",
        "    w_12_f_0 + (x_2+a*dx_2) * w_22_f_0))))))^2)))*dx_1 +\n",
        "      ((-(exp(-b_0_f_0 + w_1_f_0 * (1/(1 + exp(-(b_1_f_0 +\n",
        "    (x_1+a*dx_1) * w_11_f_0 + (x_2+a*dx_2) * w_21_f_0)))) + w_2_f_0 * (1/(1 + exp(-(b_2_f_0 +\n",
        "    (x_1+a*dx_1) * w_12_f_0 + (x_2+a*dx_2) * w_22_f_0))))) * (w_1_f_0 * -(exp(-(b_1_f_0 +\n",
        "    (x_1+a*dx_1) * w_11_f_0 + (x_2+a*dx_2) * w_21_f_0)) * -w_21_f_0/(1 + exp(-(b_1_f_0 +\n",
        "    (x_1+a*dx_1) * w_11_f_0 + (x_2+a*dx_2) * w_21_f_0)))^2) + w_2_f_0 * -(exp(-(b_2_f_0 +\n",
        "    (x_1+a*dx_1) * w_12_f_0 + (x_2+a*dx_2) * w_22_f_0)) * -w_22_f_0/(1 + exp(-(b_2_f_0 +\n",
        "    (x_1+a*dx_1) * w_12_f_0 + (x_2+a*dx_2) * w_22_f_0)))^2))/(1 + exp(-b_0_f_0 +\n",
        "    w_1_f_0 * (1/(1 + exp(-(b_1_f_0 + (x_1+a*dx_1) * w_11_f_0 + (x_2+a*dx_2) *\n",
        "        w_21_f_0)))) + w_2_f_0 * (1/(1 + exp(-(b_2_f_0 + (x_1+a*dx_1) *\n",
        "    w_12_f_0 + (x_2+a*dx_2) * w_22_f_0))))))^2)))*dx_2 + (1/(1+exp(-b_0_f_0+w_1_f_0*(1/(1+exp(-(b_1_f_0+x_1*w_11_f_0+x_2*w_21_f_0))))+\n",
        "  w_2_f_0*(1/(1+exp(-(b_2_f_0+x_1*w_12_f_0+x_2*w_22_f_0))))))) - (1/(1+exp(-b_0_f_0+w_1_f_0*(1/(1+exp(-(b_1_f_0+(x_1+dx_1)*w_11_f_0+(x_2+dx_2)*w_21_f_0))))+\n",
        "  w_2_f_0*(1/(1+exp(-(b_2_f_0+(x_1+dx_1)*w_12_f_0+(x_2+dx_2)*w_22_f_0)))))))"
      ],
      "metadata": {
        "id": "YaIX0dJ7nL8k",
        "outputId": "501f682d-92bf-4154-8274-e8f288a29934",
        "colab": {
          "base_uri": "https://localhost:8080/",
          "height": 71
        }
      },
      "execution_count": 110,
      "outputs": [
        {
          "output_type": "error",
          "ename": "ERROR",
          "evalue": "Error in eval(expr, envir, enclos): object 'a' not found\n",
          "traceback": [
            "Error in eval(expr, envir, enclos): object 'a' not found\nTraceback:\n"
          ]
        }
      ]
    },
    {
      "cell_type": "code",
      "source": [
        "alpha <- 0\n",
        "znach_1 <- 0\n",
        "znach_2 <- 0"
      ],
      "metadata": {
        "id": "pbbodCxBnybm"
      },
      "execution_count": 111,
      "outputs": []
    },
    {
      "cell_type": "code",
      "source": [
        "for(i in 2:length(df$Y_1)){\n",
        "\t\t\t\tx_1 = df$Y_1[i-1];\n",
        "\t\t\t\tx_2 = df$Y_2[i-1];\n",
        "\t\t\t\tdx_1 = df$Y_1[i]-df$Y_1[i-1];\n",
        "\t\t\t\tdx_2 = df$Y_2[i]-df$Y_2[i-1];\n",
        "\n",
        "func <- function(a){\n",
        "((-(exp(-b_0_f_0 + w_1_f_0 * (1/(1 + exp(-(b_1_f_0 +\n",
        "    (x_1+a*dx_1) * w_11_f_0 + (x_2+a*dx_2) * w_21_f_0)))) + w_2_f_0 * (1/(1 + exp(-(b_2_f_0 +\n",
        "    (x_1+a*dx_1) * w_12_f_0 + (x_2+a*dx_2) * w_22_f_0))))) * (w_1_f_0 * -(exp(-(b_1_f_0 +\n",
        "    (x_1+a*dx_1) * w_11_f_0 + (x_2+a*dx_2) * w_21_f_0)) * -w_11_f_0/(1 + exp(-(b_1_f_0 +\n",
        "    (x_1+a*dx_1) * w_11_f_0 + (x_2+a*dx_2) * w_21_f_0)))^2) + w_2_f_0 * -(exp(-(b_2_f_0 +\n",
        "    (x_1+a*dx_1) * w_12_f_0 + (x_2+a*dx_2) * w_22_f_0)) * -w_12_f_0/(1 + exp(-(b_2_f_0 +\n",
        "    (x_1+a*dx_1) * w_12_f_0 + (x_2+a*dx_2) * w_22_f_0)))^2))/(1 + exp(-b_0_f_0 +\n",
        "    w_1_f_0 * (1/(1 + exp(-(b_1_f_0 + (x_1+a*dx_1) * w_11_f_0 + (x_2+a*dx_2) *\n",
        "        w_21_f_0)))) + w_2_f_0 * (1/(1 + exp(-(b_2_f_0 + (x_1+a*dx_1) *\n",
        "    w_12_f_0 + (x_2+a*dx_2) * w_22_f_0))))))^2)))*dx_1 +\n",
        "      ((-(exp(-b_0_f_0 + w_1_f_0 * (1/(1 + exp(-(b_1_f_0 +\n",
        "    (x_1+a*dx_1) * w_11_f_0 + (x_2+a*dx_2) * w_21_f_0)))) + w_2_f_0 * (1/(1 + exp(-(b_2_f_0 +\n",
        "    (x_1+a*dx_1) * w_12_f_0 + (x_2+a*dx_2) * w_22_f_0))))) * (w_1_f_0 * -(exp(-(b_1_f_0 +\n",
        "    (x_1+a*dx_1) * w_11_f_0 + (x_2+a*dx_2) * w_21_f_0)) * -w_21_f_0/(1 + exp(-(b_1_f_0 +\n",
        "    (x_1+a*dx_1) * w_11_f_0 + (x_2+a*dx_2) * w_21_f_0)))^2) + w_2_f_0 * -(exp(-(b_2_f_0 +\n",
        "    (x_1+a*dx_1) * w_12_f_0 + (x_2+a*dx_2) * w_22_f_0)) * -w_22_f_0/(1 + exp(-(b_2_f_0 +\n",
        "    (x_1+a*dx_1) * w_12_f_0 + (x_2+a*dx_2) * w_22_f_0)))^2))/(1 + exp(-b_0_f_0 +\n",
        "    w_1_f_0 * (1/(1 + exp(-(b_1_f_0 + (x_1+a*dx_1) * w_11_f_0 + (x_2+a*dx_2) *\n",
        "        w_21_f_0)))) + w_2_f_0 * (1/(1 + exp(-(b_2_f_0 + (x_1+a*dx_1) *\n",
        "    w_12_f_0 + (x_2+a*dx_2) * w_22_f_0))))))^2)))*dx_2 + (1/(1+exp(-b_0_f_0+w_1_f_0*(1/(1+exp(-(b_1_f_0+x_1*w_11_f_0+x_2*w_21_f_0))))+\n",
        "  w_2_f_0*(1/(1+exp(-(b_2_f_0+x_1*w_12_f_0+x_2*w_22_f_0))))))) - (1/(1+exp(-b_0_f_0+w_1_f_0*(1/(1+exp(-(b_1_f_0+(x_1+dx_1)*w_11_f_0+(x_2+dx_2)*w_21_f_0))))+\n",
        "  w_2_f_0*(1/(1+exp(-(b_2_f_0+(x_1+dx_1)*w_12_f_0+(x_2+dx_2)*w_22_f_0)))))))\n",
        "}\n",
        "\n",
        "alpha[i] <-  optimize(func, c(0, 1), tol = 0.1)$`minimum`;\n",
        "\t\t\t\talpha[i] <- as.data.frame(alpha[i])[1,]\n",
        "\n",
        "znach_1[i] <- ((-(exp(-b_0_f_0 + w_1_f_0 * (1/(1 + exp(-(b_1_f_0 +\n",
        "    (x_1+alpha[i]*dx_1) * w_11_f_0 + (x_2+alpha[i]*dx_2) * w_21_f_0)))) + w_2_f_0 * (1/(1 + exp(-(b_2_f_0 +\n",
        "    (x_1+alpha[i]*dx_1) * w_12_f_0 + (x_2+alpha[i]*dx_2) * w_22_f_0))))) * (w_1_f_0 * -(exp(-(b_1_f_0 +\n",
        "    (x_1+alpha[i]*dx_1) * w_11_f_0 + (x_2+alpha[i]*dx_2) * w_21_f_0)) * -w_11_f_0/(1 + exp(-(b_1_f_0 +\n",
        "    (x_1+alpha[i]*dx_1) * w_11_f_0 + (x_2+alpha[i]*dx_2) * w_21_f_0)))^2) + w_2_f_0 * -(exp(-(b_2_f_0 +\n",
        "    (x_1+alpha[i]*dx_1) * w_12_f_0 + (x_2+alpha[i]*dx_2) * w_22_f_0)) * -w_12_f_0/(1 + exp(-(b_2_f_0 +\n",
        "    (x_1+alpha[i]*dx_1) * w_12_f_0 + (x_2+alpha[i]*dx_2) * w_22_f_0)))^2))/(1 + exp(-b_0_f_0 +\n",
        "    w_1_f_0 * (1/(1 + exp(-(b_1_f_0 + (x_1+alpha[i]*dx_1) * w_11_f_0 + (x_2+alpha[i]*dx_2) *\n",
        "        w_21_f_0)))) + w_2_f_0 * (1/(1 + exp(-(b_2_f_0 + (x_1+alpha[i]*dx_1) *\n",
        "    w_12_f_0 + (x_2+alpha[i]*dx_2) * w_22_f_0))))))^2)))\n",
        "\n",
        "znach_2[i] <- ((-(exp(-b_0_f_0 + w_1_f_0 * (1/(1 + exp(-(b_1_f_0 +\n",
        "    (x_1+alpha[i]*dx_1) * w_11_f_0 + (x_2+alpha[i]*dx_2) * w_21_f_0)))) + w_2_f_0 * (1/(1 + exp(-(b_2_f_0 +\n",
        "    (x_1+alpha[i]*dx_1) * w_12_f_0 + (x_2+alpha[i]*dx_2) * w_22_f_0))))) * (w_1_f_0 * -(exp(-(b_1_f_0 +\n",
        "    (x_1+alpha[i]*dx_1) * w_11_f_0 + (x_2+alpha[i]*dx_2) * w_21_f_0)) * -w_21_f_0/(1 + exp(-(b_1_f_0 +\n",
        "    (x_1+alpha[i]*dx_1) * w_11_f_0 + (x_2+alpha[i]*dx_2) * w_21_f_0)))^2) + w_2_f_0 * -(exp(-(b_2_f_0 +\n",
        "    (x_1+alpha[i]*dx_1) * w_12_f_0 + (x_2+alpha[i]*dx_2) * w_22_f_0)) * -w_22_f_0/(1 + exp(-(b_2_f_0 +\n",
        "    (x_1+alpha[i]*dx_1) * w_12_f_0 + (x_2+alpha[i]*dx_2) * w_22_f_0)))^2))/(1 + exp(-b_0_f_0 +\n",
        "    w_1_f_0 * (1/(1 + exp(-(b_1_f_0 + (x_1+alpha[i]*dx_1) * w_11_f_0 + (x_2+alpha[i]*dx_2) *\n",
        "        w_21_f_0)))) + w_2_f_0 * (1/(1 + exp(-(b_2_f_0 + (x_1+alpha[i]*dx_1) *\n",
        "    w_12_f_0 + (x_2+alpha[i]*dx_2) * w_22_f_0))))))^2)))\n",
        "\n",
        "\n",
        "}"
      ],
      "metadata": {
        "id": "1sVShaqanzF5"
      },
      "execution_count": 112,
      "outputs": []
    },
    {
      "cell_type": "code",
      "source": [
        "res_0=data.frame(Y_1 = znach_1[2:length(znach_1)], Y_2 = znach_2[2:length(znach_2)])"
      ],
      "metadata": {
        "id": "YLVKvBC3oaG7"
      },
      "execution_count": 113,
      "outputs": []
    },
    {
      "cell_type": "code",
      "source": [
        "sub_1 = data.frame(X1 = median(res_1$X_1), X2 = median(res_1$X_2), X4 = median(res_1$X_4))\n",
        "data.frame(X1 = median(res_1$X_1)/sum(sub_1), X2 = median(res_1$X_2)/sum(sub_1), X4 = median(res_1$X_4)/sum(sub_1))"
      ],
      "metadata": {
        "id": "Jbx4W7p4oiiz",
        "outputId": "d4c9157f-a36a-41e9-8823-d63fb3516195",
        "colab": {
          "base_uri": "https://localhost:8080/",
          "height": 128
        }
      },
      "execution_count": 114,
      "outputs": [
        {
          "output_type": "display_data",
          "data": {
            "text/html": [
              "<table class=\"dataframe\">\n",
              "<caption>A data.frame: 1 × 3</caption>\n",
              "<thead>\n",
              "\t<tr><th scope=col>X1</th><th scope=col>X2</th><th scope=col>X4</th></tr>\n",
              "\t<tr><th scope=col>&lt;dbl&gt;</th><th scope=col>&lt;dbl&gt;</th><th scope=col>&lt;dbl&gt;</th></tr>\n",
              "</thead>\n",
              "<tbody>\n",
              "\t<tr><td>0.3866992</td><td>0.5572197</td><td>0.05608106</td></tr>\n",
              "</tbody>\n",
              "</table>\n"
            ],
            "text/markdown": "\nA data.frame: 1 × 3\n\n| X1 &lt;dbl&gt; | X2 &lt;dbl&gt; | X4 &lt;dbl&gt; |\n|---|---|---|\n| 0.3866992 | 0.5572197 | 0.05608106 |\n\n",
            "text/latex": "A data.frame: 1 × 3\n\\begin{tabular}{lll}\n X1 & X2 & X4\\\\\n <dbl> & <dbl> & <dbl>\\\\\n\\hline\n\t 0.3866992 & 0.5572197 & 0.05608106\\\\\n\\end{tabular}\n",
            "text/plain": [
              "  X1        X2        X4        \n",
              "1 0.3866992 0.5572197 0.05608106"
            ]
          },
          "metadata": {}
        }
      ]
    },
    {
      "cell_type": "code",
      "source": [
        "sub_2 = data.frame(X3 = median(res_2$X_3), X5 = median(res_2$X_5))\n",
        "data.frame(X3 = median(res_2$X_3)/sum(sub_2), X5 = median(res_2$X_5)/sum(sub_2))"
      ],
      "metadata": {
        "id": "t-nI5PT_okF-",
        "outputId": "72636072-5c29-4c0b-ff9a-81a1c31b48c0",
        "colab": {
          "base_uri": "https://localhost:8080/",
          "height": 128
        }
      },
      "execution_count": 115,
      "outputs": [
        {
          "output_type": "display_data",
          "data": {
            "text/html": [
              "<table class=\"dataframe\">\n",
              "<caption>A data.frame: 1 × 2</caption>\n",
              "<thead>\n",
              "\t<tr><th scope=col>X3</th><th scope=col>X5</th></tr>\n",
              "\t<tr><th scope=col>&lt;dbl&gt;</th><th scope=col>&lt;dbl&gt;</th></tr>\n",
              "</thead>\n",
              "<tbody>\n",
              "\t<tr><td>0.078353</td><td>0.921647</td></tr>\n",
              "</tbody>\n",
              "</table>\n"
            ],
            "text/markdown": "\nA data.frame: 1 × 2\n\n| X3 &lt;dbl&gt; | X5 &lt;dbl&gt; |\n|---|---|\n| 0.078353 | 0.921647 |\n\n",
            "text/latex": "A data.frame: 1 × 2\n\\begin{tabular}{ll}\n X3 & X5\\\\\n <dbl> & <dbl>\\\\\n\\hline\n\t 0.078353 & 0.921647\\\\\n\\end{tabular}\n",
            "text/plain": [
              "  X3       X5      \n",
              "1 0.078353 0.921647"
            ]
          },
          "metadata": {}
        }
      ]
    },
    {
      "cell_type": "code",
      "source": [
        "sub_0 = data.frame(Y1 = median(abs(res_0$Y_1)), Y2 = median(abs(res_0$Y_2)))\n",
        "data.frame(Y1 = median(abs(res_0$Y_1))/sum(sub_0), Y2 = median(abs(res_0$Y_2))/sum(sub_0))"
      ],
      "metadata": {
        "id": "snC6IT6HpdJj",
        "outputId": "8b2d6c0a-c98f-42de-8eae-81ebaffa9b7c",
        "colab": {
          "base_uri": "https://localhost:8080/",
          "height": 128
        }
      },
      "execution_count": 116,
      "outputs": [
        {
          "output_type": "display_data",
          "data": {
            "text/html": [
              "<table class=\"dataframe\">\n",
              "<caption>A data.frame: 1 × 2</caption>\n",
              "<thead>\n",
              "\t<tr><th scope=col>Y1</th><th scope=col>Y2</th></tr>\n",
              "\t<tr><th scope=col>&lt;dbl&gt;</th><th scope=col>&lt;dbl&gt;</th></tr>\n",
              "</thead>\n",
              "<tbody>\n",
              "\t<tr><td>0.3075965</td><td>0.6924035</td></tr>\n",
              "</tbody>\n",
              "</table>\n"
            ],
            "text/markdown": "\nA data.frame: 1 × 2\n\n| Y1 &lt;dbl&gt; | Y2 &lt;dbl&gt; |\n|---|---|\n| 0.3075965 | 0.6924035 |\n\n",
            "text/latex": "A data.frame: 1 × 2\n\\begin{tabular}{ll}\n Y1 & Y2\\\\\n <dbl> & <dbl>\\\\\n\\hline\n\t 0.3075965 & 0.6924035\\\\\n\\end{tabular}\n",
            "text/plain": [
              "  Y1        Y2       \n",
              "1 0.3075965 0.6924035"
            ]
          },
          "metadata": {}
        }
      ]
    },
    {
      "cell_type": "code",
      "source": [
        "garson(model_0)"
      ],
      "metadata": {
        "id": "L-99CBO9pqSa",
        "outputId": "2c70bd71-5356-4a5a-c8a7-702aefa8e1f4",
        "colab": {
          "base_uri": "https://localhost:8080/",
          "height": 437
        }
      },
      "execution_count": 119,
      "outputs": [
        {
          "output_type": "display_data",
          "data": {
            "text/plain": [
              "plot without title"
            ],
            "image/png": "[encoded data removed]"
          },
          "metadata": {
            "image/png": {
              "width": 420,
              "height": 420
            }
          }
        }
      ]
    },
    {
      "cell_type": "code",
      "source": [],
      "metadata": {
        "id": "B3JdMtvPrUvB"
      },
      "execution_count": null,
      "outputs": []
    }
  ]
}